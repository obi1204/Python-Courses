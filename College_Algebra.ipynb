{
  "cells": [
    {
      "cell_type": "markdown",
      "metadata": {
        "id": "view-in-github",
        "colab_type": "text"
      },
      "source": [
        "<a href=\"https://colab.research.google.com/github/obi1204/Python-Courses/blob/main/College_Algebra.ipynb\" target=\"_parent\"><img src=\"https://colab.research.google.com/assets/colab-badge.svg\" alt=\"Open In Colab\"/></a>"
      ]
    },
    {
      "cell_type": "markdown",
      "metadata": {
        "id": "4nwTE_GDjkcs"
      },
      "source": [
        "Set up a Proportion:\n",
        "\n",
        "n1/d1 = n2/d2\n",
        "\n",
        "\n"
      ]
    },
    {
      "cell_type": "code",
      "execution_count": null,
      "metadata": {
        "colab": {
          "base_uri": "https://localhost:8080/"
        },
        "id": "n3tP7cYYKuzu",
        "outputId": "6ea1e4a7-4026-4fc4-805e-f2f3e48558b7"
      },
      "outputs": [
        {
          "name": "stdout",
          "output_type": "stream",
          "text": [
            "n2 =  8.0\n"
          ]
        }
      ],
      "source": [
        "# Put a zero in for unknown value\n",
        "n1 = 1\n",
        "d1 = 2\n",
        "n2 = 0\n",
        "d2 = 16\n",
        "\n",
        "if n2 ==0:\n",
        "  answer = d2 * n1 / d1\n",
        "  print(\"n2 = \", answer)\n",
        "\n",
        "if d2==0:\n",
        "  answer = n2 * d1 / n1\n",
        "  print(\"d2 = \", answer)"
      ]
    },
    {
      "cell_type": "code",
      "execution_count": null,
      "metadata": {
        "colab": {
          "base_uri": "https://localhost:8080/"
        },
        "id": "unRsIQiwLYQ5",
        "outputId": "b72e3357-1da4-4939-f9c9-4f6213d14ad2"
      },
      "outputs": [
        {
          "name": "stdout",
          "output_type": "stream",
          "text": [
            "-1.5333333333333332\n"
          ]
        }
      ],
      "source": [
        "print((1+2/3)+(3+4/5)-7)"
      ]
    },
    {
      "cell_type": "code",
      "execution_count": null,
      "metadata": {
        "colab": {
          "base_uri": "https://localhost:8080/"
        },
        "id": "mwPL_lJPoeJj",
        "outputId": "c2fa8cde-64d2-4e8c-e53a-aa2c93154ca6"
      },
      "outputs": [
        {
          "name": "stdout",
          "output_type": "stream",
          "text": [
            "-1.5333333333333332\n"
          ]
        }
      ],
      "source": [
        "x = 1 + 2/3\n",
        "y = 3 + 4/5\n",
        "z = 7\n",
        "\n",
        "print(x+y+-z)"
      ]
    },
    {
      "cell_type": "code",
      "execution_count": null,
      "metadata": {
        "colab": {
          "base_uri": "https://localhost:8080/"
        },
        "id": "cDavbZ6irO1a",
        "outputId": "58d95bbc-e933-4551-a76b-df06e0d8a532"
      },
      "outputs": [
        {
          "name": "stdout",
          "output_type": "stream",
          "text": [
            "9.999\n",
            "8.9991\n",
            "0.9999\n"
          ]
        }
      ],
      "source": [
        "a = .9999\n",
        "b = a * 10\n",
        "c = b-a\n",
        "d = c/9\n",
        "print(b)\n",
        "print(c)\n",
        "print(d)\n"
      ]
    },
    {
      "cell_type": "markdown",
      "metadata": {
        "id": "tOczNzmIxE6M"
      },
      "source": [
        "Solving for x. The variable \"eq\" is the equation set equal to zero. This will print an array of solutions.\n",
        "\n",
        "sympy = Symbolic math library"
      ]
    },
    {
      "cell_type": "code",
      "execution_count": null,
      "metadata": {
        "colab": {
          "base_uri": "https://localhost:8080/"
        },
        "id": "rJ8_z5hAxDop",
        "outputId": "f888edb7-d648-42e9-cded-507be7a70f2c"
      },
      "outputs": [
        {
          "output_type": "stream",
          "name": "stdout",
          "text": [
            "x =  [4]\n"
          ]
        }
      ],
      "source": [
        "import sympy\n",
        "from sympy import symbols\n",
        "from sympy.solvers import solve\n",
        "\n",
        "# defines x is the variable being solved for\n",
        "x = symbols('x')\n",
        "\n",
        "# the function set to 0\n",
        "eq = 4*x + 6 -22\n",
        "\n",
        "print(\"x = \", solve(eq,x))"
      ]
    },
    {
      "cell_type": "code",
      "execution_count": null,
      "metadata": {
        "colab": {
          "base_uri": "https://localhost:8080/"
        },
        "id": "6IQ5DCz61Gtz",
        "outputId": "ec954314-5558-4744-983d-e4826d4c6ea8"
      },
      "outputs": [
        {
          "name": "stdout",
          "output_type": "stream",
          "text": [
            "Enter equation: 0 = 3*x-6\n",
            "x =  [2]\n"
          ]
        }
      ],
      "source": [
        "import sympy\n",
        "from sympy import symbols\n",
        "from sympy.solvers import solve\n",
        "\n",
        "x = symbols('x')\n",
        "eq = input ('Enter equation: 0 = ')\n",
        "\n",
        "print(\"x = \", solve(eq,x))"
      ]
    },
    {
      "cell_type": "code",
      "execution_count": null,
      "metadata": {
        "colab": {
          "base_uri": "https://localhost:8080/"
        },
        "id": "ROfRE1F43uHr",
        "outputId": "3b27cd35-48d3-4e60-85b1-0e7fab2baa82"
      },
      "outputs": [
        {
          "name": "stdout",
          "output_type": "stream",
          "text": [
            "Enter equation: 0 = (x-1)*(x-2)*(x+3)\n",
            "x =  -3\n",
            "x =  1\n",
            "x =  2\n"
          ]
        }
      ],
      "source": [
        "import sympy\n",
        "from sympy import symbols\n",
        "from sympy.solvers import solve\n",
        "\n",
        "#solve for multiple solutions\n",
        "x = symbols('x')\n",
        "eq = input ('Enter equation: 0 = ')\n",
        "\n",
        "solution = solve(eq,x)\n",
        "for s in solution:\n",
        "  print(\"x = \", s)"
      ]
    },
    {
      "cell_type": "code",
      "execution_count": null,
      "metadata": {
        "colab": {
          "base_uri": "https://localhost:8080/"
        },
        "id": "7l24gUuV5MnM",
        "outputId": "90a63515-f0c9-41c3-a65e-b75732508b77"
      },
      "outputs": [
        {
          "name": "stdout",
          "output_type": "stream",
          "text": [
            "x =  y/2 - 5\n"
          ]
        }
      ],
      "source": [
        "from sympy import *\n",
        "\n",
        "var('x y')\n",
        "\n",
        "# First equation set equal to zero, ready to solve\n",
        "first = 2*x + 10\n",
        "\n",
        "# Sympy syntax for equation equal to zero, ready to factor, replaces \"first\" with y\n",
        "eq1 = Eq(first,y)\n",
        "\n",
        "# Sympy solve for x\n",
        "sol = solve(eq1,x)\n",
        "\n",
        "# Display factored results\n",
        "print(\"x = \", sol[0])"
      ]
    },
    {
      "cell_type": "code",
      "execution_count": null,
      "metadata": {
        "colab": {
          "base_uri": "https://localhost:8080/",
          "height": 39
        },
        "id": "k217JWMW7_DI",
        "outputId": "ef3609a2-c947-4b50-c11d-122159325ed4"
      },
      "outputs": [
        {
          "data": {
            "text/latex": "$\\displaystyle \\left(x - 3\\right) \\left(x - 1\\right) \\left(x + 2\\right)$",
            "text/plain": [
              "(x - 3)*(x - 1)*(x + 2)"
            ]
          },
          "execution_count": 27,
          "metadata": {},
          "output_type": "execute_result"
        }
      ],
      "source": [
        "import sympy\n",
        "from sympy import symbols\n",
        "\n",
        "var('x y')\n",
        "\n",
        "# Equation set equal to zero, ready to solve\n",
        "#eq = 2*x + 10*y + 4\n",
        "\n",
        "eq = x**3 - 2*x**2 - 5*x + 6\n",
        "\n",
        "#factors equation\n",
        "sympy.factor(eq)"
      ]
    },
    {
      "cell_type": "code",
      "execution_count": null,
      "metadata": {
        "colab": {
          "base_uri": "https://localhost:8080/"
        },
        "id": "feUjkGUy8-y2",
        "outputId": "30858c55-8076-47f5-dd73-4d9c947ad3b5"
      },
      "outputs": [
        {
          "name": "stdout",
          "output_type": "stream",
          "text": [
            "11 x = 22\n",
            "x = 2\n",
            "Correct! \n",
            "\n"
          ]
        }
      ],
      "source": [
        "# converts string input to float\n",
        "def string_frac(in_string):\n",
        "  if \"/\" in in_string:\n",
        "    nd = in_string.split(\"/\")\n",
        "    n = float(nd[0])\n",
        "    d = float(nd[1])\n",
        "    ans = n/d\n",
        "    return ans\n",
        "  else:\n",
        "    ans = float(in_string)\n",
        "    return ans\n",
        "\n",
        "def one_step_mult():\n",
        "  # uses string_frac (<input string>)\n",
        "  import random\n",
        "  a = random.randint(1,11)\n",
        "  b = random.randint(2,24)\n",
        "  print(a,\"x =\",b)\n",
        "  ans_in = (input(\"x = \"))\n",
        "  answer = b/a\n",
        "\n",
        "  # test\n",
        "  if string_frac(ans_in)==answer:\n",
        "    print(\"Correct! \\n\")\n",
        "  else:\n",
        "    print(\"Try again\")\n",
        "    print(\"The correct answer is \", answer, \"\\n\")\n",
        "\n",
        "one_step_mult()"
      ]
    },
    {
      "cell_type": "code",
      "execution_count": null,
      "metadata": {
        "colab": {
          "base_uri": "https://localhost:8080/",
          "height": 364
        },
        "id": "FKuOaYOPmdg1",
        "outputId": "714df7bd-3f09-455b-cf0a-7b664cb571bb"
      },
      "outputs": [
        {
          "name": "stdout",
          "output_type": "stream",
          "text": [
            "30 x + 24 = 2\n"
          ]
        },
        {
          "ename": "KeyboardInterrupt",
          "evalue": "ignored",
          "output_type": "error",
          "traceback": [
            "\u001b[0;31m---------------------------------------------------------------------------\u001b[0m",
            "\u001b[0;31mKeyboardInterrupt\u001b[0m                         Traceback (most recent call last)",
            "\u001b[0;32m<ipython-input-8-02df2cee14f8>\u001b[0m in \u001b[0;36m<module>\u001b[0;34m\u001b[0m\n\u001b[1;32m     23\u001b[0m     \u001b[0mprint\u001b[0m\u001b[0;34m(\u001b[0m\u001b[0;34m\"Try again\"\u001b[0m\u001b[0;34m)\u001b[0m\u001b[0;34m\u001b[0m\u001b[0;34m\u001b[0m\u001b[0m\n\u001b[1;32m     24\u001b[0m     \u001b[0mprint\u001b[0m\u001b[0;34m(\u001b[0m\u001b[0;34m\"The correct answer is \"\u001b[0m\u001b[0;34m,\u001b[0m \u001b[0manswer\u001b[0m\u001b[0;34m,\u001b[0m \u001b[0;34m\"\\n\"\u001b[0m\u001b[0;34m)\u001b[0m\u001b[0;34m\u001b[0m\u001b[0;34m\u001b[0m\u001b[0m\n\u001b[0;32m---> 25\u001b[0;31m \u001b[0mtwo_step_multi\u001b[0m\u001b[0;34m(\u001b[0m\u001b[0;34m)\u001b[0m\u001b[0;34m\u001b[0m\u001b[0;34m\u001b[0m\u001b[0m\n\u001b[0m",
            "\u001b[0;32m<ipython-input-8-02df2cee14f8>\u001b[0m in \u001b[0;36mtwo_step_multi\u001b[0;34m()\u001b[0m\n\u001b[1;32m     16\u001b[0m   \u001b[0mc\u001b[0m \u001b[0;34m=\u001b[0m \u001b[0mrandom\u001b[0m\u001b[0;34m.\u001b[0m\u001b[0mrandint\u001b[0m\u001b[0;34m(\u001b[0m\u001b[0;36m1\u001b[0m\u001b[0;34m,\u001b[0m\u001b[0;36m101\u001b[0m\u001b[0;34m)\u001b[0m\u001b[0;34m\u001b[0m\u001b[0;34m\u001b[0m\u001b[0m\n\u001b[1;32m     17\u001b[0m   \u001b[0mprint\u001b[0m\u001b[0;34m(\u001b[0m\u001b[0ma\u001b[0m\u001b[0;34m,\u001b[0m\u001b[0;34m\"x +\"\u001b[0m\u001b[0;34m,\u001b[0m\u001b[0mb\u001b[0m\u001b[0;34m,\u001b[0m\u001b[0;34m\"=\"\u001b[0m\u001b[0;34m,\u001b[0m\u001b[0mc\u001b[0m\u001b[0;34m)\u001b[0m\u001b[0;34m\u001b[0m\u001b[0;34m\u001b[0m\u001b[0m\n\u001b[0;32m---> 18\u001b[0;31m   \u001b[0mans_in\u001b[0m \u001b[0;34m=\u001b[0m \u001b[0;34m(\u001b[0m\u001b[0minput\u001b[0m\u001b[0;34m(\u001b[0m\u001b[0;34m\"x = \"\u001b[0m\u001b[0;34m)\u001b[0m\u001b[0;34m)\u001b[0m\u001b[0;34m\u001b[0m\u001b[0;34m\u001b[0m\u001b[0m\n\u001b[0m\u001b[1;32m     19\u001b[0m   \u001b[0manswer\u001b[0m \u001b[0;34m=\u001b[0m \u001b[0;34m(\u001b[0m\u001b[0mc\u001b[0m\u001b[0;34m-\u001b[0m\u001b[0mb\u001b[0m\u001b[0;34m)\u001b[0m\u001b[0;34m/\u001b[0m\u001b[0ma\u001b[0m\u001b[0;34m\u001b[0m\u001b[0;34m\u001b[0m\u001b[0m\n\u001b[1;32m     20\u001b[0m   \u001b[0;32mif\u001b[0m \u001b[0mstring_frac\u001b[0m\u001b[0;34m(\u001b[0m\u001b[0mans_in\u001b[0m\u001b[0;34m)\u001b[0m\u001b[0;34m==\u001b[0m\u001b[0manswer\u001b[0m\u001b[0;34m:\u001b[0m\u001b[0;34m\u001b[0m\u001b[0;34m\u001b[0m\u001b[0m\n",
            "\u001b[0;32m/usr/local/lib/python3.8/dist-packages/ipykernel/kernelbase.py\u001b[0m in \u001b[0;36mraw_input\u001b[0;34m(self, prompt)\u001b[0m\n\u001b[1;32m    858\u001b[0m                 \u001b[0;34m\"raw_input was called, but this frontend does not support input requests.\"\u001b[0m\u001b[0;34m\u001b[0m\u001b[0;34m\u001b[0m\u001b[0m\n\u001b[1;32m    859\u001b[0m             )\n\u001b[0;32m--> 860\u001b[0;31m         return self._input_request(str(prompt),\n\u001b[0m\u001b[1;32m    861\u001b[0m             \u001b[0mself\u001b[0m\u001b[0;34m.\u001b[0m\u001b[0m_parent_ident\u001b[0m\u001b[0;34m,\u001b[0m\u001b[0;34m\u001b[0m\u001b[0;34m\u001b[0m\u001b[0m\n\u001b[1;32m    862\u001b[0m             \u001b[0mself\u001b[0m\u001b[0;34m.\u001b[0m\u001b[0m_parent_header\u001b[0m\u001b[0;34m,\u001b[0m\u001b[0;34m\u001b[0m\u001b[0;34m\u001b[0m\u001b[0m\n",
            "\u001b[0;32m/usr/local/lib/python3.8/dist-packages/ipykernel/kernelbase.py\u001b[0m in \u001b[0;36m_input_request\u001b[0;34m(self, prompt, ident, parent, password)\u001b[0m\n\u001b[1;32m    902\u001b[0m             \u001b[0;32mexcept\u001b[0m \u001b[0mKeyboardInterrupt\u001b[0m\u001b[0;34m:\u001b[0m\u001b[0;34m\u001b[0m\u001b[0;34m\u001b[0m\u001b[0m\n\u001b[1;32m    903\u001b[0m                 \u001b[0;31m# re-raise KeyboardInterrupt, to truncate traceback\u001b[0m\u001b[0;34m\u001b[0m\u001b[0;34m\u001b[0m\u001b[0;34m\u001b[0m\u001b[0m\n\u001b[0;32m--> 904\u001b[0;31m                 \u001b[0;32mraise\u001b[0m \u001b[0mKeyboardInterrupt\u001b[0m\u001b[0;34m(\u001b[0m\u001b[0;34m\"Interrupted by user\"\u001b[0m\u001b[0;34m)\u001b[0m \u001b[0;32mfrom\u001b[0m \u001b[0;32mNone\u001b[0m\u001b[0;34m\u001b[0m\u001b[0;34m\u001b[0m\u001b[0m\n\u001b[0m\u001b[1;32m    905\u001b[0m             \u001b[0;32mexcept\u001b[0m \u001b[0mException\u001b[0m \u001b[0;32mas\u001b[0m \u001b[0me\u001b[0m\u001b[0;34m:\u001b[0m\u001b[0;34m\u001b[0m\u001b[0;34m\u001b[0m\u001b[0m\n\u001b[1;32m    906\u001b[0m                 \u001b[0mself\u001b[0m\u001b[0;34m.\u001b[0m\u001b[0mlog\u001b[0m\u001b[0;34m.\u001b[0m\u001b[0mwarning\u001b[0m\u001b[0;34m(\u001b[0m\u001b[0;34m\"Invalid Message:\"\u001b[0m\u001b[0;34m,\u001b[0m \u001b[0mexc_info\u001b[0m\u001b[0;34m=\u001b[0m\u001b[0;32mTrue\u001b[0m\u001b[0;34m)\u001b[0m\u001b[0;34m\u001b[0m\u001b[0;34m\u001b[0m\u001b[0m\n",
            "\u001b[0;31mKeyboardInterrupt\u001b[0m: Interrupted by user"
          ]
        }
      ],
      "source": [
        "def string_frac(in_string):\n",
        "  if \"/\" in in_string:\n",
        "    nd = in_string.split(\"/\")\n",
        "    n = float(nd[0])\n",
        "    d = float(nd[1])\n",
        "    ans = n/d\n",
        "    return ans\n",
        "  else:\n",
        "    ans = float(in_string)\n",
        "    return ans\n",
        "\n",
        "def two_step_multi():\n",
        "  import random\n",
        "  a = random.randint(1,101)\n",
        "  b = random.randint(1,101)\n",
        "  c = random.randint(1,101)\n",
        "  print(a,\"x +\",b,\"=\",c)\n",
        "  ans_in = (input(\"x = \"))\n",
        "  answer = (c-b)/a\n",
        "  if string_frac(ans_in)==answer:\n",
        "    print(\"Correct! \\n\")\n",
        "  else:\n",
        "    print(\"Try again\")\n",
        "    print(\"The correct answer is \", answer, \"\\n\")\n",
        "two_step_multi()"
      ]
    },
    {
      "cell_type": "markdown",
      "metadata": {
        "id": "sKNFMl2Ps-nW"
      },
      "source": [
        "Gives two-step multiplication problems for both (+/-)"
      ]
    },
    {
      "cell_type": "code",
      "execution_count": null,
      "metadata": {
        "colab": {
          "base_uri": "https://localhost:8080/"
        },
        "id": "-mJkQL4QsTpK",
        "outputId": "ec7a8415-3bde-4345-d041-c3f03a1d5d85"
      },
      "outputs": [
        {
          "output_type": "stream",
          "name": "stdout",
          "text": [
            "97 x - 94 = 14\n",
            "x = 108/97\n",
            "Correct! \n",
            "\n"
          ]
        }
      ],
      "source": [
        "import random\n",
        "def string_frac(in_string):\n",
        "  if \"/\" in in_string:\n",
        "    nd = in_string.split(\"/\")\n",
        "    n = float(nd[0])\n",
        "    d = float(nd[1])\n",
        "    ans = n/d\n",
        "    return ans\n",
        "  elif \"-\" in in_string:\n",
        "    nd = in_string.split(\"-\")\n",
        "    n = float(nd[0])\n",
        "    d = float(nd[1])\n",
        "    ans = -n/d\n",
        "    return ans\n",
        "  else:\n",
        "    ans = float(in_string)\n",
        "    return ans\n",
        "\n",
        "\n",
        "def two_step_multi1():\n",
        "  import random\n",
        "  a = random.randint(1,101)\n",
        "  b = random.randint(1,101)\n",
        "  c = random.randint(1,101)\n",
        "  print(a,\"x +\",b,\"=\",c)\n",
        "  ans_in = (input(\"x = \"))\n",
        "  answer = (c-b)/a\n",
        "  if string_frac(ans_in)==answer:\n",
        "    print(\"Correct! \\n\")\n",
        "  else:\n",
        "    print(\"Try again\")\n",
        "    print(\"The correct answer is \", answer, \"\\n\")\n",
        "\n",
        "def two_step_multi2():\n",
        "  import random\n",
        "  a = random.randint(1,101)\n",
        "  b = random.randint(1,101)\n",
        "  c = random.randint(1,101)\n",
        "  print(a,\"x -\",b,\"=\",c)\n",
        "  ans_in = (input(\"x = \"))\n",
        "  answer = (c+b)/a\n",
        "  if string_frac(ans_in)==answer:\n",
        "    print(\"Correct! \\n\")\n",
        "  else:\n",
        "    print(\"Try again\")\n",
        "    print(\"The correct answer is \", answer, \"\\n\")\n",
        "\n",
        "list = [two_step_multi1, two_step_multi2]\n",
        "\n",
        "random.choice(list)()"
      ]
    },
    {
      "cell_type": "code",
      "source": [
        "print(10**1)\n",
        "print(10**2)\n",
        "print(10**3)\n",
        "\n",
        "print(10**0)\n",
        "\n",
        "print(10**-1)\n",
        "print(10**-2)\n",
        "print(10**-3)"
      ],
      "metadata": {
        "colab": {
          "base_uri": "https://localhost:8080/"
        },
        "id": "ie2HBjw6gJ9j",
        "outputId": "15e7b5ce-1f40-473f-ba15-b534c62948c1"
      },
      "execution_count": null,
      "outputs": [
        {
          "output_type": "stream",
          "name": "stdout",
          "text": [
            "10\n",
            "100\n",
            "1000\n",
            "1\n",
            "0.1\n",
            "0.01\n",
            "0.001\n"
          ]
        }
      ]
    },
    {
      "cell_type": "code",
      "source": [
        "text = input(\"Enter a number\")\n",
        "print(text)\n",
        "\n",
        "print(len(text))"
      ],
      "metadata": {
        "colab": {
          "base_uri": "https://localhost:8080/"
        },
        "id": "phzioFdpigJR",
        "outputId": "15634577-316d-499d-e66d-87bb94efd569"
      },
      "execution_count": null,
      "outputs": [
        {
          "output_type": "stream",
          "name": "stdout",
          "text": [
            "Enter a number.123\n",
            ".123\n",
            "4\n"
          ]
        }
      ]
    },
    {
      "cell_type": "code",
      "source": [
        "#cast input as a float or int variable\n",
        "text = input(\"Enter a number\")\n",
        "num=float(text)\n",
        "print(num + 4)\n"
      ],
      "metadata": {
        "colab": {
          "base_uri": "https://localhost:8080/"
        },
        "id": "Zg8-jDyDi8ww",
        "outputId": "72911706-084c-4cd8-8755-4edf0539a666"
      },
      "execution_count": null,
      "outputs": [
        {
          "output_type": "stream",
          "name": "stdout",
          "text": [
            "Enter a number.123\n",
            "4.123\n"
          ]
        }
      ]
    },
    {
      "cell_type": "code",
      "source": [
        "#Get string input with decimal\n",
        "digits = input(\"Enter a decimal number to convert: \")\n",
        "\n",
        "#Get number of decimal places as an integer\n",
        "exponent = int(len(digits))-1 #decimal counts as part of length, must subtract 1\n",
        "\n",
        "#Covert the input to a float number\n",
        "n = float(digits)\n",
        "\n",
        "#Use the exponent to get the numerator\n",
        "numerator = int(n * 10**exponent)\n",
        "\n",
        "#Use the exponent to get denominator\n",
        "denominator = 10**exponent\n",
        "\n",
        "#percent is the first two decimal places\n",
        "percent = n*100\n",
        "\n",
        "#Output\n",
        "print(\"The decimal is \", n)\n",
        "print(\"The fraction is\", numerator, \"/\", denominator)\n",
        "print(\"The percent is \", percent, \"%\")\n"
      ],
      "metadata": {
        "colab": {
          "base_uri": "https://localhost:8080/"
        },
        "id": "0cs5XDDUjfGe",
        "outputId": "987cbdc0-f376-49e5-99a2-668ce60a9194"
      },
      "execution_count": null,
      "outputs": [
        {
          "output_type": "stream",
          "name": "stdout",
          "text": [
            "Enter a decimal number to convert: .123\n",
            "The decimal is  0.123\n",
            "The fraction is 123 / 1000\n",
            "The percent is  12.3 %\n"
          ]
        }
      ]
    },
    {
      "cell_type": "code",
      "source": [
        "x = 5\n",
        "y= 4*x+3 #function\n",
        "\n",
        "print(x,\",\",y)\n",
        "print(\"x \\t y\")\n",
        "\n",
        "for x in range(11):\n",
        "   y = 4*x+3\n",
        "   print(x, \"\\t\", y)"
      ],
      "metadata": {
        "colab": {
          "base_uri": "https://localhost:8080/"
        },
        "id": "SDw_J9glsjq2",
        "outputId": "93d416c3-7e2f-430d-a537-a8807972f2e6"
      },
      "execution_count": null,
      "outputs": [
        {
          "output_type": "stream",
          "name": "stdout",
          "text": [
            "5 , 23\n",
            "x \t y\n",
            "0 \t 3\n",
            "1 \t 7\n",
            "2 \t 11\n",
            "3 \t 15\n",
            "4 \t 19\n",
            "5 \t 23\n",
            "6 \t 27\n",
            "7 \t 31\n",
            "8 \t 35\n",
            "9 \t 39\n",
            "10 \t 43\n"
          ]
        }
      ]
    },
    {
      "cell_type": "code",
      "source": [
        "def f(x):\n",
        "    y = 4*x+3\n",
        "    return y\n",
        "\n",
        "print(5, \",\", f(5))\n",
        "\n",
        "for x in range(51):\n",
        "   print(x, \"\\t\", f(x))\n"
      ],
      "metadata": {
        "colab": {
          "base_uri": "https://localhost:8080/"
        },
        "outputId": "b8543e9e-53ce-45fb-9100-96ab58e5e4cd",
        "id": "5o3J4uGA2S6l"
      },
      "execution_count": null,
      "outputs": [
        {
          "output_type": "stream",
          "name": "stdout",
          "text": [
            "5 , 23\n",
            "0 \t 3\n",
            "1 \t 7\n",
            "2 \t 11\n",
            "3 \t 15\n",
            "4 \t 19\n",
            "5 \t 23\n",
            "6 \t 27\n",
            "7 \t 31\n",
            "8 \t 35\n",
            "9 \t 39\n",
            "10 \t 43\n",
            "11 \t 47\n",
            "12 \t 51\n",
            "13 \t 55\n",
            "14 \t 59\n",
            "15 \t 63\n",
            "16 \t 67\n",
            "17 \t 71\n",
            "18 \t 75\n",
            "19 \t 79\n",
            "20 \t 83\n",
            "21 \t 87\n",
            "22 \t 91\n",
            "23 \t 95\n",
            "24 \t 99\n",
            "25 \t 103\n",
            "26 \t 107\n",
            "27 \t 111\n",
            "28 \t 115\n",
            "29 \t 119\n",
            "30 \t 123\n",
            "31 \t 127\n",
            "32 \t 131\n",
            "33 \t 135\n",
            "34 \t 139\n",
            "35 \t 143\n",
            "36 \t 147\n",
            "37 \t 151\n",
            "38 \t 155\n",
            "39 \t 159\n",
            "40 \t 163\n",
            "41 \t 167\n",
            "42 \t 171\n",
            "43 \t 175\n",
            "44 \t 179\n",
            "45 \t 183\n",
            "46 \t 187\n",
            "47 \t 191\n",
            "48 \t 195\n",
            "49 \t 199\n",
            "50 \t 203\n"
          ]
        }
      ]
    },
    {
      "cell_type": "code",
      "source": [
        "import matplotlib.pyplot as plt\n",
        "\n",
        "fig, ax = plt.subplots()\n",
        "plt.show()"
      ],
      "metadata": {
        "colab": {
          "base_uri": "https://localhost:8080/",
          "height": 435
        },
        "id": "lGX8EOKAzjp_",
        "outputId": "79f5dda5-04c2-4f95-85f4-2a99a2bdf415"
      },
      "execution_count": null,
      "outputs": [
        {
          "output_type": "display_data",
          "data": {
            "text/plain": [
              "<Figure size 640x480 with 1 Axes>"
            ],
            "image/png": "[encoded data removed]"
          },
          "metadata": {}
        }
      ]
    },
    {
      "cell_type": "code",
      "source": [
        "import matplotlib.pyplot as plt\n",
        "\n",
        "fig, ax = plt.subplots()\n",
        "\n",
        "# Dimensions\n",
        "plt.axis((-10, 10, -10,10))\n",
        "\n",
        "plt.show"
      ],
      "metadata": {
        "colab": {
          "base_uri": "https://localhost:8080/",
          "height": 452
        },
        "id": "i-hX7f6uz8kP",
        "outputId": "c7875cae-427e-4572-e36c-6abbfad87f11"
      },
      "execution_count": null,
      "outputs": [
        {
          "output_type": "execute_result",
          "data": {
            "text/plain": [
              "<function matplotlib.pyplot.show(close=None, block=None)>"
            ]
          },
          "metadata": {},
          "execution_count": 15
        },
        {
          "output_type": "display_data",
          "data": {
            "text/plain": [
              "<Figure size 640x480 with 1 Axes>"
            ],
            "image/png": "[encoded data removed]"
          },
          "metadata": {}
        }
      ]
    },
    {
      "cell_type": "code",
      "source": [
        "import matplotlib.pyplot as plt\n",
        "\n",
        "xmin = -10\n",
        "xmax = 10\n",
        "ymin = -10\n",
        "ymax = 10\n",
        "\n",
        "fig, ax = plt.subplots()\n",
        "plt.axis([xmin,xmax,ymin,ymax])\n",
        "plt.show()"
      ],
      "metadata": {
        "colab": {
          "base_uri": "https://localhost:8080/",
          "height": 435
        },
        "id": "47hjJHWQ0a0W",
        "outputId": "f9a65dec-47e7-4387-a3a8-c247f396c309"
      },
      "execution_count": null,
      "outputs": [
        {
          "output_type": "display_data",
          "data": {
            "text/plain": [
              "<Figure size 640x480 with 1 Axes>"
            ],
            "image/png": "[encoded data removed]"
          },
          "metadata": {}
        }
      ]
    },
    {
      "cell_type": "code",
      "source": [
        "import matplotlib.pyplot as plt\n",
        "\n",
        "xmin = -10\n",
        "xmax = 10\n",
        "ymin = -10\n",
        "ymax = 10\n",
        "\n",
        "fig, ax = plt.subplots()\n",
        "plt.axis([xmin,xmax,ymin,ymax])\n",
        "plt.plot([xmin,xmax], [0,0], \"b\")\n",
        "plt.plot([0,0],[ymin,ymax], \"b\")\n",
        "plt.show()"
      ],
      "metadata": {
        "colab": {
          "base_uri": "https://localhost:8080/",
          "height": 435
        },
        "outputId": "a7d4596c-9c2f-45f5-b4a8-ed322f2859df",
        "id": "ij8d8Yam1Kwe"
      },
      "execution_count": null,
      "outputs": [
        {
          "output_type": "display_data",
          "data": {
            "text/plain": [
              "<Figure size 640x480 with 1 Axes>"
            ],
            "image/png": "[encoded data removed]"
          },
          "metadata": {}
        }
      ]
    },
    {
      "cell_type": "code",
      "source": [
        "import matplotlib.pyplot as plt\n",
        "\n",
        "xmin = -10\n",
        "xmax = 10\n",
        "ymin = -10\n",
        "ymax = 10\n",
        "\n",
        "fig, ax = plt.subplots()\n",
        "plt.axis([xmin,xmax,ymin,ymax])\n",
        "plt.plot([xmin,xmax], [0,0], \"b\")\n",
        "plt.plot([0,0],[ymin,ymax], \"b\")\n",
        "\n",
        "for x in range(xmin, xmax+1):\n",
        "  y = 0.5*x+1\n",
        "  plt.plot([x],[y], \"ro\")\n",
        "  print(x, \"\\t\",y)\n",
        "\n",
        "plt.show()"
      ],
      "metadata": {
        "colab": {
          "base_uri": "https://localhost:8080/",
          "height": 799
        },
        "outputId": "1ef7dc03-f7c7-4b5b-d3d4-d6bd9556f911",
        "id": "BpfdsCzq1mog"
      },
      "execution_count": null,
      "outputs": [
        {
          "output_type": "stream",
          "name": "stdout",
          "text": [
            "-10 \t -4.0\n",
            "-9 \t -3.5\n",
            "-8 \t -3.0\n",
            "-7 \t -2.5\n",
            "-6 \t -2.0\n",
            "-5 \t -1.5\n",
            "-4 \t -1.0\n",
            "-3 \t -0.5\n",
            "-2 \t 0.0\n",
            "-1 \t 0.5\n",
            "0 \t 1.0\n",
            "1 \t 1.5\n",
            "2 \t 2.0\n",
            "3 \t 2.5\n",
            "4 \t 3.0\n",
            "5 \t 3.5\n",
            "6 \t 4.0\n",
            "7 \t 4.5\n",
            "8 \t 5.0\n",
            "9 \t 5.5\n",
            "10 \t 6.0\n"
          ]
        },
        {
          "output_type": "display_data",
          "data": {
            "text/plain": [
              "<Figure size 640x480 with 1 Axes>"
            ],
            "image/png": "[encoded data removed]"
          },
          "metadata": {}
        }
      ]
    },
    {
      "cell_type": "code",
      "source": [
        "import matplotlib.pyplot as plt\n",
        "import numpy as np\n",
        "\n",
        "xmin = -10\n",
        "xmax = 10\n",
        "ymin = -10\n",
        "ymax = 10\n",
        "points = 2*(xmax-xmin)\n",
        "x = np.linspace(xmin, xmax, points)\n",
        "\n",
        "fig, ax = plt.subplots()\n",
        "plt.axis([xmin,xmax,ymin,ymax])\n",
        "plt.plot([xmin,xmax], [0,0], \"b\")\n",
        "plt.plot([0,0],[ymin,ymax], \"b\")\n",
        "\n",
        "y = 2*x + 1\n",
        "plt.plot(x,y, \"red\")\n",
        "\n",
        "plt.show()"
      ],
      "metadata": {
        "colab": {
          "base_uri": "https://localhost:8080/",
          "height": 435
        },
        "outputId": "5abbca18-1877-4ac1-a25b-6e7fa60559eb",
        "id": "xe2-TKnQ3mLl"
      },
      "execution_count": null,
      "outputs": [
        {
          "output_type": "display_data",
          "data": {
            "text/plain": [
              "<Figure size 640x480 with 1 Axes>"
            ],
            "image/png": "[encoded data removed]"
          },
          "metadata": {}
        }
      ]
    },
    {
      "cell_type": "code",
      "source": [
        "x1 = 1\n",
        "y1 = 7\n",
        "x2 = 2\n",
        "y2 = 10\n",
        "\n",
        "slope = (y2-y1)/(x2-x1)\n",
        "\n",
        "print(\"slope = \", slope)"
      ],
      "metadata": {
        "colab": {
          "base_uri": "https://localhost:8080/"
        },
        "id": "VZs8yiOjOYS6",
        "outputId": "4d73b01a-479f-439a-ad15-52b0824b3e67"
      },
      "execution_count": null,
      "outputs": [
        {
          "output_type": "stream",
          "name": "stdout",
          "text": [
            "slope =  3.0\n"
          ]
        }
      ]
    },
    {
      "cell_type": "code",
      "source": [
        "x1 = 1\n",
        "y1 = 7\n",
        "x2 = 2\n",
        "y2 = 10\n",
        "\n",
        "m = (y2-y1)/(x2-x1)\n",
        "\n",
        "b = y1-m*x1\n",
        "\n",
        "print(\"y =\", m, \"x + \", b)"
      ],
      "metadata": {
        "colab": {
          "base_uri": "https://localhost:8080/"
        },
        "id": "5DruuNGFb_p1",
        "outputId": "970b0032-8e28-4c29-ea48-ebee739d8624"
      },
      "execution_count": null,
      "outputs": [
        {
          "output_type": "stream",
          "name": "stdout",
          "text": [
            "y = 3.0 x +  4.0\n"
          ]
        }
      ]
    },
    {
      "cell_type": "code",
      "source": [
        "import matplotlib.pyplot as plt\n",
        "import numpy as np\n",
        "\n",
        "x1 = 0\n",
        "y1 = 55\n",
        "x2 = 2\n",
        "y2 = 76\n",
        "\n",
        "m = (y2-y1)/(x2-x1)\n",
        "b = y1 - m*x1\n",
        "print(\"y = \", m, \"x + \", b)\n",
        "\n",
        "xmin = 0\n",
        "xmax = 10\n",
        "ymin = 0\n",
        "ymax = 150\n",
        "\n",
        "#For the line on graph\n",
        "y3 = m*xmin + b\n",
        "y4 = m*xmax + b\n",
        "\n",
        "#Graph setup\n",
        "fig, ax = plt.subplots()\n",
        "plt.axis([xmin,xmax,ymin,ymax])\n",
        "plt.plot([xmin,xmax], [0,0], \"b\")\n",
        "plt.plot([0,0],[ymin,ymax], \"b\")\n",
        "\n",
        "#add details to the graph\n",
        "ax.set_xlabel(\"time\")\n",
        "ax.set_ylabel(\"population\")\n",
        "ax.grid(True)\n",
        "\n",
        "plt.plot([xmin,xmax],[y3,y4], \"r\")\n",
        "plt.show()"
      ],
      "metadata": {
        "colab": {
          "base_uri": "https://localhost:8080/",
          "height": 466
        },
        "id": "HnzkwuVJcoVF",
        "outputId": "5eead0f2-7200-4095-e4a3-96b79d681a9f"
      },
      "execution_count": null,
      "outputs": [
        {
          "output_type": "stream",
          "name": "stdout",
          "text": [
            "y =  10.5 x +  55.0\n"
          ]
        },
        {
          "output_type": "display_data",
          "data": {
            "text/plain": [
              "<Figure size 640x480 with 1 Axes>"
            ],
            "image/png": "[encoded data removed]"
          },
          "metadata": {}
        }
      ]
    },
    {
      "cell_type": "code",
      "source": [
        "from sympy import *\n",
        "x,y = symbols('x y')\n",
        "\n",
        "first = 2*x + y-1\n",
        "second = x - 2*y + 7\n",
        "\n",
        "print(linsolve([first, second], (x,y)))"
      ],
      "metadata": {
        "colab": {
          "base_uri": "https://localhost:8080/"
        },
        "id": "kpKJPNUVhzn5",
        "outputId": "39404253-a76d-428e-8262-2dc0afc32a2c"
      },
      "execution_count": null,
      "outputs": [
        {
          "output_type": "stream",
          "name": "stdout",
          "text": [
            "{(-1, 3)}\n"
          ]
        }
      ]
    },
    {
      "cell_type": "markdown",
      "source": [
        "Quadratics"
      ],
      "metadata": {
        "id": "Y09gtVS_ymbR"
      }
    },
    {
      "cell_type": "code",
      "source": [
        "import math\n",
        "# coefficient values\n",
        "a = 1\n",
        "b = 5\n",
        "c = 6\n",
        "\n",
        "print(\"y = \", a, \"x**2 + \", b, \"x + \", c)\n",
        "\n",
        "#vertex\n",
        "vx = -b/(2*a)\n",
        "vy = a*(vx**2) + b*vx + c\n",
        "print(\"Vertex: (\",vx,\",\",vy,\")\")\n",
        "\n",
        "#roots\n",
        "d = b**2 - 4*a*c\n",
        "if d>0:\n",
        "  root_1 = (-b + math.sqrt(d))/(2*a)\n",
        "  root_2 = (-b - math.sqrt(d))/(2*a)\n",
        "  print(\"Roots: x = \", root_1, \"and x = \", root_2)\n",
        "else:\n",
        "  print(\"No real roots\")"
      ],
      "metadata": {
        "colab": {
          "base_uri": "https://localhost:8080/"
        },
        "id": "mth2LGxlysNP",
        "outputId": "349f078d-2610-47a8-81ea-8b5674497e5a"
      },
      "execution_count": null,
      "outputs": [
        {
          "output_type": "stream",
          "name": "stdout",
          "text": [
            "y =  1 x**2 +  5 x +  6\n",
            "Vertex: ( -2.5 , -0.25 )\n",
            "Roots: x =  -2.0 and x =  -3.0\n"
          ]
        }
      ]
    },
    {
      "cell_type": "code",
      "source": [
        "price = 10\n",
        "demand = 50 - 2*price\n",
        "revenue = price*demand\n",
        "total_cost = 4*demand\n",
        "profit = revenue - total_cost\n",
        "\n",
        "print(\"price: \", price)\n",
        "print(\"demand: \", demand)\n",
        "print(\"revenue: \", revenue)\n",
        "print(\"total cost: \", total_cost)\n",
        "print(\"profit \", profit)"
      ],
      "metadata": {
        "colab": {
          "base_uri": "https://localhost:8080/"
        },
        "id": "0KlfWDTyDPIi",
        "outputId": "26e94e06-cb82-4f85-c8ac-52f56da429d6"
      },
      "execution_count": null,
      "outputs": [
        {
          "output_type": "stream",
          "name": "stdout",
          "text": [
            "price:  10\n",
            "demand:  30\n",
            "revenue:  300\n",
            "total cost:  120\n",
            "profit  180\n"
          ]
        }
      ]
    },
    {
      "cell_type": "markdown",
      "source": [
        "Simple Interest"
      ],
      "metadata": {
        "id": "bJYUZmMJGQId"
      }
    },
    {
      "cell_type": "code",
      "source": [
        "p = 1000\n",
        "r = .05\n",
        "t = 1\n",
        "interest = p*r*t\n",
        "print(\"interest = \", interest)"
      ],
      "metadata": {
        "colab": {
          "base_uri": "https://localhost:8080/"
        },
        "id": "ro2RF_q9GSl9",
        "outputId": "45803cf1-4200-48ff-a882-570c6ac57031"
      },
      "execution_count": null,
      "outputs": [
        {
          "output_type": "stream",
          "name": "stdout",
          "text": [
            "interest =  50.0\n"
          ]
        }
      ]
    },
    {
      "cell_type": "code",
      "source": [
        "p = 1000\n",
        "r = .05\n",
        "t = 3\n",
        "interest = p*r*t\n",
        "a = p + interest\n",
        "print(\"interest = \", a)"
      ],
      "metadata": {
        "colab": {
          "base_uri": "https://localhost:8080/"
        },
        "id": "yJAHm5djGv1-",
        "outputId": "3c67f3a4-b9ad-4a13-9502-84ac2064eee0"
      },
      "execution_count": null,
      "outputs": [
        {
          "output_type": "stream",
          "name": "stdout",
          "text": [
            "interest =  1150.0\n"
          ]
        }
      ]
    },
    {
      "cell_type": "code",
      "source": [
        "p = 1000\n",
        "r = .05\n",
        "t = 3\n",
        "annuity = p*(1+r)**t\n",
        "\n",
        "print(\"Annuity = \", annuity)"
      ],
      "metadata": {
        "colab": {
          "base_uri": "https://localhost:8080/"
        },
        "id": "xtmu8SC8IIZm",
        "outputId": "6a9f49e6-8f9e-4d55-9a3a-cfbba29437b5"
      },
      "execution_count": null,
      "outputs": [
        {
          "output_type": "stream",
          "name": "stdout",
          "text": [
            "Annuity =  1157.6250000000002\n"
          ]
        }
      ]
    },
    {
      "cell_type": "code",
      "source": [
        "p = 1000\n",
        "r = .05\n",
        "t = 3\n",
        "n = 12\n",
        "\n",
        "annuity = p*(1+(r/n))**(n*t)\n",
        "\n",
        "print(\"Annuity= \", annuity)"
      ],
      "metadata": {
        "colab": {
          "base_uri": "https://localhost:8080/"
        },
        "id": "0Ocd7RNwI9d8",
        "outputId": "0d6e9c86-d608-4046-d179-5b160fa760ec"
      },
      "execution_count": null,
      "outputs": [
        {
          "output_type": "stream",
          "name": "stdout",
          "text": [
            "Annuity=  1161.4722313334678\n"
          ]
        }
      ]
    },
    {
      "cell_type": "code",
      "source": [
        "import math\n",
        "print(math.e)"
      ],
      "metadata": {
        "colab": {
          "base_uri": "https://localhost:8080/"
        },
        "id": "aoYm7WjqKFTD",
        "outputId": "41eddec8-eb9b-4f08-fc7e-41913f47d55e"
      },
      "execution_count": null,
      "outputs": [
        {
          "output_type": "stream",
          "name": "stdout",
          "text": [
            "2.718281828459045\n"
          ]
        }
      ]
    },
    {
      "cell_type": "code",
      "source": [
        "import math\n",
        "p = 1000\n",
        "r = .05\n",
        "t = 3\n",
        "n = 100\n",
        "\n",
        "n_times = p*(1+(r/n))**(n*t)\n",
        "\n",
        "continuous = p*math.e**(r*t)\n",
        "\n",
        "print(n_times, \"or\", continuous)"
      ],
      "metadata": {
        "colab": {
          "base_uri": "https://localhost:8080/"
        },
        "id": "TP2YIzlUKU6C",
        "outputId": "42b05beb-6991-4ea2-b94c-9bb39e949f9a"
      },
      "execution_count": null,
      "outputs": [
        {
          "output_type": "stream",
          "name": "stdout",
          "text": [
            "1161.7906892780059 or 1161.834242728283\n"
          ]
        }
      ]
    },
    {
      "cell_type": "markdown",
      "source": [
        "Mortgage Formula"
      ],
      "metadata": {
        "id": "-fVM2YXnNeQF"
      }
    },
    {
      "cell_type": "code",
      "source": [
        "p  = 240000\n",
        "r = .055\n",
        "t = 30\n",
        "\n",
        "#break down formula into parts\n",
        "numerator = (r/12)*(1+(r/12))**(12*t)\n",
        "denominator = (1+(r/12))**(12*t)-1\n",
        "payment = round(p*numerator/denominator, 2)\n",
        "\n",
        "print(\"monthly payment = \", payment)"
      ],
      "metadata": {
        "colab": {
          "base_uri": "https://localhost:8080/"
        },
        "id": "veB7_N8gLtIi",
        "outputId": "9442d491-77da-47df-9d3f-60b5a680f235"
      },
      "execution_count": null,
      "outputs": [
        {
          "output_type": "stream",
          "name": "stdout",
          "text": [
            "monthly payment =  1362.69\n"
          ]
        }
      ]
    },
    {
      "cell_type": "markdown",
      "source": [
        "Amortization"
      ],
      "metadata": {
        "id": "Q29KInV4NmL8"
      }
    },
    {
      "cell_type": "code",
      "source": [
        "p  = 240000.00\n",
        "r = .055\n",
        "t = 30\n",
        "\n",
        "#break down formula into parts\n",
        "numerator = (r/12)*(1+(r/12))**(12*t)\n",
        "denominator = (1+(r/12))**(12*t)-1\n",
        "payment = round(p*numerator/denominator, 2)\n",
        "\n",
        "print(\"payment = \", payment)\n",
        "\n",
        "#loop to show interest amounts\n",
        "balance = p\n",
        "print(\"month \\t balance \\t interest\")\n",
        "for a in range(12*t):\n",
        "  interest = round(balance*r/12, 2)\n",
        "  if a%24==0 or a==359:\n",
        "     print(a, \"\\t\", balance, \"\\t\", interest)\n",
        "  balance = round(balance+interest-payment,2)"
      ],
      "metadata": {
        "colab": {
          "base_uri": "https://localhost:8080/"
        },
        "id": "ZIeCatTQNaDW",
        "outputId": "556d0719-73c3-40fb-d73d-48836439225a"
      },
      "execution_count": null,
      "outputs": [
        {
          "output_type": "stream",
          "name": "stdout",
          "text": [
            "payment =  1362.69\n",
            "month \t balance \t interest\n",
            "0 \t 240000.0 \t 1100.0\n",
            "24 \t 233351.69 \t 1069.53\n",
            "48 \t 225932.19 \t 1035.52\n",
            "72 \t 217652.04 \t 997.57\n",
            "96 \t 208411.46 \t 955.22\n",
            "120 \t 198098.97 \t 907.95\n",
            "144 \t 186590.25 \t 855.21\n",
            "168 \t 173746.54 \t 796.34\n",
            "192 \t 159412.99 \t 730.64\n",
            "216 \t 143416.81 \t 657.33\n",
            "240 \t 125565.08 \t 575.51\n",
            "264 \t 105642.58 \t 484.2\n",
            "288 \t 83409.15 \t 382.29\n",
            "312 \t 58596.68 \t 268.57\n",
            "336 \t 30906.0 \t 141.65\n",
            "359 \t 1359.74 \t 6.23\n"
          ]
        }
      ]
    },
    {
      "cell_type": "code",
      "source": [
        "import math\n",
        "\n",
        "print(math.log(10000,10))\n",
        "print(math.log(1000,10))\n",
        "print(round(math.log(1000,10),4))"
      ],
      "metadata": {
        "colab": {
          "base_uri": "https://localhost:8080/"
        },
        "id": "T4Qfo4IUTwTw",
        "outputId": "313a93c8-62b6-4a0d-b3d2-5d77aafe7691"
      },
      "execution_count": null,
      "outputs": [
        {
          "output_type": "stream",
          "name": "stdout",
          "text": [
            "4.0\n",
            "2.9999999999999996\n",
            "3.0\n"
          ]
        }
      ]
    },
    {
      "cell_type": "code",
      "source": [
        "import math\n",
        "print(math.log(15,2))"
      ],
      "metadata": {
        "colab": {
          "base_uri": "https://localhost:8080/"
        },
        "id": "JPEJlbztUfaW",
        "outputId": "7460c2a8-9542-486a-9202-bf82052d2264"
      },
      "execution_count": null,
      "outputs": [
        {
          "output_type": "stream",
          "name": "stdout",
          "text": [
            "3.9068905956085187\n"
          ]
        }
      ]
    },
    {
      "cell_type": "code",
      "source": [
        "import math\n",
        "\n",
        "x = math.e**3\n",
        "print(math.log(x))\n"
      ],
      "metadata": {
        "colab": {
          "base_uri": "https://localhost:8080/"
        },
        "id": "P-dx9PdRUwSu",
        "outputId": "1ef8f9c3-d843-42cb-f246-a5ccc5eb9355"
      },
      "execution_count": null,
      "outputs": [
        {
          "output_type": "stream",
          "name": "stdout",
          "text": [
            "3.0\n"
          ]
        }
      ]
    },
    {
      "cell_type": "code",
      "source": [
        "import math\n",
        "\n",
        "r = .09\n",
        "\n",
        "t = round(math.log(2)/r)\n",
        "\n",
        "print('It will double in' , t, \"years.\")"
      ],
      "metadata": {
        "colab": {
          "base_uri": "https://localhost:8080/"
        },
        "id": "AXuYaBTWXY59",
        "outputId": "b767e6fd-feae-440d-ff35-e37522ab9e80"
      },
      "execution_count": null,
      "outputs": [
        {
          "output_type": "stream",
          "name": "stdout",
          "text": [
            "It will double in 8 years\n"
          ]
        }
      ]
    },
    {
      "cell_type": "code",
      "source": [
        "import pandas as pd\n",
        "import matplotlib.pyplot as plt\n",
        "from google.colab import files\n",
        "import io"
      ],
      "metadata": {
        "id": "etrkR-M6YnlK"
      },
      "execution_count": null,
      "outputs": []
    },
    {
      "cell_type": "code",
      "source": [
        "uploaded = files.upload()\n",
        "file_name = next(iter(uploaded))\n",
        "table_1 = pd.read_csv(io.BytesIO(uploaded[file_name]))"
      ],
      "metadata": {
        "colab": {
          "base_uri": "https://localhost:8080/",
          "height": 221
        },
        "id": "mGNUX1n2Y3Uz",
        "outputId": "66316576-fdc4-42ef-f576-db8c9e6a8978"
      },
      "execution_count": null,
      "outputs": [
        {
          "output_type": "display_data",
          "data": {
            "text/plain": [
              "<IPython.core.display.HTML object>"
            ],
            "text/html": [
              "\n",
              "     <input type=\"file\" id=\"files-5b4c4488-f92d-4f8e-b245-9bb678a9e2be\" name=\"files[]\" multiple disabled\n",
              "        style=\"border:none\" />\n",
              "     <output id=\"result-5b4c4488-f92d-4f8e-b245-9bb678a9e2be\">\n",
              "      Upload widget is only available when the cell has been executed in the\n",
              "      current browser session. Please rerun this cell to enable.\n",
              "      </output>\n",
              "      <script>// Copyright 2017 Google LLC\n",
              "//\n",
              "// Licensed under the Apache License, Version 2.0 (the \"License\");\n",
              "// you may not use this file except in compliance with the License.\n",
              "// You may obtain a copy of the License at\n",
              "//\n",
              "//      http://www.apache.org/licenses/LICENSE-2.0\n",
              "//\n",
              "// Unless required by applicable law or agreed to in writing, software\n",
              "// distributed under the License is distributed on an \"AS IS\" BASIS,\n",
              "// WITHOUT WARRANTIES OR CONDITIONS OF ANY KIND, either express or implied.\n",
              "// See the License for the specific language governing permissions and\n",
              "// limitations under the License.\n",
              "\n",
              "/**\n",
              " * @fileoverview Helpers for google.colab Python module.\n",
              " */\n",
              "(function(scope) {\n",
              "function span(text, styleAttributes = {}) {\n",
              "  const element = document.createElement('span');\n",
              "  element.textContent = text;\n",
              "  for (const key of Object.keys(styleAttributes)) {\n",
              "    element.style[key] = styleAttributes[key];\n",
              "  }\n",
              "  return element;\n",
              "}\n",
              "\n",
              "// Max number of bytes which will be uploaded at a time.\n",
              "const MAX_PAYLOAD_SIZE = 100 * 1024;\n",
              "\n",
              "function _uploadFiles(inputId, outputId) {\n",
              "  const steps = uploadFilesStep(inputId, outputId);\n",
              "  const outputElement = document.getElementById(outputId);\n",
              "  // Cache steps on the outputElement to make it available for the next call\n",
              "  // to uploadFilesContinue from Python.\n",
              "  outputElement.steps = steps;\n",
              "\n",
              "  return _uploadFilesContinue(outputId);\n",
              "}\n",
              "\n",
              "// This is roughly an async generator (not supported in the browser yet),\n",
              "// where there are multiple asynchronous steps and the Python side is going\n",
              "// to poll for completion of each step.\n",
              "// This uses a Promise to block the python side on completion of each step,\n",
              "// then passes the result of the previous step as the input to the next step.\n",
              "function _uploadFilesContinue(outputId) {\n",
              "  const outputElement = document.getElementById(outputId);\n",
              "  const steps = outputElement.steps;\n",
              "\n",
              "  const next = steps.next(outputElement.lastPromiseValue);\n",
              "  return Promise.resolve(next.value.promise).then((value) => {\n",
              "    // Cache the last promise value to make it available to the next\n",
              "    // step of the generator.\n",
              "    outputElement.lastPromiseValue = value;\n",
              "    return next.value.response;\n",
              "  });\n",
              "}\n",
              "\n",
              "/**\n",
              " * Generator function which is called between each async step of the upload\n",
              " * process.\n",
              " * @param {string} inputId Element ID of the input file picker element.\n",
              " * @param {string} outputId Element ID of the output display.\n",
              " * @return {!Iterable<!Object>} Iterable of next steps.\n",
              " */\n",
              "function* uploadFilesStep(inputId, outputId) {\n",
              "  const inputElement = document.getElementById(inputId);\n",
              "  inputElement.disabled = false;\n",
              "\n",
              "  const outputElement = document.getElementById(outputId);\n",
              "  outputElement.innerHTML = '';\n",
              "\n",
              "  const pickedPromise = new Promise((resolve) => {\n",
              "    inputElement.addEventListener('change', (e) => {\n",
              "      resolve(e.target.files);\n",
              "    });\n",
              "  });\n",
              "\n",
              "  const cancel = document.createElement('button');\n",
              "  inputElement.parentElement.appendChild(cancel);\n",
              "  cancel.textContent = 'Cancel upload';\n",
              "  const cancelPromise = new Promise((resolve) => {\n",
              "    cancel.onclick = () => {\n",
              "      resolve(null);\n",
              "    };\n",
              "  });\n",
              "\n",
              "  // Wait for the user to pick the files.\n",
              "  const files = yield {\n",
              "    promise: Promise.race([pickedPromise, cancelPromise]),\n",
              "    response: {\n",
              "      action: 'starting',\n",
              "    }\n",
              "  };\n",
              "\n",
              "  cancel.remove();\n",
              "\n",
              "  // Disable the input element since further picks are not allowed.\n",
              "  inputElement.disabled = true;\n",
              "\n",
              "  if (!files) {\n",
              "    return {\n",
              "      response: {\n",
              "        action: 'complete',\n",
              "      }\n",
              "    };\n",
              "  }\n",
              "\n",
              "  for (const file of files) {\n",
              "    const li = document.createElement('li');\n",
              "    li.append(span(file.name, {fontWeight: 'bold'}));\n",
              "    li.append(span(\n",
              "        `(${file.type || 'n/a'}) - ${file.size} bytes, ` +\n",
              "        `last modified: ${\n",
              "            file.lastModifiedDate ? file.lastModifiedDate.toLocaleDateString() :\n",
              "                                    'n/a'} - `));\n",
              "    const percent = span('0% done');\n",
              "    li.appendChild(percent);\n",
              "\n",
              "    outputElement.appendChild(li);\n",
              "\n",
              "    const fileDataPromise = new Promise((resolve) => {\n",
              "      const reader = new FileReader();\n",
              "      reader.onload = (e) => {\n",
              "        resolve(e.target.result);\n",
              "      };\n",
              "      reader.readAsArrayBuffer(file);\n",
              "    });\n",
              "    // Wait for the data to be ready.\n",
              "    let fileData = yield {\n",
              "      promise: fileDataPromise,\n",
              "      response: {\n",
              "        action: 'continue',\n",
              "      }\n",
              "    };\n",
              "\n",
              "    // Use a chunked sending to avoid message size limits. See b/62115660.\n",
              "    let position = 0;\n",
              "    do {\n",
              "      const length = Math.min(fileData.byteLength - position, MAX_PAYLOAD_SIZE);\n",
              "      const chunk = new Uint8Array(fileData, position, length);\n",
              "      position += length;\n",
              "\n",
              "      const base64 = btoa(String.fromCharCode.apply(null, chunk));\n",
              "      yield {\n",
              "        response: {\n",
              "          action: 'append',\n",
              "          file: file.name,\n",
              "          data: base64,\n",
              "        },\n",
              "      };\n",
              "\n",
              "      let percentDone = fileData.byteLength === 0 ?\n",
              "          100 :\n",
              "          Math.round((position / fileData.byteLength) * 100);\n",
              "      percent.textContent = `${percentDone}% done`;\n",
              "\n",
              "    } while (position < fileData.byteLength);\n",
              "  }\n",
              "\n",
              "  // All done.\n",
              "  yield {\n",
              "    response: {\n",
              "      action: 'complete',\n",
              "    }\n",
              "  };\n",
              "}\n",
              "\n",
              "scope.google = scope.google || {};\n",
              "scope.google.colab = scope.google.colab || {};\n",
              "scope.google.colab._files = {\n",
              "  _uploadFiles,\n",
              "  _uploadFilesContinue,\n",
              "};\n",
              "})(self);\n",
              "</script> "
            ]
          },
          "metadata": {}
        },
        {
          "output_type": "error",
          "ename": "StopIteration",
          "evalue": "ignored",
          "traceback": [
            "\u001b[0;31m---------------------------------------------------------------------------\u001b[0m",
            "\u001b[0;31mStopIteration\u001b[0m                             Traceback (most recent call last)",
            "\u001b[0;32m<ipython-input-41-cb95b3db3229>\u001b[0m in \u001b[0;36m<cell line: 2>\u001b[0;34m()\u001b[0m\n\u001b[1;32m      1\u001b[0m \u001b[0muploaded\u001b[0m \u001b[0;34m=\u001b[0m \u001b[0mfiles\u001b[0m\u001b[0;34m.\u001b[0m\u001b[0mupload\u001b[0m\u001b[0;34m(\u001b[0m\u001b[0;34m)\u001b[0m\u001b[0;34m\u001b[0m\u001b[0;34m\u001b[0m\u001b[0m\n\u001b[0;32m----> 2\u001b[0;31m \u001b[0mfile_name\u001b[0m \u001b[0;34m=\u001b[0m \u001b[0mnext\u001b[0m\u001b[0;34m(\u001b[0m\u001b[0miter\u001b[0m\u001b[0;34m(\u001b[0m\u001b[0muploaded\u001b[0m\u001b[0;34m)\u001b[0m\u001b[0;34m)\u001b[0m\u001b[0;34m\u001b[0m\u001b[0;34m\u001b[0m\u001b[0m\n\u001b[0m\u001b[1;32m      3\u001b[0m \u001b[0mtable_1\u001b[0m \u001b[0;34m=\u001b[0m \u001b[0mpd\u001b[0m\u001b[0;34m.\u001b[0m\u001b[0mread_csv\u001b[0m\u001b[0;34m(\u001b[0m\u001b[0mio\u001b[0m\u001b[0;34m.\u001b[0m\u001b[0mBytesIO\u001b[0m\u001b[0;34m(\u001b[0m\u001b[0muploaded\u001b[0m\u001b[0;34m[\u001b[0m\u001b[0mfile_name\u001b[0m\u001b[0;34m]\u001b[0m\u001b[0;34m)\u001b[0m\u001b[0;34m)\u001b[0m\u001b[0;34m\u001b[0m\u001b[0;34m\u001b[0m\u001b[0m\n",
            "\u001b[0;31mStopIteration\u001b[0m: "
          ]
        }
      ]
    },
    {
      "cell_type": "code",
      "source": [
        "#data relating to Old Faithful geyser eruptions\n",
        "url = \"https://people.sc.fsu.edu/~jburkardt/data/csv/faithful.csv\"\n",
        "\n",
        "table_1 = pd.read_csv(url)"
      ],
      "metadata": {
        "id": "N41d5Q65Ze4K"
      },
      "execution_count": null,
      "outputs": []
    },
    {
      "cell_type": "code",
      "source": [
        "#get headers to see column names and 2 rows\n",
        "print(table_1.head(2))\n",
        "\n",
        "#column nams as a variable\n",
        "col_names = table_1.columns\n",
        "\n",
        "#Another way to get column names\n",
        "print(\"\\n column names:\")\n",
        "for a in range(len(col_names)):\n",
        "   print(a, \" \", col_names[a])\n",
        "\n",
        "#print another way\n",
        "print(\"\\n column names:\")\n",
        "for col in col_names:\n",
        "  print(col)"
      ],
      "metadata": {
        "colab": {
          "base_uri": "https://localhost:8080/"
        },
        "id": "kT7s7QlUcXcP",
        "outputId": "c3ee90dc-a5a6-4395-f285-f2b6b10e763e"
      },
      "execution_count": null,
      "outputs": [
        {
          "output_type": "stream",
          "name": "stdout",
          "text": [
            "   Index   \"Eruption length (mins)\"  Eruption wait (mins)\n",
            "0      1                        3.6                    79\n",
            "1      2                        1.8                    54\n",
            "\n",
            " column names:\n",
            "0   Index\n",
            "1    \"Eruption length (mins)\"\n",
            "2   Eruption wait (mins)\n",
            "\n",
            " column names:\n",
            "Index\n",
            " \"Eruption length (mins)\"\n",
            "Eruption wait (mins)\n"
          ]
        }
      ]
    },
    {
      "cell_type": "code",
      "source": [
        "#convert values to numpy arrays\n",
        "x = table_1[' \"Eruption length (mins)\"'].to_numpy()\n",
        "y = table_1['Eruption wait (mins)'].to_numpy()\n",
        "\n",
        "#graph\n",
        "xmin = x.min() - 5\n",
        "xmax = x.max() + 5\n",
        "ymin = y.min() - 5\n",
        "ymax = y.max() + 5\n",
        "\n",
        "fig, ax = plt.subplots()\n",
        "plt.axis([xmin, xmax,ymin,ymax])\n",
        "plt.plot([xmin,xmax], [0,0], 'b')\n",
        "plt.plot([0,0],[ymin,ymax], 'b')\n",
        "plt.plot(x,y,\"ro\")\n",
        "#plt.plot(x,y,'b')\n",
        "plt.show()"
      ],
      "metadata": {
        "colab": {
          "base_uri": "https://localhost:8080/",
          "height": 430
        },
        "id": "aaSonOf4eWld",
        "outputId": "f84a698d-6cb4-4c9e-896a-7ca3edeac6a1"
      },
      "execution_count": null,
      "outputs": [
        {
          "output_type": "display_data",
          "data": {
            "text/plain": [
              "<Figure size 640x480 with 1 Axes>"
            ],
            "image/png": "[encoded data removed]"
          },
          "metadata": {}
        }
      ]
    }
  ],
  "metadata": {
    "colab": {
      "provenance": [],
      "authorship_tag": "ABX9TyMM6zcufsNKiFJ/NW0ivkVJ",
      "include_colab_link": true
    },
    "kernelspec": {
      "display_name": "Python 3",
      "name": "python3"
    },
    "language_info": {
      "name": "python"
    }
  },
  "nbformat": 4,
  "nbformat_minor": 0
}