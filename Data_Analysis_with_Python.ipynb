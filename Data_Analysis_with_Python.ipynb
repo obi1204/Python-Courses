{
  "nbformat": 4,
  "nbformat_minor": 0,
  "metadata": {
    "colab": {
      "provenance": []
    },
    "kernelspec": {
      "name": "python3",
      "display_name": "Python 3"
    },
    "language_info": {
      "name": "python"
    }
  },
  "cells": [
    {
      "cell_type": "code",
      "execution_count": null,
      "metadata": {
        "colab": {
          "base_uri": "https://localhost:8080/"
        },
        "id": "_Mo7vl0_ck7R",
        "outputId": "e7e7316b-5202-427f-85af-01ebe7421e77"
      },
      "outputs": [
        {
          "output_type": "stream",
          "name": "stdout",
          "text": [
            " We are inside an if block\n",
            "The given number 34 is even.\n"
          ]
        }
      ],
      "source": [
        "num = 34\n",
        "\n",
        "if num % 2 == 0:\n",
        "  print(\" We are inside an if block\")\n",
        "  print(\"The given number {} is even.\" .format(num))"
      ]
    },
    {
      "cell_type": "code",
      "source": [
        "num = 33\n",
        "\n",
        "if num % 2 == 0:\n",
        "  print(\" We are inside an if block\")\n",
        "else:\n",
        "  print(\"The given number {} is odd.\" .format(num))"
      ],
      "metadata": {
        "colab": {
          "base_uri": "https://localhost:8080/"
        },
        "id": "Yd_yTn6Aw8_s",
        "outputId": "b766f695-93fd-4e9f-bcae-d69479f7ee05"
      },
      "execution_count": null,
      "outputs": [
        {
          "output_type": "stream",
          "name": "stdout",
          "text": [
            "The given number 33 is odd.\n"
          ]
        }
      ]
    },
    {
      "cell_type": "code",
      "source": [
        "three_musketeers = ('Athos', 'Porthos', 'Aramis')\n",
        "\n",
        "candidate = \"D'Artagan\"\n",
        "\n",
        "if candidate in three_musketeers:\n",
        "  print(\"{} is a musketeer\".format(candidate))\n",
        "else:\n",
        "  print(\"{} is not a musketeer.\".format(candidate))"
      ],
      "metadata": {
        "colab": {
          "base_uri": "https://localhost:8080/"
        },
        "id": "weJsHCZ0xZcZ",
        "outputId": "863054ce-5838-4a1f-9228-0ff28a362695"
      },
      "execution_count": null,
      "outputs": [
        {
          "output_type": "stream",
          "name": "stdout",
          "text": [
            "D'Artagan is not a musketeer.\n"
          ]
        }
      ]
    },
    {
      "cell_type": "code",
      "source": [
        "if num % 2 == 0:\n",
        " print(num, \"is divisible by 2\")\n",
        "elif num % 3 == 0:\n",
        " print(num, \"is divisible by 3\")\n",
        "elif num % 5 == 0:\n",
        " print(num, \"is divisible by 5\")\n",
        "else:\n",
        "  print(\"All checks failed!\")"
      ],
      "metadata": {
        "colab": {
          "base_uri": "https://localhost:8080/"
        },
        "id": "cS2FKjHuy7ew",
        "outputId": "c658161a-57ae-434f-968a-91420439c9cd"
      },
      "execution_count": null,
      "outputs": [
        {
          "output_type": "stream",
          "name": "stdout",
          "text": [
            "33 is divisible by 3\n"
          ]
        }
      ]
    },
    {
      "cell_type": "code",
      "source": [
        "if num % 2 ==0 or num % 3 == 0:\n",
        " print(num, \"is divisible by 2 or 3\")\n",
        "elif num % 3 == 0:\n",
        " print(num, \"is divisible by 3\")\n",
        "elif num % 5 == 0:\n",
        " print(num, \"is divisible by 5\")\n",
        "else:\n",
        "  print(\"All checks failed!\")"
      ],
      "metadata": {
        "colab": {
          "base_uri": "https://localhost:8080/"
        },
        "id": "UZIcsrXgy8t_",
        "outputId": "e3f1b548-1077-4772-a6dd-7abc76b5aa41"
      },
      "execution_count": null,
      "outputs": [
        {
          "output_type": "stream",
          "name": "stdout",
          "text": [
            "33 is divisible by 2 or 3\n"
          ]
        }
      ]
    },
    {
      "cell_type": "markdown",
      "source": [
        "While Loops: as long as condition is true the statements in loop will countinously loop."
      ],
      "metadata": {
        "id": "N7U41gyj3kaj"
      }
    },
    {
      "cell_type": "code",
      "source": [
        "%%time\n",
        "\n",
        "result = 1\n",
        "i = 1\n",
        "\n",
        "while i <= 2:\n",
        "  result *= i\n",
        "  i = i + 1\n",
        "print(\"The factorial of 100 is:\", result,\".\")"
      ],
      "metadata": {
        "colab": {
          "base_uri": "https://localhost:8080/"
        },
        "id": "xUJL_BXRy8xG",
        "outputId": "0eff6131-be79-4271-9e9e-e1f9cda25f3f"
      },
      "execution_count": null,
      "outputs": [
        {
          "output_type": "stream",
          "name": "stdout",
          "text": [
            "The factorial of 100 is: 2 .\n",
            "CPU times: user 213 µs, sys: 0 ns, total: 213 µs\n",
            "Wall time: 176 µs\n"
          ]
        }
      ]
    },
    {
      "cell_type": "code",
      "source": [
        "line = \"*\"\n",
        "max_length = 10\n",
        "\n",
        "while len(line) <= max_length:\n",
        "    print(line)\n",
        "    line += \"*\"\n",
        "while len(line) > 0:\n",
        "  print(line)\n",
        "  line = line[:-1]"
      ],
      "metadata": {
        "colab": {
          "base_uri": "https://localhost:8080/"
        },
        "id": "-Ku1RPD5y81Y",
        "outputId": "212dc799-5846-4ec2-da7c-4dea289636a5"
      },
      "execution_count": null,
      "outputs": [
        {
          "output_type": "stream",
          "name": "stdout",
          "text": [
            "*\n",
            "**\n",
            "***\n",
            "****\n",
            "*****\n",
            "******\n",
            "*******\n",
            "********\n",
            "*********\n",
            "**********\n",
            "***********\n",
            "**********\n",
            "*********\n",
            "********\n",
            "*******\n",
            "******\n",
            "*****\n",
            "****\n",
            "***\n",
            "**\n",
            "*\n"
          ]
        }
      ]
    },
    {
      "cell_type": "markdown",
      "source": [
        "For Loop: fo riterating or looping over sequences (lists, tuples, dictionarie)"
      ],
      "metadata": {
        "id": "DHt82jbyBFZK"
      }
    },
    {
      "cell_type": "code",
      "source": [
        "for char in 'Monday':\n",
        "  print(char)"
      ],
      "metadata": {
        "colab": {
          "base_uri": "https://localhost:8080/"
        },
        "id": "dezYDnhyy7l3",
        "outputId": "5befb53c-ce85-4b8a-f9d9-9bc2a6e28d29"
      },
      "execution_count": null,
      "outputs": [
        {
          "output_type": "stream",
          "name": "stdout",
          "text": [
            "M\n",
            "o\n",
            "n\n",
            "d\n",
            "a\n",
            "y\n"
          ]
        }
      ]
    },
    {
      "cell_type": "code",
      "source": [
        "for fruit in ['Apple', 'Orange', 'Banana']:\n",
        "    print(\"Here is a fruit:\", fruit)"
      ],
      "metadata": {
        "colab": {
          "base_uri": "https://localhost:8080/"
        },
        "id": "8DVOg8o3BnQa",
        "outputId": "21ea1f79-8ccd-4212-da69-4da20fe722c8"
      },
      "execution_count": null,
      "outputs": [
        {
          "output_type": "stream",
          "name": "stdout",
          "text": [
            "Here is a fruit: Apple\n",
            "Here is a fruit: Orange\n",
            "Here is a fruit: Banana\n"
          ]
        }
      ]
    },
    {
      "cell_type": "code",
      "source": [
        "person = {\n",
        "    'Name': 'John Doe',\n",
        "    'Sex' : 'Male',\n",
        "    \"Age\" : 32,\n",
        "    \"Married\" : True\n",
        "}\n",
        "\n",
        "for key in person:\n",
        "  print(key,':', person[key])"
      ],
      "metadata": {
        "colab": {
          "base_uri": "https://localhost:8080/"
        },
        "id": "9JLl0s13Bnbh",
        "outputId": "3f1eadfc-6373-44e1-f389-73c8477dcdff"
      },
      "execution_count": null,
      "outputs": [
        {
          "output_type": "stream",
          "name": "stdout",
          "text": [
            "Name : John Doe\n",
            "Sex : Male\n",
            "Age : 32\n",
            "Married : True\n"
          ]
        }
      ]
    },
    {
      "cell_type": "code",
      "source": [
        "for value in person.values():\n",
        "  print(value)"
      ],
      "metadata": {
        "colab": {
          "base_uri": "https://localhost:8080/"
        },
        "id": "C1X745owBnkh",
        "outputId": "b48b6c21-4a4c-4270-ad91-8315a34e5e8f"
      },
      "execution_count": null,
      "outputs": [
        {
          "output_type": "stream",
          "name": "stdout",
          "text": [
            "John Doe\n",
            "Male\n",
            "32\n",
            "True\n"
          ]
        }
      ]
    },
    {
      "cell_type": "code",
      "source": [
        "for i in range (11):\n",
        "  print(i)"
      ],
      "metadata": {
        "colab": {
          "base_uri": "https://localhost:8080/"
        },
        "id": "AQ2SUSZ0EoLQ",
        "outputId": "3c0dde4f-4f06-44e3-a8f2-17a02ebc9345"
      },
      "execution_count": null,
      "outputs": [
        {
          "output_type": "stream",
          "name": "stdout",
          "text": [
            "0\n",
            "1\n",
            "2\n",
            "3\n",
            "4\n",
            "5\n",
            "6\n",
            "7\n",
            "8\n",
            "9\n",
            "10\n"
          ]
        }
      ]
    },
    {
      "cell_type": "code",
      "source": [
        "for i in range(2, 15, 2):\n",
        "  print(i)"
      ],
      "metadata": {
        "colab": {
          "base_uri": "https://localhost:8080/"
        },
        "id": "2X_7BHP8EoOV",
        "outputId": "624dba79-f780-4d8b-8f93-1c0cc50824bc"
      },
      "execution_count": null,
      "outputs": [
        {
          "output_type": "stream",
          "name": "stdout",
          "text": [
            "2\n",
            "4\n",
            "6\n",
            "8\n",
            "10\n",
            "12\n",
            "14\n"
          ]
        }
      ]
    },
    {
      "cell_type": "code",
      "source": [
        "days = ['Monday', 'Tuesday', 'Wednesday', 'Thursday', 'Friday']\n",
        "\n",
        "for i in range (len(days)):\n",
        "  print(\"The value at position {} is {}.\".format(i, days[i]))"
      ],
      "metadata": {
        "colab": {
          "base_uri": "https://localhost:8080/"
        },
        "id": "krOprqsmEoTf",
        "outputId": "5c77448e-f93d-4707-f706-844db3c11602"
      },
      "execution_count": null,
      "outputs": [
        {
          "output_type": "stream",
          "name": "stdout",
          "text": [
            "The value at position 0 is Monday.\n",
            "The value at position 1 is Tuesday.\n",
            "The value at position 2 is Wednesday.\n",
            "The value at position 3 is Thursday.\n",
            "The value at position 4 is Friday.\n"
          ]
        }
      ]
    },
    {
      "cell_type": "code",
      "source": [
        "for day in days:\n",
        "  print('Today is {}'.format(day))\n",
        "  if (day == 'Wednesday'):\n",
        "    print(\"I do not work on Wednesday.\")\n",
        "    break"
      ],
      "metadata": {
        "colab": {
          "base_uri": "https://localhost:8080/"
        },
        "id": "bRT9kr-kEoW1",
        "outputId": "637d6130-e7c7-481c-996a-7b5282d8c243"
      },
      "execution_count": null,
      "outputs": [
        {
          "output_type": "stream",
          "name": "stdout",
          "text": [
            "Today is Monday\n",
            "Today is Tuesday\n",
            "Today is Wednesday\n",
            "I do not work on Wednesday.\n"
          ]
        }
      ]
    },
    {
      "cell_type": "code",
      "source": [
        "for day in days:\n",
        "  print('Today is {}'.format(day))\n",
        "  if (day == 'Wednesday'):\n",
        "    print(\"I do not work on Wednesday.\")\n",
        "    continue\n",
        "    print('Today is {}'.format(days))"
      ],
      "metadata": {
        "colab": {
          "base_uri": "https://localhost:8080/"
        },
        "id": "BFLk3ODTEoZ9",
        "outputId": "9d750a5b-aa0b-4c0a-e782-61f73b7dfb6e"
      },
      "execution_count": null,
      "outputs": [
        {
          "output_type": "stream",
          "name": "stdout",
          "text": [
            "Today is Monday\n",
            "Today is Tuesday\n",
            "Today is Wednesday\n",
            "I do not work on Wednesday.\n",
            "Today is Thursday\n",
            "Today is Friday\n"
          ]
        }
      ]
    },
    {
      "cell_type": "markdown",
      "source": [
        "Fuctions and Scope: reusable set of functions"
      ],
      "metadata": {
        "id": "rj1CtPehILJy"
      }
    },
    {
      "cell_type": "code",
      "source": [
        "today = 'Saturday'\n",
        "print('Today is', today)"
      ],
      "metadata": {
        "colab": {
          "base_uri": "https://localhost:8080/"
        },
        "id": "d3UdPoNzEocd",
        "outputId": "010bbd8e-e35c-47f9-93e3-73cb74a69e8f"
      },
      "execution_count": null,
      "outputs": [
        {
          "output_type": "stream",
          "name": "stdout",
          "text": [
            "Today is Saturday\n"
          ]
        }
      ]
    },
    {
      "cell_type": "code",
      "source": [
        "def say_hello():\n",
        "  print('Hello there!')\n",
        "  print('How are you?')"
      ],
      "metadata": {
        "id": "FlJnoWRbEoe-"
      },
      "execution_count": null,
      "outputs": []
    },
    {
      "cell_type": "code",
      "source": [
        "say_hello()"
      ],
      "metadata": {
        "colab": {
          "base_uri": "https://localhost:8080/"
        },
        "id": "XXnaxp2MEorV",
        "outputId": "1818f78e-5f21-4498-bcc2-caf8aba7944e"
      },
      "execution_count": null,
      "outputs": [
        {
          "output_type": "stream",
          "name": "stdout",
          "text": [
            "Hello there!\n",
            "How are you?\n"
          ]
        }
      ]
    },
    {
      "cell_type": "code",
      "source": [
        "def say_hello(name):\n",
        "  print('Hello', name,\"!\")"
      ],
      "metadata": {
        "id": "iNmFcLhrEot3"
      },
      "execution_count": null,
      "outputs": []
    },
    {
      "cell_type": "code",
      "source": [
        "say_hello(\"John\")"
      ],
      "metadata": {
        "colab": {
          "base_uri": "https://localhost:8080/"
        },
        "id": "sDOWbwzBEoxF",
        "outputId": "11c0e161-cbb3-4c11-e1ef-6e52cd312705"
      },
      "execution_count": null,
      "outputs": [
        {
          "output_type": "stream",
          "name": "stdout",
          "text": [
            "Hello John !\n"
          ]
        }
      ]
    },
    {
      "cell_type": "code",
      "source": [
        "def even_filter(number_list):\n",
        "  result_list = []\n",
        "  for number in number_list:\n",
        "    if number % 2 == 0:\n",
        "      result_list.append(number)\n",
        "  return result_list"
      ],
      "metadata": {
        "id": "swuNSqe0Bnro"
      },
      "execution_count": null,
      "outputs": []
    },
    {
      "cell_type": "code",
      "source": [
        "even = even_filter([1,2,3,4,5,6,7,8,9,10,11,12,13,14,15])"
      ],
      "metadata": {
        "id": "-fAoQBdbKYwa"
      },
      "execution_count": null,
      "outputs": []
    },
    {
      "cell_type": "code",
      "source": [
        "even"
      ],
      "metadata": {
        "colab": {
          "base_uri": "https://localhost:8080/"
        },
        "id": "qQ8u2kW2KYzb",
        "outputId": "d955c470-9ef8-4a03-a147-8803a920f4cd"
      },
      "execution_count": null,
      "outputs": [
        {
          "output_type": "execute_result",
          "data": {
            "text/plain": [
              "[2, 4, 6, 8, 10, 12, 14]"
            ]
          },
          "metadata": {},
          "execution_count": 24
        }
      ]
    },
    {
      "cell_type": "code",
      "source": [
        "def loan_emi(amount):\n",
        "  emi = amount/12\n",
        "  print(\"The EMI is $\",emi)"
      ],
      "metadata": {
        "id": "pamsUItHKY2X"
      },
      "execution_count": null,
      "outputs": []
    },
    {
      "cell_type": "code",
      "source": [
        "loan_emi(1.26e6)"
      ],
      "metadata": {
        "colab": {
          "base_uri": "https://localhost:8080/"
        },
        "id": "TaYr25HjKY5a",
        "outputId": "9e61eb45-8381-4396-bdb1-963a63b1f8b9"
      },
      "execution_count": null,
      "outputs": [
        {
          "output_type": "stream",
          "name": "stdout",
          "text": [
            "The EMI is $ 105000.0\n"
          ]
        }
      ]
    },
    {
      "cell_type": "code",
      "source": [
        "def loan_emi(amount, duration):\n",
        "  emi = amount/duration\n",
        "  print('The EMi is $', emi)"
      ],
      "metadata": {
        "id": "ITvPkUTrKY8Y"
      },
      "execution_count": null,
      "outputs": []
    },
    {
      "cell_type": "code",
      "source": [
        "loan_emi(1.26e6, 10*12)"
      ],
      "metadata": {
        "colab": {
          "base_uri": "https://localhost:8080/"
        },
        "id": "UvSq50BfKZqR",
        "outputId": "3d937810-a8d0-4589-e3b0-17379c8b2f95"
      },
      "execution_count": null,
      "outputs": [
        {
          "output_type": "stream",
          "name": "stdout",
          "text": [
            "The EMi is $ 10500.0\n"
          ]
        }
      ]
    },
    {
      "cell_type": "code",
      "source": [
        "loan_emi(1260000, 8*12)"
      ],
      "metadata": {
        "colab": {
          "base_uri": "https://localhost:8080/"
        },
        "id": "YERspuWeKZsY",
        "outputId": "5d19714e-ecee-4cdd-8ab6-759d3a1b80f0"
      },
      "execution_count": null,
      "outputs": [
        {
          "output_type": "stream",
          "name": "stdout",
          "text": [
            "The EMi is $ 13125.0\n"
          ]
        }
      ]
    },
    {
      "cell_type": "code",
      "source": [
        "loan_emi(1260000, 10*12)"
      ],
      "metadata": {
        "colab": {
          "base_uri": "https://localhost:8080/"
        },
        "id": "6u7aAdV3KZxP",
        "outputId": "bb33496b-18c5-42d2-9e56-f2564e07afdb"
      },
      "execution_count": null,
      "outputs": [
        {
          "output_type": "stream",
          "name": "stdout",
          "text": [
            "The EMi is $ 10500.0\n"
          ]
        }
      ]
    },
    {
      "cell_type": "code",
      "source": [
        "def loan_emi(amount, duration):\n",
        "  emi = amount/duration\n",
        "  return emi"
      ],
      "metadata": {
        "id": "rOoYzJSJKZzv"
      },
      "execution_count": null,
      "outputs": []
    },
    {
      "cell_type": "code",
      "source": [
        "emi1 = loan_emi(1260000, 8*12)"
      ],
      "metadata": {
        "id": "0UPUOv7pKZ2K"
      },
      "execution_count": null,
      "outputs": []
    },
    {
      "cell_type": "code",
      "source": [
        "emi2 = loan_emi(1260000, 10*12)"
      ],
      "metadata": {
        "id": "7zS3oX_AKZ5K"
      },
      "execution_count": null,
      "outputs": []
    },
    {
      "cell_type": "code",
      "source": [
        "emi1"
      ],
      "metadata": {
        "colab": {
          "base_uri": "https://localhost:8080/"
        },
        "id": "br9czfCAKZ7q",
        "outputId": "ada44c0d-7462-4829-ddab-662af1b74162"
      },
      "execution_count": null,
      "outputs": [
        {
          "output_type": "execute_result",
          "data": {
            "text/plain": [
              "13125.0"
            ]
          },
          "metadata": {},
          "execution_count": 34
        }
      ]
    },
    {
      "cell_type": "code",
      "source": [
        "emi2"
      ],
      "metadata": {
        "colab": {
          "base_uri": "https://localhost:8080/"
        },
        "id": "dQRr4IPcKZ-O",
        "outputId": "128360cf-b956-4620-8c32-95d3ad99f1b9"
      },
      "execution_count": null,
      "outputs": [
        {
          "output_type": "execute_result",
          "data": {
            "text/plain": [
              "10500.0"
            ]
          },
          "metadata": {},
          "execution_count": 35
        }
      ]
    },
    {
      "cell_type": "code",
      "source": [
        "emi1-emi2"
      ],
      "metadata": {
        "colab": {
          "base_uri": "https://localhost:8080/"
        },
        "id": "jSFJjrs-R0pD",
        "outputId": "30787b75-0a57-4e0e-b1e0-9a174e84986b"
      },
      "execution_count": null,
      "outputs": [
        {
          "output_type": "execute_result",
          "data": {
            "text/plain": [
              "2625.0"
            ]
          },
          "metadata": {},
          "execution_count": 36
        }
      ]
    },
    {
      "cell_type": "code",
      "source": [
        "def loan_emi(amount, duration, down_payment = 0):\n",
        "  loan_amount = amount - down_payment\n",
        "  emi = loan_amount / duration\n",
        "  return emi"
      ],
      "metadata": {
        "id": "3I1iK3btR0rf"
      },
      "execution_count": null,
      "outputs": []
    },
    {
      "cell_type": "code",
      "source": [
        "emi1 = loan_emi(1260000, 8*12, 3e5)"
      ],
      "metadata": {
        "id": "qwfIttU5R0uj"
      },
      "execution_count": null,
      "outputs": []
    },
    {
      "cell_type": "code",
      "source": [
        "emi1"
      ],
      "metadata": {
        "colab": {
          "base_uri": "https://localhost:8080/"
        },
        "id": "5iQepE1RR0xS",
        "outputId": "683eaba8-d04f-4851-ea1f-5bcfed9a65bc"
      },
      "execution_count": null,
      "outputs": [
        {
          "output_type": "execute_result",
          "data": {
            "text/plain": [
              "10000.0"
            ]
          },
          "metadata": {},
          "execution_count": 39
        }
      ]
    },
    {
      "cell_type": "code",
      "source": [
        "emi2 = loan_emi(1260000, 10*12)"
      ],
      "metadata": {
        "id": "30iLCxTuR0z3"
      },
      "execution_count": null,
      "outputs": []
    },
    {
      "cell_type": "code",
      "source": [
        "emi2"
      ],
      "metadata": {
        "colab": {
          "base_uri": "https://localhost:8080/"
        },
        "id": "-7ZSEeCNR02f",
        "outputId": "6590150d-6f57-4f74-b96e-f12fa58b19c0"
      },
      "execution_count": null,
      "outputs": [
        {
          "output_type": "execute_result",
          "data": {
            "text/plain": [
              "10500.0"
            ]
          },
          "metadata": {},
          "execution_count": 41
        }
      ]
    },
    {
      "cell_type": "code",
      "source": [],
      "metadata": {
        "id": "Aa8D5xCpR07v"
      },
      "execution_count": null,
      "outputs": []
    },
    {
      "cell_type": "code",
      "source": [
        "def loan_emi(amount, duration, rate, down_payment = 0):\n",
        "  loan_amount = amount - down_payment\n",
        "  emi = loan_amount * rate * ((1+rate)**duration)/(((1+rate)**duration)-1)\n",
        "  return emi"
      ],
      "metadata": {
        "id": "j4iys09sTnK0"
      },
      "execution_count": null,
      "outputs": []
    },
    {
      "cell_type": "code",
      "source": [
        "emi1 = loan_emi(1260000, 8*12, 0.1/12, 3e5)"
      ],
      "metadata": {
        "id": "hDLKaukfR0-n"
      },
      "execution_count": null,
      "outputs": []
    },
    {
      "cell_type": "code",
      "source": [
        "emi1"
      ],
      "metadata": {
        "colab": {
          "base_uri": "https://localhost:8080/"
        },
        "id": "nlNXHBYGR1BZ",
        "outputId": "53c5caf8-0d71-4e41-ab96-44a37987daba"
      },
      "execution_count": null,
      "outputs": [
        {
          "output_type": "execute_result",
          "data": {
            "text/plain": [
              "14567.19753389219"
            ]
          },
          "metadata": {},
          "execution_count": 44
        }
      ]
    },
    {
      "cell_type": "code",
      "source": [
        "emi2 = loan_emi(126000, 10*12, 0.08/12)"
      ],
      "metadata": {
        "id": "P42rOY6mR1HE"
      },
      "execution_count": null,
      "outputs": []
    },
    {
      "cell_type": "code",
      "source": [
        "emi2"
      ],
      "metadata": {
        "colab": {
          "base_uri": "https://localhost:8080/"
        },
        "id": "7-dyJDUZR1J6",
        "outputId": "805f0275-7bd7-4844-a9cd-384c9fd9dac4"
      },
      "execution_count": null,
      "outputs": [
        {
          "output_type": "execute_result",
          "data": {
            "text/plain": [
              "1528.7276888775077"
            ]
          },
          "metadata": {},
          "execution_count": 46
        }
      ]
    },
    {
      "cell_type": "code",
      "source": [
        "import math"
      ],
      "metadata": {
        "id": "-oveKr3aR1S4"
      },
      "execution_count": null,
      "outputs": []
    },
    {
      "cell_type": "code",
      "source": [
        "help(math.ceil)"
      ],
      "metadata": {
        "colab": {
          "base_uri": "https://localhost:8080/"
        },
        "id": "Ri3LHTnyR1WS",
        "outputId": "71d71067-85df-4006-fa3e-0f0551a29a0a"
      },
      "execution_count": null,
      "outputs": [
        {
          "output_type": "stream",
          "name": "stdout",
          "text": [
            "Help on built-in function ceil in module math:\n",
            "\n",
            "ceil(x, /)\n",
            "    Return the ceiling of x as an Integral.\n",
            "    \n",
            "    This is the smallest integer >= x.\n",
            "\n"
          ]
        }
      ]
    },
    {
      "cell_type": "code",
      "source": [
        "math.ceil(1.2)"
      ],
      "metadata": {
        "colab": {
          "base_uri": "https://localhost:8080/"
        },
        "id": "kNaDOI54R1aM",
        "outputId": "4c19d217-c9b8-4556-ff4d-8e9ea7585697"
      },
      "execution_count": null,
      "outputs": [
        {
          "output_type": "execute_result",
          "data": {
            "text/plain": [
              "2"
            ]
          },
          "metadata": {},
          "execution_count": 49
        }
      ]
    },
    {
      "cell_type": "code",
      "source": [
        "def loan_emi(amount, duration, rate, down_payment = 0):\n",
        "  loan_amount = amount - down_payment\n",
        "  emi = loan_amount * rate * ((1+rate)**duration)/(((1+rate)**duration)-1)\n",
        "  emi = math.ceil(emi)\n",
        "  return emi"
      ],
      "metadata": {
        "id": "Va1SY2T4KaAp"
      },
      "execution_count": null,
      "outputs": []
    },
    {
      "cell_type": "code",
      "source": [
        "emi1 = loan_emi(1260000, 8*12, 0.1/12, 3e5)"
      ],
      "metadata": {
        "id": "dG7BmGikW0jw"
      },
      "execution_count": null,
      "outputs": []
    },
    {
      "cell_type": "code",
      "source": [
        "emi1"
      ],
      "metadata": {
        "colab": {
          "base_uri": "https://localhost:8080/"
        },
        "id": "vUpGUUEAW0mL",
        "outputId": "90f11b84-13df-462b-8e6a-e30f47d27b4a"
      },
      "execution_count": null,
      "outputs": [
        {
          "output_type": "execute_result",
          "data": {
            "text/plain": [
              "14568"
            ]
          },
          "metadata": {},
          "execution_count": 52
        }
      ]
    },
    {
      "cell_type": "code",
      "source": [
        "house = 800000\n",
        "house_loan_duration = 6 * 12\n",
        "house_loan_rate = .07/12\n",
        "house_down_payment = .25*800000\n",
        "\n",
        "emi_house = loan_emi(amount = house, duration = house_loan_duration, rate = house_loan_rate, down_payment = house_down_payment)\n",
        "\n",
        "emi_house"
      ],
      "metadata": {
        "colab": {
          "base_uri": "https://localhost:8080/"
        },
        "id": "OMqTCCk_W0pV",
        "outputId": "d78a8dbc-7737-403b-81a1-a4590449aa8e"
      },
      "execution_count": null,
      "outputs": [
        {
          "output_type": "execute_result",
          "data": {
            "text/plain": [
              "10230"
            ]
          },
          "metadata": {},
          "execution_count": 53
        }
      ]
    },
    {
      "cell_type": "code",
      "source": [
        "car = 60000\n",
        "car_loan_duration = 1 * 12\n",
        "car_loan_rate = .12/12\n",
        "\n",
        "emi_car = loan_emi(amount = car, duration = car_loan_duration, rate = car_loan_rate)\n",
        "\n",
        "emi_car"
      ],
      "metadata": {
        "colab": {
          "base_uri": "https://localhost:8080/"
        },
        "id": "wCnyBJ07W0r_",
        "outputId": "3a23ee3c-2cf3-42f1-a6b9-05bb5fcffc7a"
      },
      "execution_count": null,
      "outputs": [
        {
          "output_type": "execute_result",
          "data": {
            "text/plain": [
              "5331"
            ]
          },
          "metadata": {},
          "execution_count": 54
        }
      ]
    },
    {
      "cell_type": "code",
      "source": [
        "emi_car + emi_house"
      ],
      "metadata": {
        "colab": {
          "base_uri": "https://localhost:8080/"
        },
        "id": "klMR-9M0W0uz",
        "outputId": "219831aa-bede-4a10-9610-85b2af3dd6df"
      },
      "execution_count": null,
      "outputs": [
        {
          "output_type": "execute_result",
          "data": {
            "text/plain": [
              "15561"
            ]
          },
          "metadata": {},
          "execution_count": 55
        }
      ]
    },
    {
      "cell_type": "code",
      "source": [
        "def maximum(number_1, number_2, number_3):\n",
        "  answer = max(number_1, number_2, number_3)\n",
        "  return answer\n"
      ],
      "metadata": {
        "id": "WS_6SrCdW0xl"
      },
      "execution_count": null,
      "outputs": []
    },
    {
      "cell_type": "code",
      "source": [
        "maximum(3,6,-5)"
      ],
      "metadata": {
        "colab": {
          "base_uri": "https://localhost:8080/"
        },
        "id": "iti8fn4pW00F",
        "outputId": "4da6133a-dfe5-45b8-dcac-75875274fae8"
      },
      "execution_count": null,
      "outputs": [
        {
          "output_type": "execute_result",
          "data": {
            "text/plain": [
              "6"
            ]
          },
          "metadata": {},
          "execution_count": 57
        }
      ]
    },
    {
      "cell_type": "code",
      "source": [
        "def factorial(number):\n",
        " if number == 0:\n",
        "    return 1\n",
        " else:\n",
        "   return number * factorial(number-1)"
      ],
      "metadata": {
        "id": "DKLYec75W02r"
      },
      "execution_count": null,
      "outputs": []
    },
    {
      "cell_type": "code",
      "source": [
        "factorial(10)"
      ],
      "metadata": {
        "colab": {
          "base_uri": "https://localhost:8080/"
        },
        "id": "3fBBhKVsW05N",
        "outputId": "436ab2d9-fb24-4472-ace4-41317928403d"
      },
      "execution_count": null,
      "outputs": [
        {
          "output_type": "execute_result",
          "data": {
            "text/plain": [
              "3628800"
            ]
          },
          "metadata": {},
          "execution_count": 59
        }
      ]
    },
    {
      "cell_type": "code",
      "source": [
        "def vacation(return_flight, hotel_price, hotel_stay_length, car_price, rental_length):\n",
        "  hotel_cost = hotel_price * hotel_stay_length\n",
        "  weekly_car_rental = car_price * rental_length\n",
        "  total = return_flight + hotel_cost + weekly_car_rental\n",
        "  return total"
      ],
      "metadata": {
        "id": "yONh7nwuW077"
      },
      "execution_count": null,
      "outputs": []
    },
    {
      "cell_type": "code",
      "source": [
        "paris = vacation(200, 20, 7, 200, 1)\n",
        "paris"
      ],
      "metadata": {
        "colab": {
          "base_uri": "https://localhost:8080/"
        },
        "id": "0a66FZN-W0-l",
        "outputId": "8b879f07-7ea8-458e-cbd8-b1e0a4a14137"
      },
      "execution_count": null,
      "outputs": [
        {
          "output_type": "execute_result",
          "data": {
            "text/plain": [
              "540"
            ]
          },
          "metadata": {},
          "execution_count": 61
        }
      ]
    },
    {
      "cell_type": "code",
      "source": [
        "london = vacation(250, 30, 7, 200, 1)\n",
        "london"
      ],
      "metadata": {
        "colab": {
          "base_uri": "https://localhost:8080/"
        },
        "id": "pod0LKsiW1Bc",
        "outputId": "c48ef8e0-b10c-4503-f0d7-89c385be73cb"
      },
      "execution_count": null,
      "outputs": [
        {
          "output_type": "execute_result",
          "data": {
            "text/plain": [
              "660"
            ]
          },
          "metadata": {},
          "execution_count": 62
        }
      ]
    },
    {
      "cell_type": "code",
      "source": [
        "dubai = vacation(370, 15,7,200,1)\n",
        "dubai"
      ],
      "metadata": {
        "colab": {
          "base_uri": "https://localhost:8080/"
        },
        "id": "fTeIrvNhW1ED",
        "outputId": "f16717a2-4bf9-4e72-b27e-7c1f48fdf6a9"
      },
      "execution_count": null,
      "outputs": [
        {
          "output_type": "execute_result",
          "data": {
            "text/plain": [
              "675"
            ]
          },
          "metadata": {},
          "execution_count": 63
        }
      ]
    },
    {
      "cell_type": "code",
      "source": [
        "mumbai = vacation(450, 10,7,70,1)\n",
        "mumbai"
      ],
      "metadata": {
        "colab": {
          "base_uri": "https://localhost:8080/"
        },
        "id": "nYqBKl2wnfst",
        "outputId": "ab24f433-4c19-4ac2-cc3b-e01c138be161"
      },
      "execution_count": null,
      "outputs": [
        {
          "output_type": "execute_result",
          "data": {
            "text/plain": [
              "590"
            ]
          },
          "metadata": {},
          "execution_count": 64
        }
      ]
    },
    {
      "cell_type": "markdown",
      "source": [
        "Working with Numerical Data"
      ],
      "metadata": {
        "id": "uqjm9dR5uuS3"
      }
    },
    {
      "cell_type": "code",
      "source": [
        "w1, w2, w3 = 0.3, 0.2, 0.5"
      ],
      "metadata": {
        "id": "E7mKwSQqnfvU"
      },
      "execution_count": null,
      "outputs": []
    },
    {
      "cell_type": "code",
      "source": [
        "kanto_temp = 73\n",
        "kanto_rainfall = 67\n",
        "kanto_humidity = 43\n",
        "\n",
        "kanto_yield_apples = kanto_temp * w1 + kanto_rainfall * w2 + kanto_humidity *w3\n",
        "print(kanto_yield_apples)"
      ],
      "metadata": {
        "colab": {
          "base_uri": "https://localhost:8080/"
        },
        "id": "3dIt3mULnf2b",
        "outputId": "e42249f4-6d47-4526-a4c5-dfdf4abc8b56"
      },
      "execution_count": null,
      "outputs": [
        {
          "output_type": "stream",
          "name": "stdout",
          "text": [
            "56.8\n"
          ]
        }
      ]
    },
    {
      "cell_type": "markdown",
      "source": [
        "To make this easier for multiple regions, creat lists(vectors) for each regions data\n",
        "\n"
      ],
      "metadata": {
        "id": "0MLy4z57w0V7"
      }
    },
    {
      "cell_type": "code",
      "source": [
        "kanto = [73, 67,43]\n",
        "johto = [91, 88, 64]\n",
        "hoenn = [87, 134, 58]\n",
        "sinnoh = [102, 43, 37]\n",
        "unova = [69, 96,70]"
      ],
      "metadata": {
        "id": "O1JIg6Otnf5L"
      },
      "execution_count": null,
      "outputs": []
    },
    {
      "cell_type": "code",
      "source": [
        "weights = [w1,w2,w3]"
      ],
      "metadata": {
        "id": "jiPCDW_onf-L"
      },
      "execution_count": null,
      "outputs": []
    },
    {
      "cell_type": "code",
      "source": [
        "def crop_yield(region, weights):\n",
        "  result = 0\n",
        "  for x, w in zip(region,weights):\n",
        "    result += x * w\n",
        "  return result"
      ],
      "metadata": {
        "id": "wxLzIFJlngAq"
      },
      "execution_count": null,
      "outputs": []
    },
    {
      "cell_type": "code",
      "source": [
        "#zip function returns pairs\n",
        "#ex.\n",
        "for item in zip(kanto, weights):\n",
        "  print(item)"
      ],
      "metadata": {
        "colab": {
          "base_uri": "https://localhost:8080/"
        },
        "id": "h9KnjKb_ygKh",
        "outputId": "2f672173-0183-4e12-edd4-2c225b83be8c"
      },
      "execution_count": null,
      "outputs": [
        {
          "output_type": "stream",
          "name": "stdout",
          "text": [
            "(73, 0.3)\n",
            "(67, 0.2)\n",
            "(43, 0.5)\n"
          ]
        }
      ]
    },
    {
      "cell_type": "code",
      "source": [
        "crop_yield(kanto, weights)"
      ],
      "metadata": {
        "colab": {
          "base_uri": "https://localhost:8080/"
        },
        "id": "o1uj630VngDE",
        "outputId": "7e0ab8d6-8e5b-4a60-f4ba-e5ba58390ce7"
      },
      "execution_count": null,
      "outputs": [
        {
          "output_type": "execute_result",
          "data": {
            "text/plain": [
              "56.8"
            ]
          },
          "metadata": {},
          "execution_count": 71
        }
      ]
    },
    {
      "cell_type": "code",
      "source": [
        "crop_yield(johto, weights)"
      ],
      "metadata": {
        "colab": {
          "base_uri": "https://localhost:8080/"
        },
        "id": "jE1UEb2vngFZ",
        "outputId": "e33635a1-eafc-46c1-f910-a555119cf81c"
      },
      "execution_count": null,
      "outputs": [
        {
          "output_type": "execute_result",
          "data": {
            "text/plain": [
              "76.9"
            ]
          },
          "metadata": {},
          "execution_count": 72
        }
      ]
    },
    {
      "cell_type": "markdown",
      "source": [
        "Going from Python Lists to Numpy Arrays"
      ],
      "metadata": {
        "id": "HhmuvYDJ2gHg"
      }
    },
    {
      "cell_type": "code",
      "source": [
        "#numpy already has a built-in function to perform the above calculation\n",
        "import numpy as np\n",
        "kanto = np.array([73,67,43])\n",
        "weights = np.array([w1,w2,w3])\n",
        "\n",
        "np.dot(kanto, weights)"
      ],
      "metadata": {
        "colab": {
          "base_uri": "https://localhost:8080/"
        },
        "id": "I0JjKUW-ngId",
        "outputId": "272aa902-14ae-483b-a3c6-4491baa74336"
      },
      "execution_count": null,
      "outputs": [
        {
          "output_type": "execute_result",
          "data": {
            "text/plain": [
              "56.8"
            ]
          },
          "metadata": {},
          "execution_count": 73
        }
      ]
    },
    {
      "cell_type": "code",
      "source": [
        "kanto * weights #because the variables have been converted to arrays, even simple math can be used"
      ],
      "metadata": {
        "colab": {
          "base_uri": "https://localhost:8080/"
        },
        "id": "0LV4zd77ngLB",
        "outputId": "684e163a-b28a-4c52-cd03-110d23b5d59a"
      },
      "execution_count": null,
      "outputs": [
        {
          "output_type": "execute_result",
          "data": {
            "text/plain": [
              "array([21.9, 13.4, 21.5])"
            ]
          },
          "metadata": {},
          "execution_count": 74
        }
      ]
    },
    {
      "cell_type": "markdown",
      "source": [
        "Benefits of Using Numpy Arrays:\n",
        "Ease of Use\n",
        "Performance: Numpy operations and functions are implemented internally in C++, wich makes them much faster than using  Python statements & loops which are interpreat runtime"
      ],
      "metadata": {
        "id": "DEBhG0ye4jwl"
      }
    },
    {
      "cell_type": "code",
      "source": [
        "#comparison of dot products done of vectors with a million elements each using Python loops vs. Numpy arrays\n",
        "\n",
        "#python lists\n",
        "arr1 = list(range(1000000))\n",
        "arr2 = list(range(1000000, 2000000 ))\n",
        "\n",
        "#numpy arrays\n",
        "arr1_np = np.array(arr1)\n",
        "arr2_np = np.array(arr2)"
      ],
      "metadata": {
        "id": "ptqAe2SQngNs"
      },
      "execution_count": null,
      "outputs": []
    },
    {
      "cell_type": "code",
      "source": [
        "%%time\n",
        "result = 0\n",
        "for x1, x2 in zip(arr1, arr2):\n",
        "  result += x1*x2\n",
        "result"
      ],
      "metadata": {
        "colab": {
          "base_uri": "https://localhost:8080/"
        },
        "id": "WWVVBMPa4aEG",
        "outputId": "1716d9ea-435a-4145-f304-5b5ffc343307"
      },
      "execution_count": null,
      "outputs": [
        {
          "output_type": "stream",
          "name": "stdout",
          "text": [
            "CPU times: user 331 ms, sys: 0 ns, total: 331 ms\n",
            "Wall time: 380 ms\n"
          ]
        },
        {
          "output_type": "execute_result",
          "data": {
            "text/plain": [
              "833332333333500000"
            ]
          },
          "metadata": {},
          "execution_count": 76
        }
      ]
    },
    {
      "cell_type": "code",
      "source": [
        "%%time\n",
        "np.dot(arr1_np, arr2_np)"
      ],
      "metadata": {
        "colab": {
          "base_uri": "https://localhost:8080/"
        },
        "id": "eIEMMVXr4aGc",
        "outputId": "9b0161ef-7b37-4a48-e706-03e9f1625570"
      },
      "execution_count": null,
      "outputs": [
        {
          "output_type": "stream",
          "name": "stdout",
          "text": [
            "CPU times: user 2.9 ms, sys: 0 ns, total: 2.9 ms\n",
            "Wall time: 2.04 ms\n"
          ]
        },
        {
          "output_type": "execute_result",
          "data": {
            "text/plain": [
              "833332333333500000"
            ]
          },
          "metadata": {},
          "execution_count": 77
        }
      ]
    },
    {
      "cell_type": "markdown",
      "source": [
        "Multi-Dimensional Numpy Arrays"
      ],
      "metadata": {
        "id": "_zEQzf5170tB"
      }
    },
    {
      "cell_type": "markdown",
      "source": [
        "1D array: (4,)\n",
        "2D array: (2,3)\n",
        "3D array: (4,3,2)"
      ],
      "metadata": {
        "id": "ZCW-gOtO8xzP"
      }
    },
    {
      "cell_type": "code",
      "source": [
        "#ex. of 2D array\n",
        "climate_data = np.array([[73,67,43],\n",
        "                         [91, 88, 64],\n",
        "                         [87, 134, 58],\n",
        "                         [102, 43, 37],\n",
        "                         [69, 96,70]])"
      ],
      "metadata": {
        "id": "1Irr305b4aLQ"
      },
      "execution_count": null,
      "outputs": []
    },
    {
      "cell_type": "code",
      "source": [
        "climate_data"
      ],
      "metadata": {
        "colab": {
          "base_uri": "https://localhost:8080/"
        },
        "id": "KAgNBoaG4aNt",
        "outputId": "bea3469c-1752-4a2f-8b75-54bf4f71e67a"
      },
      "execution_count": null,
      "outputs": [
        {
          "output_type": "execute_result",
          "data": {
            "text/plain": [
              "array([[ 73,  67,  43],\n",
              "       [ 91,  88,  64],\n",
              "       [ 87, 134,  58],\n",
              "       [102,  43,  37],\n",
              "       [ 69,  96,  70]])"
            ]
          },
          "metadata": {},
          "execution_count": 79
        }
      ]
    },
    {
      "cell_type": "code",
      "source": [
        "climate_data.shape"
      ],
      "metadata": {
        "colab": {
          "base_uri": "https://localhost:8080/"
        },
        "id": "e_5oNz344aQV",
        "outputId": "8cec5a5b-abf9-413a-a8d7-8a826d46a975"
      },
      "execution_count": null,
      "outputs": [
        {
          "output_type": "execute_result",
          "data": {
            "text/plain": [
              "(5, 3)"
            ]
          },
          "metadata": {},
          "execution_count": 80
        }
      ]
    },
    {
      "cell_type": "code",
      "source": [
        "weights.shape"
      ],
      "metadata": {
        "colab": {
          "base_uri": "https://localhost:8080/"
        },
        "id": "SY_GyeQY4aS3",
        "outputId": "cedc32f6-a9f7-4c6a-9ecb-ea588e2586cd"
      },
      "execution_count": null,
      "outputs": [
        {
          "output_type": "execute_result",
          "data": {
            "text/plain": [
              "(3,)"
            ]
          },
          "metadata": {},
          "execution_count": 81
        }
      ]
    },
    {
      "cell_type": "code",
      "source": [
        "#3D Array(2 matrices sitting side by side)\n",
        "arr3 = np.array([[[11,12,13],\n",
        "                 [13,14,15]],\n",
        "\n",
        "                 [[15, 16,17],\n",
        "                  [17, 18,19.5]]])"
      ],
      "metadata": {
        "id": "F9hIUMHt4aX3"
      },
      "execution_count": null,
      "outputs": []
    },
    {
      "cell_type": "code",
      "source": [
        "arr3.shape"
      ],
      "metadata": {
        "colab": {
          "base_uri": "https://localhost:8080/"
        },
        "id": "CH8_kZOf4aas",
        "outputId": "d7ef82cc-dcb0-489a-b89f-050aa94152a0"
      },
      "execution_count": null,
      "outputs": [
        {
          "output_type": "execute_result",
          "data": {
            "text/plain": [
              "(2, 2, 3)"
            ]
          },
          "metadata": {},
          "execution_count": 83
        }
      ]
    },
    {
      "cell_type": "code",
      "source": [
        "#multiplying matices\n",
        "np.matmul(climate_data, weights)"
      ],
      "metadata": {
        "colab": {
          "base_uri": "https://localhost:8080/"
        },
        "id": "Lgu7fx074adX",
        "outputId": "9502cdc3-a6b4-4678-ac05-6587c0c714af"
      },
      "execution_count": null,
      "outputs": [
        {
          "output_type": "execute_result",
          "data": {
            "text/plain": [
              "array([56.8, 76.9, 81.9, 57.7, 74.9])"
            ]
          },
          "metadata": {},
          "execution_count": 84
        }
      ]
    },
    {
      "cell_type": "code",
      "source": [
        "#faster way of doing the same thing\n",
        "climate_data @ weights"
      ],
      "metadata": {
        "colab": {
          "base_uri": "https://localhost:8080/"
        },
        "id": "e0UdPHw94agO",
        "outputId": "e8f41307-8c0b-4a4e-e844-a79ba7b1330d"
      },
      "execution_count": null,
      "outputs": [
        {
          "output_type": "execute_result",
          "data": {
            "text/plain": [
              "array([56.8, 76.9, 81.9, 57.7, 74.9])"
            ]
          },
          "metadata": {},
          "execution_count": 85
        }
      ]
    },
    {
      "cell_type": "markdown",
      "source": [
        "Working with CSV data files"
      ],
      "metadata": {
        "id": "ex0CfEW4Aqvr"
      }
    },
    {
      "cell_type": "code",
      "source": [
        "import urllib.request\n",
        "\n",
        "urllib.request.urlretrieve(\n",
        "    'https://gist.github.com/BirajCoder/a4ffcb76fd6fb221d76ac2ee2b8584e9/raw/4054f90adfd361b7aa4255e99c2e874664094cea/climate.csv',\n",
        "    'climate.txt')"
      ],
      "metadata": {
        "colab": {
          "base_uri": "https://localhost:8080/"
        },
        "id": "j-Ax87dI4ajF",
        "outputId": "9b28fc10-7b6c-4751-8b68-82aa8b2b397f"
      },
      "execution_count": null,
      "outputs": [
        {
          "output_type": "execute_result",
          "data": {
            "text/plain": [
              "('climate.txt', <http.client.HTTPMessage at 0x7f909a7095d0>)"
            ]
          },
          "metadata": {},
          "execution_count": 86
        }
      ]
    },
    {
      "cell_type": "code",
      "source": [
        "climate_data = np.genfromtxt('climate.txt', delimiter=',', skip_header=1)"
      ],
      "metadata": {
        "id": "hEM77g1qAiD4"
      },
      "execution_count": null,
      "outputs": []
    },
    {
      "cell_type": "code",
      "source": [
        "climate_data"
      ],
      "metadata": {
        "colab": {
          "base_uri": "https://localhost:8080/"
        },
        "id": "2B9TN0gqAiGV",
        "outputId": "840c877b-6653-4b14-e480-569cb4600ce8"
      },
      "execution_count": null,
      "outputs": [
        {
          "output_type": "execute_result",
          "data": {
            "text/plain": [
              "array([[25., 76., 99.],\n",
              "       [39., 65., 70.],\n",
              "       [59., 45., 77.],\n",
              "       ...,\n",
              "       [99., 62., 58.],\n",
              "       [70., 71., 91.],\n",
              "       [92., 39., 76.]])"
            ]
          },
          "metadata": {},
          "execution_count": 88
        }
      ]
    },
    {
      "cell_type": "code",
      "source": [
        "climate_data.shape"
      ],
      "metadata": {
        "colab": {
          "base_uri": "https://localhost:8080/"
        },
        "id": "CUJ7A7uDAiIy",
        "outputId": "a45af6d4-485f-4978-9e00-af0af988d203"
      },
      "execution_count": null,
      "outputs": [
        {
          "output_type": "execute_result",
          "data": {
            "text/plain": [
              "(10000, 3)"
            ]
          },
          "metadata": {},
          "execution_count": 89
        }
      ]
    },
    {
      "cell_type": "code",
      "source": [
        "yields = climate_data @ weights"
      ],
      "metadata": {
        "id": "NkU4fG1mAiMU"
      },
      "execution_count": null,
      "outputs": []
    },
    {
      "cell_type": "code",
      "source": [
        "yields"
      ],
      "metadata": {
        "colab": {
          "base_uri": "https://localhost:8080/"
        },
        "id": "AmzYN3oZAiO1",
        "outputId": "94564cd2-7d6c-467c-984b-1ecbeab85749"
      },
      "execution_count": null,
      "outputs": [
        {
          "output_type": "execute_result",
          "data": {
            "text/plain": [
              "array([72.2, 59.7, 65.2, ..., 71.1, 80.7, 73.4])"
            ]
          },
          "metadata": {},
          "execution_count": 91
        }
      ]
    },
    {
      "cell_type": "code",
      "source": [
        "yields.shape"
      ],
      "metadata": {
        "colab": {
          "base_uri": "https://localhost:8080/"
        },
        "id": "FJ7odwVLAiRd",
        "outputId": "1d0f23bf-bd6b-4eb1-f044-bda4bfa07635"
      },
      "execution_count": null,
      "outputs": [
        {
          "output_type": "execute_result",
          "data": {
            "text/plain": [
              "(10000,)"
            ]
          },
          "metadata": {},
          "execution_count": 92
        }
      ]
    },
    {
      "cell_type": "code",
      "source": [
        "from IPython.utils.io import temp_pyfile\n",
        "# to add the yields back to climate_data as a fourth column using the np.concatenate function\n",
        "\n",
        "climate_results = np.concatenate(((climate_data, yields.reshape(10000, 1))), axis=1)"
      ],
      "metadata": {
        "id": "4xBueV9FAiU3"
      },
      "execution_count": null,
      "outputs": []
    },
    {
      "cell_type": "code",
      "source": [
        "climate_results"
      ],
      "metadata": {
        "colab": {
          "base_uri": "https://localhost:8080/"
        },
        "id": "v2rl2f45AiXO",
        "outputId": "ab55562c-2332-4554-fd7d-3238a69c89b9"
      },
      "execution_count": null,
      "outputs": [
        {
          "output_type": "execute_result",
          "data": {
            "text/plain": [
              "array([[25. , 76. , 99. , 72.2],\n",
              "       [39. , 65. , 70. , 59.7],\n",
              "       [59. , 45. , 77. , 65.2],\n",
              "       ...,\n",
              "       [99. , 62. , 58. , 71.1],\n",
              "       [70. , 71. , 91. , 80.7],\n",
              "       [92. , 39. , 76. , 73.4]])"
            ]
          },
          "metadata": {},
          "execution_count": 94
        }
      ]
    },
    {
      "cell_type": "code",
      "source": [
        "#saving results back to file\n",
        "\n",
        "np.savetxt('climate_results.txt', climate_results, fmt= '%.2f', header= 'temperature / rainfall / humidity / yeild_apples ', comments='It worked ')"
      ],
      "metadata": {
        "id": "otZaU7_MAiaH"
      },
      "execution_count": null,
      "outputs": []
    },
    {
      "cell_type": "markdown",
      "source": [
        "Arithmetic Operations and Broadcasting"
      ],
      "metadata": {
        "id": "-iB7lSFmIphj"
      }
    },
    {
      "cell_type": "code",
      "source": [
        "arr2 = np.array([[1,2,3,4],\n",
        "                 [5,6,7,8],\n",
        "                 [9,10,11,12]])\n",
        "\n",
        "arr3 = np.array([[15,16,17,18],\n",
        "                 [19,20,21,22],\n",
        "                 [23,24,25,26]])"
      ],
      "metadata": {
        "id": "2JyUXfpgIhK3"
      },
      "execution_count": null,
      "outputs": []
    },
    {
      "cell_type": "code",
      "source": [
        "#addition\n",
        "arr2 + arr3"
      ],
      "metadata": {
        "colab": {
          "base_uri": "https://localhost:8080/"
        },
        "id": "TeRJF21jIhNu",
        "outputId": "b8465963-9c4a-41cd-a788-c96356998618"
      },
      "execution_count": null,
      "outputs": [
        {
          "output_type": "execute_result",
          "data": {
            "text/plain": [
              "array([[16, 18, 20, 22],\n",
              "       [24, 26, 28, 30],\n",
              "       [32, 34, 36, 38]])"
            ]
          },
          "metadata": {},
          "execution_count": 97
        }
      ]
    },
    {
      "cell_type": "code",
      "source": [
        "#adding a scalar\n",
        "arr2 + 3"
      ],
      "metadata": {
        "colab": {
          "base_uri": "https://localhost:8080/"
        },
        "id": "bEewiigcIhQU",
        "outputId": "aaa35691-cfd9-4a7b-f1e9-083506010c6d"
      },
      "execution_count": null,
      "outputs": [
        {
          "output_type": "execute_result",
          "data": {
            "text/plain": [
              "array([[ 4,  5,  6,  7],\n",
              "       [ 8,  9, 10, 11],\n",
              "       [12, 13, 14, 15]])"
            ]
          },
          "metadata": {},
          "execution_count": 98
        }
      ]
    },
    {
      "cell_type": "code",
      "source": [
        "#subtraction\n",
        "arr2 - arr3"
      ],
      "metadata": {
        "colab": {
          "base_uri": "https://localhost:8080/"
        },
        "id": "ZuB4rIJ2IhSv",
        "outputId": "bd0a4e0e-6910-47d5-c996-322ceb515086"
      },
      "execution_count": null,
      "outputs": [
        {
          "output_type": "execute_result",
          "data": {
            "text/plain": [
              "array([[-14, -14, -14, -14],\n",
              "       [-14, -14, -14, -14],\n",
              "       [-14, -14, -14, -14]])"
            ]
          },
          "metadata": {},
          "execution_count": 99
        }
      ]
    },
    {
      "cell_type": "code",
      "source": [
        "#division\n",
        "arr2/2"
      ],
      "metadata": {
        "colab": {
          "base_uri": "https://localhost:8080/"
        },
        "id": "nhMcs4ITIhae",
        "outputId": "ba6eb9fa-fce6-4415-a34a-51e5c4b312d4"
      },
      "execution_count": null,
      "outputs": [
        {
          "output_type": "execute_result",
          "data": {
            "text/plain": [
              "array([[0.5, 1. , 1.5, 2. ],\n",
              "       [2.5, 3. , 3.5, 4. ],\n",
              "       [4.5, 5. , 5.5, 6. ]])"
            ]
          },
          "metadata": {},
          "execution_count": 100
        }
      ]
    },
    {
      "cell_type": "code",
      "source": [
        "#remainder\n",
        "arr2%4"
      ],
      "metadata": {
        "colab": {
          "base_uri": "https://localhost:8080/"
        },
        "id": "VG37cEYyIhd-",
        "outputId": "bafdd8f1-51a0-4bc5-fbc3-78a3b674f270"
      },
      "execution_count": null,
      "outputs": [
        {
          "output_type": "execute_result",
          "data": {
            "text/plain": [
              "array([[1, 2, 3, 0],\n",
              "       [1, 2, 3, 0],\n",
              "       [1, 2, 3, 0]])"
            ]
          },
          "metadata": {},
          "execution_count": 101
        }
      ]
    },
    {
      "cell_type": "markdown",
      "source": [
        "Broadcasting: alllows operations between two arrays with different dimensions, but their shapes must be compatiable"
      ],
      "metadata": {
        "id": "iUHvxWWGKSDq"
      }
    },
    {
      "cell_type": "code",
      "source": [
        "arr4 = np.array([4,5,6,7])"
      ],
      "metadata": {
        "id": "fS9P1CGvKuGK"
      },
      "execution_count": null,
      "outputs": []
    },
    {
      "cell_type": "code",
      "source": [
        "arr2.shape"
      ],
      "metadata": {
        "colab": {
          "base_uri": "https://localhost:8080/"
        },
        "id": "NdFXXmX-Ihgm",
        "outputId": "3a591e28-0efa-4e1a-97c2-98879f5a4fcf"
      },
      "execution_count": null,
      "outputs": [
        {
          "output_type": "execute_result",
          "data": {
            "text/plain": [
              "(3, 4)"
            ]
          },
          "metadata": {},
          "execution_count": 103
        }
      ]
    },
    {
      "cell_type": "code",
      "source": [
        "arr4.shape"
      ],
      "metadata": {
        "colab": {
          "base_uri": "https://localhost:8080/"
        },
        "id": "Pno3UVeaIhjl",
        "outputId": "c8ac475d-c463-47c7-e9f2-d5147c2cd82f"
      },
      "execution_count": null,
      "outputs": [
        {
          "output_type": "execute_result",
          "data": {
            "text/plain": [
              "(4,)"
            ]
          },
          "metadata": {},
          "execution_count": 104
        }
      ]
    },
    {
      "cell_type": "code",
      "source": [
        "arr2+arr4"
      ],
      "metadata": {
        "colab": {
          "base_uri": "https://localhost:8080/"
        },
        "id": "tnhb98vQIhmv",
        "outputId": "7c43ae65-8026-461b-dfc7-4672cfc312da"
      },
      "execution_count": null,
      "outputs": [
        {
          "output_type": "execute_result",
          "data": {
            "text/plain": [
              "array([[ 5,  7,  9, 11],\n",
              "       [ 9, 11, 13, 15],\n",
              "       [13, 15, 17, 19]])"
            ]
          },
          "metadata": {},
          "execution_count": 105
        }
      ]
    },
    {
      "cell_type": "code",
      "source": [
        "1500/(40)"
      ],
      "metadata": {
        "colab": {
          "base_uri": "https://localhost:8080/"
        },
        "id": "l3INuJ30Ihp2",
        "outputId": "10b9101b-d614-4339-8d86-cbbcf5a8c411"
      },
      "execution_count": null,
      "outputs": [
        {
          "output_type": "execute_result",
          "data": {
            "text/plain": [
              "37.5"
            ]
          },
          "metadata": {},
          "execution_count": 106
        }
      ]
    },
    {
      "cell_type": "code",
      "source": [
        "arr3 = np.array([[[11,12,13,14],\n",
        "                 [15,16,17,18]],\n",
        "\n",
        "                 [[19,20,21,22],\n",
        "                 [23,24,25,26]],\n",
        "\n",
        "                 [[27,28,29,10],\n",
        "                 [31,32,33,34]]])"
      ],
      "metadata": {
        "id": "D-fjxg1EAich"
      },
      "execution_count": null,
      "outputs": []
    },
    {
      "cell_type": "code",
      "source": [
        "arr3.shape"
      ],
      "metadata": {
        "colab": {
          "base_uri": "https://localhost:8080/"
        },
        "id": "0Yay345IAifC",
        "outputId": "b11d9280-bc0b-49a2-db0f-b37c374ff637"
      },
      "execution_count": null,
      "outputs": [
        {
          "output_type": "execute_result",
          "data": {
            "text/plain": [
              "(3, 2, 4)"
            ]
          },
          "metadata": {},
          "execution_count": 108
        }
      ]
    },
    {
      "cell_type": "code",
      "source": [
        "arr3[1]"
      ],
      "metadata": {
        "colab": {
          "base_uri": "https://localhost:8080/"
        },
        "id": "aJ0vNI8tAihh",
        "outputId": "24089ba3-1c5e-4bc2-fbf7-b36a70887556"
      },
      "execution_count": null,
      "outputs": [
        {
          "output_type": "execute_result",
          "data": {
            "text/plain": [
              "array([[19, 20, 21, 22],\n",
              "       [23, 24, 25, 26]])"
            ]
          },
          "metadata": {},
          "execution_count": 109
        }
      ]
    },
    {
      "cell_type": "code",
      "source": [
        "arr3[1,1]"
      ],
      "metadata": {
        "colab": {
          "base_uri": "https://localhost:8080/"
        },
        "id": "7SKeGKo5Pc1b",
        "outputId": "812894ab-1603-450a-f4c9-02543ef59f3b"
      },
      "execution_count": null,
      "outputs": [
        {
          "output_type": "execute_result",
          "data": {
            "text/plain": [
              "array([23, 24, 25, 26])"
            ]
          },
          "metadata": {},
          "execution_count": 110
        }
      ]
    },
    {
      "cell_type": "code",
      "source": [
        "arr3[1,1,2]"
      ],
      "metadata": {
        "colab": {
          "base_uri": "https://localhost:8080/"
        },
        "id": "kt-PreXNAikN",
        "outputId": "c58243d3-80ad-446d-ac8c-df374fccdb8d"
      },
      "execution_count": null,
      "outputs": [
        {
          "output_type": "execute_result",
          "data": {
            "text/plain": [
              "25"
            ]
          },
          "metadata": {},
          "execution_count": 111
        }
      ]
    },
    {
      "cell_type": "code",
      "source": [
        "#range of elements\n",
        "arr3[1:, 0:1, :2]"
      ],
      "metadata": {
        "colab": {
          "base_uri": "https://localhost:8080/"
        },
        "id": "zYrzXq98Aim-",
        "outputId": "78e54f2c-3862-4aae-b70b-1724f309aadf"
      },
      "execution_count": null,
      "outputs": [
        {
          "output_type": "execute_result",
          "data": {
            "text/plain": [
              "array([[[19, 20]],\n",
              "\n",
              "       [[27, 28]]])"
            ]
          },
          "metadata": {},
          "execution_count": 112
        }
      ]
    },
    {
      "cell_type": "code",
      "source": [
        "import numpy as np\n",
        "\n",
        "np.random.rand(4,3)"
      ],
      "metadata": {
        "colab": {
          "base_uri": "https://localhost:8080/"
        },
        "id": "WXXpKuXYAiuW",
        "outputId": "a112d748-446d-4985-caf4-e3db07d6216c"
      },
      "execution_count": null,
      "outputs": [
        {
          "output_type": "execute_result",
          "data": {
            "text/plain": [
              "array([[0.34256824, 0.75779537, 0.1574078 ],\n",
              "       [0.35371607, 0.87212503, 0.6443733 ],\n",
              "       [0.04445504, 0.50514596, 0.91452917],\n",
              "       [0.57955821, 0.73884096, 0.00097892]])"
            ]
          },
          "metadata": {},
          "execution_count": 113
        }
      ]
    },
    {
      "cell_type": "markdown",
      "source": [
        "Analysing Tabular Data with Pandas"
      ],
      "metadata": {
        "id": "0kTap3FbfWR5"
      }
    },
    {
      "cell_type": "code",
      "source": [
        "import math\n",
        "def quadratic_formula(a, b, c):\n",
        "  square = math.sqrt((b**2)-4*a*c)\n",
        "  x = (-b + square)/2*a\n",
        "  x_neg = (-b - square)/2*a\n",
        "  math.ceil(x)\n",
        "  round(x_neg, 8)\n",
        "  return x, x_neg"
      ],
      "metadata": {
        "id": "zTKXP5aKfV3C"
      },
      "execution_count": null,
      "outputs": []
    },
    {
      "cell_type": "code",
      "source": [
        "quadratic_formula(1,-5,-24)"
      ],
      "metadata": {
        "colab": {
          "base_uri": "https://localhost:8080/"
        },
        "id": "BJOCK5IeSWHJ",
        "outputId": "e0e35516-aea3-4290-b887-0e64679ba956"
      },
      "execution_count": null,
      "outputs": [
        {
          "output_type": "execute_result",
          "data": {
            "text/plain": [
              "(8.0, -3.0)"
            ]
          },
          "metadata": {},
          "execution_count": 115
        }
      ]
    },
    {
      "cell_type": "code",
      "source": [
        "x = 4.5555555555 + 4.77777\n",
        "round(x, 2)\n",
        "print(x)"
      ],
      "metadata": {
        "colab": {
          "base_uri": "https://localhost:8080/"
        },
        "id": "qtQC8K6nSWJ_",
        "outputId": "f414aedd-63b6-43a8-a424-b146c2416f03"
      },
      "execution_count": null,
      "outputs": [
        {
          "output_type": "stream",
          "name": "stdout",
          "text": [
            "9.3333255555\n"
          ]
        }
      ]
    },
    {
      "cell_type": "code",
      "source": [
        "from urllib.request import urlretrieve\n",
        "italy_covid_url = 'https://gist.githubusercontent.com/aakashns/f6a004fa20c84fec53262f9a8bfee775/raw/f309558b1cf5103424cef58e2ecb8704dcd4d74c/italy-covid-daywise.csv'\n",
        "\n",
        "urlretrieve(italy_covid_url, 'italy-covid-daywise.csv')"
      ],
      "metadata": {
        "colab": {
          "base_uri": "https://localhost:8080/"
        },
        "id": "QkIWciCRSWNO",
        "outputId": "3ac5cdd6-c13b-4c28-e151-26c81fc3ddad"
      },
      "execution_count": null,
      "outputs": [
        {
          "output_type": "execute_result",
          "data": {
            "text/plain": [
              "('italy-covid-daywise.csv', <http.client.HTTPMessage at 0x7f908c81dd50>)"
            ]
          },
          "metadata": {},
          "execution_count": 117
        }
      ]
    },
    {
      "cell_type": "code",
      "source": [
        "import pandas as pd\n",
        "\n",
        "covid_df = pd.read_csv('italy-covid-daywise.csv')"
      ],
      "metadata": {
        "id": "bDlSZ0JsSWSx"
      },
      "execution_count": null,
      "outputs": []
    },
    {
      "cell_type": "code",
      "source": [
        "covid_df"
      ],
      "metadata": {
        "colab": {
          "base_uri": "https://localhost:8080/",
          "height": 424
        },
        "id": "U2ai3NrbSWWJ",
        "outputId": "2351894d-332a-4db5-8e70-52ad1a2ec6a9"
      },
      "execution_count": null,
      "outputs": [
        {
          "output_type": "execute_result",
          "data": {
            "text/plain": [
              "           date  new_cases  new_deaths  new_tests\n",
              "0    2019-12-31        0.0         0.0        NaN\n",
              "1    2020-01-01        0.0         0.0        NaN\n",
              "2    2020-01-02        0.0         0.0        NaN\n",
              "3    2020-01-03        0.0         0.0        NaN\n",
              "4    2020-01-04        0.0         0.0        NaN\n",
              "..          ...        ...         ...        ...\n",
              "243  2020-08-30     1444.0         1.0    53541.0\n",
              "244  2020-08-31     1365.0         4.0    42583.0\n",
              "245  2020-09-01      996.0         6.0    54395.0\n",
              "246  2020-09-02      975.0         8.0        NaN\n",
              "247  2020-09-03     1326.0         6.0        NaN\n",
              "\n",
              "[248 rows x 4 columns]"
            ],
            "text/html": [
              "\n",
              "  <div id=\"df-5d0d4376-82b1-41ba-96c3-cecfe7c77ac0\">\n",
              "    <div class=\"colab-df-container\">\n",
              "      <div>\n",
              "<style scoped>\n",
              "    .dataframe tbody tr th:only-of-type {\n",
              "        vertical-align: middle;\n",
              "    }\n",
              "\n",
              "    .dataframe tbody tr th {\n",
              "        vertical-align: top;\n",
              "    }\n",
              "\n",
              "    .dataframe thead th {\n",
              "        text-align: right;\n",
              "    }\n",
              "</style>\n",
              "<table border=\"1\" class=\"dataframe\">\n",
              "  <thead>\n",
              "    <tr style=\"text-align: right;\">\n",
              "      <th></th>\n",
              "      <th>date</th>\n",
              "      <th>new_cases</th>\n",
              "      <th>new_deaths</th>\n",
              "      <th>new_tests</th>\n",
              "    </tr>\n",
              "  </thead>\n",
              "  <tbody>\n",
              "    <tr>\n",
              "      <th>0</th>\n",
              "      <td>2019-12-31</td>\n",
              "      <td>0.0</td>\n",
              "      <td>0.0</td>\n",
              "      <td>NaN</td>\n",
              "    </tr>\n",
              "    <tr>\n",
              "      <th>1</th>\n",
              "      <td>2020-01-01</td>\n",
              "      <td>0.0</td>\n",
              "      <td>0.0</td>\n",
              "      <td>NaN</td>\n",
              "    </tr>\n",
              "    <tr>\n",
              "      <th>2</th>\n",
              "      <td>2020-01-02</td>\n",
              "      <td>0.0</td>\n",
              "      <td>0.0</td>\n",
              "      <td>NaN</td>\n",
              "    </tr>\n",
              "    <tr>\n",
              "      <th>3</th>\n",
              "      <td>2020-01-03</td>\n",
              "      <td>0.0</td>\n",
              "      <td>0.0</td>\n",
              "      <td>NaN</td>\n",
              "    </tr>\n",
              "    <tr>\n",
              "      <th>4</th>\n",
              "      <td>2020-01-04</td>\n",
              "      <td>0.0</td>\n",
              "      <td>0.0</td>\n",
              "      <td>NaN</td>\n",
              "    </tr>\n",
              "    <tr>\n",
              "      <th>...</th>\n",
              "      <td>...</td>\n",
              "      <td>...</td>\n",
              "      <td>...</td>\n",
              "      <td>...</td>\n",
              "    </tr>\n",
              "    <tr>\n",
              "      <th>243</th>\n",
              "      <td>2020-08-30</td>\n",
              "      <td>1444.0</td>\n",
              "      <td>1.0</td>\n",
              "      <td>53541.0</td>\n",
              "    </tr>\n",
              "    <tr>\n",
              "      <th>244</th>\n",
              "      <td>2020-08-31</td>\n",
              "      <td>1365.0</td>\n",
              "      <td>4.0</td>\n",
              "      <td>42583.0</td>\n",
              "    </tr>\n",
              "    <tr>\n",
              "      <th>245</th>\n",
              "      <td>2020-09-01</td>\n",
              "      <td>996.0</td>\n",
              "      <td>6.0</td>\n",
              "      <td>54395.0</td>\n",
              "    </tr>\n",
              "    <tr>\n",
              "      <th>246</th>\n",
              "      <td>2020-09-02</td>\n",
              "      <td>975.0</td>\n",
              "      <td>8.0</td>\n",
              "      <td>NaN</td>\n",
              "    </tr>\n",
              "    <tr>\n",
              "      <th>247</th>\n",
              "      <td>2020-09-03</td>\n",
              "      <td>1326.0</td>\n",
              "      <td>6.0</td>\n",
              "      <td>NaN</td>\n",
              "    </tr>\n",
              "  </tbody>\n",
              "</table>\n",
              "<p>248 rows × 4 columns</p>\n",
              "</div>\n",
              "      <button class=\"colab-df-convert\" onclick=\"convertToInteractive('df-5d0d4376-82b1-41ba-96c3-cecfe7c77ac0')\"\n",
              "              title=\"Convert this dataframe to an interactive table.\"\n",
              "              style=\"display:none;\">\n",
              "        \n",
              "  <svg xmlns=\"http://www.w3.org/2000/svg\" height=\"24px\"viewBox=\"0 0 24 24\"\n",
              "       width=\"24px\">\n",
              "    <path d=\"M0 0h24v24H0V0z\" fill=\"none\"/>\n",
              "    <path d=\"M18.56 5.44l.94 2.06.94-2.06 2.06-.94-2.06-.94-.94-2.06-.94 2.06-2.06.94zm-11 1L8.5 8.5l.94-2.06 2.06-.94-2.06-.94L8.5 2.5l-.94 2.06-2.06.94zm10 10l.94 2.06.94-2.06 2.06-.94-2.06-.94-.94-2.06-.94 2.06-2.06.94z\"/><path d=\"M17.41 7.96l-1.37-1.37c-.4-.4-.92-.59-1.43-.59-.52 0-1.04.2-1.43.59L10.3 9.45l-7.72 7.72c-.78.78-.78 2.05 0 2.83L4 21.41c.39.39.9.59 1.41.59.51 0 1.02-.2 1.41-.59l7.78-7.78 2.81-2.81c.8-.78.8-2.07 0-2.86zM5.41 20L4 18.59l7.72-7.72 1.47 1.35L5.41 20z\"/>\n",
              "  </svg>\n",
              "      </button>\n",
              "      \n",
              "  <style>\n",
              "    .colab-df-container {\n",
              "      display:flex;\n",
              "      flex-wrap:wrap;\n",
              "      gap: 12px;\n",
              "    }\n",
              "\n",
              "    .colab-df-convert {\n",
              "      background-color: #E8F0FE;\n",
              "      border: none;\n",
              "      border-radius: 50%;\n",
              "      cursor: pointer;\n",
              "      display: none;\n",
              "      fill: #1967D2;\n",
              "      height: 32px;\n",
              "      padding: 0 0 0 0;\n",
              "      width: 32px;\n",
              "    }\n",
              "\n",
              "    .colab-df-convert:hover {\n",
              "      background-color: #E2EBFA;\n",
              "      box-shadow: 0px 1px 2px rgba(60, 64, 67, 0.3), 0px 1px 3px 1px rgba(60, 64, 67, 0.15);\n",
              "      fill: #174EA6;\n",
              "    }\n",
              "\n",
              "    [theme=dark] .colab-df-convert {\n",
              "      background-color: #3B4455;\n",
              "      fill: #D2E3FC;\n",
              "    }\n",
              "\n",
              "    [theme=dark] .colab-df-convert:hover {\n",
              "      background-color: #434B5C;\n",
              "      box-shadow: 0px 1px 3px 1px rgba(0, 0, 0, 0.15);\n",
              "      filter: drop-shadow(0px 1px 2px rgba(0, 0, 0, 0.3));\n",
              "      fill: #FFFFFF;\n",
              "    }\n",
              "  </style>\n",
              "\n",
              "      <script>\n",
              "        const buttonEl =\n",
              "          document.querySelector('#df-5d0d4376-82b1-41ba-96c3-cecfe7c77ac0 button.colab-df-convert');\n",
              "        buttonEl.style.display =\n",
              "          google.colab.kernel.accessAllowed ? 'block' : 'none';\n",
              "\n",
              "        async function convertToInteractive(key) {\n",
              "          const element = document.querySelector('#df-5d0d4376-82b1-41ba-96c3-cecfe7c77ac0');\n",
              "          const dataTable =\n",
              "            await google.colab.kernel.invokeFunction('convertToInteractive',\n",
              "                                                     [key], {});\n",
              "          if (!dataTable) return;\n",
              "\n",
              "          const docLinkHtml = 'Like what you see? Visit the ' +\n",
              "            '<a target=\"_blank\" href=https://colab.research.google.com/notebooks/data_table.ipynb>data table notebook</a>'\n",
              "            + ' to learn more about interactive tables.';\n",
              "          element.innerHTML = '';\n",
              "          dataTable['output_type'] = 'display_data';\n",
              "          await google.colab.output.renderOutput(dataTable, element);\n",
              "          const docLink = document.createElement('div');\n",
              "          docLink.innerHTML = docLinkHtml;\n",
              "          element.appendChild(docLink);\n",
              "        }\n",
              "      </script>\n",
              "    </div>\n",
              "  </div>\n",
              "  "
            ]
          },
          "metadata": {},
          "execution_count": 119
        }
      ]
    },
    {
      "cell_type": "code",
      "source": [
        "covid_df.info()"
      ],
      "metadata": {
        "colab": {
          "base_uri": "https://localhost:8080/"
        },
        "id": "LYOytb3-SWZG",
        "outputId": "8a45c625-a581-4db8-bd0e-a9e713584a20"
      },
      "execution_count": null,
      "outputs": [
        {
          "output_type": "stream",
          "name": "stdout",
          "text": [
            "<class 'pandas.core.frame.DataFrame'>\n",
            "RangeIndex: 248 entries, 0 to 247\n",
            "Data columns (total 4 columns):\n",
            " #   Column      Non-Null Count  Dtype  \n",
            "---  ------      --------------  -----  \n",
            " 0   date        248 non-null    object \n",
            " 1   new_cases   248 non-null    float64\n",
            " 2   new_deaths  248 non-null    float64\n",
            " 3   new_tests   135 non-null    float64\n",
            "dtypes: float64(3), object(1)\n",
            "memory usage: 7.9+ KB\n"
          ]
        }
      ]
    },
    {
      "cell_type": "code",
      "source": [
        "covid_df.describe()"
      ],
      "metadata": {
        "colab": {
          "base_uri": "https://localhost:8080/",
          "height": 300
        },
        "id": "jaRcNiXoSWcc",
        "outputId": "1a8c0a9d-eb14-4a9d-e77d-bd178cbb2dbb"
      },
      "execution_count": null,
      "outputs": [
        {
          "output_type": "execute_result",
          "data": {
            "text/plain": [
              "         new_cases  new_deaths     new_tests\n",
              "count   248.000000  248.000000    135.000000\n",
              "mean   1094.818548  143.133065  31699.674074\n",
              "std    1554.508002  227.105538  11622.209757\n",
              "min    -148.000000  -31.000000   7841.000000\n",
              "25%     123.000000    3.000000  25259.000000\n",
              "50%     342.000000   17.000000  29545.000000\n",
              "75%    1371.750000  175.250000  37711.000000\n",
              "max    6557.000000  971.000000  95273.000000"
            ],
            "text/html": [
              "\n",
              "  <div id=\"df-cb380a4c-b1a5-411c-8ea3-6285c5c7647e\">\n",
              "    <div class=\"colab-df-container\">\n",
              "      <div>\n",
              "<style scoped>\n",
              "    .dataframe tbody tr th:only-of-type {\n",
              "        vertical-align: middle;\n",
              "    }\n",
              "\n",
              "    .dataframe tbody tr th {\n",
              "        vertical-align: top;\n",
              "    }\n",
              "\n",
              "    .dataframe thead th {\n",
              "        text-align: right;\n",
              "    }\n",
              "</style>\n",
              "<table border=\"1\" class=\"dataframe\">\n",
              "  <thead>\n",
              "    <tr style=\"text-align: right;\">\n",
              "      <th></th>\n",
              "      <th>new_cases</th>\n",
              "      <th>new_deaths</th>\n",
              "      <th>new_tests</th>\n",
              "    </tr>\n",
              "  </thead>\n",
              "  <tbody>\n",
              "    <tr>\n",
              "      <th>count</th>\n",
              "      <td>248.000000</td>\n",
              "      <td>248.000000</td>\n",
              "      <td>135.000000</td>\n",
              "    </tr>\n",
              "    <tr>\n",
              "      <th>mean</th>\n",
              "      <td>1094.818548</td>\n",
              "      <td>143.133065</td>\n",
              "      <td>31699.674074</td>\n",
              "    </tr>\n",
              "    <tr>\n",
              "      <th>std</th>\n",
              "      <td>1554.508002</td>\n",
              "      <td>227.105538</td>\n",
              "      <td>11622.209757</td>\n",
              "    </tr>\n",
              "    <tr>\n",
              "      <th>min</th>\n",
              "      <td>-148.000000</td>\n",
              "      <td>-31.000000</td>\n",
              "      <td>7841.000000</td>\n",
              "    </tr>\n",
              "    <tr>\n",
              "      <th>25%</th>\n",
              "      <td>123.000000</td>\n",
              "      <td>3.000000</td>\n",
              "      <td>25259.000000</td>\n",
              "    </tr>\n",
              "    <tr>\n",
              "      <th>50%</th>\n",
              "      <td>342.000000</td>\n",
              "      <td>17.000000</td>\n",
              "      <td>29545.000000</td>\n",
              "    </tr>\n",
              "    <tr>\n",
              "      <th>75%</th>\n",
              "      <td>1371.750000</td>\n",
              "      <td>175.250000</td>\n",
              "      <td>37711.000000</td>\n",
              "    </tr>\n",
              "    <tr>\n",
              "      <th>max</th>\n",
              "      <td>6557.000000</td>\n",
              "      <td>971.000000</td>\n",
              "      <td>95273.000000</td>\n",
              "    </tr>\n",
              "  </tbody>\n",
              "</table>\n",
              "</div>\n",
              "      <button class=\"colab-df-convert\" onclick=\"convertToInteractive('df-cb380a4c-b1a5-411c-8ea3-6285c5c7647e')\"\n",
              "              title=\"Convert this dataframe to an interactive table.\"\n",
              "              style=\"display:none;\">\n",
              "        \n",
              "  <svg xmlns=\"http://www.w3.org/2000/svg\" height=\"24px\"viewBox=\"0 0 24 24\"\n",
              "       width=\"24px\">\n",
              "    <path d=\"M0 0h24v24H0V0z\" fill=\"none\"/>\n",
              "    <path d=\"M18.56 5.44l.94 2.06.94-2.06 2.06-.94-2.06-.94-.94-2.06-.94 2.06-2.06.94zm-11 1L8.5 8.5l.94-2.06 2.06-.94-2.06-.94L8.5 2.5l-.94 2.06-2.06.94zm10 10l.94 2.06.94-2.06 2.06-.94-2.06-.94-.94-2.06-.94 2.06-2.06.94z\"/><path d=\"M17.41 7.96l-1.37-1.37c-.4-.4-.92-.59-1.43-.59-.52 0-1.04.2-1.43.59L10.3 9.45l-7.72 7.72c-.78.78-.78 2.05 0 2.83L4 21.41c.39.39.9.59 1.41.59.51 0 1.02-.2 1.41-.59l7.78-7.78 2.81-2.81c.8-.78.8-2.07 0-2.86zM5.41 20L4 18.59l7.72-7.72 1.47 1.35L5.41 20z\"/>\n",
              "  </svg>\n",
              "      </button>\n",
              "      \n",
              "  <style>\n",
              "    .colab-df-container {\n",
              "      display:flex;\n",
              "      flex-wrap:wrap;\n",
              "      gap: 12px;\n",
              "    }\n",
              "\n",
              "    .colab-df-convert {\n",
              "      background-color: #E8F0FE;\n",
              "      border: none;\n",
              "      border-radius: 50%;\n",
              "      cursor: pointer;\n",
              "      display: none;\n",
              "      fill: #1967D2;\n",
              "      height: 32px;\n",
              "      padding: 0 0 0 0;\n",
              "      width: 32px;\n",
              "    }\n",
              "\n",
              "    .colab-df-convert:hover {\n",
              "      background-color: #E2EBFA;\n",
              "      box-shadow: 0px 1px 2px rgba(60, 64, 67, 0.3), 0px 1px 3px 1px rgba(60, 64, 67, 0.15);\n",
              "      fill: #174EA6;\n",
              "    }\n",
              "\n",
              "    [theme=dark] .colab-df-convert {\n",
              "      background-color: #3B4455;\n",
              "      fill: #D2E3FC;\n",
              "    }\n",
              "\n",
              "    [theme=dark] .colab-df-convert:hover {\n",
              "      background-color: #434B5C;\n",
              "      box-shadow: 0px 1px 3px 1px rgba(0, 0, 0, 0.15);\n",
              "      filter: drop-shadow(0px 1px 2px rgba(0, 0, 0, 0.3));\n",
              "      fill: #FFFFFF;\n",
              "    }\n",
              "  </style>\n",
              "\n",
              "      <script>\n",
              "        const buttonEl =\n",
              "          document.querySelector('#df-cb380a4c-b1a5-411c-8ea3-6285c5c7647e button.colab-df-convert');\n",
              "        buttonEl.style.display =\n",
              "          google.colab.kernel.accessAllowed ? 'block' : 'none';\n",
              "\n",
              "        async function convertToInteractive(key) {\n",
              "          const element = document.querySelector('#df-cb380a4c-b1a5-411c-8ea3-6285c5c7647e');\n",
              "          const dataTable =\n",
              "            await google.colab.kernel.invokeFunction('convertToInteractive',\n",
              "                                                     [key], {});\n",
              "          if (!dataTable) return;\n",
              "\n",
              "          const docLinkHtml = 'Like what you see? Visit the ' +\n",
              "            '<a target=\"_blank\" href=https://colab.research.google.com/notebooks/data_table.ipynb>data table notebook</a>'\n",
              "            + ' to learn more about interactive tables.';\n",
              "          element.innerHTML = '';\n",
              "          dataTable['output_type'] = 'display_data';\n",
              "          await google.colab.output.renderOutput(dataTable, element);\n",
              "          const docLink = document.createElement('div');\n",
              "          docLink.innerHTML = docLinkHtml;\n",
              "          element.appendChild(docLink);\n",
              "        }\n",
              "      </script>\n",
              "    </div>\n",
              "  </div>\n",
              "  "
            ]
          },
          "metadata": {},
          "execution_count": 121
        }
      ]
    },
    {
      "cell_type": "code",
      "source": [
        "covid_df.columns"
      ],
      "metadata": {
        "colab": {
          "base_uri": "https://localhost:8080/"
        },
        "id": "kPunCxKxSWfX",
        "outputId": "e2cb9f1f-50f2-4d93-cb07-834d8711052d"
      },
      "execution_count": null,
      "outputs": [
        {
          "output_type": "execute_result",
          "data": {
            "text/plain": [
              "Index(['date', 'new_cases', 'new_deaths', 'new_tests'], dtype='object')"
            ]
          },
          "metadata": {},
          "execution_count": 122
        }
      ]
    },
    {
      "cell_type": "code",
      "source": [
        "covid_df.shape"
      ],
      "metadata": {
        "colab": {
          "base_uri": "https://localhost:8080/"
        },
        "id": "n9S6NgUySWi9",
        "outputId": "17baa4cc-ebc2-4362-d1da-2b24892c5267"
      },
      "execution_count": null,
      "outputs": [
        {
          "output_type": "execute_result",
          "data": {
            "text/plain": [
              "(248, 4)"
            ]
          },
          "metadata": {},
          "execution_count": 123
        }
      ]
    },
    {
      "cell_type": "code",
      "source": [
        "covid_data_dict = {\n",
        "    'date': ['2020-08-30', '2020-08-31', '2020-09-01', '2020-09-02', '2020-09-03' ],\n",
        "    'new_cases': [1444, 1365, 996, 975, 1326],\n",
        "    'new_deaths': [1,4,6,8,6],\n",
        "    'new_tests': [53541, 42583, 54395, None, None]\n",
        "}"
      ],
      "metadata": {
        "id": "T7eSrWXISWln"
      },
      "execution_count": null,
      "outputs": []
    },
    {
      "cell_type": "code",
      "source": [
        "covid_data_dict['new_cases']"
      ],
      "metadata": {
        "colab": {
          "base_uri": "https://localhost:8080/"
        },
        "id": "z5pOPvpxSWoo",
        "outputId": "4eb140a4-989b-4d31-c4f5-a8b6b1fcfef2"
      },
      "execution_count": null,
      "outputs": [
        {
          "output_type": "execute_result",
          "data": {
            "text/plain": [
              "[1444, 1365, 996, 975, 1326]"
            ]
          },
          "metadata": {},
          "execution_count": 125
        }
      ]
    },
    {
      "cell_type": "code",
      "source": [
        "covid_df['new_cases']"
      ],
      "metadata": {
        "colab": {
          "base_uri": "https://localhost:8080/"
        },
        "id": "yT8F9cv-SWrv",
        "outputId": "ecd09746-7944-433e-89cf-05bff24335d4"
      },
      "execution_count": null,
      "outputs": [
        {
          "output_type": "execute_result",
          "data": {
            "text/plain": [
              "0         0.0\n",
              "1         0.0\n",
              "2         0.0\n",
              "3         0.0\n",
              "4         0.0\n",
              "        ...  \n",
              "243    1444.0\n",
              "244    1365.0\n",
              "245     996.0\n",
              "246     975.0\n",
              "247    1326.0\n",
              "Name: new_cases, Length: 248, dtype: float64"
            ]
          },
          "metadata": {},
          "execution_count": 126
        }
      ]
    },
    {
      "cell_type": "code",
      "source": [
        "type(covid_df['new_cases'])"
      ],
      "metadata": {
        "colab": {
          "base_uri": "https://localhost:8080/"
        },
        "id": "LbIwJEuKSWvN",
        "outputId": "9cdb0358-eed7-48c5-db80-3443fa585ac4"
      },
      "execution_count": null,
      "outputs": [
        {
          "output_type": "execute_result",
          "data": {
            "text/plain": [
              "pandas.core.series.Series"
            ]
          },
          "metadata": {},
          "execution_count": 127
        }
      ]
    },
    {
      "cell_type": "code",
      "source": [
        "covid_df['new_cases'][246]"
      ],
      "metadata": {
        "colab": {
          "base_uri": "https://localhost:8080/"
        },
        "id": "G12w0dJiSWyo",
        "outputId": "cda0a812-95ff-4a40-b9be-b1cb2f055512"
      },
      "execution_count": null,
      "outputs": [
        {
          "output_type": "execute_result",
          "data": {
            "text/plain": [
              "975.0"
            ]
          },
          "metadata": {},
          "execution_count": 128
        }
      ]
    },
    {
      "cell_type": "code",
      "source": [
        "covid_df.new_cases"
      ],
      "metadata": {
        "colab": {
          "base_uri": "https://localhost:8080/"
        },
        "id": "l-NWVEp3V1nM",
        "outputId": "f842a9f9-9527-45bd-ce83-b0ccdfb74c49"
      },
      "execution_count": null,
      "outputs": [
        {
          "output_type": "execute_result",
          "data": {
            "text/plain": [
              "0         0.0\n",
              "1         0.0\n",
              "2         0.0\n",
              "3         0.0\n",
              "4         0.0\n",
              "        ...  \n",
              "243    1444.0\n",
              "244    1365.0\n",
              "245     996.0\n",
              "246     975.0\n",
              "247    1326.0\n",
              "Name: new_cases, Length: 248, dtype: float64"
            ]
          },
          "metadata": {},
          "execution_count": 129
        }
      ]
    },
    {
      "cell_type": "code",
      "source": [
        "cases_df = covid_df[['date', 'new_cases']]\n",
        "cases_df"
      ],
      "metadata": {
        "colab": {
          "base_uri": "https://localhost:8080/",
          "height": 424
        },
        "id": "Tbtzkxi7V1qf",
        "outputId": "28b8fe9c-96ca-4d72-d3c6-d8ebfc317ae7"
      },
      "execution_count": null,
      "outputs": [
        {
          "output_type": "execute_result",
          "data": {
            "text/plain": [
              "           date  new_cases\n",
              "0    2019-12-31        0.0\n",
              "1    2020-01-01        0.0\n",
              "2    2020-01-02        0.0\n",
              "3    2020-01-03        0.0\n",
              "4    2020-01-04        0.0\n",
              "..          ...        ...\n",
              "243  2020-08-30     1444.0\n",
              "244  2020-08-31     1365.0\n",
              "245  2020-09-01      996.0\n",
              "246  2020-09-02      975.0\n",
              "247  2020-09-03     1326.0\n",
              "\n",
              "[248 rows x 2 columns]"
            ],
            "text/html": [
              "\n",
              "  <div id=\"df-e3f2d5d7-478f-42f3-9ee7-ca54bef57d23\">\n",
              "    <div class=\"colab-df-container\">\n",
              "      <div>\n",
              "<style scoped>\n",
              "    .dataframe tbody tr th:only-of-type {\n",
              "        vertical-align: middle;\n",
              "    }\n",
              "\n",
              "    .dataframe tbody tr th {\n",
              "        vertical-align: top;\n",
              "    }\n",
              "\n",
              "    .dataframe thead th {\n",
              "        text-align: right;\n",
              "    }\n",
              "</style>\n",
              "<table border=\"1\" class=\"dataframe\">\n",
              "  <thead>\n",
              "    <tr style=\"text-align: right;\">\n",
              "      <th></th>\n",
              "      <th>date</th>\n",
              "      <th>new_cases</th>\n",
              "    </tr>\n",
              "  </thead>\n",
              "  <tbody>\n",
              "    <tr>\n",
              "      <th>0</th>\n",
              "      <td>2019-12-31</td>\n",
              "      <td>0.0</td>\n",
              "    </tr>\n",
              "    <tr>\n",
              "      <th>1</th>\n",
              "      <td>2020-01-01</td>\n",
              "      <td>0.0</td>\n",
              "    </tr>\n",
              "    <tr>\n",
              "      <th>2</th>\n",
              "      <td>2020-01-02</td>\n",
              "      <td>0.0</td>\n",
              "    </tr>\n",
              "    <tr>\n",
              "      <th>3</th>\n",
              "      <td>2020-01-03</td>\n",
              "      <td>0.0</td>\n",
              "    </tr>\n",
              "    <tr>\n",
              "      <th>4</th>\n",
              "      <td>2020-01-04</td>\n",
              "      <td>0.0</td>\n",
              "    </tr>\n",
              "    <tr>\n",
              "      <th>...</th>\n",
              "      <td>...</td>\n",
              "      <td>...</td>\n",
              "    </tr>\n",
              "    <tr>\n",
              "      <th>243</th>\n",
              "      <td>2020-08-30</td>\n",
              "      <td>1444.0</td>\n",
              "    </tr>\n",
              "    <tr>\n",
              "      <th>244</th>\n",
              "      <td>2020-08-31</td>\n",
              "      <td>1365.0</td>\n",
              "    </tr>\n",
              "    <tr>\n",
              "      <th>245</th>\n",
              "      <td>2020-09-01</td>\n",
              "      <td>996.0</td>\n",
              "    </tr>\n",
              "    <tr>\n",
              "      <th>246</th>\n",
              "      <td>2020-09-02</td>\n",
              "      <td>975.0</td>\n",
              "    </tr>\n",
              "    <tr>\n",
              "      <th>247</th>\n",
              "      <td>2020-09-03</td>\n",
              "      <td>1326.0</td>\n",
              "    </tr>\n",
              "  </tbody>\n",
              "</table>\n",
              "<p>248 rows × 2 columns</p>\n",
              "</div>\n",
              "      <button class=\"colab-df-convert\" onclick=\"convertToInteractive('df-e3f2d5d7-478f-42f3-9ee7-ca54bef57d23')\"\n",
              "              title=\"Convert this dataframe to an interactive table.\"\n",
              "              style=\"display:none;\">\n",
              "        \n",
              "  <svg xmlns=\"http://www.w3.org/2000/svg\" height=\"24px\"viewBox=\"0 0 24 24\"\n",
              "       width=\"24px\">\n",
              "    <path d=\"M0 0h24v24H0V0z\" fill=\"none\"/>\n",
              "    <path d=\"M18.56 5.44l.94 2.06.94-2.06 2.06-.94-2.06-.94-.94-2.06-.94 2.06-2.06.94zm-11 1L8.5 8.5l.94-2.06 2.06-.94-2.06-.94L8.5 2.5l-.94 2.06-2.06.94zm10 10l.94 2.06.94-2.06 2.06-.94-2.06-.94-.94-2.06-.94 2.06-2.06.94z\"/><path d=\"M17.41 7.96l-1.37-1.37c-.4-.4-.92-.59-1.43-.59-.52 0-1.04.2-1.43.59L10.3 9.45l-7.72 7.72c-.78.78-.78 2.05 0 2.83L4 21.41c.39.39.9.59 1.41.59.51 0 1.02-.2 1.41-.59l7.78-7.78 2.81-2.81c.8-.78.8-2.07 0-2.86zM5.41 20L4 18.59l7.72-7.72 1.47 1.35L5.41 20z\"/>\n",
              "  </svg>\n",
              "      </button>\n",
              "      \n",
              "  <style>\n",
              "    .colab-df-container {\n",
              "      display:flex;\n",
              "      flex-wrap:wrap;\n",
              "      gap: 12px;\n",
              "    }\n",
              "\n",
              "    .colab-df-convert {\n",
              "      background-color: #E8F0FE;\n",
              "      border: none;\n",
              "      border-radius: 50%;\n",
              "      cursor: pointer;\n",
              "      display: none;\n",
              "      fill: #1967D2;\n",
              "      height: 32px;\n",
              "      padding: 0 0 0 0;\n",
              "      width: 32px;\n",
              "    }\n",
              "\n",
              "    .colab-df-convert:hover {\n",
              "      background-color: #E2EBFA;\n",
              "      box-shadow: 0px 1px 2px rgba(60, 64, 67, 0.3), 0px 1px 3px 1px rgba(60, 64, 67, 0.15);\n",
              "      fill: #174EA6;\n",
              "    }\n",
              "\n",
              "    [theme=dark] .colab-df-convert {\n",
              "      background-color: #3B4455;\n",
              "      fill: #D2E3FC;\n",
              "    }\n",
              "\n",
              "    [theme=dark] .colab-df-convert:hover {\n",
              "      background-color: #434B5C;\n",
              "      box-shadow: 0px 1px 3px 1px rgba(0, 0, 0, 0.15);\n",
              "      filter: drop-shadow(0px 1px 2px rgba(0, 0, 0, 0.3));\n",
              "      fill: #FFFFFF;\n",
              "    }\n",
              "  </style>\n",
              "\n",
              "      <script>\n",
              "        const buttonEl =\n",
              "          document.querySelector('#df-e3f2d5d7-478f-42f3-9ee7-ca54bef57d23 button.colab-df-convert');\n",
              "        buttonEl.style.display =\n",
              "          google.colab.kernel.accessAllowed ? 'block' : 'none';\n",
              "\n",
              "        async function convertToInteractive(key) {\n",
              "          const element = document.querySelector('#df-e3f2d5d7-478f-42f3-9ee7-ca54bef57d23');\n",
              "          const dataTable =\n",
              "            await google.colab.kernel.invokeFunction('convertToInteractive',\n",
              "                                                     [key], {});\n",
              "          if (!dataTable) return;\n",
              "\n",
              "          const docLinkHtml = 'Like what you see? Visit the ' +\n",
              "            '<a target=\"_blank\" href=https://colab.research.google.com/notebooks/data_table.ipynb>data table notebook</a>'\n",
              "            + ' to learn more about interactive tables.';\n",
              "          element.innerHTML = '';\n",
              "          dataTable['output_type'] = 'display_data';\n",
              "          await google.colab.output.renderOutput(dataTable, element);\n",
              "          const docLink = document.createElement('div');\n",
              "          docLink.innerHTML = docLinkHtml;\n",
              "          element.appendChild(docLink);\n",
              "        }\n",
              "      </script>\n",
              "    </div>\n",
              "  </div>\n",
              "  "
            ]
          },
          "metadata": {},
          "execution_count": 130
        }
      ]
    },
    {
      "cell_type": "code",
      "source": [
        "covid_df.loc[243]"
      ],
      "metadata": {
        "colab": {
          "base_uri": "https://localhost:8080/"
        },
        "id": "ITbpmNNOV1uI",
        "outputId": "355e34fd-1ab0-4a8d-a3e1-0e3836ff4809"
      },
      "execution_count": null,
      "outputs": [
        {
          "output_type": "execute_result",
          "data": {
            "text/plain": [
              "date          2020-08-30\n",
              "new_cases         1444.0\n",
              "new_deaths           1.0\n",
              "new_tests        53541.0\n",
              "Name: 243, dtype: object"
            ]
          },
          "metadata": {},
          "execution_count": 131
        }
      ]
    },
    {
      "cell_type": "code",
      "source": [
        "covid_df.head(5)"
      ],
      "metadata": {
        "colab": {
          "base_uri": "https://localhost:8080/",
          "height": 206
        },
        "id": "Uz7SlzUyV1xy",
        "outputId": "8fc95913-2c2d-4026-ec3e-66b99e03264a"
      },
      "execution_count": null,
      "outputs": [
        {
          "output_type": "execute_result",
          "data": {
            "text/plain": [
              "         date  new_cases  new_deaths  new_tests\n",
              "0  2019-12-31        0.0         0.0        NaN\n",
              "1  2020-01-01        0.0         0.0        NaN\n",
              "2  2020-01-02        0.0         0.0        NaN\n",
              "3  2020-01-03        0.0         0.0        NaN\n",
              "4  2020-01-04        0.0         0.0        NaN"
            ],
            "text/html": [
              "\n",
              "  <div id=\"df-e9d93bef-b1ec-4773-94d5-21eac8a9d498\">\n",
              "    <div class=\"colab-df-container\">\n",
              "      <div>\n",
              "<style scoped>\n",
              "    .dataframe tbody tr th:only-of-type {\n",
              "        vertical-align: middle;\n",
              "    }\n",
              "\n",
              "    .dataframe tbody tr th {\n",
              "        vertical-align: top;\n",
              "    }\n",
              "\n",
              "    .dataframe thead th {\n",
              "        text-align: right;\n",
              "    }\n",
              "</style>\n",
              "<table border=\"1\" class=\"dataframe\">\n",
              "  <thead>\n",
              "    <tr style=\"text-align: right;\">\n",
              "      <th></th>\n",
              "      <th>date</th>\n",
              "      <th>new_cases</th>\n",
              "      <th>new_deaths</th>\n",
              "      <th>new_tests</th>\n",
              "    </tr>\n",
              "  </thead>\n",
              "  <tbody>\n",
              "    <tr>\n",
              "      <th>0</th>\n",
              "      <td>2019-12-31</td>\n",
              "      <td>0.0</td>\n",
              "      <td>0.0</td>\n",
              "      <td>NaN</td>\n",
              "    </tr>\n",
              "    <tr>\n",
              "      <th>1</th>\n",
              "      <td>2020-01-01</td>\n",
              "      <td>0.0</td>\n",
              "      <td>0.0</td>\n",
              "      <td>NaN</td>\n",
              "    </tr>\n",
              "    <tr>\n",
              "      <th>2</th>\n",
              "      <td>2020-01-02</td>\n",
              "      <td>0.0</td>\n",
              "      <td>0.0</td>\n",
              "      <td>NaN</td>\n",
              "    </tr>\n",
              "    <tr>\n",
              "      <th>3</th>\n",
              "      <td>2020-01-03</td>\n",
              "      <td>0.0</td>\n",
              "      <td>0.0</td>\n",
              "      <td>NaN</td>\n",
              "    </tr>\n",
              "    <tr>\n",
              "      <th>4</th>\n",
              "      <td>2020-01-04</td>\n",
              "      <td>0.0</td>\n",
              "      <td>0.0</td>\n",
              "      <td>NaN</td>\n",
              "    </tr>\n",
              "  </tbody>\n",
              "</table>\n",
              "</div>\n",
              "      <button class=\"colab-df-convert\" onclick=\"convertToInteractive('df-e9d93bef-b1ec-4773-94d5-21eac8a9d498')\"\n",
              "              title=\"Convert this dataframe to an interactive table.\"\n",
              "              style=\"display:none;\">\n",
              "        \n",
              "  <svg xmlns=\"http://www.w3.org/2000/svg\" height=\"24px\"viewBox=\"0 0 24 24\"\n",
              "       width=\"24px\">\n",
              "    <path d=\"M0 0h24v24H0V0z\" fill=\"none\"/>\n",
              "    <path d=\"M18.56 5.44l.94 2.06.94-2.06 2.06-.94-2.06-.94-.94-2.06-.94 2.06-2.06.94zm-11 1L8.5 8.5l.94-2.06 2.06-.94-2.06-.94L8.5 2.5l-.94 2.06-2.06.94zm10 10l.94 2.06.94-2.06 2.06-.94-2.06-.94-.94-2.06-.94 2.06-2.06.94z\"/><path d=\"M17.41 7.96l-1.37-1.37c-.4-.4-.92-.59-1.43-.59-.52 0-1.04.2-1.43.59L10.3 9.45l-7.72 7.72c-.78.78-.78 2.05 0 2.83L4 21.41c.39.39.9.59 1.41.59.51 0 1.02-.2 1.41-.59l7.78-7.78 2.81-2.81c.8-.78.8-2.07 0-2.86zM5.41 20L4 18.59l7.72-7.72 1.47 1.35L5.41 20z\"/>\n",
              "  </svg>\n",
              "      </button>\n",
              "      \n",
              "  <style>\n",
              "    .colab-df-container {\n",
              "      display:flex;\n",
              "      flex-wrap:wrap;\n",
              "      gap: 12px;\n",
              "    }\n",
              "\n",
              "    .colab-df-convert {\n",
              "      background-color: #E8F0FE;\n",
              "      border: none;\n",
              "      border-radius: 50%;\n",
              "      cursor: pointer;\n",
              "      display: none;\n",
              "      fill: #1967D2;\n",
              "      height: 32px;\n",
              "      padding: 0 0 0 0;\n",
              "      width: 32px;\n",
              "    }\n",
              "\n",
              "    .colab-df-convert:hover {\n",
              "      background-color: #E2EBFA;\n",
              "      box-shadow: 0px 1px 2px rgba(60, 64, 67, 0.3), 0px 1px 3px 1px rgba(60, 64, 67, 0.15);\n",
              "      fill: #174EA6;\n",
              "    }\n",
              "\n",
              "    [theme=dark] .colab-df-convert {\n",
              "      background-color: #3B4455;\n",
              "      fill: #D2E3FC;\n",
              "    }\n",
              "\n",
              "    [theme=dark] .colab-df-convert:hover {\n",
              "      background-color: #434B5C;\n",
              "      box-shadow: 0px 1px 3px 1px rgba(0, 0, 0, 0.15);\n",
              "      filter: drop-shadow(0px 1px 2px rgba(0, 0, 0, 0.3));\n",
              "      fill: #FFFFFF;\n",
              "    }\n",
              "  </style>\n",
              "\n",
              "      <script>\n",
              "        const buttonEl =\n",
              "          document.querySelector('#df-e9d93bef-b1ec-4773-94d5-21eac8a9d498 button.colab-df-convert');\n",
              "        buttonEl.style.display =\n",
              "          google.colab.kernel.accessAllowed ? 'block' : 'none';\n",
              "\n",
              "        async function convertToInteractive(key) {\n",
              "          const element = document.querySelector('#df-e9d93bef-b1ec-4773-94d5-21eac8a9d498');\n",
              "          const dataTable =\n",
              "            await google.colab.kernel.invokeFunction('convertToInteractive',\n",
              "                                                     [key], {});\n",
              "          if (!dataTable) return;\n",
              "\n",
              "          const docLinkHtml = 'Like what you see? Visit the ' +\n",
              "            '<a target=\"_blank\" href=https://colab.research.google.com/notebooks/data_table.ipynb>data table notebook</a>'\n",
              "            + ' to learn more about interactive tables.';\n",
              "          element.innerHTML = '';\n",
              "          dataTable['output_type'] = 'display_data';\n",
              "          await google.colab.output.renderOutput(dataTable, element);\n",
              "          const docLink = document.createElement('div');\n",
              "          docLink.innerHTML = docLinkHtml;\n",
              "          element.appendChild(docLink);\n",
              "        }\n",
              "      </script>\n",
              "    </div>\n",
              "  </div>\n",
              "  "
            ]
          },
          "metadata": {},
          "execution_count": 132
        }
      ]
    },
    {
      "cell_type": "code",
      "source": [
        "covid_df.tail(4)"
      ],
      "metadata": {
        "colab": {
          "base_uri": "https://localhost:8080/",
          "height": 175
        },
        "id": "A8Upf2FrV10m",
        "outputId": "9578ede8-fd37-4fbc-ebfe-e63aef79425c"
      },
      "execution_count": null,
      "outputs": [
        {
          "output_type": "execute_result",
          "data": {
            "text/plain": [
              "           date  new_cases  new_deaths  new_tests\n",
              "244  2020-08-31     1365.0         4.0    42583.0\n",
              "245  2020-09-01      996.0         6.0    54395.0\n",
              "246  2020-09-02      975.0         8.0        NaN\n",
              "247  2020-09-03     1326.0         6.0        NaN"
            ],
            "text/html": [
              "\n",
              "  <div id=\"df-1821ddbe-211f-404b-b922-682a9c58e766\">\n",
              "    <div class=\"colab-df-container\">\n",
              "      <div>\n",
              "<style scoped>\n",
              "    .dataframe tbody tr th:only-of-type {\n",
              "        vertical-align: middle;\n",
              "    }\n",
              "\n",
              "    .dataframe tbody tr th {\n",
              "        vertical-align: top;\n",
              "    }\n",
              "\n",
              "    .dataframe thead th {\n",
              "        text-align: right;\n",
              "    }\n",
              "</style>\n",
              "<table border=\"1\" class=\"dataframe\">\n",
              "  <thead>\n",
              "    <tr style=\"text-align: right;\">\n",
              "      <th></th>\n",
              "      <th>date</th>\n",
              "      <th>new_cases</th>\n",
              "      <th>new_deaths</th>\n",
              "      <th>new_tests</th>\n",
              "    </tr>\n",
              "  </thead>\n",
              "  <tbody>\n",
              "    <tr>\n",
              "      <th>244</th>\n",
              "      <td>2020-08-31</td>\n",
              "      <td>1365.0</td>\n",
              "      <td>4.0</td>\n",
              "      <td>42583.0</td>\n",
              "    </tr>\n",
              "    <tr>\n",
              "      <th>245</th>\n",
              "      <td>2020-09-01</td>\n",
              "      <td>996.0</td>\n",
              "      <td>6.0</td>\n",
              "      <td>54395.0</td>\n",
              "    </tr>\n",
              "    <tr>\n",
              "      <th>246</th>\n",
              "      <td>2020-09-02</td>\n",
              "      <td>975.0</td>\n",
              "      <td>8.0</td>\n",
              "      <td>NaN</td>\n",
              "    </tr>\n",
              "    <tr>\n",
              "      <th>247</th>\n",
              "      <td>2020-09-03</td>\n",
              "      <td>1326.0</td>\n",
              "      <td>6.0</td>\n",
              "      <td>NaN</td>\n",
              "    </tr>\n",
              "  </tbody>\n",
              "</table>\n",
              "</div>\n",
              "      <button class=\"colab-df-convert\" onclick=\"convertToInteractive('df-1821ddbe-211f-404b-b922-682a9c58e766')\"\n",
              "              title=\"Convert this dataframe to an interactive table.\"\n",
              "              style=\"display:none;\">\n",
              "        \n",
              "  <svg xmlns=\"http://www.w3.org/2000/svg\" height=\"24px\"viewBox=\"0 0 24 24\"\n",
              "       width=\"24px\">\n",
              "    <path d=\"M0 0h24v24H0V0z\" fill=\"none\"/>\n",
              "    <path d=\"M18.56 5.44l.94 2.06.94-2.06 2.06-.94-2.06-.94-.94-2.06-.94 2.06-2.06.94zm-11 1L8.5 8.5l.94-2.06 2.06-.94-2.06-.94L8.5 2.5l-.94 2.06-2.06.94zm10 10l.94 2.06.94-2.06 2.06-.94-2.06-.94-.94-2.06-.94 2.06-2.06.94z\"/><path d=\"M17.41 7.96l-1.37-1.37c-.4-.4-.92-.59-1.43-.59-.52 0-1.04.2-1.43.59L10.3 9.45l-7.72 7.72c-.78.78-.78 2.05 0 2.83L4 21.41c.39.39.9.59 1.41.59.51 0 1.02-.2 1.41-.59l7.78-7.78 2.81-2.81c.8-.78.8-2.07 0-2.86zM5.41 20L4 18.59l7.72-7.72 1.47 1.35L5.41 20z\"/>\n",
              "  </svg>\n",
              "      </button>\n",
              "      \n",
              "  <style>\n",
              "    .colab-df-container {\n",
              "      display:flex;\n",
              "      flex-wrap:wrap;\n",
              "      gap: 12px;\n",
              "    }\n",
              "\n",
              "    .colab-df-convert {\n",
              "      background-color: #E8F0FE;\n",
              "      border: none;\n",
              "      border-radius: 50%;\n",
              "      cursor: pointer;\n",
              "      display: none;\n",
              "      fill: #1967D2;\n",
              "      height: 32px;\n",
              "      padding: 0 0 0 0;\n",
              "      width: 32px;\n",
              "    }\n",
              "\n",
              "    .colab-df-convert:hover {\n",
              "      background-color: #E2EBFA;\n",
              "      box-shadow: 0px 1px 2px rgba(60, 64, 67, 0.3), 0px 1px 3px 1px rgba(60, 64, 67, 0.15);\n",
              "      fill: #174EA6;\n",
              "    }\n",
              "\n",
              "    [theme=dark] .colab-df-convert {\n",
              "      background-color: #3B4455;\n",
              "      fill: #D2E3FC;\n",
              "    }\n",
              "\n",
              "    [theme=dark] .colab-df-convert:hover {\n",
              "      background-color: #434B5C;\n",
              "      box-shadow: 0px 1px 3px 1px rgba(0, 0, 0, 0.15);\n",
              "      filter: drop-shadow(0px 1px 2px rgba(0, 0, 0, 0.3));\n",
              "      fill: #FFFFFF;\n",
              "    }\n",
              "  </style>\n",
              "\n",
              "      <script>\n",
              "        const buttonEl =\n",
              "          document.querySelector('#df-1821ddbe-211f-404b-b922-682a9c58e766 button.colab-df-convert');\n",
              "        buttonEl.style.display =\n",
              "          google.colab.kernel.accessAllowed ? 'block' : 'none';\n",
              "\n",
              "        async function convertToInteractive(key) {\n",
              "          const element = document.querySelector('#df-1821ddbe-211f-404b-b922-682a9c58e766');\n",
              "          const dataTable =\n",
              "            await google.colab.kernel.invokeFunction('convertToInteractive',\n",
              "                                                     [key], {});\n",
              "          if (!dataTable) return;\n",
              "\n",
              "          const docLinkHtml = 'Like what you see? Visit the ' +\n",
              "            '<a target=\"_blank\" href=https://colab.research.google.com/notebooks/data_table.ipynb>data table notebook</a>'\n",
              "            + ' to learn more about interactive tables.';\n",
              "          element.innerHTML = '';\n",
              "          dataTable['output_type'] = 'display_data';\n",
              "          await google.colab.output.renderOutput(dataTable, element);\n",
              "          const docLink = document.createElement('div');\n",
              "          docLink.innerHTML = docLinkHtml;\n",
              "          element.appendChild(docLink);\n",
              "        }\n",
              "      </script>\n",
              "    </div>\n",
              "  </div>\n",
              "  "
            ]
          },
          "metadata": {},
          "execution_count": 133
        }
      ]
    },
    {
      "cell_type": "code",
      "source": [
        "covid_df.new_tests.first_valid_index()"
      ],
      "metadata": {
        "colab": {
          "base_uri": "https://localhost:8080/"
        },
        "id": "YSUP_SfGV13a",
        "outputId": "56d77d7b-5062-488c-da7f-63d078bc02b9"
      },
      "execution_count": null,
      "outputs": [
        {
          "output_type": "execute_result",
          "data": {
            "text/plain": [
              "111"
            ]
          },
          "metadata": {},
          "execution_count": 134
        }
      ]
    },
    {
      "cell_type": "code",
      "source": [
        "covid_df.loc[108:113]"
      ],
      "metadata": {
        "colab": {
          "base_uri": "https://localhost:8080/",
          "height": 238
        },
        "id": "rZTCZxXzV1-g",
        "outputId": "2d001616-5003-4e52-cbc2-33490c681618"
      },
      "execution_count": null,
      "outputs": [
        {
          "output_type": "execute_result",
          "data": {
            "text/plain": [
              "           date  new_cases  new_deaths  new_tests\n",
              "108  2020-04-17     3786.0       525.0        NaN\n",
              "109  2020-04-18     3493.0       575.0        NaN\n",
              "110  2020-04-19     3491.0       480.0        NaN\n",
              "111  2020-04-20     3047.0       433.0     7841.0\n",
              "112  2020-04-21     2256.0       454.0    28095.0\n",
              "113  2020-04-22     2729.0       534.0    44248.0"
            ],
            "text/html": [
              "\n",
              "  <div id=\"df-a5701e93-30b5-4a39-b3ee-04051fee8e54\">\n",
              "    <div class=\"colab-df-container\">\n",
              "      <div>\n",
              "<style scoped>\n",
              "    .dataframe tbody tr th:only-of-type {\n",
              "        vertical-align: middle;\n",
              "    }\n",
              "\n",
              "    .dataframe tbody tr th {\n",
              "        vertical-align: top;\n",
              "    }\n",
              "\n",
              "    .dataframe thead th {\n",
              "        text-align: right;\n",
              "    }\n",
              "</style>\n",
              "<table border=\"1\" class=\"dataframe\">\n",
              "  <thead>\n",
              "    <tr style=\"text-align: right;\">\n",
              "      <th></th>\n",
              "      <th>date</th>\n",
              "      <th>new_cases</th>\n",
              "      <th>new_deaths</th>\n",
              "      <th>new_tests</th>\n",
              "    </tr>\n",
              "  </thead>\n",
              "  <tbody>\n",
              "    <tr>\n",
              "      <th>108</th>\n",
              "      <td>2020-04-17</td>\n",
              "      <td>3786.0</td>\n",
              "      <td>525.0</td>\n",
              "      <td>NaN</td>\n",
              "    </tr>\n",
              "    <tr>\n",
              "      <th>109</th>\n",
              "      <td>2020-04-18</td>\n",
              "      <td>3493.0</td>\n",
              "      <td>575.0</td>\n",
              "      <td>NaN</td>\n",
              "    </tr>\n",
              "    <tr>\n",
              "      <th>110</th>\n",
              "      <td>2020-04-19</td>\n",
              "      <td>3491.0</td>\n",
              "      <td>480.0</td>\n",
              "      <td>NaN</td>\n",
              "    </tr>\n",
              "    <tr>\n",
              "      <th>111</th>\n",
              "      <td>2020-04-20</td>\n",
              "      <td>3047.0</td>\n",
              "      <td>433.0</td>\n",
              "      <td>7841.0</td>\n",
              "    </tr>\n",
              "    <tr>\n",
              "      <th>112</th>\n",
              "      <td>2020-04-21</td>\n",
              "      <td>2256.0</td>\n",
              "      <td>454.0</td>\n",
              "      <td>28095.0</td>\n",
              "    </tr>\n",
              "    <tr>\n",
              "      <th>113</th>\n",
              "      <td>2020-04-22</td>\n",
              "      <td>2729.0</td>\n",
              "      <td>534.0</td>\n",
              "      <td>44248.0</td>\n",
              "    </tr>\n",
              "  </tbody>\n",
              "</table>\n",
              "</div>\n",
              "      <button class=\"colab-df-convert\" onclick=\"convertToInteractive('df-a5701e93-30b5-4a39-b3ee-04051fee8e54')\"\n",
              "              title=\"Convert this dataframe to an interactive table.\"\n",
              "              style=\"display:none;\">\n",
              "        \n",
              "  <svg xmlns=\"http://www.w3.org/2000/svg\" height=\"24px\"viewBox=\"0 0 24 24\"\n",
              "       width=\"24px\">\n",
              "    <path d=\"M0 0h24v24H0V0z\" fill=\"none\"/>\n",
              "    <path d=\"M18.56 5.44l.94 2.06.94-2.06 2.06-.94-2.06-.94-.94-2.06-.94 2.06-2.06.94zm-11 1L8.5 8.5l.94-2.06 2.06-.94-2.06-.94L8.5 2.5l-.94 2.06-2.06.94zm10 10l.94 2.06.94-2.06 2.06-.94-2.06-.94-.94-2.06-.94 2.06-2.06.94z\"/><path d=\"M17.41 7.96l-1.37-1.37c-.4-.4-.92-.59-1.43-.59-.52 0-1.04.2-1.43.59L10.3 9.45l-7.72 7.72c-.78.78-.78 2.05 0 2.83L4 21.41c.39.39.9.59 1.41.59.51 0 1.02-.2 1.41-.59l7.78-7.78 2.81-2.81c.8-.78.8-2.07 0-2.86zM5.41 20L4 18.59l7.72-7.72 1.47 1.35L5.41 20z\"/>\n",
              "  </svg>\n",
              "      </button>\n",
              "      \n",
              "  <style>\n",
              "    .colab-df-container {\n",
              "      display:flex;\n",
              "      flex-wrap:wrap;\n",
              "      gap: 12px;\n",
              "    }\n",
              "\n",
              "    .colab-df-convert {\n",
              "      background-color: #E8F0FE;\n",
              "      border: none;\n",
              "      border-radius: 50%;\n",
              "      cursor: pointer;\n",
              "      display: none;\n",
              "      fill: #1967D2;\n",
              "      height: 32px;\n",
              "      padding: 0 0 0 0;\n",
              "      width: 32px;\n",
              "    }\n",
              "\n",
              "    .colab-df-convert:hover {\n",
              "      background-color: #E2EBFA;\n",
              "      box-shadow: 0px 1px 2px rgba(60, 64, 67, 0.3), 0px 1px 3px 1px rgba(60, 64, 67, 0.15);\n",
              "      fill: #174EA6;\n",
              "    }\n",
              "\n",
              "    [theme=dark] .colab-df-convert {\n",
              "      background-color: #3B4455;\n",
              "      fill: #D2E3FC;\n",
              "    }\n",
              "\n",
              "    [theme=dark] .colab-df-convert:hover {\n",
              "      background-color: #434B5C;\n",
              "      box-shadow: 0px 1px 3px 1px rgba(0, 0, 0, 0.15);\n",
              "      filter: drop-shadow(0px 1px 2px rgba(0, 0, 0, 0.3));\n",
              "      fill: #FFFFFF;\n",
              "    }\n",
              "  </style>\n",
              "\n",
              "      <script>\n",
              "        const buttonEl =\n",
              "          document.querySelector('#df-a5701e93-30b5-4a39-b3ee-04051fee8e54 button.colab-df-convert');\n",
              "        buttonEl.style.display =\n",
              "          google.colab.kernel.accessAllowed ? 'block' : 'none';\n",
              "\n",
              "        async function convertToInteractive(key) {\n",
              "          const element = document.querySelector('#df-a5701e93-30b5-4a39-b3ee-04051fee8e54');\n",
              "          const dataTable =\n",
              "            await google.colab.kernel.invokeFunction('convertToInteractive',\n",
              "                                                     [key], {});\n",
              "          if (!dataTable) return;\n",
              "\n",
              "          const docLinkHtml = 'Like what you see? Visit the ' +\n",
              "            '<a target=\"_blank\" href=https://colab.research.google.com/notebooks/data_table.ipynb>data table notebook</a>'\n",
              "            + ' to learn more about interactive tables.';\n",
              "          element.innerHTML = '';\n",
              "          dataTable['output_type'] = 'display_data';\n",
              "          await google.colab.output.renderOutput(dataTable, element);\n",
              "          const docLink = document.createElement('div');\n",
              "          docLink.innerHTML = docLinkHtml;\n",
              "          element.appendChild(docLink);\n",
              "        }\n",
              "      </script>\n",
              "    </div>\n",
              "  </div>\n",
              "  "
            ]
          },
          "metadata": {},
          "execution_count": 135
        }
      ]
    },
    {
      "cell_type": "code",
      "source": [
        "covid_df.sample(10)"
      ],
      "metadata": {
        "colab": {
          "base_uri": "https://localhost:8080/",
          "height": 363
        },
        "id": "iCkhgaWDV2Cv",
        "outputId": "75e747e8-6352-4f81-a5aa-d88b7526d0a4"
      },
      "execution_count": null,
      "outputs": [
        {
          "output_type": "execute_result",
          "data": {
            "text/plain": [
              "           date  new_cases  new_deaths  new_tests\n",
              "42   2020-02-11        0.0         0.0        NaN\n",
              "233  2020-08-20      642.0         7.0    49662.0\n",
              "226  2020-08-13      476.0        10.0    25629.0\n",
              "75   2020-03-15     3497.0       173.0        NaN\n",
              "238  2020-08-25      953.0         4.0    45798.0\n",
              "32   2020-02-01        0.0         0.0        NaN\n",
              "173  2020-06-21      264.0        49.0    24581.0\n",
              "224  2020-08-11      259.0         4.0    22063.0\n",
              "71   2020-03-11      977.0       167.0        NaN\n",
              "241  2020-08-28     1409.0         5.0    65135.0"
            ],
            "text/html": [
              "\n",
              "  <div id=\"df-3d6e075d-e16f-40cf-8e85-f46b562d0cbd\">\n",
              "    <div class=\"colab-df-container\">\n",
              "      <div>\n",
              "<style scoped>\n",
              "    .dataframe tbody tr th:only-of-type {\n",
              "        vertical-align: middle;\n",
              "    }\n",
              "\n",
              "    .dataframe tbody tr th {\n",
              "        vertical-align: top;\n",
              "    }\n",
              "\n",
              "    .dataframe thead th {\n",
              "        text-align: right;\n",
              "    }\n",
              "</style>\n",
              "<table border=\"1\" class=\"dataframe\">\n",
              "  <thead>\n",
              "    <tr style=\"text-align: right;\">\n",
              "      <th></th>\n",
              "      <th>date</th>\n",
              "      <th>new_cases</th>\n",
              "      <th>new_deaths</th>\n",
              "      <th>new_tests</th>\n",
              "    </tr>\n",
              "  </thead>\n",
              "  <tbody>\n",
              "    <tr>\n",
              "      <th>42</th>\n",
              "      <td>2020-02-11</td>\n",
              "      <td>0.0</td>\n",
              "      <td>0.0</td>\n",
              "      <td>NaN</td>\n",
              "    </tr>\n",
              "    <tr>\n",
              "      <th>233</th>\n",
              "      <td>2020-08-20</td>\n",
              "      <td>642.0</td>\n",
              "      <td>7.0</td>\n",
              "      <td>49662.0</td>\n",
              "    </tr>\n",
              "    <tr>\n",
              "      <th>226</th>\n",
              "      <td>2020-08-13</td>\n",
              "      <td>476.0</td>\n",
              "      <td>10.0</td>\n",
              "      <td>25629.0</td>\n",
              "    </tr>\n",
              "    <tr>\n",
              "      <th>75</th>\n",
              "      <td>2020-03-15</td>\n",
              "      <td>3497.0</td>\n",
              "      <td>173.0</td>\n",
              "      <td>NaN</td>\n",
              "    </tr>\n",
              "    <tr>\n",
              "      <th>238</th>\n",
              "      <td>2020-08-25</td>\n",
              "      <td>953.0</td>\n",
              "      <td>4.0</td>\n",
              "      <td>45798.0</td>\n",
              "    </tr>\n",
              "    <tr>\n",
              "      <th>32</th>\n",
              "      <td>2020-02-01</td>\n",
              "      <td>0.0</td>\n",
              "      <td>0.0</td>\n",
              "      <td>NaN</td>\n",
              "    </tr>\n",
              "    <tr>\n",
              "      <th>173</th>\n",
              "      <td>2020-06-21</td>\n",
              "      <td>264.0</td>\n",
              "      <td>49.0</td>\n",
              "      <td>24581.0</td>\n",
              "    </tr>\n",
              "    <tr>\n",
              "      <th>224</th>\n",
              "      <td>2020-08-11</td>\n",
              "      <td>259.0</td>\n",
              "      <td>4.0</td>\n",
              "      <td>22063.0</td>\n",
              "    </tr>\n",
              "    <tr>\n",
              "      <th>71</th>\n",
              "      <td>2020-03-11</td>\n",
              "      <td>977.0</td>\n",
              "      <td>167.0</td>\n",
              "      <td>NaN</td>\n",
              "    </tr>\n",
              "    <tr>\n",
              "      <th>241</th>\n",
              "      <td>2020-08-28</td>\n",
              "      <td>1409.0</td>\n",
              "      <td>5.0</td>\n",
              "      <td>65135.0</td>\n",
              "    </tr>\n",
              "  </tbody>\n",
              "</table>\n",
              "</div>\n",
              "      <button class=\"colab-df-convert\" onclick=\"convertToInteractive('df-3d6e075d-e16f-40cf-8e85-f46b562d0cbd')\"\n",
              "              title=\"Convert this dataframe to an interactive table.\"\n",
              "              style=\"display:none;\">\n",
              "        \n",
              "  <svg xmlns=\"http://www.w3.org/2000/svg\" height=\"24px\"viewBox=\"0 0 24 24\"\n",
              "       width=\"24px\">\n",
              "    <path d=\"M0 0h24v24H0V0z\" fill=\"none\"/>\n",
              "    <path d=\"M18.56 5.44l.94 2.06.94-2.06 2.06-.94-2.06-.94-.94-2.06-.94 2.06-2.06.94zm-11 1L8.5 8.5l.94-2.06 2.06-.94-2.06-.94L8.5 2.5l-.94 2.06-2.06.94zm10 10l.94 2.06.94-2.06 2.06-.94-2.06-.94-.94-2.06-.94 2.06-2.06.94z\"/><path d=\"M17.41 7.96l-1.37-1.37c-.4-.4-.92-.59-1.43-.59-.52 0-1.04.2-1.43.59L10.3 9.45l-7.72 7.72c-.78.78-.78 2.05 0 2.83L4 21.41c.39.39.9.59 1.41.59.51 0 1.02-.2 1.41-.59l7.78-7.78 2.81-2.81c.8-.78.8-2.07 0-2.86zM5.41 20L4 18.59l7.72-7.72 1.47 1.35L5.41 20z\"/>\n",
              "  </svg>\n",
              "      </button>\n",
              "      \n",
              "  <style>\n",
              "    .colab-df-container {\n",
              "      display:flex;\n",
              "      flex-wrap:wrap;\n",
              "      gap: 12px;\n",
              "    }\n",
              "\n",
              "    .colab-df-convert {\n",
              "      background-color: #E8F0FE;\n",
              "      border: none;\n",
              "      border-radius: 50%;\n",
              "      cursor: pointer;\n",
              "      display: none;\n",
              "      fill: #1967D2;\n",
              "      height: 32px;\n",
              "      padding: 0 0 0 0;\n",
              "      width: 32px;\n",
              "    }\n",
              "\n",
              "    .colab-df-convert:hover {\n",
              "      background-color: #E2EBFA;\n",
              "      box-shadow: 0px 1px 2px rgba(60, 64, 67, 0.3), 0px 1px 3px 1px rgba(60, 64, 67, 0.15);\n",
              "      fill: #174EA6;\n",
              "    }\n",
              "\n",
              "    [theme=dark] .colab-df-convert {\n",
              "      background-color: #3B4455;\n",
              "      fill: #D2E3FC;\n",
              "    }\n",
              "\n",
              "    [theme=dark] .colab-df-convert:hover {\n",
              "      background-color: #434B5C;\n",
              "      box-shadow: 0px 1px 3px 1px rgba(0, 0, 0, 0.15);\n",
              "      filter: drop-shadow(0px 1px 2px rgba(0, 0, 0, 0.3));\n",
              "      fill: #FFFFFF;\n",
              "    }\n",
              "  </style>\n",
              "\n",
              "      <script>\n",
              "        const buttonEl =\n",
              "          document.querySelector('#df-3d6e075d-e16f-40cf-8e85-f46b562d0cbd button.colab-df-convert');\n",
              "        buttonEl.style.display =\n",
              "          google.colab.kernel.accessAllowed ? 'block' : 'none';\n",
              "\n",
              "        async function convertToInteractive(key) {\n",
              "          const element = document.querySelector('#df-3d6e075d-e16f-40cf-8e85-f46b562d0cbd');\n",
              "          const dataTable =\n",
              "            await google.colab.kernel.invokeFunction('convertToInteractive',\n",
              "                                                     [key], {});\n",
              "          if (!dataTable) return;\n",
              "\n",
              "          const docLinkHtml = 'Like what you see? Visit the ' +\n",
              "            '<a target=\"_blank\" href=https://colab.research.google.com/notebooks/data_table.ipynb>data table notebook</a>'\n",
              "            + ' to learn more about interactive tables.';\n",
              "          element.innerHTML = '';\n",
              "          dataTable['output_type'] = 'display_data';\n",
              "          await google.colab.output.renderOutput(dataTable, element);\n",
              "          const docLink = document.createElement('div');\n",
              "          docLink.innerHTML = docLinkHtml;\n",
              "          element.appendChild(docLink);\n",
              "        }\n",
              "      </script>\n",
              "    </div>\n",
              "  </div>\n",
              "  "
            ]
          },
          "metadata": {},
          "execution_count": 136
        }
      ]
    },
    {
      "cell_type": "code",
      "source": [
        "total_cases = covid_df.new_cases.sum()\n",
        "total_deaths = covid_df.new_deaths.sum()"
      ],
      "metadata": {
        "id": "nascKh0IV2GD"
      },
      "execution_count": null,
      "outputs": []
    },
    {
      "cell_type": "code",
      "source": [
        "print('The number of reaprotes cases is {} and the number of reported deaths is {}'.format(total_cases, total_deaths))"
      ],
      "metadata": {
        "colab": {
          "base_uri": "https://localhost:8080/"
        },
        "id": "1v-7kFeoV2JN",
        "outputId": "11b03368-0864-458b-dfbb-8cd0d8641a64"
      },
      "execution_count": null,
      "outputs": [
        {
          "output_type": "stream",
          "name": "stdout",
          "text": [
            "The number of reaprotes cases is 271515.0 and the number of reported deaths is 35497.0\n"
          ]
        }
      ]
    },
    {
      "cell_type": "code",
      "source": [
        "death_rate = covid_df.new_deaths.sum() / covid_df.new_cases.sum()"
      ],
      "metadata": {
        "id": "0RRPVM4OV2MF"
      },
      "execution_count": null,
      "outputs": []
    },
    {
      "cell_type": "code",
      "source": [
        "print(\"Overall reported deaths rate is {:.2f} %.\".format(death_rate*100))"
      ],
      "metadata": {
        "colab": {
          "base_uri": "https://localhost:8080/"
        },
        "id": "BukXeXYcV2Pv",
        "outputId": "dc0e1a58-719a-454f-aebf-c5282058de6d"
      },
      "execution_count": null,
      "outputs": [
        {
          "output_type": "stream",
          "name": "stdout",
          "text": [
            "Overall reported deaths rate is 13.07 %.\n"
          ]
        }
      ]
    },
    {
      "cell_type": "code",
      "source": [
        "initial_tests = 935310\n",
        "total_tests = initial_tests + covid_df.new_tests.sum()"
      ],
      "metadata": {
        "id": "3Dz6S7ZIV2V5"
      },
      "execution_count": null,
      "outputs": []
    },
    {
      "cell_type": "code",
      "source": [
        "total_tests"
      ],
      "metadata": {
        "colab": {
          "base_uri": "https://localhost:8080/"
        },
        "id": "kokB3aoa4als",
        "outputId": "3b4c9f39-f46c-40db-e316-94073504401f"
      },
      "execution_count": null,
      "outputs": [
        {
          "output_type": "execute_result",
          "data": {
            "text/plain": [
              "5214766.0"
            ]
          },
          "metadata": {},
          "execution_count": 142
        }
      ]
    },
    {
      "cell_type": "code",
      "source": [
        "positive_rate = total_cases / total_tests\n",
        "print('{:.2f}% of tests in Italy were positive.'.format(positive_rate*100))"
      ],
      "metadata": {
        "colab": {
          "base_uri": "https://localhost:8080/"
        },
        "id": "PuUQ6ify4aoe",
        "outputId": "562d4f0d-296e-44c4-a286-141396475817"
      },
      "execution_count": null,
      "outputs": [
        {
          "output_type": "stream",
          "name": "stdout",
          "text": [
            "5.21% of tests in Italy were positive.\n"
          ]
        }
      ]
    },
    {
      "cell_type": "markdown",
      "source": [
        "Querying and Sorting Rows"
      ],
      "metadata": {
        "id": "JcUOnGf7kbh3"
      }
    },
    {
      "cell_type": "code",
      "source": [
        "high_new_cases = covid_df.new_cases > 1000\n",
        "high_new_cases"
      ],
      "metadata": {
        "colab": {
          "base_uri": "https://localhost:8080/"
        },
        "id": "mZyFqgPSngQT",
        "outputId": "967defa7-44b4-461c-89c4-ae56d9896365"
      },
      "execution_count": null,
      "outputs": [
        {
          "output_type": "execute_result",
          "data": {
            "text/plain": [
              "0      False\n",
              "1      False\n",
              "2      False\n",
              "3      False\n",
              "4      False\n",
              "       ...  \n",
              "243     True\n",
              "244     True\n",
              "245    False\n",
              "246    False\n",
              "247     True\n",
              "Name: new_cases, Length: 248, dtype: bool"
            ]
          },
          "metadata": {},
          "execution_count": 144
        }
      ]
    },
    {
      "cell_type": "code",
      "source": [
        "# new table only shows rows greater than 1000\n",
        "covid_df[high_new_cases]"
      ],
      "metadata": {
        "colab": {
          "base_uri": "https://localhost:8080/",
          "height": 424
        },
        "id": "44BNDLEzkaFg",
        "outputId": "998ed5f5-8a91-421c-8610-e53066d88ff8"
      },
      "execution_count": null,
      "outputs": [
        {
          "output_type": "execute_result",
          "data": {
            "text/plain": [
              "           date  new_cases  new_deaths  new_tests\n",
              "68   2020-03-08     1247.0        36.0        NaN\n",
              "69   2020-03-09     1492.0       133.0        NaN\n",
              "70   2020-03-10     1797.0        98.0        NaN\n",
              "72   2020-03-12     2313.0       196.0        NaN\n",
              "73   2020-03-13     2651.0       189.0        NaN\n",
              "..          ...        ...         ...        ...\n",
              "241  2020-08-28     1409.0         5.0    65135.0\n",
              "242  2020-08-29     1460.0         9.0    64294.0\n",
              "243  2020-08-30     1444.0         1.0    53541.0\n",
              "244  2020-08-31     1365.0         4.0    42583.0\n",
              "247  2020-09-03     1326.0         6.0        NaN\n",
              "\n",
              "[72 rows x 4 columns]"
            ],
            "text/html": [
              "\n",
              "  <div id=\"df-c7bf1be0-f299-40cf-93de-a587cb94dc85\">\n",
              "    <div class=\"colab-df-container\">\n",
              "      <div>\n",
              "<style scoped>\n",
              "    .dataframe tbody tr th:only-of-type {\n",
              "        vertical-align: middle;\n",
              "    }\n",
              "\n",
              "    .dataframe tbody tr th {\n",
              "        vertical-align: top;\n",
              "    }\n",
              "\n",
              "    .dataframe thead th {\n",
              "        text-align: right;\n",
              "    }\n",
              "</style>\n",
              "<table border=\"1\" class=\"dataframe\">\n",
              "  <thead>\n",
              "    <tr style=\"text-align: right;\">\n",
              "      <th></th>\n",
              "      <th>date</th>\n",
              "      <th>new_cases</th>\n",
              "      <th>new_deaths</th>\n",
              "      <th>new_tests</th>\n",
              "    </tr>\n",
              "  </thead>\n",
              "  <tbody>\n",
              "    <tr>\n",
              "      <th>68</th>\n",
              "      <td>2020-03-08</td>\n",
              "      <td>1247.0</td>\n",
              "      <td>36.0</td>\n",
              "      <td>NaN</td>\n",
              "    </tr>\n",
              "    <tr>\n",
              "      <th>69</th>\n",
              "      <td>2020-03-09</td>\n",
              "      <td>1492.0</td>\n",
              "      <td>133.0</td>\n",
              "      <td>NaN</td>\n",
              "    </tr>\n",
              "    <tr>\n",
              "      <th>70</th>\n",
              "      <td>2020-03-10</td>\n",
              "      <td>1797.0</td>\n",
              "      <td>98.0</td>\n",
              "      <td>NaN</td>\n",
              "    </tr>\n",
              "    <tr>\n",
              "      <th>72</th>\n",
              "      <td>2020-03-12</td>\n",
              "      <td>2313.0</td>\n",
              "      <td>196.0</td>\n",
              "      <td>NaN</td>\n",
              "    </tr>\n",
              "    <tr>\n",
              "      <th>73</th>\n",
              "      <td>2020-03-13</td>\n",
              "      <td>2651.0</td>\n",
              "      <td>189.0</td>\n",
              "      <td>NaN</td>\n",
              "    </tr>\n",
              "    <tr>\n",
              "      <th>...</th>\n",
              "      <td>...</td>\n",
              "      <td>...</td>\n",
              "      <td>...</td>\n",
              "      <td>...</td>\n",
              "    </tr>\n",
              "    <tr>\n",
              "      <th>241</th>\n",
              "      <td>2020-08-28</td>\n",
              "      <td>1409.0</td>\n",
              "      <td>5.0</td>\n",
              "      <td>65135.0</td>\n",
              "    </tr>\n",
              "    <tr>\n",
              "      <th>242</th>\n",
              "      <td>2020-08-29</td>\n",
              "      <td>1460.0</td>\n",
              "      <td>9.0</td>\n",
              "      <td>64294.0</td>\n",
              "    </tr>\n",
              "    <tr>\n",
              "      <th>243</th>\n",
              "      <td>2020-08-30</td>\n",
              "      <td>1444.0</td>\n",
              "      <td>1.0</td>\n",
              "      <td>53541.0</td>\n",
              "    </tr>\n",
              "    <tr>\n",
              "      <th>244</th>\n",
              "      <td>2020-08-31</td>\n",
              "      <td>1365.0</td>\n",
              "      <td>4.0</td>\n",
              "      <td>42583.0</td>\n",
              "    </tr>\n",
              "    <tr>\n",
              "      <th>247</th>\n",
              "      <td>2020-09-03</td>\n",
              "      <td>1326.0</td>\n",
              "      <td>6.0</td>\n",
              "      <td>NaN</td>\n",
              "    </tr>\n",
              "  </tbody>\n",
              "</table>\n",
              "<p>72 rows × 4 columns</p>\n",
              "</div>\n",
              "      <button class=\"colab-df-convert\" onclick=\"convertToInteractive('df-c7bf1be0-f299-40cf-93de-a587cb94dc85')\"\n",
              "              title=\"Convert this dataframe to an interactive table.\"\n",
              "              style=\"display:none;\">\n",
              "        \n",
              "  <svg xmlns=\"http://www.w3.org/2000/svg\" height=\"24px\"viewBox=\"0 0 24 24\"\n",
              "       width=\"24px\">\n",
              "    <path d=\"M0 0h24v24H0V0z\" fill=\"none\"/>\n",
              "    <path d=\"M18.56 5.44l.94 2.06.94-2.06 2.06-.94-2.06-.94-.94-2.06-.94 2.06-2.06.94zm-11 1L8.5 8.5l.94-2.06 2.06-.94-2.06-.94L8.5 2.5l-.94 2.06-2.06.94zm10 10l.94 2.06.94-2.06 2.06-.94-2.06-.94-.94-2.06-.94 2.06-2.06.94z\"/><path d=\"M17.41 7.96l-1.37-1.37c-.4-.4-.92-.59-1.43-.59-.52 0-1.04.2-1.43.59L10.3 9.45l-7.72 7.72c-.78.78-.78 2.05 0 2.83L4 21.41c.39.39.9.59 1.41.59.51 0 1.02-.2 1.41-.59l7.78-7.78 2.81-2.81c.8-.78.8-2.07 0-2.86zM5.41 20L4 18.59l7.72-7.72 1.47 1.35L5.41 20z\"/>\n",
              "  </svg>\n",
              "      </button>\n",
              "      \n",
              "  <style>\n",
              "    .colab-df-container {\n",
              "      display:flex;\n",
              "      flex-wrap:wrap;\n",
              "      gap: 12px;\n",
              "    }\n",
              "\n",
              "    .colab-df-convert {\n",
              "      background-color: #E8F0FE;\n",
              "      border: none;\n",
              "      border-radius: 50%;\n",
              "      cursor: pointer;\n",
              "      display: none;\n",
              "      fill: #1967D2;\n",
              "      height: 32px;\n",
              "      padding: 0 0 0 0;\n",
              "      width: 32px;\n",
              "    }\n",
              "\n",
              "    .colab-df-convert:hover {\n",
              "      background-color: #E2EBFA;\n",
              "      box-shadow: 0px 1px 2px rgba(60, 64, 67, 0.3), 0px 1px 3px 1px rgba(60, 64, 67, 0.15);\n",
              "      fill: #174EA6;\n",
              "    }\n",
              "\n",
              "    [theme=dark] .colab-df-convert {\n",
              "      background-color: #3B4455;\n",
              "      fill: #D2E3FC;\n",
              "    }\n",
              "\n",
              "    [theme=dark] .colab-df-convert:hover {\n",
              "      background-color: #434B5C;\n",
              "      box-shadow: 0px 1px 3px 1px rgba(0, 0, 0, 0.15);\n",
              "      filter: drop-shadow(0px 1px 2px rgba(0, 0, 0, 0.3));\n",
              "      fill: #FFFFFF;\n",
              "    }\n",
              "  </style>\n",
              "\n",
              "      <script>\n",
              "        const buttonEl =\n",
              "          document.querySelector('#df-c7bf1be0-f299-40cf-93de-a587cb94dc85 button.colab-df-convert');\n",
              "        buttonEl.style.display =\n",
              "          google.colab.kernel.accessAllowed ? 'block' : 'none';\n",
              "\n",
              "        async function convertToInteractive(key) {\n",
              "          const element = document.querySelector('#df-c7bf1be0-f299-40cf-93de-a587cb94dc85');\n",
              "          const dataTable =\n",
              "            await google.colab.kernel.invokeFunction('convertToInteractive',\n",
              "                                                     [key], {});\n",
              "          if (!dataTable) return;\n",
              "\n",
              "          const docLinkHtml = 'Like what you see? Visit the ' +\n",
              "            '<a target=\"_blank\" href=https://colab.research.google.com/notebooks/data_table.ipynb>data table notebook</a>'\n",
              "            + ' to learn more about interactive tables.';\n",
              "          element.innerHTML = '';\n",
              "          dataTable['output_type'] = 'display_data';\n",
              "          await google.colab.output.renderOutput(dataTable, element);\n",
              "          const docLink = document.createElement('div');\n",
              "          docLink.innerHTML = docLinkHtml;\n",
              "          element.appendChild(docLink);\n",
              "        }\n",
              "      </script>\n",
              "    </div>\n",
              "  </div>\n",
              "  "
            ]
          },
          "metadata": {},
          "execution_count": 145
        }
      ]
    },
    {
      "cell_type": "code",
      "source": [
        "#shorter version\n",
        "high_cases_df = covid_df[covid_df.new_cases > 1000]"
      ],
      "metadata": {
        "id": "lMQkGVjakaH7"
      },
      "execution_count": null,
      "outputs": []
    },
    {
      "cell_type": "code",
      "source": [
        "high_cases_df"
      ],
      "metadata": {
        "colab": {
          "base_uri": "https://localhost:8080/",
          "height": 424
        },
        "id": "j9vnRAaqkaOC",
        "outputId": "5b06bd7d-a6fa-42eb-8ba6-4ffceb4d6fbd"
      },
      "execution_count": null,
      "outputs": [
        {
          "output_type": "execute_result",
          "data": {
            "text/plain": [
              "           date  new_cases  new_deaths  new_tests\n",
              "68   2020-03-08     1247.0        36.0        NaN\n",
              "69   2020-03-09     1492.0       133.0        NaN\n",
              "70   2020-03-10     1797.0        98.0        NaN\n",
              "72   2020-03-12     2313.0       196.0        NaN\n",
              "73   2020-03-13     2651.0       189.0        NaN\n",
              "..          ...        ...         ...        ...\n",
              "241  2020-08-28     1409.0         5.0    65135.0\n",
              "242  2020-08-29     1460.0         9.0    64294.0\n",
              "243  2020-08-30     1444.0         1.0    53541.0\n",
              "244  2020-08-31     1365.0         4.0    42583.0\n",
              "247  2020-09-03     1326.0         6.0        NaN\n",
              "\n",
              "[72 rows x 4 columns]"
            ],
            "text/html": [
              "\n",
              "  <div id=\"df-da07f183-5856-420b-bb91-09a640929906\">\n",
              "    <div class=\"colab-df-container\">\n",
              "      <div>\n",
              "<style scoped>\n",
              "    .dataframe tbody tr th:only-of-type {\n",
              "        vertical-align: middle;\n",
              "    }\n",
              "\n",
              "    .dataframe tbody tr th {\n",
              "        vertical-align: top;\n",
              "    }\n",
              "\n",
              "    .dataframe thead th {\n",
              "        text-align: right;\n",
              "    }\n",
              "</style>\n",
              "<table border=\"1\" class=\"dataframe\">\n",
              "  <thead>\n",
              "    <tr style=\"text-align: right;\">\n",
              "      <th></th>\n",
              "      <th>date</th>\n",
              "      <th>new_cases</th>\n",
              "      <th>new_deaths</th>\n",
              "      <th>new_tests</th>\n",
              "    </tr>\n",
              "  </thead>\n",
              "  <tbody>\n",
              "    <tr>\n",
              "      <th>68</th>\n",
              "      <td>2020-03-08</td>\n",
              "      <td>1247.0</td>\n",
              "      <td>36.0</td>\n",
              "      <td>NaN</td>\n",
              "    </tr>\n",
              "    <tr>\n",
              "      <th>69</th>\n",
              "      <td>2020-03-09</td>\n",
              "      <td>1492.0</td>\n",
              "      <td>133.0</td>\n",
              "      <td>NaN</td>\n",
              "    </tr>\n",
              "    <tr>\n",
              "      <th>70</th>\n",
              "      <td>2020-03-10</td>\n",
              "      <td>1797.0</td>\n",
              "      <td>98.0</td>\n",
              "      <td>NaN</td>\n",
              "    </tr>\n",
              "    <tr>\n",
              "      <th>72</th>\n",
              "      <td>2020-03-12</td>\n",
              "      <td>2313.0</td>\n",
              "      <td>196.0</td>\n",
              "      <td>NaN</td>\n",
              "    </tr>\n",
              "    <tr>\n",
              "      <th>73</th>\n",
              "      <td>2020-03-13</td>\n",
              "      <td>2651.0</td>\n",
              "      <td>189.0</td>\n",
              "      <td>NaN</td>\n",
              "    </tr>\n",
              "    <tr>\n",
              "      <th>...</th>\n",
              "      <td>...</td>\n",
              "      <td>...</td>\n",
              "      <td>...</td>\n",
              "      <td>...</td>\n",
              "    </tr>\n",
              "    <tr>\n",
              "      <th>241</th>\n",
              "      <td>2020-08-28</td>\n",
              "      <td>1409.0</td>\n",
              "      <td>5.0</td>\n",
              "      <td>65135.0</td>\n",
              "    </tr>\n",
              "    <tr>\n",
              "      <th>242</th>\n",
              "      <td>2020-08-29</td>\n",
              "      <td>1460.0</td>\n",
              "      <td>9.0</td>\n",
              "      <td>64294.0</td>\n",
              "    </tr>\n",
              "    <tr>\n",
              "      <th>243</th>\n",
              "      <td>2020-08-30</td>\n",
              "      <td>1444.0</td>\n",
              "      <td>1.0</td>\n",
              "      <td>53541.0</td>\n",
              "    </tr>\n",
              "    <tr>\n",
              "      <th>244</th>\n",
              "      <td>2020-08-31</td>\n",
              "      <td>1365.0</td>\n",
              "      <td>4.0</td>\n",
              "      <td>42583.0</td>\n",
              "    </tr>\n",
              "    <tr>\n",
              "      <th>247</th>\n",
              "      <td>2020-09-03</td>\n",
              "      <td>1326.0</td>\n",
              "      <td>6.0</td>\n",
              "      <td>NaN</td>\n",
              "    </tr>\n",
              "  </tbody>\n",
              "</table>\n",
              "<p>72 rows × 4 columns</p>\n",
              "</div>\n",
              "      <button class=\"colab-df-convert\" onclick=\"convertToInteractive('df-da07f183-5856-420b-bb91-09a640929906')\"\n",
              "              title=\"Convert this dataframe to an interactive table.\"\n",
              "              style=\"display:none;\">\n",
              "        \n",
              "  <svg xmlns=\"http://www.w3.org/2000/svg\" height=\"24px\"viewBox=\"0 0 24 24\"\n",
              "       width=\"24px\">\n",
              "    <path d=\"M0 0h24v24H0V0z\" fill=\"none\"/>\n",
              "    <path d=\"M18.56 5.44l.94 2.06.94-2.06 2.06-.94-2.06-.94-.94-2.06-.94 2.06-2.06.94zm-11 1L8.5 8.5l.94-2.06 2.06-.94-2.06-.94L8.5 2.5l-.94 2.06-2.06.94zm10 10l.94 2.06.94-2.06 2.06-.94-2.06-.94-.94-2.06-.94 2.06-2.06.94z\"/><path d=\"M17.41 7.96l-1.37-1.37c-.4-.4-.92-.59-1.43-.59-.52 0-1.04.2-1.43.59L10.3 9.45l-7.72 7.72c-.78.78-.78 2.05 0 2.83L4 21.41c.39.39.9.59 1.41.59.51 0 1.02-.2 1.41-.59l7.78-7.78 2.81-2.81c.8-.78.8-2.07 0-2.86zM5.41 20L4 18.59l7.72-7.72 1.47 1.35L5.41 20z\"/>\n",
              "  </svg>\n",
              "      </button>\n",
              "      \n",
              "  <style>\n",
              "    .colab-df-container {\n",
              "      display:flex;\n",
              "      flex-wrap:wrap;\n",
              "      gap: 12px;\n",
              "    }\n",
              "\n",
              "    .colab-df-convert {\n",
              "      background-color: #E8F0FE;\n",
              "      border: none;\n",
              "      border-radius: 50%;\n",
              "      cursor: pointer;\n",
              "      display: none;\n",
              "      fill: #1967D2;\n",
              "      height: 32px;\n",
              "      padding: 0 0 0 0;\n",
              "      width: 32px;\n",
              "    }\n",
              "\n",
              "    .colab-df-convert:hover {\n",
              "      background-color: #E2EBFA;\n",
              "      box-shadow: 0px 1px 2px rgba(60, 64, 67, 0.3), 0px 1px 3px 1px rgba(60, 64, 67, 0.15);\n",
              "      fill: #174EA6;\n",
              "    }\n",
              "\n",
              "    [theme=dark] .colab-df-convert {\n",
              "      background-color: #3B4455;\n",
              "      fill: #D2E3FC;\n",
              "    }\n",
              "\n",
              "    [theme=dark] .colab-df-convert:hover {\n",
              "      background-color: #434B5C;\n",
              "      box-shadow: 0px 1px 3px 1px rgba(0, 0, 0, 0.15);\n",
              "      filter: drop-shadow(0px 1px 2px rgba(0, 0, 0, 0.3));\n",
              "      fill: #FFFFFF;\n",
              "    }\n",
              "  </style>\n",
              "\n",
              "      <script>\n",
              "        const buttonEl =\n",
              "          document.querySelector('#df-da07f183-5856-420b-bb91-09a640929906 button.colab-df-convert');\n",
              "        buttonEl.style.display =\n",
              "          google.colab.kernel.accessAllowed ? 'block' : 'none';\n",
              "\n",
              "        async function convertToInteractive(key) {\n",
              "          const element = document.querySelector('#df-da07f183-5856-420b-bb91-09a640929906');\n",
              "          const dataTable =\n",
              "            await google.colab.kernel.invokeFunction('convertToInteractive',\n",
              "                                                     [key], {});\n",
              "          if (!dataTable) return;\n",
              "\n",
              "          const docLinkHtml = 'Like what you see? Visit the ' +\n",
              "            '<a target=\"_blank\" href=https://colab.research.google.com/notebooks/data_table.ipynb>data table notebook</a>'\n",
              "            + ' to learn more about interactive tables.';\n",
              "          element.innerHTML = '';\n",
              "          dataTable['output_type'] = 'display_data';\n",
              "          await google.colab.output.renderOutput(dataTable, element);\n",
              "          const docLink = document.createElement('div');\n",
              "          docLink.innerHTML = docLinkHtml;\n",
              "          element.appendChild(docLink);\n",
              "        }\n",
              "      </script>\n",
              "    </div>\n",
              "  </div>\n",
              "  "
            ]
          },
          "metadata": {},
          "execution_count": 147
        }
      ]
    },
    {
      "cell_type": "code",
      "source": [
        "from IPython.display import display\n",
        "with pd.option_context('display.max_rows', 100):\n",
        "  display(covid_df[covid_df.new_cases > 1000])"
      ],
      "metadata": {
        "colab": {
          "base_uri": "https://localhost:8080/",
          "height": 1000
        },
        "id": "mFriWNIykaRK",
        "outputId": "45c24bd7-9687-45ce-843a-832340b1fe5e"
      },
      "execution_count": null,
      "outputs": [
        {
          "output_type": "display_data",
          "data": {
            "text/plain": [
              "           date  new_cases  new_deaths  new_tests\n",
              "68   2020-03-08     1247.0        36.0        NaN\n",
              "69   2020-03-09     1492.0       133.0        NaN\n",
              "70   2020-03-10     1797.0        98.0        NaN\n",
              "72   2020-03-12     2313.0       196.0        NaN\n",
              "73   2020-03-13     2651.0       189.0        NaN\n",
              "74   2020-03-14     2547.0       252.0        NaN\n",
              "75   2020-03-15     3497.0       173.0        NaN\n",
              "76   2020-03-16     2823.0       370.0        NaN\n",
              "77   2020-03-17     4000.0       347.0        NaN\n",
              "78   2020-03-18     3526.0       347.0        NaN\n",
              "79   2020-03-19     4207.0       473.0        NaN\n",
              "80   2020-03-20     5322.0       429.0        NaN\n",
              "81   2020-03-21     5986.0       625.0        NaN\n",
              "82   2020-03-22     6557.0       795.0        NaN\n",
              "83   2020-03-23     5560.0       649.0        NaN\n",
              "84   2020-03-24     4789.0       601.0        NaN\n",
              "85   2020-03-25     5249.0       743.0        NaN\n",
              "86   2020-03-26     5210.0       685.0        NaN\n",
              "87   2020-03-27     6153.0       660.0        NaN\n",
              "88   2020-03-28     5959.0       971.0        NaN\n",
              "89   2020-03-29     5974.0       887.0        NaN\n",
              "90   2020-03-30     5217.0       758.0        NaN\n",
              "91   2020-03-31     4050.0       810.0        NaN\n",
              "92   2020-04-01     4053.0       839.0        NaN\n",
              "93   2020-04-02     4782.0       727.0        NaN\n",
              "94   2020-04-03     4668.0       760.0        NaN\n",
              "95   2020-04-04     4585.0       764.0        NaN\n",
              "96   2020-04-05     4805.0       681.0        NaN\n",
              "97   2020-04-06     4316.0       527.0        NaN\n",
              "98   2020-04-07     3599.0       636.0        NaN\n",
              "99   2020-04-08     3039.0       604.0        NaN\n",
              "100  2020-04-09     3836.0       540.0        NaN\n",
              "101  2020-04-10     4204.0       612.0        NaN\n",
              "102  2020-04-11     3951.0       570.0        NaN\n",
              "103  2020-04-12     4694.0       619.0        NaN\n",
              "104  2020-04-13     4092.0       431.0        NaN\n",
              "105  2020-04-14     3153.0       564.0        NaN\n",
              "106  2020-04-15     2972.0       604.0        NaN\n",
              "107  2020-04-16     2667.0       578.0        NaN\n",
              "108  2020-04-17     3786.0       525.0        NaN\n",
              "109  2020-04-18     3493.0       575.0        NaN\n",
              "110  2020-04-19     3491.0       480.0        NaN\n",
              "111  2020-04-20     3047.0       433.0     7841.0\n",
              "112  2020-04-21     2256.0       454.0    28095.0\n",
              "113  2020-04-22     2729.0       534.0    44248.0\n",
              "114  2020-04-23     3370.0       437.0    37083.0\n",
              "115  2020-04-24     2646.0       464.0    95273.0\n",
              "116  2020-04-25     3021.0       420.0    38676.0\n",
              "117  2020-04-26     2357.0       415.0    24113.0\n",
              "118  2020-04-27     2324.0       260.0    26678.0\n",
              "119  2020-04-28     1739.0       333.0    37554.0\n",
              "120  2020-04-29     2091.0       382.0    38589.0\n",
              "121  2020-04-30     2086.0       323.0    41441.0\n",
              "122  2020-05-01     1872.0       285.0    43732.0\n",
              "123  2020-05-02     1965.0       269.0    31231.0\n",
              "124  2020-05-03     1900.0       474.0    27047.0\n",
              "125  2020-05-04     1389.0       174.0    22999.0\n",
              "126  2020-05-05     1221.0       195.0    32211.0\n",
              "127  2020-05-06     1075.0       236.0    37771.0\n",
              "128  2020-05-07     1444.0       369.0    13665.0\n",
              "129  2020-05-08     1401.0       274.0    45428.0\n",
              "130  2020-05-09     1327.0       243.0    36091.0\n",
              "131  2020-05-10     1083.0       194.0    31384.0\n",
              "134  2020-05-13     1402.0       172.0    37049.0\n",
              "236  2020-08-23     1071.0         3.0    47463.0\n",
              "237  2020-08-24     1209.0         7.0    33358.0\n",
              "240  2020-08-27     1366.0        13.0    57640.0\n",
              "241  2020-08-28     1409.0         5.0    65135.0\n",
              "242  2020-08-29     1460.0         9.0    64294.0\n",
              "243  2020-08-30     1444.0         1.0    53541.0\n",
              "244  2020-08-31     1365.0         4.0    42583.0\n",
              "247  2020-09-03     1326.0         6.0        NaN"
            ],
            "text/html": [
              "\n",
              "  <div id=\"df-27e2860b-17fb-47b4-98aa-2cb1c887f5f1\">\n",
              "    <div class=\"colab-df-container\">\n",
              "      <div>\n",
              "<style scoped>\n",
              "    .dataframe tbody tr th:only-of-type {\n",
              "        vertical-align: middle;\n",
              "    }\n",
              "\n",
              "    .dataframe tbody tr th {\n",
              "        vertical-align: top;\n",
              "    }\n",
              "\n",
              "    .dataframe thead th {\n",
              "        text-align: right;\n",
              "    }\n",
              "</style>\n",
              "<table border=\"1\" class=\"dataframe\">\n",
              "  <thead>\n",
              "    <tr style=\"text-align: right;\">\n",
              "      <th></th>\n",
              "      <th>date</th>\n",
              "      <th>new_cases</th>\n",
              "      <th>new_deaths</th>\n",
              "      <th>new_tests</th>\n",
              "    </tr>\n",
              "  </thead>\n",
              "  <tbody>\n",
              "    <tr>\n",
              "      <th>68</th>\n",
              "      <td>2020-03-08</td>\n",
              "      <td>1247.0</td>\n",
              "      <td>36.0</td>\n",
              "      <td>NaN</td>\n",
              "    </tr>\n",
              "    <tr>\n",
              "      <th>69</th>\n",
              "      <td>2020-03-09</td>\n",
              "      <td>1492.0</td>\n",
              "      <td>133.0</td>\n",
              "      <td>NaN</td>\n",
              "    </tr>\n",
              "    <tr>\n",
              "      <th>70</th>\n",
              "      <td>2020-03-10</td>\n",
              "      <td>1797.0</td>\n",
              "      <td>98.0</td>\n",
              "      <td>NaN</td>\n",
              "    </tr>\n",
              "    <tr>\n",
              "      <th>72</th>\n",
              "      <td>2020-03-12</td>\n",
              "      <td>2313.0</td>\n",
              "      <td>196.0</td>\n",
              "      <td>NaN</td>\n",
              "    </tr>\n",
              "    <tr>\n",
              "      <th>73</th>\n",
              "      <td>2020-03-13</td>\n",
              "      <td>2651.0</td>\n",
              "      <td>189.0</td>\n",
              "      <td>NaN</td>\n",
              "    </tr>\n",
              "    <tr>\n",
              "      <th>74</th>\n",
              "      <td>2020-03-14</td>\n",
              "      <td>2547.0</td>\n",
              "      <td>252.0</td>\n",
              "      <td>NaN</td>\n",
              "    </tr>\n",
              "    <tr>\n",
              "      <th>75</th>\n",
              "      <td>2020-03-15</td>\n",
              "      <td>3497.0</td>\n",
              "      <td>173.0</td>\n",
              "      <td>NaN</td>\n",
              "    </tr>\n",
              "    <tr>\n",
              "      <th>76</th>\n",
              "      <td>2020-03-16</td>\n",
              "      <td>2823.0</td>\n",
              "      <td>370.0</td>\n",
              "      <td>NaN</td>\n",
              "    </tr>\n",
              "    <tr>\n",
              "      <th>77</th>\n",
              "      <td>2020-03-17</td>\n",
              "      <td>4000.0</td>\n",
              "      <td>347.0</td>\n",
              "      <td>NaN</td>\n",
              "    </tr>\n",
              "    <tr>\n",
              "      <th>78</th>\n",
              "      <td>2020-03-18</td>\n",
              "      <td>3526.0</td>\n",
              "      <td>347.0</td>\n",
              "      <td>NaN</td>\n",
              "    </tr>\n",
              "    <tr>\n",
              "      <th>79</th>\n",
              "      <td>2020-03-19</td>\n",
              "      <td>4207.0</td>\n",
              "      <td>473.0</td>\n",
              "      <td>NaN</td>\n",
              "    </tr>\n",
              "    <tr>\n",
              "      <th>80</th>\n",
              "      <td>2020-03-20</td>\n",
              "      <td>5322.0</td>\n",
              "      <td>429.0</td>\n",
              "      <td>NaN</td>\n",
              "    </tr>\n",
              "    <tr>\n",
              "      <th>81</th>\n",
              "      <td>2020-03-21</td>\n",
              "      <td>5986.0</td>\n",
              "      <td>625.0</td>\n",
              "      <td>NaN</td>\n",
              "    </tr>\n",
              "    <tr>\n",
              "      <th>82</th>\n",
              "      <td>2020-03-22</td>\n",
              "      <td>6557.0</td>\n",
              "      <td>795.0</td>\n",
              "      <td>NaN</td>\n",
              "    </tr>\n",
              "    <tr>\n",
              "      <th>83</th>\n",
              "      <td>2020-03-23</td>\n",
              "      <td>5560.0</td>\n",
              "      <td>649.0</td>\n",
              "      <td>NaN</td>\n",
              "    </tr>\n",
              "    <tr>\n",
              "      <th>84</th>\n",
              "      <td>2020-03-24</td>\n",
              "      <td>4789.0</td>\n",
              "      <td>601.0</td>\n",
              "      <td>NaN</td>\n",
              "    </tr>\n",
              "    <tr>\n",
              "      <th>85</th>\n",
              "      <td>2020-03-25</td>\n",
              "      <td>5249.0</td>\n",
              "      <td>743.0</td>\n",
              "      <td>NaN</td>\n",
              "    </tr>\n",
              "    <tr>\n",
              "      <th>86</th>\n",
              "      <td>2020-03-26</td>\n",
              "      <td>5210.0</td>\n",
              "      <td>685.0</td>\n",
              "      <td>NaN</td>\n",
              "    </tr>\n",
              "    <tr>\n",
              "      <th>87</th>\n",
              "      <td>2020-03-27</td>\n",
              "      <td>6153.0</td>\n",
              "      <td>660.0</td>\n",
              "      <td>NaN</td>\n",
              "    </tr>\n",
              "    <tr>\n",
              "      <th>88</th>\n",
              "      <td>2020-03-28</td>\n",
              "      <td>5959.0</td>\n",
              "      <td>971.0</td>\n",
              "      <td>NaN</td>\n",
              "    </tr>\n",
              "    <tr>\n",
              "      <th>89</th>\n",
              "      <td>2020-03-29</td>\n",
              "      <td>5974.0</td>\n",
              "      <td>887.0</td>\n",
              "      <td>NaN</td>\n",
              "    </tr>\n",
              "    <tr>\n",
              "      <th>90</th>\n",
              "      <td>2020-03-30</td>\n",
              "      <td>5217.0</td>\n",
              "      <td>758.0</td>\n",
              "      <td>NaN</td>\n",
              "    </tr>\n",
              "    <tr>\n",
              "      <th>91</th>\n",
              "      <td>2020-03-31</td>\n",
              "      <td>4050.0</td>\n",
              "      <td>810.0</td>\n",
              "      <td>NaN</td>\n",
              "    </tr>\n",
              "    <tr>\n",
              "      <th>92</th>\n",
              "      <td>2020-04-01</td>\n",
              "      <td>4053.0</td>\n",
              "      <td>839.0</td>\n",
              "      <td>NaN</td>\n",
              "    </tr>\n",
              "    <tr>\n",
              "      <th>93</th>\n",
              "      <td>2020-04-02</td>\n",
              "      <td>4782.0</td>\n",
              "      <td>727.0</td>\n",
              "      <td>NaN</td>\n",
              "    </tr>\n",
              "    <tr>\n",
              "      <th>94</th>\n",
              "      <td>2020-04-03</td>\n",
              "      <td>4668.0</td>\n",
              "      <td>760.0</td>\n",
              "      <td>NaN</td>\n",
              "    </tr>\n",
              "    <tr>\n",
              "      <th>95</th>\n",
              "      <td>2020-04-04</td>\n",
              "      <td>4585.0</td>\n",
              "      <td>764.0</td>\n",
              "      <td>NaN</td>\n",
              "    </tr>\n",
              "    <tr>\n",
              "      <th>96</th>\n",
              "      <td>2020-04-05</td>\n",
              "      <td>4805.0</td>\n",
              "      <td>681.0</td>\n",
              "      <td>NaN</td>\n",
              "    </tr>\n",
              "    <tr>\n",
              "      <th>97</th>\n",
              "      <td>2020-04-06</td>\n",
              "      <td>4316.0</td>\n",
              "      <td>527.0</td>\n",
              "      <td>NaN</td>\n",
              "    </tr>\n",
              "    <tr>\n",
              "      <th>98</th>\n",
              "      <td>2020-04-07</td>\n",
              "      <td>3599.0</td>\n",
              "      <td>636.0</td>\n",
              "      <td>NaN</td>\n",
              "    </tr>\n",
              "    <tr>\n",
              "      <th>99</th>\n",
              "      <td>2020-04-08</td>\n",
              "      <td>3039.0</td>\n",
              "      <td>604.0</td>\n",
              "      <td>NaN</td>\n",
              "    </tr>\n",
              "    <tr>\n",
              "      <th>100</th>\n",
              "      <td>2020-04-09</td>\n",
              "      <td>3836.0</td>\n",
              "      <td>540.0</td>\n",
              "      <td>NaN</td>\n",
              "    </tr>\n",
              "    <tr>\n",
              "      <th>101</th>\n",
              "      <td>2020-04-10</td>\n",
              "      <td>4204.0</td>\n",
              "      <td>612.0</td>\n",
              "      <td>NaN</td>\n",
              "    </tr>\n",
              "    <tr>\n",
              "      <th>102</th>\n",
              "      <td>2020-04-11</td>\n",
              "      <td>3951.0</td>\n",
              "      <td>570.0</td>\n",
              "      <td>NaN</td>\n",
              "    </tr>\n",
              "    <tr>\n",
              "      <th>103</th>\n",
              "      <td>2020-04-12</td>\n",
              "      <td>4694.0</td>\n",
              "      <td>619.0</td>\n",
              "      <td>NaN</td>\n",
              "    </tr>\n",
              "    <tr>\n",
              "      <th>104</th>\n",
              "      <td>2020-04-13</td>\n",
              "      <td>4092.0</td>\n",
              "      <td>431.0</td>\n",
              "      <td>NaN</td>\n",
              "    </tr>\n",
              "    <tr>\n",
              "      <th>105</th>\n",
              "      <td>2020-04-14</td>\n",
              "      <td>3153.0</td>\n",
              "      <td>564.0</td>\n",
              "      <td>NaN</td>\n",
              "    </tr>\n",
              "    <tr>\n",
              "      <th>106</th>\n",
              "      <td>2020-04-15</td>\n",
              "      <td>2972.0</td>\n",
              "      <td>604.0</td>\n",
              "      <td>NaN</td>\n",
              "    </tr>\n",
              "    <tr>\n",
              "      <th>107</th>\n",
              "      <td>2020-04-16</td>\n",
              "      <td>2667.0</td>\n",
              "      <td>578.0</td>\n",
              "      <td>NaN</td>\n",
              "    </tr>\n",
              "    <tr>\n",
              "      <th>108</th>\n",
              "      <td>2020-04-17</td>\n",
              "      <td>3786.0</td>\n",
              "      <td>525.0</td>\n",
              "      <td>NaN</td>\n",
              "    </tr>\n",
              "    <tr>\n",
              "      <th>109</th>\n",
              "      <td>2020-04-18</td>\n",
              "      <td>3493.0</td>\n",
              "      <td>575.0</td>\n",
              "      <td>NaN</td>\n",
              "    </tr>\n",
              "    <tr>\n",
              "      <th>110</th>\n",
              "      <td>2020-04-19</td>\n",
              "      <td>3491.0</td>\n",
              "      <td>480.0</td>\n",
              "      <td>NaN</td>\n",
              "    </tr>\n",
              "    <tr>\n",
              "      <th>111</th>\n",
              "      <td>2020-04-20</td>\n",
              "      <td>3047.0</td>\n",
              "      <td>433.0</td>\n",
              "      <td>7841.0</td>\n",
              "    </tr>\n",
              "    <tr>\n",
              "      <th>112</th>\n",
              "      <td>2020-04-21</td>\n",
              "      <td>2256.0</td>\n",
              "      <td>454.0</td>\n",
              "      <td>28095.0</td>\n",
              "    </tr>\n",
              "    <tr>\n",
              "      <th>113</th>\n",
              "      <td>2020-04-22</td>\n",
              "      <td>2729.0</td>\n",
              "      <td>534.0</td>\n",
              "      <td>44248.0</td>\n",
              "    </tr>\n",
              "    <tr>\n",
              "      <th>114</th>\n",
              "      <td>2020-04-23</td>\n",
              "      <td>3370.0</td>\n",
              "      <td>437.0</td>\n",
              "      <td>37083.0</td>\n",
              "    </tr>\n",
              "    <tr>\n",
              "      <th>115</th>\n",
              "      <td>2020-04-24</td>\n",
              "      <td>2646.0</td>\n",
              "      <td>464.0</td>\n",
              "      <td>95273.0</td>\n",
              "    </tr>\n",
              "    <tr>\n",
              "      <th>116</th>\n",
              "      <td>2020-04-25</td>\n",
              "      <td>3021.0</td>\n",
              "      <td>420.0</td>\n",
              "      <td>38676.0</td>\n",
              "    </tr>\n",
              "    <tr>\n",
              "      <th>117</th>\n",
              "      <td>2020-04-26</td>\n",
              "      <td>2357.0</td>\n",
              "      <td>415.0</td>\n",
              "      <td>24113.0</td>\n",
              "    </tr>\n",
              "    <tr>\n",
              "      <th>118</th>\n",
              "      <td>2020-04-27</td>\n",
              "      <td>2324.0</td>\n",
              "      <td>260.0</td>\n",
              "      <td>26678.0</td>\n",
              "    </tr>\n",
              "    <tr>\n",
              "      <th>119</th>\n",
              "      <td>2020-04-28</td>\n",
              "      <td>1739.0</td>\n",
              "      <td>333.0</td>\n",
              "      <td>37554.0</td>\n",
              "    </tr>\n",
              "    <tr>\n",
              "      <th>120</th>\n",
              "      <td>2020-04-29</td>\n",
              "      <td>2091.0</td>\n",
              "      <td>382.0</td>\n",
              "      <td>38589.0</td>\n",
              "    </tr>\n",
              "    <tr>\n",
              "      <th>121</th>\n",
              "      <td>2020-04-30</td>\n",
              "      <td>2086.0</td>\n",
              "      <td>323.0</td>\n",
              "      <td>41441.0</td>\n",
              "    </tr>\n",
              "    <tr>\n",
              "      <th>122</th>\n",
              "      <td>2020-05-01</td>\n",
              "      <td>1872.0</td>\n",
              "      <td>285.0</td>\n",
              "      <td>43732.0</td>\n",
              "    </tr>\n",
              "    <tr>\n",
              "      <th>123</th>\n",
              "      <td>2020-05-02</td>\n",
              "      <td>1965.0</td>\n",
              "      <td>269.0</td>\n",
              "      <td>31231.0</td>\n",
              "    </tr>\n",
              "    <tr>\n",
              "      <th>124</th>\n",
              "      <td>2020-05-03</td>\n",
              "      <td>1900.0</td>\n",
              "      <td>474.0</td>\n",
              "      <td>27047.0</td>\n",
              "    </tr>\n",
              "    <tr>\n",
              "      <th>125</th>\n",
              "      <td>2020-05-04</td>\n",
              "      <td>1389.0</td>\n",
              "      <td>174.0</td>\n",
              "      <td>22999.0</td>\n",
              "    </tr>\n",
              "    <tr>\n",
              "      <th>126</th>\n",
              "      <td>2020-05-05</td>\n",
              "      <td>1221.0</td>\n",
              "      <td>195.0</td>\n",
              "      <td>32211.0</td>\n",
              "    </tr>\n",
              "    <tr>\n",
              "      <th>127</th>\n",
              "      <td>2020-05-06</td>\n",
              "      <td>1075.0</td>\n",
              "      <td>236.0</td>\n",
              "      <td>37771.0</td>\n",
              "    </tr>\n",
              "    <tr>\n",
              "      <th>128</th>\n",
              "      <td>2020-05-07</td>\n",
              "      <td>1444.0</td>\n",
              "      <td>369.0</td>\n",
              "      <td>13665.0</td>\n",
              "    </tr>\n",
              "    <tr>\n",
              "      <th>129</th>\n",
              "      <td>2020-05-08</td>\n",
              "      <td>1401.0</td>\n",
              "      <td>274.0</td>\n",
              "      <td>45428.0</td>\n",
              "    </tr>\n",
              "    <tr>\n",
              "      <th>130</th>\n",
              "      <td>2020-05-09</td>\n",
              "      <td>1327.0</td>\n",
              "      <td>243.0</td>\n",
              "      <td>36091.0</td>\n",
              "    </tr>\n",
              "    <tr>\n",
              "      <th>131</th>\n",
              "      <td>2020-05-10</td>\n",
              "      <td>1083.0</td>\n",
              "      <td>194.0</td>\n",
              "      <td>31384.0</td>\n",
              "    </tr>\n",
              "    <tr>\n",
              "      <th>134</th>\n",
              "      <td>2020-05-13</td>\n",
              "      <td>1402.0</td>\n",
              "      <td>172.0</td>\n",
              "      <td>37049.0</td>\n",
              "    </tr>\n",
              "    <tr>\n",
              "      <th>236</th>\n",
              "      <td>2020-08-23</td>\n",
              "      <td>1071.0</td>\n",
              "      <td>3.0</td>\n",
              "      <td>47463.0</td>\n",
              "    </tr>\n",
              "    <tr>\n",
              "      <th>237</th>\n",
              "      <td>2020-08-24</td>\n",
              "      <td>1209.0</td>\n",
              "      <td>7.0</td>\n",
              "      <td>33358.0</td>\n",
              "    </tr>\n",
              "    <tr>\n",
              "      <th>240</th>\n",
              "      <td>2020-08-27</td>\n",
              "      <td>1366.0</td>\n",
              "      <td>13.0</td>\n",
              "      <td>57640.0</td>\n",
              "    </tr>\n",
              "    <tr>\n",
              "      <th>241</th>\n",
              "      <td>2020-08-28</td>\n",
              "      <td>1409.0</td>\n",
              "      <td>5.0</td>\n",
              "      <td>65135.0</td>\n",
              "    </tr>\n",
              "    <tr>\n",
              "      <th>242</th>\n",
              "      <td>2020-08-29</td>\n",
              "      <td>1460.0</td>\n",
              "      <td>9.0</td>\n",
              "      <td>64294.0</td>\n",
              "    </tr>\n",
              "    <tr>\n",
              "      <th>243</th>\n",
              "      <td>2020-08-30</td>\n",
              "      <td>1444.0</td>\n",
              "      <td>1.0</td>\n",
              "      <td>53541.0</td>\n",
              "    </tr>\n",
              "    <tr>\n",
              "      <th>244</th>\n",
              "      <td>2020-08-31</td>\n",
              "      <td>1365.0</td>\n",
              "      <td>4.0</td>\n",
              "      <td>42583.0</td>\n",
              "    </tr>\n",
              "    <tr>\n",
              "      <th>247</th>\n",
              "      <td>2020-09-03</td>\n",
              "      <td>1326.0</td>\n",
              "      <td>6.0</td>\n",
              "      <td>NaN</td>\n",
              "    </tr>\n",
              "  </tbody>\n",
              "</table>\n",
              "</div>\n",
              "      <button class=\"colab-df-convert\" onclick=\"convertToInteractive('df-27e2860b-17fb-47b4-98aa-2cb1c887f5f1')\"\n",
              "              title=\"Convert this dataframe to an interactive table.\"\n",
              "              style=\"display:none;\">\n",
              "        \n",
              "  <svg xmlns=\"http://www.w3.org/2000/svg\" height=\"24px\"viewBox=\"0 0 24 24\"\n",
              "       width=\"24px\">\n",
              "    <path d=\"M0 0h24v24H0V0z\" fill=\"none\"/>\n",
              "    <path d=\"M18.56 5.44l.94 2.06.94-2.06 2.06-.94-2.06-.94-.94-2.06-.94 2.06-2.06.94zm-11 1L8.5 8.5l.94-2.06 2.06-.94-2.06-.94L8.5 2.5l-.94 2.06-2.06.94zm10 10l.94 2.06.94-2.06 2.06-.94-2.06-.94-.94-2.06-.94 2.06-2.06.94z\"/><path d=\"M17.41 7.96l-1.37-1.37c-.4-.4-.92-.59-1.43-.59-.52 0-1.04.2-1.43.59L10.3 9.45l-7.72 7.72c-.78.78-.78 2.05 0 2.83L4 21.41c.39.39.9.59 1.41.59.51 0 1.02-.2 1.41-.59l7.78-7.78 2.81-2.81c.8-.78.8-2.07 0-2.86zM5.41 20L4 18.59l7.72-7.72 1.47 1.35L5.41 20z\"/>\n",
              "  </svg>\n",
              "      </button>\n",
              "      \n",
              "  <style>\n",
              "    .colab-df-container {\n",
              "      display:flex;\n",
              "      flex-wrap:wrap;\n",
              "      gap: 12px;\n",
              "    }\n",
              "\n",
              "    .colab-df-convert {\n",
              "      background-color: #E8F0FE;\n",
              "      border: none;\n",
              "      border-radius: 50%;\n",
              "      cursor: pointer;\n",
              "      display: none;\n",
              "      fill: #1967D2;\n",
              "      height: 32px;\n",
              "      padding: 0 0 0 0;\n",
              "      width: 32px;\n",
              "    }\n",
              "\n",
              "    .colab-df-convert:hover {\n",
              "      background-color: #E2EBFA;\n",
              "      box-shadow: 0px 1px 2px rgba(60, 64, 67, 0.3), 0px 1px 3px 1px rgba(60, 64, 67, 0.15);\n",
              "      fill: #174EA6;\n",
              "    }\n",
              "\n",
              "    [theme=dark] .colab-df-convert {\n",
              "      background-color: #3B4455;\n",
              "      fill: #D2E3FC;\n",
              "    }\n",
              "\n",
              "    [theme=dark] .colab-df-convert:hover {\n",
              "      background-color: #434B5C;\n",
              "      box-shadow: 0px 1px 3px 1px rgba(0, 0, 0, 0.15);\n",
              "      filter: drop-shadow(0px 1px 2px rgba(0, 0, 0, 0.3));\n",
              "      fill: #FFFFFF;\n",
              "    }\n",
              "  </style>\n",
              "\n",
              "      <script>\n",
              "        const buttonEl =\n",
              "          document.querySelector('#df-27e2860b-17fb-47b4-98aa-2cb1c887f5f1 button.colab-df-convert');\n",
              "        buttonEl.style.display =\n",
              "          google.colab.kernel.accessAllowed ? 'block' : 'none';\n",
              "\n",
              "        async function convertToInteractive(key) {\n",
              "          const element = document.querySelector('#df-27e2860b-17fb-47b4-98aa-2cb1c887f5f1');\n",
              "          const dataTable =\n",
              "            await google.colab.kernel.invokeFunction('convertToInteractive',\n",
              "                                                     [key], {});\n",
              "          if (!dataTable) return;\n",
              "\n",
              "          const docLinkHtml = 'Like what you see? Visit the ' +\n",
              "            '<a target=\"_blank\" href=https://colab.research.google.com/notebooks/data_table.ipynb>data table notebook</a>'\n",
              "            + ' to learn more about interactive tables.';\n",
              "          element.innerHTML = '';\n",
              "          dataTable['output_type'] = 'display_data';\n",
              "          await google.colab.output.renderOutput(dataTable, element);\n",
              "          const docLink = document.createElement('div');\n",
              "          docLink.innerHTML = docLinkHtml;\n",
              "          element.appendChild(docLink);\n",
              "        }\n",
              "      </script>\n",
              "    </div>\n",
              "  </div>\n",
              "  "
            ]
          },
          "metadata": {}
        }
      ]
    },
    {
      "cell_type": "code",
      "source": [
        "positive_rate"
      ],
      "metadata": {
        "colab": {
          "base_uri": "https://localhost:8080/"
        },
        "id": "XQCNZxH7kaTd",
        "outputId": "0c7d1248-20c9-4a14-f37d-83a30adf4a7a"
      },
      "execution_count": null,
      "outputs": [
        {
          "output_type": "execute_result",
          "data": {
            "text/plain": [
              "0.05206657403227681"
            ]
          },
          "metadata": {},
          "execution_count": 149
        }
      ]
    },
    {
      "cell_type": "code",
      "source": [
        "#performs an element-wise division\n",
        "# displays instances were cases were higher than the average rate of positive cases\n",
        "high_ratio_df = covid_df[covid_df.new_cases / covid_df.new_tests > positive_rate]"
      ],
      "metadata": {
        "id": "BuSPuHwokaWT"
      },
      "execution_count": null,
      "outputs": []
    },
    {
      "cell_type": "code",
      "source": [
        "high_ratio_df"
      ],
      "metadata": {
        "colab": {
          "base_uri": "https://localhost:8080/",
          "height": 426
        },
        "id": "W47G5HUIkaZW",
        "outputId": "33a00fab-3308-4284-8d7a-cec23449b192"
      },
      "execution_count": null,
      "outputs": [
        {
          "output_type": "execute_result",
          "data": {
            "text/plain": [
              "           date  new_cases  new_deaths  new_tests\n",
              "111  2020-04-20     3047.0       433.0     7841.0\n",
              "112  2020-04-21     2256.0       454.0    28095.0\n",
              "113  2020-04-22     2729.0       534.0    44248.0\n",
              "114  2020-04-23     3370.0       437.0    37083.0\n",
              "116  2020-04-25     3021.0       420.0    38676.0\n",
              "117  2020-04-26     2357.0       415.0    24113.0\n",
              "118  2020-04-27     2324.0       260.0    26678.0\n",
              "120  2020-04-29     2091.0       382.0    38589.0\n",
              "123  2020-05-02     1965.0       269.0    31231.0\n",
              "124  2020-05-03     1900.0       474.0    27047.0\n",
              "125  2020-05-04     1389.0       174.0    22999.0\n",
              "128  2020-05-07     1444.0       369.0    13665.0"
            ],
            "text/html": [
              "\n",
              "  <div id=\"df-94fc5653-d1e5-4af8-a0b9-76793623c032\">\n",
              "    <div class=\"colab-df-container\">\n",
              "      <div>\n",
              "<style scoped>\n",
              "    .dataframe tbody tr th:only-of-type {\n",
              "        vertical-align: middle;\n",
              "    }\n",
              "\n",
              "    .dataframe tbody tr th {\n",
              "        vertical-align: top;\n",
              "    }\n",
              "\n",
              "    .dataframe thead th {\n",
              "        text-align: right;\n",
              "    }\n",
              "</style>\n",
              "<table border=\"1\" class=\"dataframe\">\n",
              "  <thead>\n",
              "    <tr style=\"text-align: right;\">\n",
              "      <th></th>\n",
              "      <th>date</th>\n",
              "      <th>new_cases</th>\n",
              "      <th>new_deaths</th>\n",
              "      <th>new_tests</th>\n",
              "    </tr>\n",
              "  </thead>\n",
              "  <tbody>\n",
              "    <tr>\n",
              "      <th>111</th>\n",
              "      <td>2020-04-20</td>\n",
              "      <td>3047.0</td>\n",
              "      <td>433.0</td>\n",
              "      <td>7841.0</td>\n",
              "    </tr>\n",
              "    <tr>\n",
              "      <th>112</th>\n",
              "      <td>2020-04-21</td>\n",
              "      <td>2256.0</td>\n",
              "      <td>454.0</td>\n",
              "      <td>28095.0</td>\n",
              "    </tr>\n",
              "    <tr>\n",
              "      <th>113</th>\n",
              "      <td>2020-04-22</td>\n",
              "      <td>2729.0</td>\n",
              "      <td>534.0</td>\n",
              "      <td>44248.0</td>\n",
              "    </tr>\n",
              "    <tr>\n",
              "      <th>114</th>\n",
              "      <td>2020-04-23</td>\n",
              "      <td>3370.0</td>\n",
              "      <td>437.0</td>\n",
              "      <td>37083.0</td>\n",
              "    </tr>\n",
              "    <tr>\n",
              "      <th>116</th>\n",
              "      <td>2020-04-25</td>\n",
              "      <td>3021.0</td>\n",
              "      <td>420.0</td>\n",
              "      <td>38676.0</td>\n",
              "    </tr>\n",
              "    <tr>\n",
              "      <th>117</th>\n",
              "      <td>2020-04-26</td>\n",
              "      <td>2357.0</td>\n",
              "      <td>415.0</td>\n",
              "      <td>24113.0</td>\n",
              "    </tr>\n",
              "    <tr>\n",
              "      <th>118</th>\n",
              "      <td>2020-04-27</td>\n",
              "      <td>2324.0</td>\n",
              "      <td>260.0</td>\n",
              "      <td>26678.0</td>\n",
              "    </tr>\n",
              "    <tr>\n",
              "      <th>120</th>\n",
              "      <td>2020-04-29</td>\n",
              "      <td>2091.0</td>\n",
              "      <td>382.0</td>\n",
              "      <td>38589.0</td>\n",
              "    </tr>\n",
              "    <tr>\n",
              "      <th>123</th>\n",
              "      <td>2020-05-02</td>\n",
              "      <td>1965.0</td>\n",
              "      <td>269.0</td>\n",
              "      <td>31231.0</td>\n",
              "    </tr>\n",
              "    <tr>\n",
              "      <th>124</th>\n",
              "      <td>2020-05-03</td>\n",
              "      <td>1900.0</td>\n",
              "      <td>474.0</td>\n",
              "      <td>27047.0</td>\n",
              "    </tr>\n",
              "    <tr>\n",
              "      <th>125</th>\n",
              "      <td>2020-05-04</td>\n",
              "      <td>1389.0</td>\n",
              "      <td>174.0</td>\n",
              "      <td>22999.0</td>\n",
              "    </tr>\n",
              "    <tr>\n",
              "      <th>128</th>\n",
              "      <td>2020-05-07</td>\n",
              "      <td>1444.0</td>\n",
              "      <td>369.0</td>\n",
              "      <td>13665.0</td>\n",
              "    </tr>\n",
              "  </tbody>\n",
              "</table>\n",
              "</div>\n",
              "      <button class=\"colab-df-convert\" onclick=\"convertToInteractive('df-94fc5653-d1e5-4af8-a0b9-76793623c032')\"\n",
              "              title=\"Convert this dataframe to an interactive table.\"\n",
              "              style=\"display:none;\">\n",
              "        \n",
              "  <svg xmlns=\"http://www.w3.org/2000/svg\" height=\"24px\"viewBox=\"0 0 24 24\"\n",
              "       width=\"24px\">\n",
              "    <path d=\"M0 0h24v24H0V0z\" fill=\"none\"/>\n",
              "    <path d=\"M18.56 5.44l.94 2.06.94-2.06 2.06-.94-2.06-.94-.94-2.06-.94 2.06-2.06.94zm-11 1L8.5 8.5l.94-2.06 2.06-.94-2.06-.94L8.5 2.5l-.94 2.06-2.06.94zm10 10l.94 2.06.94-2.06 2.06-.94-2.06-.94-.94-2.06-.94 2.06-2.06.94z\"/><path d=\"M17.41 7.96l-1.37-1.37c-.4-.4-.92-.59-1.43-.59-.52 0-1.04.2-1.43.59L10.3 9.45l-7.72 7.72c-.78.78-.78 2.05 0 2.83L4 21.41c.39.39.9.59 1.41.59.51 0 1.02-.2 1.41-.59l7.78-7.78 2.81-2.81c.8-.78.8-2.07 0-2.86zM5.41 20L4 18.59l7.72-7.72 1.47 1.35L5.41 20z\"/>\n",
              "  </svg>\n",
              "      </button>\n",
              "      \n",
              "  <style>\n",
              "    .colab-df-container {\n",
              "      display:flex;\n",
              "      flex-wrap:wrap;\n",
              "      gap: 12px;\n",
              "    }\n",
              "\n",
              "    .colab-df-convert {\n",
              "      background-color: #E8F0FE;\n",
              "      border: none;\n",
              "      border-radius: 50%;\n",
              "      cursor: pointer;\n",
              "      display: none;\n",
              "      fill: #1967D2;\n",
              "      height: 32px;\n",
              "      padding: 0 0 0 0;\n",
              "      width: 32px;\n",
              "    }\n",
              "\n",
              "    .colab-df-convert:hover {\n",
              "      background-color: #E2EBFA;\n",
              "      box-shadow: 0px 1px 2px rgba(60, 64, 67, 0.3), 0px 1px 3px 1px rgba(60, 64, 67, 0.15);\n",
              "      fill: #174EA6;\n",
              "    }\n",
              "\n",
              "    [theme=dark] .colab-df-convert {\n",
              "      background-color: #3B4455;\n",
              "      fill: #D2E3FC;\n",
              "    }\n",
              "\n",
              "    [theme=dark] .colab-df-convert:hover {\n",
              "      background-color: #434B5C;\n",
              "      box-shadow: 0px 1px 3px 1px rgba(0, 0, 0, 0.15);\n",
              "      filter: drop-shadow(0px 1px 2px rgba(0, 0, 0, 0.3));\n",
              "      fill: #FFFFFF;\n",
              "    }\n",
              "  </style>\n",
              "\n",
              "      <script>\n",
              "        const buttonEl =\n",
              "          document.querySelector('#df-94fc5653-d1e5-4af8-a0b9-76793623c032 button.colab-df-convert');\n",
              "        buttonEl.style.display =\n",
              "          google.colab.kernel.accessAllowed ? 'block' : 'none';\n",
              "\n",
              "        async function convertToInteractive(key) {\n",
              "          const element = document.querySelector('#df-94fc5653-d1e5-4af8-a0b9-76793623c032');\n",
              "          const dataTable =\n",
              "            await google.colab.kernel.invokeFunction('convertToInteractive',\n",
              "                                                     [key], {});\n",
              "          if (!dataTable) return;\n",
              "\n",
              "          const docLinkHtml = 'Like what you see? Visit the ' +\n",
              "            '<a target=\"_blank\" href=https://colab.research.google.com/notebooks/data_table.ipynb>data table notebook</a>'\n",
              "            + ' to learn more about interactive tables.';\n",
              "          element.innerHTML = '';\n",
              "          dataTable['output_type'] = 'display_data';\n",
              "          await google.colab.output.renderOutput(dataTable, element);\n",
              "          const docLink = document.createElement('div');\n",
              "          docLink.innerHTML = docLinkHtml;\n",
              "          element.appendChild(docLink);\n",
              "        }\n",
              "      </script>\n",
              "    </div>\n",
              "  </div>\n",
              "  "
            ]
          },
          "metadata": {},
          "execution_count": 151
        }
      ]
    },
    {
      "cell_type": "code",
      "source": [
        "covid_df.sort_values('new_cases', ascending=False).head(10)"
      ],
      "metadata": {
        "colab": {
          "base_uri": "https://localhost:8080/",
          "height": 363
        },
        "id": "SaGTurgWkacL",
        "outputId": "068c7797-5f28-43a9-8ea1-1a9391439808"
      },
      "execution_count": null,
      "outputs": [
        {
          "output_type": "execute_result",
          "data": {
            "text/plain": [
              "          date  new_cases  new_deaths  new_tests\n",
              "82  2020-03-22     6557.0       795.0        NaN\n",
              "87  2020-03-27     6153.0       660.0        NaN\n",
              "81  2020-03-21     5986.0       625.0        NaN\n",
              "89  2020-03-29     5974.0       887.0        NaN\n",
              "88  2020-03-28     5959.0       971.0        NaN\n",
              "83  2020-03-23     5560.0       649.0        NaN\n",
              "80  2020-03-20     5322.0       429.0        NaN\n",
              "85  2020-03-25     5249.0       743.0        NaN\n",
              "90  2020-03-30     5217.0       758.0        NaN\n",
              "86  2020-03-26     5210.0       685.0        NaN"
            ],
            "text/html": [
              "\n",
              "  <div id=\"df-2f4bac81-aa9f-4726-ba4c-ec088942cfb1\">\n",
              "    <div class=\"colab-df-container\">\n",
              "      <div>\n",
              "<style scoped>\n",
              "    .dataframe tbody tr th:only-of-type {\n",
              "        vertical-align: middle;\n",
              "    }\n",
              "\n",
              "    .dataframe tbody tr th {\n",
              "        vertical-align: top;\n",
              "    }\n",
              "\n",
              "    .dataframe thead th {\n",
              "        text-align: right;\n",
              "    }\n",
              "</style>\n",
              "<table border=\"1\" class=\"dataframe\">\n",
              "  <thead>\n",
              "    <tr style=\"text-align: right;\">\n",
              "      <th></th>\n",
              "      <th>date</th>\n",
              "      <th>new_cases</th>\n",
              "      <th>new_deaths</th>\n",
              "      <th>new_tests</th>\n",
              "    </tr>\n",
              "  </thead>\n",
              "  <tbody>\n",
              "    <tr>\n",
              "      <th>82</th>\n",
              "      <td>2020-03-22</td>\n",
              "      <td>6557.0</td>\n",
              "      <td>795.0</td>\n",
              "      <td>NaN</td>\n",
              "    </tr>\n",
              "    <tr>\n",
              "      <th>87</th>\n",
              "      <td>2020-03-27</td>\n",
              "      <td>6153.0</td>\n",
              "      <td>660.0</td>\n",
              "      <td>NaN</td>\n",
              "    </tr>\n",
              "    <tr>\n",
              "      <th>81</th>\n",
              "      <td>2020-03-21</td>\n",
              "      <td>5986.0</td>\n",
              "      <td>625.0</td>\n",
              "      <td>NaN</td>\n",
              "    </tr>\n",
              "    <tr>\n",
              "      <th>89</th>\n",
              "      <td>2020-03-29</td>\n",
              "      <td>5974.0</td>\n",
              "      <td>887.0</td>\n",
              "      <td>NaN</td>\n",
              "    </tr>\n",
              "    <tr>\n",
              "      <th>88</th>\n",
              "      <td>2020-03-28</td>\n",
              "      <td>5959.0</td>\n",
              "      <td>971.0</td>\n",
              "      <td>NaN</td>\n",
              "    </tr>\n",
              "    <tr>\n",
              "      <th>83</th>\n",
              "      <td>2020-03-23</td>\n",
              "      <td>5560.0</td>\n",
              "      <td>649.0</td>\n",
              "      <td>NaN</td>\n",
              "    </tr>\n",
              "    <tr>\n",
              "      <th>80</th>\n",
              "      <td>2020-03-20</td>\n",
              "      <td>5322.0</td>\n",
              "      <td>429.0</td>\n",
              "      <td>NaN</td>\n",
              "    </tr>\n",
              "    <tr>\n",
              "      <th>85</th>\n",
              "      <td>2020-03-25</td>\n",
              "      <td>5249.0</td>\n",
              "      <td>743.0</td>\n",
              "      <td>NaN</td>\n",
              "    </tr>\n",
              "    <tr>\n",
              "      <th>90</th>\n",
              "      <td>2020-03-30</td>\n",
              "      <td>5217.0</td>\n",
              "      <td>758.0</td>\n",
              "      <td>NaN</td>\n",
              "    </tr>\n",
              "    <tr>\n",
              "      <th>86</th>\n",
              "      <td>2020-03-26</td>\n",
              "      <td>5210.0</td>\n",
              "      <td>685.0</td>\n",
              "      <td>NaN</td>\n",
              "    </tr>\n",
              "  </tbody>\n",
              "</table>\n",
              "</div>\n",
              "      <button class=\"colab-df-convert\" onclick=\"convertToInteractive('df-2f4bac81-aa9f-4726-ba4c-ec088942cfb1')\"\n",
              "              title=\"Convert this dataframe to an interactive table.\"\n",
              "              style=\"display:none;\">\n",
              "        \n",
              "  <svg xmlns=\"http://www.w3.org/2000/svg\" height=\"24px\"viewBox=\"0 0 24 24\"\n",
              "       width=\"24px\">\n",
              "    <path d=\"M0 0h24v24H0V0z\" fill=\"none\"/>\n",
              "    <path d=\"M18.56 5.44l.94 2.06.94-2.06 2.06-.94-2.06-.94-.94-2.06-.94 2.06-2.06.94zm-11 1L8.5 8.5l.94-2.06 2.06-.94-2.06-.94L8.5 2.5l-.94 2.06-2.06.94zm10 10l.94 2.06.94-2.06 2.06-.94-2.06-.94-.94-2.06-.94 2.06-2.06.94z\"/><path d=\"M17.41 7.96l-1.37-1.37c-.4-.4-.92-.59-1.43-.59-.52 0-1.04.2-1.43.59L10.3 9.45l-7.72 7.72c-.78.78-.78 2.05 0 2.83L4 21.41c.39.39.9.59 1.41.59.51 0 1.02-.2 1.41-.59l7.78-7.78 2.81-2.81c.8-.78.8-2.07 0-2.86zM5.41 20L4 18.59l7.72-7.72 1.47 1.35L5.41 20z\"/>\n",
              "  </svg>\n",
              "      </button>\n",
              "      \n",
              "  <style>\n",
              "    .colab-df-container {\n",
              "      display:flex;\n",
              "      flex-wrap:wrap;\n",
              "      gap: 12px;\n",
              "    }\n",
              "\n",
              "    .colab-df-convert {\n",
              "      background-color: #E8F0FE;\n",
              "      border: none;\n",
              "      border-radius: 50%;\n",
              "      cursor: pointer;\n",
              "      display: none;\n",
              "      fill: #1967D2;\n",
              "      height: 32px;\n",
              "      padding: 0 0 0 0;\n",
              "      width: 32px;\n",
              "    }\n",
              "\n",
              "    .colab-df-convert:hover {\n",
              "      background-color: #E2EBFA;\n",
              "      box-shadow: 0px 1px 2px rgba(60, 64, 67, 0.3), 0px 1px 3px 1px rgba(60, 64, 67, 0.15);\n",
              "      fill: #174EA6;\n",
              "    }\n",
              "\n",
              "    [theme=dark] .colab-df-convert {\n",
              "      background-color: #3B4455;\n",
              "      fill: #D2E3FC;\n",
              "    }\n",
              "\n",
              "    [theme=dark] .colab-df-convert:hover {\n",
              "      background-color: #434B5C;\n",
              "      box-shadow: 0px 1px 3px 1px rgba(0, 0, 0, 0.15);\n",
              "      filter: drop-shadow(0px 1px 2px rgba(0, 0, 0, 0.3));\n",
              "      fill: #FFFFFF;\n",
              "    }\n",
              "  </style>\n",
              "\n",
              "      <script>\n",
              "        const buttonEl =\n",
              "          document.querySelector('#df-2f4bac81-aa9f-4726-ba4c-ec088942cfb1 button.colab-df-convert');\n",
              "        buttonEl.style.display =\n",
              "          google.colab.kernel.accessAllowed ? 'block' : 'none';\n",
              "\n",
              "        async function convertToInteractive(key) {\n",
              "          const element = document.querySelector('#df-2f4bac81-aa9f-4726-ba4c-ec088942cfb1');\n",
              "          const dataTable =\n",
              "            await google.colab.kernel.invokeFunction('convertToInteractive',\n",
              "                                                     [key], {});\n",
              "          if (!dataTable) return;\n",
              "\n",
              "          const docLinkHtml = 'Like what you see? Visit the ' +\n",
              "            '<a target=\"_blank\" href=https://colab.research.google.com/notebooks/data_table.ipynb>data table notebook</a>'\n",
              "            + ' to learn more about interactive tables.';\n",
              "          element.innerHTML = '';\n",
              "          dataTable['output_type'] = 'display_data';\n",
              "          await google.colab.output.renderOutput(dataTable, element);\n",
              "          const docLink = document.createElement('div');\n",
              "          docLink.innerHTML = docLinkHtml;\n",
              "          element.appendChild(docLink);\n",
              "        }\n",
              "      </script>\n",
              "    </div>\n",
              "  </div>\n",
              "  "
            ]
          },
          "metadata": {},
          "execution_count": 152
        }
      ]
    },
    {
      "cell_type": "code",
      "source": [
        "covid_df.sort_values('new_deaths', ascending=False).head(10)"
      ],
      "metadata": {
        "colab": {
          "base_uri": "https://localhost:8080/",
          "height": 363
        },
        "outputId": "7b121335-4ab3-49f1-a8b0-08a9dca479e9",
        "id": "p7fZXDpprN8F"
      },
      "execution_count": null,
      "outputs": [
        {
          "output_type": "execute_result",
          "data": {
            "text/plain": [
              "          date  new_cases  new_deaths  new_tests\n",
              "88  2020-03-28     5959.0       971.0        NaN\n",
              "89  2020-03-29     5974.0       887.0        NaN\n",
              "92  2020-04-01     4053.0       839.0        NaN\n",
              "91  2020-03-31     4050.0       810.0        NaN\n",
              "82  2020-03-22     6557.0       795.0        NaN\n",
              "95  2020-04-04     4585.0       764.0        NaN\n",
              "94  2020-04-03     4668.0       760.0        NaN\n",
              "90  2020-03-30     5217.0       758.0        NaN\n",
              "85  2020-03-25     5249.0       743.0        NaN\n",
              "93  2020-04-02     4782.0       727.0        NaN"
            ],
            "text/html": [
              "\n",
              "  <div id=\"df-8b4ac5db-37a1-4b50-8ade-3953bfb858b4\">\n",
              "    <div class=\"colab-df-container\">\n",
              "      <div>\n",
              "<style scoped>\n",
              "    .dataframe tbody tr th:only-of-type {\n",
              "        vertical-align: middle;\n",
              "    }\n",
              "\n",
              "    .dataframe tbody tr th {\n",
              "        vertical-align: top;\n",
              "    }\n",
              "\n",
              "    .dataframe thead th {\n",
              "        text-align: right;\n",
              "    }\n",
              "</style>\n",
              "<table border=\"1\" class=\"dataframe\">\n",
              "  <thead>\n",
              "    <tr style=\"text-align: right;\">\n",
              "      <th></th>\n",
              "      <th>date</th>\n",
              "      <th>new_cases</th>\n",
              "      <th>new_deaths</th>\n",
              "      <th>new_tests</th>\n",
              "    </tr>\n",
              "  </thead>\n",
              "  <tbody>\n",
              "    <tr>\n",
              "      <th>88</th>\n",
              "      <td>2020-03-28</td>\n",
              "      <td>5959.0</td>\n",
              "      <td>971.0</td>\n",
              "      <td>NaN</td>\n",
              "    </tr>\n",
              "    <tr>\n",
              "      <th>89</th>\n",
              "      <td>2020-03-29</td>\n",
              "      <td>5974.0</td>\n",
              "      <td>887.0</td>\n",
              "      <td>NaN</td>\n",
              "    </tr>\n",
              "    <tr>\n",
              "      <th>92</th>\n",
              "      <td>2020-04-01</td>\n",
              "      <td>4053.0</td>\n",
              "      <td>839.0</td>\n",
              "      <td>NaN</td>\n",
              "    </tr>\n",
              "    <tr>\n",
              "      <th>91</th>\n",
              "      <td>2020-03-31</td>\n",
              "      <td>4050.0</td>\n",
              "      <td>810.0</td>\n",
              "      <td>NaN</td>\n",
              "    </tr>\n",
              "    <tr>\n",
              "      <th>82</th>\n",
              "      <td>2020-03-22</td>\n",
              "      <td>6557.0</td>\n",
              "      <td>795.0</td>\n",
              "      <td>NaN</td>\n",
              "    </tr>\n",
              "    <tr>\n",
              "      <th>95</th>\n",
              "      <td>2020-04-04</td>\n",
              "      <td>4585.0</td>\n",
              "      <td>764.0</td>\n",
              "      <td>NaN</td>\n",
              "    </tr>\n",
              "    <tr>\n",
              "      <th>94</th>\n",
              "      <td>2020-04-03</td>\n",
              "      <td>4668.0</td>\n",
              "      <td>760.0</td>\n",
              "      <td>NaN</td>\n",
              "    </tr>\n",
              "    <tr>\n",
              "      <th>90</th>\n",
              "      <td>2020-03-30</td>\n",
              "      <td>5217.0</td>\n",
              "      <td>758.0</td>\n",
              "      <td>NaN</td>\n",
              "    </tr>\n",
              "    <tr>\n",
              "      <th>85</th>\n",
              "      <td>2020-03-25</td>\n",
              "      <td>5249.0</td>\n",
              "      <td>743.0</td>\n",
              "      <td>NaN</td>\n",
              "    </tr>\n",
              "    <tr>\n",
              "      <th>93</th>\n",
              "      <td>2020-04-02</td>\n",
              "      <td>4782.0</td>\n",
              "      <td>727.0</td>\n",
              "      <td>NaN</td>\n",
              "    </tr>\n",
              "  </tbody>\n",
              "</table>\n",
              "</div>\n",
              "      <button class=\"colab-df-convert\" onclick=\"convertToInteractive('df-8b4ac5db-37a1-4b50-8ade-3953bfb858b4')\"\n",
              "              title=\"Convert this dataframe to an interactive table.\"\n",
              "              style=\"display:none;\">\n",
              "        \n",
              "  <svg xmlns=\"http://www.w3.org/2000/svg\" height=\"24px\"viewBox=\"0 0 24 24\"\n",
              "       width=\"24px\">\n",
              "    <path d=\"M0 0h24v24H0V0z\" fill=\"none\"/>\n",
              "    <path d=\"M18.56 5.44l.94 2.06.94-2.06 2.06-.94-2.06-.94-.94-2.06-.94 2.06-2.06.94zm-11 1L8.5 8.5l.94-2.06 2.06-.94-2.06-.94L8.5 2.5l-.94 2.06-2.06.94zm10 10l.94 2.06.94-2.06 2.06-.94-2.06-.94-.94-2.06-.94 2.06-2.06.94z\"/><path d=\"M17.41 7.96l-1.37-1.37c-.4-.4-.92-.59-1.43-.59-.52 0-1.04.2-1.43.59L10.3 9.45l-7.72 7.72c-.78.78-.78 2.05 0 2.83L4 21.41c.39.39.9.59 1.41.59.51 0 1.02-.2 1.41-.59l7.78-7.78 2.81-2.81c.8-.78.8-2.07 0-2.86zM5.41 20L4 18.59l7.72-7.72 1.47 1.35L5.41 20z\"/>\n",
              "  </svg>\n",
              "      </button>\n",
              "      \n",
              "  <style>\n",
              "    .colab-df-container {\n",
              "      display:flex;\n",
              "      flex-wrap:wrap;\n",
              "      gap: 12px;\n",
              "    }\n",
              "\n",
              "    .colab-df-convert {\n",
              "      background-color: #E8F0FE;\n",
              "      border: none;\n",
              "      border-radius: 50%;\n",
              "      cursor: pointer;\n",
              "      display: none;\n",
              "      fill: #1967D2;\n",
              "      height: 32px;\n",
              "      padding: 0 0 0 0;\n",
              "      width: 32px;\n",
              "    }\n",
              "\n",
              "    .colab-df-convert:hover {\n",
              "      background-color: #E2EBFA;\n",
              "      box-shadow: 0px 1px 2px rgba(60, 64, 67, 0.3), 0px 1px 3px 1px rgba(60, 64, 67, 0.15);\n",
              "      fill: #174EA6;\n",
              "    }\n",
              "\n",
              "    [theme=dark] .colab-df-convert {\n",
              "      background-color: #3B4455;\n",
              "      fill: #D2E3FC;\n",
              "    }\n",
              "\n",
              "    [theme=dark] .colab-df-convert:hover {\n",
              "      background-color: #434B5C;\n",
              "      box-shadow: 0px 1px 3px 1px rgba(0, 0, 0, 0.15);\n",
              "      filter: drop-shadow(0px 1px 2px rgba(0, 0, 0, 0.3));\n",
              "      fill: #FFFFFF;\n",
              "    }\n",
              "  </style>\n",
              "\n",
              "      <script>\n",
              "        const buttonEl =\n",
              "          document.querySelector('#df-8b4ac5db-37a1-4b50-8ade-3953bfb858b4 button.colab-df-convert');\n",
              "        buttonEl.style.display =\n",
              "          google.colab.kernel.accessAllowed ? 'block' : 'none';\n",
              "\n",
              "        async function convertToInteractive(key) {\n",
              "          const element = document.querySelector('#df-8b4ac5db-37a1-4b50-8ade-3953bfb858b4');\n",
              "          const dataTable =\n",
              "            await google.colab.kernel.invokeFunction('convertToInteractive',\n",
              "                                                     [key], {});\n",
              "          if (!dataTable) return;\n",
              "\n",
              "          const docLinkHtml = 'Like what you see? Visit the ' +\n",
              "            '<a target=\"_blank\" href=https://colab.research.google.com/notebooks/data_table.ipynb>data table notebook</a>'\n",
              "            + ' to learn more about interactive tables.';\n",
              "          element.innerHTML = '';\n",
              "          dataTable['output_type'] = 'display_data';\n",
              "          await google.colab.output.renderOutput(dataTable, element);\n",
              "          const docLink = document.createElement('div');\n",
              "          docLink.innerHTML = docLinkHtml;\n",
              "          element.appendChild(docLink);\n",
              "        }\n",
              "      </script>\n",
              "    </div>\n",
              "  </div>\n",
              "  "
            ]
          },
          "metadata": {},
          "execution_count": 153
        }
      ]
    },
    {
      "cell_type": "code",
      "source": [
        "covid_df.sort_values('new_cases').head(10)"
      ],
      "metadata": {
        "colab": {
          "base_uri": "https://localhost:8080/",
          "height": 363
        },
        "outputId": "19af569b-aaca-4a13-ec82-ab50c6478aff",
        "id": "7mt7ZtyArgXU"
      },
      "execution_count": null,
      "outputs": [
        {
          "output_type": "execute_result",
          "data": {
            "text/plain": [
              "           date  new_cases  new_deaths  new_tests\n",
              "172  2020-06-20     -148.0        47.0    29875.0\n",
              "0    2019-12-31        0.0         0.0        NaN\n",
              "29   2020-01-29        0.0         0.0        NaN\n",
              "30   2020-01-30        0.0         0.0        NaN\n",
              "32   2020-02-01        0.0         0.0        NaN\n",
              "33   2020-02-02        0.0         0.0        NaN\n",
              "34   2020-02-03        0.0         0.0        NaN\n",
              "36   2020-02-05        0.0         0.0        NaN\n",
              "37   2020-02-06        0.0         0.0        NaN\n",
              "38   2020-02-07        0.0         0.0        NaN"
            ],
            "text/html": [
              "\n",
              "  <div id=\"df-2d6e5905-a9ad-44a1-b93b-9b8252d5ef92\">\n",
              "    <div class=\"colab-df-container\">\n",
              "      <div>\n",
              "<style scoped>\n",
              "    .dataframe tbody tr th:only-of-type {\n",
              "        vertical-align: middle;\n",
              "    }\n",
              "\n",
              "    .dataframe tbody tr th {\n",
              "        vertical-align: top;\n",
              "    }\n",
              "\n",
              "    .dataframe thead th {\n",
              "        text-align: right;\n",
              "    }\n",
              "</style>\n",
              "<table border=\"1\" class=\"dataframe\">\n",
              "  <thead>\n",
              "    <tr style=\"text-align: right;\">\n",
              "      <th></th>\n",
              "      <th>date</th>\n",
              "      <th>new_cases</th>\n",
              "      <th>new_deaths</th>\n",
              "      <th>new_tests</th>\n",
              "    </tr>\n",
              "  </thead>\n",
              "  <tbody>\n",
              "    <tr>\n",
              "      <th>172</th>\n",
              "      <td>2020-06-20</td>\n",
              "      <td>-148.0</td>\n",
              "      <td>47.0</td>\n",
              "      <td>29875.0</td>\n",
              "    </tr>\n",
              "    <tr>\n",
              "      <th>0</th>\n",
              "      <td>2019-12-31</td>\n",
              "      <td>0.0</td>\n",
              "      <td>0.0</td>\n",
              "      <td>NaN</td>\n",
              "    </tr>\n",
              "    <tr>\n",
              "      <th>29</th>\n",
              "      <td>2020-01-29</td>\n",
              "      <td>0.0</td>\n",
              "      <td>0.0</td>\n",
              "      <td>NaN</td>\n",
              "    </tr>\n",
              "    <tr>\n",
              "      <th>30</th>\n",
              "      <td>2020-01-30</td>\n",
              "      <td>0.0</td>\n",
              "      <td>0.0</td>\n",
              "      <td>NaN</td>\n",
              "    </tr>\n",
              "    <tr>\n",
              "      <th>32</th>\n",
              "      <td>2020-02-01</td>\n",
              "      <td>0.0</td>\n",
              "      <td>0.0</td>\n",
              "      <td>NaN</td>\n",
              "    </tr>\n",
              "    <tr>\n",
              "      <th>33</th>\n",
              "      <td>2020-02-02</td>\n",
              "      <td>0.0</td>\n",
              "      <td>0.0</td>\n",
              "      <td>NaN</td>\n",
              "    </tr>\n",
              "    <tr>\n",
              "      <th>34</th>\n",
              "      <td>2020-02-03</td>\n",
              "      <td>0.0</td>\n",
              "      <td>0.0</td>\n",
              "      <td>NaN</td>\n",
              "    </tr>\n",
              "    <tr>\n",
              "      <th>36</th>\n",
              "      <td>2020-02-05</td>\n",
              "      <td>0.0</td>\n",
              "      <td>0.0</td>\n",
              "      <td>NaN</td>\n",
              "    </tr>\n",
              "    <tr>\n",
              "      <th>37</th>\n",
              "      <td>2020-02-06</td>\n",
              "      <td>0.0</td>\n",
              "      <td>0.0</td>\n",
              "      <td>NaN</td>\n",
              "    </tr>\n",
              "    <tr>\n",
              "      <th>38</th>\n",
              "      <td>2020-02-07</td>\n",
              "      <td>0.0</td>\n",
              "      <td>0.0</td>\n",
              "      <td>NaN</td>\n",
              "    </tr>\n",
              "  </tbody>\n",
              "</table>\n",
              "</div>\n",
              "      <button class=\"colab-df-convert\" onclick=\"convertToInteractive('df-2d6e5905-a9ad-44a1-b93b-9b8252d5ef92')\"\n",
              "              title=\"Convert this dataframe to an interactive table.\"\n",
              "              style=\"display:none;\">\n",
              "        \n",
              "  <svg xmlns=\"http://www.w3.org/2000/svg\" height=\"24px\"viewBox=\"0 0 24 24\"\n",
              "       width=\"24px\">\n",
              "    <path d=\"M0 0h24v24H0V0z\" fill=\"none\"/>\n",
              "    <path d=\"M18.56 5.44l.94 2.06.94-2.06 2.06-.94-2.06-.94-.94-2.06-.94 2.06-2.06.94zm-11 1L8.5 8.5l.94-2.06 2.06-.94-2.06-.94L8.5 2.5l-.94 2.06-2.06.94zm10 10l.94 2.06.94-2.06 2.06-.94-2.06-.94-.94-2.06-.94 2.06-2.06.94z\"/><path d=\"M17.41 7.96l-1.37-1.37c-.4-.4-.92-.59-1.43-.59-.52 0-1.04.2-1.43.59L10.3 9.45l-7.72 7.72c-.78.78-.78 2.05 0 2.83L4 21.41c.39.39.9.59 1.41.59.51 0 1.02-.2 1.41-.59l7.78-7.78 2.81-2.81c.8-.78.8-2.07 0-2.86zM5.41 20L4 18.59l7.72-7.72 1.47 1.35L5.41 20z\"/>\n",
              "  </svg>\n",
              "      </button>\n",
              "      \n",
              "  <style>\n",
              "    .colab-df-container {\n",
              "      display:flex;\n",
              "      flex-wrap:wrap;\n",
              "      gap: 12px;\n",
              "    }\n",
              "\n",
              "    .colab-df-convert {\n",
              "      background-color: #E8F0FE;\n",
              "      border: none;\n",
              "      border-radius: 50%;\n",
              "      cursor: pointer;\n",
              "      display: none;\n",
              "      fill: #1967D2;\n",
              "      height: 32px;\n",
              "      padding: 0 0 0 0;\n",
              "      width: 32px;\n",
              "    }\n",
              "\n",
              "    .colab-df-convert:hover {\n",
              "      background-color: #E2EBFA;\n",
              "      box-shadow: 0px 1px 2px rgba(60, 64, 67, 0.3), 0px 1px 3px 1px rgba(60, 64, 67, 0.15);\n",
              "      fill: #174EA6;\n",
              "    }\n",
              "\n",
              "    [theme=dark] .colab-df-convert {\n",
              "      background-color: #3B4455;\n",
              "      fill: #D2E3FC;\n",
              "    }\n",
              "\n",
              "    [theme=dark] .colab-df-convert:hover {\n",
              "      background-color: #434B5C;\n",
              "      box-shadow: 0px 1px 3px 1px rgba(0, 0, 0, 0.15);\n",
              "      filter: drop-shadow(0px 1px 2px rgba(0, 0, 0, 0.3));\n",
              "      fill: #FFFFFF;\n",
              "    }\n",
              "  </style>\n",
              "\n",
              "      <script>\n",
              "        const buttonEl =\n",
              "          document.querySelector('#df-2d6e5905-a9ad-44a1-b93b-9b8252d5ef92 button.colab-df-convert');\n",
              "        buttonEl.style.display =\n",
              "          google.colab.kernel.accessAllowed ? 'block' : 'none';\n",
              "\n",
              "        async function convertToInteractive(key) {\n",
              "          const element = document.querySelector('#df-2d6e5905-a9ad-44a1-b93b-9b8252d5ef92');\n",
              "          const dataTable =\n",
              "            await google.colab.kernel.invokeFunction('convertToInteractive',\n",
              "                                                     [key], {});\n",
              "          if (!dataTable) return;\n",
              "\n",
              "          const docLinkHtml = 'Like what you see? Visit the ' +\n",
              "            '<a target=\"_blank\" href=https://colab.research.google.com/notebooks/data_table.ipynb>data table notebook</a>'\n",
              "            + ' to learn more about interactive tables.';\n",
              "          element.innerHTML = '';\n",
              "          dataTable['output_type'] = 'display_data';\n",
              "          await google.colab.output.renderOutput(dataTable, element);\n",
              "          const docLink = document.createElement('div');\n",
              "          docLink.innerHTML = docLinkHtml;\n",
              "          element.appendChild(docLink);\n",
              "        }\n",
              "      </script>\n",
              "    </div>\n",
              "  </div>\n",
              "  "
            ]
          },
          "metadata": {},
          "execution_count": 154
        }
      ]
    },
    {
      "cell_type": "code",
      "source": [
        "covid_df.loc[169:175]"
      ],
      "metadata": {
        "colab": {
          "base_uri": "https://localhost:8080/",
          "height": 269
        },
        "id": "C6iuOVUwGTg9",
        "outputId": "ba2bff00-0346-4137-a34d-349919e32cb6"
      },
      "execution_count": null,
      "outputs": [
        {
          "output_type": "execute_result",
          "data": {
            "text/plain": [
              "           date  new_cases  new_deaths  new_tests\n",
              "169  2020-06-17      210.0        34.0    33957.0\n",
              "170  2020-06-18      328.0        43.0    32921.0\n",
              "171  2020-06-19      331.0        66.0    28570.0\n",
              "172  2020-06-20     -148.0        47.0    29875.0\n",
              "173  2020-06-21      264.0        49.0    24581.0\n",
              "174  2020-06-22      224.0        24.0    16152.0\n",
              "175  2020-06-23      221.0        23.0    23225.0"
            ],
            "text/html": [
              "\n",
              "  <div id=\"df-ea095e7f-37ba-4e85-bbfc-557b591c822b\">\n",
              "    <div class=\"colab-df-container\">\n",
              "      <div>\n",
              "<style scoped>\n",
              "    .dataframe tbody tr th:only-of-type {\n",
              "        vertical-align: middle;\n",
              "    }\n",
              "\n",
              "    .dataframe tbody tr th {\n",
              "        vertical-align: top;\n",
              "    }\n",
              "\n",
              "    .dataframe thead th {\n",
              "        text-align: right;\n",
              "    }\n",
              "</style>\n",
              "<table border=\"1\" class=\"dataframe\">\n",
              "  <thead>\n",
              "    <tr style=\"text-align: right;\">\n",
              "      <th></th>\n",
              "      <th>date</th>\n",
              "      <th>new_cases</th>\n",
              "      <th>new_deaths</th>\n",
              "      <th>new_tests</th>\n",
              "    </tr>\n",
              "  </thead>\n",
              "  <tbody>\n",
              "    <tr>\n",
              "      <th>169</th>\n",
              "      <td>2020-06-17</td>\n",
              "      <td>210.0</td>\n",
              "      <td>34.0</td>\n",
              "      <td>33957.0</td>\n",
              "    </tr>\n",
              "    <tr>\n",
              "      <th>170</th>\n",
              "      <td>2020-06-18</td>\n",
              "      <td>328.0</td>\n",
              "      <td>43.0</td>\n",
              "      <td>32921.0</td>\n",
              "    </tr>\n",
              "    <tr>\n",
              "      <th>171</th>\n",
              "      <td>2020-06-19</td>\n",
              "      <td>331.0</td>\n",
              "      <td>66.0</td>\n",
              "      <td>28570.0</td>\n",
              "    </tr>\n",
              "    <tr>\n",
              "      <th>172</th>\n",
              "      <td>2020-06-20</td>\n",
              "      <td>-148.0</td>\n",
              "      <td>47.0</td>\n",
              "      <td>29875.0</td>\n",
              "    </tr>\n",
              "    <tr>\n",
              "      <th>173</th>\n",
              "      <td>2020-06-21</td>\n",
              "      <td>264.0</td>\n",
              "      <td>49.0</td>\n",
              "      <td>24581.0</td>\n",
              "    </tr>\n",
              "    <tr>\n",
              "      <th>174</th>\n",
              "      <td>2020-06-22</td>\n",
              "      <td>224.0</td>\n",
              "      <td>24.0</td>\n",
              "      <td>16152.0</td>\n",
              "    </tr>\n",
              "    <tr>\n",
              "      <th>175</th>\n",
              "      <td>2020-06-23</td>\n",
              "      <td>221.0</td>\n",
              "      <td>23.0</td>\n",
              "      <td>23225.0</td>\n",
              "    </tr>\n",
              "  </tbody>\n",
              "</table>\n",
              "</div>\n",
              "      <button class=\"colab-df-convert\" onclick=\"convertToInteractive('df-ea095e7f-37ba-4e85-bbfc-557b591c822b')\"\n",
              "              title=\"Convert this dataframe to an interactive table.\"\n",
              "              style=\"display:none;\">\n",
              "        \n",
              "  <svg xmlns=\"http://www.w3.org/2000/svg\" height=\"24px\"viewBox=\"0 0 24 24\"\n",
              "       width=\"24px\">\n",
              "    <path d=\"M0 0h24v24H0V0z\" fill=\"none\"/>\n",
              "    <path d=\"M18.56 5.44l.94 2.06.94-2.06 2.06-.94-2.06-.94-.94-2.06-.94 2.06-2.06.94zm-11 1L8.5 8.5l.94-2.06 2.06-.94-2.06-.94L8.5 2.5l-.94 2.06-2.06.94zm10 10l.94 2.06.94-2.06 2.06-.94-2.06-.94-.94-2.06-.94 2.06-2.06.94z\"/><path d=\"M17.41 7.96l-1.37-1.37c-.4-.4-.92-.59-1.43-.59-.52 0-1.04.2-1.43.59L10.3 9.45l-7.72 7.72c-.78.78-.78 2.05 0 2.83L4 21.41c.39.39.9.59 1.41.59.51 0 1.02-.2 1.41-.59l7.78-7.78 2.81-2.81c.8-.78.8-2.07 0-2.86zM5.41 20L4 18.59l7.72-7.72 1.47 1.35L5.41 20z\"/>\n",
              "  </svg>\n",
              "      </button>\n",
              "      \n",
              "  <style>\n",
              "    .colab-df-container {\n",
              "      display:flex;\n",
              "      flex-wrap:wrap;\n",
              "      gap: 12px;\n",
              "    }\n",
              "\n",
              "    .colab-df-convert {\n",
              "      background-color: #E8F0FE;\n",
              "      border: none;\n",
              "      border-radius: 50%;\n",
              "      cursor: pointer;\n",
              "      display: none;\n",
              "      fill: #1967D2;\n",
              "      height: 32px;\n",
              "      padding: 0 0 0 0;\n",
              "      width: 32px;\n",
              "    }\n",
              "\n",
              "    .colab-df-convert:hover {\n",
              "      background-color: #E2EBFA;\n",
              "      box-shadow: 0px 1px 2px rgba(60, 64, 67, 0.3), 0px 1px 3px 1px rgba(60, 64, 67, 0.15);\n",
              "      fill: #174EA6;\n",
              "    }\n",
              "\n",
              "    [theme=dark] .colab-df-convert {\n",
              "      background-color: #3B4455;\n",
              "      fill: #D2E3FC;\n",
              "    }\n",
              "\n",
              "    [theme=dark] .colab-df-convert:hover {\n",
              "      background-color: #434B5C;\n",
              "      box-shadow: 0px 1px 3px 1px rgba(0, 0, 0, 0.15);\n",
              "      filter: drop-shadow(0px 1px 2px rgba(0, 0, 0, 0.3));\n",
              "      fill: #FFFFFF;\n",
              "    }\n",
              "  </style>\n",
              "\n",
              "      <script>\n",
              "        const buttonEl =\n",
              "          document.querySelector('#df-ea095e7f-37ba-4e85-bbfc-557b591c822b button.colab-df-convert');\n",
              "        buttonEl.style.display =\n",
              "          google.colab.kernel.accessAllowed ? 'block' : 'none';\n",
              "\n",
              "        async function convertToInteractive(key) {\n",
              "          const element = document.querySelector('#df-ea095e7f-37ba-4e85-bbfc-557b591c822b');\n",
              "          const dataTable =\n",
              "            await google.colab.kernel.invokeFunction('convertToInteractive',\n",
              "                                                     [key], {});\n",
              "          if (!dataTable) return;\n",
              "\n",
              "          const docLinkHtml = 'Like what you see? Visit the ' +\n",
              "            '<a target=\"_blank\" href=https://colab.research.google.com/notebooks/data_table.ipynb>data table notebook</a>'\n",
              "            + ' to learn more about interactive tables.';\n",
              "          element.innerHTML = '';\n",
              "          dataTable['output_type'] = 'display_data';\n",
              "          await google.colab.output.renderOutput(dataTable, element);\n",
              "          const docLink = document.createElement('div');\n",
              "          docLink.innerHTML = docLinkHtml;\n",
              "          element.appendChild(docLink);\n",
              "        }\n",
              "      </script>\n",
              "    </div>\n",
              "  </div>\n",
              "  "
            ]
          },
          "metadata": {},
          "execution_count": 155
        }
      ]
    },
    {
      "cell_type": "code",
      "source": [
        "covid_df.at[172, 'new_cases'] = (covid_df.at[171, 'new_cases']+\n",
        "                                 covid_df.at[172, 'new_cases'])/2"
      ],
      "metadata": {
        "id": "TnFtzT_FGTj4"
      },
      "execution_count": null,
      "outputs": []
    },
    {
      "cell_type": "code",
      "source": [
        "covid_df.loc[169:175]"
      ],
      "metadata": {
        "colab": {
          "base_uri": "https://localhost:8080/",
          "height": 269
        },
        "id": "JtckZ1kSGTnP",
        "outputId": "ac14bb96-9187-4aa4-c918-a0b58ce9e47d"
      },
      "execution_count": null,
      "outputs": [
        {
          "output_type": "execute_result",
          "data": {
            "text/plain": [
              "           date  new_cases  new_deaths  new_tests\n",
              "169  2020-06-17      210.0        34.0    33957.0\n",
              "170  2020-06-18      328.0        43.0    32921.0\n",
              "171  2020-06-19      331.0        66.0    28570.0\n",
              "172  2020-06-20       91.5        47.0    29875.0\n",
              "173  2020-06-21      264.0        49.0    24581.0\n",
              "174  2020-06-22      224.0        24.0    16152.0\n",
              "175  2020-06-23      221.0        23.0    23225.0"
            ],
            "text/html": [
              "\n",
              "  <div id=\"df-d720c886-7721-4828-92db-3fde7c06a19d\">\n",
              "    <div class=\"colab-df-container\">\n",
              "      <div>\n",
              "<style scoped>\n",
              "    .dataframe tbody tr th:only-of-type {\n",
              "        vertical-align: middle;\n",
              "    }\n",
              "\n",
              "    .dataframe tbody tr th {\n",
              "        vertical-align: top;\n",
              "    }\n",
              "\n",
              "    .dataframe thead th {\n",
              "        text-align: right;\n",
              "    }\n",
              "</style>\n",
              "<table border=\"1\" class=\"dataframe\">\n",
              "  <thead>\n",
              "    <tr style=\"text-align: right;\">\n",
              "      <th></th>\n",
              "      <th>date</th>\n",
              "      <th>new_cases</th>\n",
              "      <th>new_deaths</th>\n",
              "      <th>new_tests</th>\n",
              "    </tr>\n",
              "  </thead>\n",
              "  <tbody>\n",
              "    <tr>\n",
              "      <th>169</th>\n",
              "      <td>2020-06-17</td>\n",
              "      <td>210.0</td>\n",
              "      <td>34.0</td>\n",
              "      <td>33957.0</td>\n",
              "    </tr>\n",
              "    <tr>\n",
              "      <th>170</th>\n",
              "      <td>2020-06-18</td>\n",
              "      <td>328.0</td>\n",
              "      <td>43.0</td>\n",
              "      <td>32921.0</td>\n",
              "    </tr>\n",
              "    <tr>\n",
              "      <th>171</th>\n",
              "      <td>2020-06-19</td>\n",
              "      <td>331.0</td>\n",
              "      <td>66.0</td>\n",
              "      <td>28570.0</td>\n",
              "    </tr>\n",
              "    <tr>\n",
              "      <th>172</th>\n",
              "      <td>2020-06-20</td>\n",
              "      <td>91.5</td>\n",
              "      <td>47.0</td>\n",
              "      <td>29875.0</td>\n",
              "    </tr>\n",
              "    <tr>\n",
              "      <th>173</th>\n",
              "      <td>2020-06-21</td>\n",
              "      <td>264.0</td>\n",
              "      <td>49.0</td>\n",
              "      <td>24581.0</td>\n",
              "    </tr>\n",
              "    <tr>\n",
              "      <th>174</th>\n",
              "      <td>2020-06-22</td>\n",
              "      <td>224.0</td>\n",
              "      <td>24.0</td>\n",
              "      <td>16152.0</td>\n",
              "    </tr>\n",
              "    <tr>\n",
              "      <th>175</th>\n",
              "      <td>2020-06-23</td>\n",
              "      <td>221.0</td>\n",
              "      <td>23.0</td>\n",
              "      <td>23225.0</td>\n",
              "    </tr>\n",
              "  </tbody>\n",
              "</table>\n",
              "</div>\n",
              "      <button class=\"colab-df-convert\" onclick=\"convertToInteractive('df-d720c886-7721-4828-92db-3fde7c06a19d')\"\n",
              "              title=\"Convert this dataframe to an interactive table.\"\n",
              "              style=\"display:none;\">\n",
              "        \n",
              "  <svg xmlns=\"http://www.w3.org/2000/svg\" height=\"24px\"viewBox=\"0 0 24 24\"\n",
              "       width=\"24px\">\n",
              "    <path d=\"M0 0h24v24H0V0z\" fill=\"none\"/>\n",
              "    <path d=\"M18.56 5.44l.94 2.06.94-2.06 2.06-.94-2.06-.94-.94-2.06-.94 2.06-2.06.94zm-11 1L8.5 8.5l.94-2.06 2.06-.94-2.06-.94L8.5 2.5l-.94 2.06-2.06.94zm10 10l.94 2.06.94-2.06 2.06-.94-2.06-.94-.94-2.06-.94 2.06-2.06.94z\"/><path d=\"M17.41 7.96l-1.37-1.37c-.4-.4-.92-.59-1.43-.59-.52 0-1.04.2-1.43.59L10.3 9.45l-7.72 7.72c-.78.78-.78 2.05 0 2.83L4 21.41c.39.39.9.59 1.41.59.51 0 1.02-.2 1.41-.59l7.78-7.78 2.81-2.81c.8-.78.8-2.07 0-2.86zM5.41 20L4 18.59l7.72-7.72 1.47 1.35L5.41 20z\"/>\n",
              "  </svg>\n",
              "      </button>\n",
              "      \n",
              "  <style>\n",
              "    .colab-df-container {\n",
              "      display:flex;\n",
              "      flex-wrap:wrap;\n",
              "      gap: 12px;\n",
              "    }\n",
              "\n",
              "    .colab-df-convert {\n",
              "      background-color: #E8F0FE;\n",
              "      border: none;\n",
              "      border-radius: 50%;\n",
              "      cursor: pointer;\n",
              "      display: none;\n",
              "      fill: #1967D2;\n",
              "      height: 32px;\n",
              "      padding: 0 0 0 0;\n",
              "      width: 32px;\n",
              "    }\n",
              "\n",
              "    .colab-df-convert:hover {\n",
              "      background-color: #E2EBFA;\n",
              "      box-shadow: 0px 1px 2px rgba(60, 64, 67, 0.3), 0px 1px 3px 1px rgba(60, 64, 67, 0.15);\n",
              "      fill: #174EA6;\n",
              "    }\n",
              "\n",
              "    [theme=dark] .colab-df-convert {\n",
              "      background-color: #3B4455;\n",
              "      fill: #D2E3FC;\n",
              "    }\n",
              "\n",
              "    [theme=dark] .colab-df-convert:hover {\n",
              "      background-color: #434B5C;\n",
              "      box-shadow: 0px 1px 3px 1px rgba(0, 0, 0, 0.15);\n",
              "      filter: drop-shadow(0px 1px 2px rgba(0, 0, 0, 0.3));\n",
              "      fill: #FFFFFF;\n",
              "    }\n",
              "  </style>\n",
              "\n",
              "      <script>\n",
              "        const buttonEl =\n",
              "          document.querySelector('#df-d720c886-7721-4828-92db-3fde7c06a19d button.colab-df-convert');\n",
              "        buttonEl.style.display =\n",
              "          google.colab.kernel.accessAllowed ? 'block' : 'none';\n",
              "\n",
              "        async function convertToInteractive(key) {\n",
              "          const element = document.querySelector('#df-d720c886-7721-4828-92db-3fde7c06a19d');\n",
              "          const dataTable =\n",
              "            await google.colab.kernel.invokeFunction('convertToInteractive',\n",
              "                                                     [key], {});\n",
              "          if (!dataTable) return;\n",
              "\n",
              "          const docLinkHtml = 'Like what you see? Visit the ' +\n",
              "            '<a target=\"_blank\" href=https://colab.research.google.com/notebooks/data_table.ipynb>data table notebook</a>'\n",
              "            + ' to learn more about interactive tables.';\n",
              "          element.innerHTML = '';\n",
              "          dataTable['output_type'] = 'display_data';\n",
              "          await google.colab.output.renderOutput(dataTable, element);\n",
              "          const docLink = document.createElement('div');\n",
              "          docLink.innerHTML = docLinkHtml;\n",
              "          element.appendChild(docLink);\n",
              "        }\n",
              "      </script>\n",
              "    </div>\n",
              "  </div>\n",
              "  "
            ]
          },
          "metadata": {},
          "execution_count": 157
        }
      ]
    },
    {
      "cell_type": "code",
      "source": [
        "# currently stored as an object, must convert to a datetime\n",
        "covid_df.date"
      ],
      "metadata": {
        "colab": {
          "base_uri": "https://localhost:8080/"
        },
        "id": "qrG0AixCGTql",
        "outputId": "f90c964b-d9ee-4e8f-bdd0-573709285bce"
      },
      "execution_count": null,
      "outputs": [
        {
          "output_type": "execute_result",
          "data": {
            "text/plain": [
              "0      2019-12-31\n",
              "1      2020-01-01\n",
              "2      2020-01-02\n",
              "3      2020-01-03\n",
              "4      2020-01-04\n",
              "          ...    \n",
              "243    2020-08-30\n",
              "244    2020-08-31\n",
              "245    2020-09-01\n",
              "246    2020-09-02\n",
              "247    2020-09-03\n",
              "Name: date, Length: 248, dtype: object"
            ]
          },
          "metadata": {},
          "execution_count": 158
        }
      ]
    },
    {
      "cell_type": "code",
      "source": [
        "covid_df['date'] = pd.to_datetime(covid_df.date)"
      ],
      "metadata": {
        "id": "0sMCMgNeGTuW"
      },
      "execution_count": null,
      "outputs": []
    },
    {
      "cell_type": "code",
      "source": [
        "covid_df['date']"
      ],
      "metadata": {
        "colab": {
          "base_uri": "https://localhost:8080/"
        },
        "id": "SywkSpXtGTx8",
        "outputId": "a8ce67ff-9ddc-4ab8-ed08-dd110ab4a418"
      },
      "execution_count": null,
      "outputs": [
        {
          "output_type": "execute_result",
          "data": {
            "text/plain": [
              "0     2019-12-31\n",
              "1     2020-01-01\n",
              "2     2020-01-02\n",
              "3     2020-01-03\n",
              "4     2020-01-04\n",
              "         ...    \n",
              "243   2020-08-30\n",
              "244   2020-08-31\n",
              "245   2020-09-01\n",
              "246   2020-09-02\n",
              "247   2020-09-03\n",
              "Name: date, Length: 248, dtype: datetime64[ns]"
            ]
          },
          "metadata": {},
          "execution_count": 160
        }
      ]
    },
    {
      "cell_type": "code",
      "source": [
        "#extracting different parts of the data into seperate columns\n",
        "\n",
        "covid_df['year'] = pd.DatetimeIndex(covid_df.date).year\n",
        "covid_df['month'] = pd.DatetimeIndex(covid_df.date).month\n",
        "covid_df['day'] = pd.DatetimeIndex(covid_df.date).day\n",
        "covid_df['weekday'] = pd.DatetimeIndex(covid_df.date).weekday"
      ],
      "metadata": {
        "id": "F-yI_NnskafS"
      },
      "execution_count": null,
      "outputs": []
    },
    {
      "cell_type": "code",
      "source": [
        "covid_df"
      ],
      "metadata": {
        "colab": {
          "base_uri": "https://localhost:8080/",
          "height": 424
        },
        "id": "zNqtXfMekaiD",
        "outputId": "67fee72b-3238-48ff-b75f-7e005e6742cd"
      },
      "execution_count": null,
      "outputs": [
        {
          "output_type": "execute_result",
          "data": {
            "text/plain": [
              "          date  new_cases  new_deaths  new_tests  year  month  day  weekday\n",
              "0   2019-12-31        0.0         0.0        NaN  2019     12   31        1\n",
              "1   2020-01-01        0.0         0.0        NaN  2020      1    1        2\n",
              "2   2020-01-02        0.0         0.0        NaN  2020      1    2        3\n",
              "3   2020-01-03        0.0         0.0        NaN  2020      1    3        4\n",
              "4   2020-01-04        0.0         0.0        NaN  2020      1    4        5\n",
              "..         ...        ...         ...        ...   ...    ...  ...      ...\n",
              "243 2020-08-30     1444.0         1.0    53541.0  2020      8   30        6\n",
              "244 2020-08-31     1365.0         4.0    42583.0  2020      8   31        0\n",
              "245 2020-09-01      996.0         6.0    54395.0  2020      9    1        1\n",
              "246 2020-09-02      975.0         8.0        NaN  2020      9    2        2\n",
              "247 2020-09-03     1326.0         6.0        NaN  2020      9    3        3\n",
              "\n",
              "[248 rows x 8 columns]"
            ],
            "text/html": [
              "\n",
              "  <div id=\"df-140697f5-1fc7-4d6f-8a65-41fcfd2cc9d1\">\n",
              "    <div class=\"colab-df-container\">\n",
              "      <div>\n",
              "<style scoped>\n",
              "    .dataframe tbody tr th:only-of-type {\n",
              "        vertical-align: middle;\n",
              "    }\n",
              "\n",
              "    .dataframe tbody tr th {\n",
              "        vertical-align: top;\n",
              "    }\n",
              "\n",
              "    .dataframe thead th {\n",
              "        text-align: right;\n",
              "    }\n",
              "</style>\n",
              "<table border=\"1\" class=\"dataframe\">\n",
              "  <thead>\n",
              "    <tr style=\"text-align: right;\">\n",
              "      <th></th>\n",
              "      <th>date</th>\n",
              "      <th>new_cases</th>\n",
              "      <th>new_deaths</th>\n",
              "      <th>new_tests</th>\n",
              "      <th>year</th>\n",
              "      <th>month</th>\n",
              "      <th>day</th>\n",
              "      <th>weekday</th>\n",
              "    </tr>\n",
              "  </thead>\n",
              "  <tbody>\n",
              "    <tr>\n",
              "      <th>0</th>\n",
              "      <td>2019-12-31</td>\n",
              "      <td>0.0</td>\n",
              "      <td>0.0</td>\n",
              "      <td>NaN</td>\n",
              "      <td>2019</td>\n",
              "      <td>12</td>\n",
              "      <td>31</td>\n",
              "      <td>1</td>\n",
              "    </tr>\n",
              "    <tr>\n",
              "      <th>1</th>\n",
              "      <td>2020-01-01</td>\n",
              "      <td>0.0</td>\n",
              "      <td>0.0</td>\n",
              "      <td>NaN</td>\n",
              "      <td>2020</td>\n",
              "      <td>1</td>\n",
              "      <td>1</td>\n",
              "      <td>2</td>\n",
              "    </tr>\n",
              "    <tr>\n",
              "      <th>2</th>\n",
              "      <td>2020-01-02</td>\n",
              "      <td>0.0</td>\n",
              "      <td>0.0</td>\n",
              "      <td>NaN</td>\n",
              "      <td>2020</td>\n",
              "      <td>1</td>\n",
              "      <td>2</td>\n",
              "      <td>3</td>\n",
              "    </tr>\n",
              "    <tr>\n",
              "      <th>3</th>\n",
              "      <td>2020-01-03</td>\n",
              "      <td>0.0</td>\n",
              "      <td>0.0</td>\n",
              "      <td>NaN</td>\n",
              "      <td>2020</td>\n",
              "      <td>1</td>\n",
              "      <td>3</td>\n",
              "      <td>4</td>\n",
              "    </tr>\n",
              "    <tr>\n",
              "      <th>4</th>\n",
              "      <td>2020-01-04</td>\n",
              "      <td>0.0</td>\n",
              "      <td>0.0</td>\n",
              "      <td>NaN</td>\n",
              "      <td>2020</td>\n",
              "      <td>1</td>\n",
              "      <td>4</td>\n",
              "      <td>5</td>\n",
              "    </tr>\n",
              "    <tr>\n",
              "      <th>...</th>\n",
              "      <td>...</td>\n",
              "      <td>...</td>\n",
              "      <td>...</td>\n",
              "      <td>...</td>\n",
              "      <td>...</td>\n",
              "      <td>...</td>\n",
              "      <td>...</td>\n",
              "      <td>...</td>\n",
              "    </tr>\n",
              "    <tr>\n",
              "      <th>243</th>\n",
              "      <td>2020-08-30</td>\n",
              "      <td>1444.0</td>\n",
              "      <td>1.0</td>\n",
              "      <td>53541.0</td>\n",
              "      <td>2020</td>\n",
              "      <td>8</td>\n",
              "      <td>30</td>\n",
              "      <td>6</td>\n",
              "    </tr>\n",
              "    <tr>\n",
              "      <th>244</th>\n",
              "      <td>2020-08-31</td>\n",
              "      <td>1365.0</td>\n",
              "      <td>4.0</td>\n",
              "      <td>42583.0</td>\n",
              "      <td>2020</td>\n",
              "      <td>8</td>\n",
              "      <td>31</td>\n",
              "      <td>0</td>\n",
              "    </tr>\n",
              "    <tr>\n",
              "      <th>245</th>\n",
              "      <td>2020-09-01</td>\n",
              "      <td>996.0</td>\n",
              "      <td>6.0</td>\n",
              "      <td>54395.0</td>\n",
              "      <td>2020</td>\n",
              "      <td>9</td>\n",
              "      <td>1</td>\n",
              "      <td>1</td>\n",
              "    </tr>\n",
              "    <tr>\n",
              "      <th>246</th>\n",
              "      <td>2020-09-02</td>\n",
              "      <td>975.0</td>\n",
              "      <td>8.0</td>\n",
              "      <td>NaN</td>\n",
              "      <td>2020</td>\n",
              "      <td>9</td>\n",
              "      <td>2</td>\n",
              "      <td>2</td>\n",
              "    </tr>\n",
              "    <tr>\n",
              "      <th>247</th>\n",
              "      <td>2020-09-03</td>\n",
              "      <td>1326.0</td>\n",
              "      <td>6.0</td>\n",
              "      <td>NaN</td>\n",
              "      <td>2020</td>\n",
              "      <td>9</td>\n",
              "      <td>3</td>\n",
              "      <td>3</td>\n",
              "    </tr>\n",
              "  </tbody>\n",
              "</table>\n",
              "<p>248 rows × 8 columns</p>\n",
              "</div>\n",
              "      <button class=\"colab-df-convert\" onclick=\"convertToInteractive('df-140697f5-1fc7-4d6f-8a65-41fcfd2cc9d1')\"\n",
              "              title=\"Convert this dataframe to an interactive table.\"\n",
              "              style=\"display:none;\">\n",
              "        \n",
              "  <svg xmlns=\"http://www.w3.org/2000/svg\" height=\"24px\"viewBox=\"0 0 24 24\"\n",
              "       width=\"24px\">\n",
              "    <path d=\"M0 0h24v24H0V0z\" fill=\"none\"/>\n",
              "    <path d=\"M18.56 5.44l.94 2.06.94-2.06 2.06-.94-2.06-.94-.94-2.06-.94 2.06-2.06.94zm-11 1L8.5 8.5l.94-2.06 2.06-.94-2.06-.94L8.5 2.5l-.94 2.06-2.06.94zm10 10l.94 2.06.94-2.06 2.06-.94-2.06-.94-.94-2.06-.94 2.06-2.06.94z\"/><path d=\"M17.41 7.96l-1.37-1.37c-.4-.4-.92-.59-1.43-.59-.52 0-1.04.2-1.43.59L10.3 9.45l-7.72 7.72c-.78.78-.78 2.05 0 2.83L4 21.41c.39.39.9.59 1.41.59.51 0 1.02-.2 1.41-.59l7.78-7.78 2.81-2.81c.8-.78.8-2.07 0-2.86zM5.41 20L4 18.59l7.72-7.72 1.47 1.35L5.41 20z\"/>\n",
              "  </svg>\n",
              "      </button>\n",
              "      \n",
              "  <style>\n",
              "    .colab-df-container {\n",
              "      display:flex;\n",
              "      flex-wrap:wrap;\n",
              "      gap: 12px;\n",
              "    }\n",
              "\n",
              "    .colab-df-convert {\n",
              "      background-color: #E8F0FE;\n",
              "      border: none;\n",
              "      border-radius: 50%;\n",
              "      cursor: pointer;\n",
              "      display: none;\n",
              "      fill: #1967D2;\n",
              "      height: 32px;\n",
              "      padding: 0 0 0 0;\n",
              "      width: 32px;\n",
              "    }\n",
              "\n",
              "    .colab-df-convert:hover {\n",
              "      background-color: #E2EBFA;\n",
              "      box-shadow: 0px 1px 2px rgba(60, 64, 67, 0.3), 0px 1px 3px 1px rgba(60, 64, 67, 0.15);\n",
              "      fill: #174EA6;\n",
              "    }\n",
              "\n",
              "    [theme=dark] .colab-df-convert {\n",
              "      background-color: #3B4455;\n",
              "      fill: #D2E3FC;\n",
              "    }\n",
              "\n",
              "    [theme=dark] .colab-df-convert:hover {\n",
              "      background-color: #434B5C;\n",
              "      box-shadow: 0px 1px 3px 1px rgba(0, 0, 0, 0.15);\n",
              "      filter: drop-shadow(0px 1px 2px rgba(0, 0, 0, 0.3));\n",
              "      fill: #FFFFFF;\n",
              "    }\n",
              "  </style>\n",
              "\n",
              "      <script>\n",
              "        const buttonEl =\n",
              "          document.querySelector('#df-140697f5-1fc7-4d6f-8a65-41fcfd2cc9d1 button.colab-df-convert');\n",
              "        buttonEl.style.display =\n",
              "          google.colab.kernel.accessAllowed ? 'block' : 'none';\n",
              "\n",
              "        async function convertToInteractive(key) {\n",
              "          const element = document.querySelector('#df-140697f5-1fc7-4d6f-8a65-41fcfd2cc9d1');\n",
              "          const dataTable =\n",
              "            await google.colab.kernel.invokeFunction('convertToInteractive',\n",
              "                                                     [key], {});\n",
              "          if (!dataTable) return;\n",
              "\n",
              "          const docLinkHtml = 'Like what you see? Visit the ' +\n",
              "            '<a target=\"_blank\" href=https://colab.research.google.com/notebooks/data_table.ipynb>data table notebook</a>'\n",
              "            + ' to learn more about interactive tables.';\n",
              "          element.innerHTML = '';\n",
              "          dataTable['output_type'] = 'display_data';\n",
              "          await google.colab.output.renderOutput(dataTable, element);\n",
              "          const docLink = document.createElement('div');\n",
              "          docLink.innerHTML = docLinkHtml;\n",
              "          element.appendChild(docLink);\n",
              "        }\n",
              "      </script>\n",
              "    </div>\n",
              "  </div>\n",
              "  "
            ]
          },
          "metadata": {},
          "execution_count": 162
        }
      ]
    },
    {
      "cell_type": "code",
      "source": [
        "covid_df_may = covid_df[covid_df.month == 5]\n",
        "covid_df_may"
      ],
      "metadata": {
        "colab": {
          "base_uri": "https://localhost:8080/",
          "height": 1000
        },
        "id": "shBkgb-fkaky",
        "outputId": "8ff8dbdd-9de1-4c41-97e6-6d9c5c56edbb"
      },
      "execution_count": null,
      "outputs": [
        {
          "output_type": "execute_result",
          "data": {
            "text/plain": [
              "          date  new_cases  new_deaths  new_tests  year  month  day  weekday\n",
              "122 2020-05-01     1872.0       285.0    43732.0  2020      5    1        4\n",
              "123 2020-05-02     1965.0       269.0    31231.0  2020      5    2        5\n",
              "124 2020-05-03     1900.0       474.0    27047.0  2020      5    3        6\n",
              "125 2020-05-04     1389.0       174.0    22999.0  2020      5    4        0\n",
              "126 2020-05-05     1221.0       195.0    32211.0  2020      5    5        1\n",
              "127 2020-05-06     1075.0       236.0    37771.0  2020      5    6        2\n",
              "128 2020-05-07     1444.0       369.0    13665.0  2020      5    7        3\n",
              "129 2020-05-08     1401.0       274.0    45428.0  2020      5    8        4\n",
              "130 2020-05-09     1327.0       243.0    36091.0  2020      5    9        5\n",
              "131 2020-05-10     1083.0       194.0    31384.0  2020      5   10        6\n",
              "132 2020-05-11      802.0       165.0    25823.0  2020      5   11        0\n",
              "133 2020-05-12      744.0       179.0    39620.0  2020      5   12        1\n",
              "134 2020-05-13     1402.0       172.0    37049.0  2020      5   13        2\n",
              "135 2020-05-14      888.0       195.0    41131.0  2020      5   14        3\n",
              "136 2020-05-15      992.0       262.0    39027.0  2020      5   15        4\n",
              "137 2020-05-16      789.0       242.0    40657.0  2020      5   16        5\n",
              "138 2020-05-17      875.0       153.0    33505.0  2020      5   17        6\n",
              "139 2020-05-18      675.0       145.0    26101.0  2020      5   18        0\n",
              "140 2020-05-19      451.0        99.0    40226.0  2020      5   19        1\n",
              "141 2020-05-20      813.0       162.0    38617.0  2020      5   20        2\n",
              "142 2020-05-21      665.0       161.0    40644.0  2020      5   21        3\n",
              "143 2020-05-22      642.0       156.0    42987.0  2020      5   22        4\n",
              "144 2020-05-23      652.0       130.0    42579.0  2020      5   23        5\n",
              "145 2020-05-24      669.0       119.0    34206.0  2020      5   24        6\n",
              "146 2020-05-25      531.0        50.0    20676.0  2020      5   25        0\n",
              "147 2020-05-26      300.0        92.0    33944.0  2020      5   26        1\n",
              "148 2020-05-27      397.0        78.0    37299.0  2020      5   27        2\n",
              "149 2020-05-28      584.0       117.0    39838.0  2020      5   28        3\n",
              "150 2020-05-29      593.0        70.0    38233.0  2020      5   29        4\n",
              "151 2020-05-30      516.0        87.0    36051.0  2020      5   30        5\n",
              "152 2020-05-31      416.0       111.0    28948.0  2020      5   31        6"
            ],
            "text/html": [
              "\n",
              "  <div id=\"df-a3224808-91a1-40d8-b4dd-d048e317690d\">\n",
              "    <div class=\"colab-df-container\">\n",
              "      <div>\n",
              "<style scoped>\n",
              "    .dataframe tbody tr th:only-of-type {\n",
              "        vertical-align: middle;\n",
              "    }\n",
              "\n",
              "    .dataframe tbody tr th {\n",
              "        vertical-align: top;\n",
              "    }\n",
              "\n",
              "    .dataframe thead th {\n",
              "        text-align: right;\n",
              "    }\n",
              "</style>\n",
              "<table border=\"1\" class=\"dataframe\">\n",
              "  <thead>\n",
              "    <tr style=\"text-align: right;\">\n",
              "      <th></th>\n",
              "      <th>date</th>\n",
              "      <th>new_cases</th>\n",
              "      <th>new_deaths</th>\n",
              "      <th>new_tests</th>\n",
              "      <th>year</th>\n",
              "      <th>month</th>\n",
              "      <th>day</th>\n",
              "      <th>weekday</th>\n",
              "    </tr>\n",
              "  </thead>\n",
              "  <tbody>\n",
              "    <tr>\n",
              "      <th>122</th>\n",
              "      <td>2020-05-01</td>\n",
              "      <td>1872.0</td>\n",
              "      <td>285.0</td>\n",
              "      <td>43732.0</td>\n",
              "      <td>2020</td>\n",
              "      <td>5</td>\n",
              "      <td>1</td>\n",
              "      <td>4</td>\n",
              "    </tr>\n",
              "    <tr>\n",
              "      <th>123</th>\n",
              "      <td>2020-05-02</td>\n",
              "      <td>1965.0</td>\n",
              "      <td>269.0</td>\n",
              "      <td>31231.0</td>\n",
              "      <td>2020</td>\n",
              "      <td>5</td>\n",
              "      <td>2</td>\n",
              "      <td>5</td>\n",
              "    </tr>\n",
              "    <tr>\n",
              "      <th>124</th>\n",
              "      <td>2020-05-03</td>\n",
              "      <td>1900.0</td>\n",
              "      <td>474.0</td>\n",
              "      <td>27047.0</td>\n",
              "      <td>2020</td>\n",
              "      <td>5</td>\n",
              "      <td>3</td>\n",
              "      <td>6</td>\n",
              "    </tr>\n",
              "    <tr>\n",
              "      <th>125</th>\n",
              "      <td>2020-05-04</td>\n",
              "      <td>1389.0</td>\n",
              "      <td>174.0</td>\n",
              "      <td>22999.0</td>\n",
              "      <td>2020</td>\n",
              "      <td>5</td>\n",
              "      <td>4</td>\n",
              "      <td>0</td>\n",
              "    </tr>\n",
              "    <tr>\n",
              "      <th>126</th>\n",
              "      <td>2020-05-05</td>\n",
              "      <td>1221.0</td>\n",
              "      <td>195.0</td>\n",
              "      <td>32211.0</td>\n",
              "      <td>2020</td>\n",
              "      <td>5</td>\n",
              "      <td>5</td>\n",
              "      <td>1</td>\n",
              "    </tr>\n",
              "    <tr>\n",
              "      <th>127</th>\n",
              "      <td>2020-05-06</td>\n",
              "      <td>1075.0</td>\n",
              "      <td>236.0</td>\n",
              "      <td>37771.0</td>\n",
              "      <td>2020</td>\n",
              "      <td>5</td>\n",
              "      <td>6</td>\n",
              "      <td>2</td>\n",
              "    </tr>\n",
              "    <tr>\n",
              "      <th>128</th>\n",
              "      <td>2020-05-07</td>\n",
              "      <td>1444.0</td>\n",
              "      <td>369.0</td>\n",
              "      <td>13665.0</td>\n",
              "      <td>2020</td>\n",
              "      <td>5</td>\n",
              "      <td>7</td>\n",
              "      <td>3</td>\n",
              "    </tr>\n",
              "    <tr>\n",
              "      <th>129</th>\n",
              "      <td>2020-05-08</td>\n",
              "      <td>1401.0</td>\n",
              "      <td>274.0</td>\n",
              "      <td>45428.0</td>\n",
              "      <td>2020</td>\n",
              "      <td>5</td>\n",
              "      <td>8</td>\n",
              "      <td>4</td>\n",
              "    </tr>\n",
              "    <tr>\n",
              "      <th>130</th>\n",
              "      <td>2020-05-09</td>\n",
              "      <td>1327.0</td>\n",
              "      <td>243.0</td>\n",
              "      <td>36091.0</td>\n",
              "      <td>2020</td>\n",
              "      <td>5</td>\n",
              "      <td>9</td>\n",
              "      <td>5</td>\n",
              "    </tr>\n",
              "    <tr>\n",
              "      <th>131</th>\n",
              "      <td>2020-05-10</td>\n",
              "      <td>1083.0</td>\n",
              "      <td>194.0</td>\n",
              "      <td>31384.0</td>\n",
              "      <td>2020</td>\n",
              "      <td>5</td>\n",
              "      <td>10</td>\n",
              "      <td>6</td>\n",
              "    </tr>\n",
              "    <tr>\n",
              "      <th>132</th>\n",
              "      <td>2020-05-11</td>\n",
              "      <td>802.0</td>\n",
              "      <td>165.0</td>\n",
              "      <td>25823.0</td>\n",
              "      <td>2020</td>\n",
              "      <td>5</td>\n",
              "      <td>11</td>\n",
              "      <td>0</td>\n",
              "    </tr>\n",
              "    <tr>\n",
              "      <th>133</th>\n",
              "      <td>2020-05-12</td>\n",
              "      <td>744.0</td>\n",
              "      <td>179.0</td>\n",
              "      <td>39620.0</td>\n",
              "      <td>2020</td>\n",
              "      <td>5</td>\n",
              "      <td>12</td>\n",
              "      <td>1</td>\n",
              "    </tr>\n",
              "    <tr>\n",
              "      <th>134</th>\n",
              "      <td>2020-05-13</td>\n",
              "      <td>1402.0</td>\n",
              "      <td>172.0</td>\n",
              "      <td>37049.0</td>\n",
              "      <td>2020</td>\n",
              "      <td>5</td>\n",
              "      <td>13</td>\n",
              "      <td>2</td>\n",
              "    </tr>\n",
              "    <tr>\n",
              "      <th>135</th>\n",
              "      <td>2020-05-14</td>\n",
              "      <td>888.0</td>\n",
              "      <td>195.0</td>\n",
              "      <td>41131.0</td>\n",
              "      <td>2020</td>\n",
              "      <td>5</td>\n",
              "      <td>14</td>\n",
              "      <td>3</td>\n",
              "    </tr>\n",
              "    <tr>\n",
              "      <th>136</th>\n",
              "      <td>2020-05-15</td>\n",
              "      <td>992.0</td>\n",
              "      <td>262.0</td>\n",
              "      <td>39027.0</td>\n",
              "      <td>2020</td>\n",
              "      <td>5</td>\n",
              "      <td>15</td>\n",
              "      <td>4</td>\n",
              "    </tr>\n",
              "    <tr>\n",
              "      <th>137</th>\n",
              "      <td>2020-05-16</td>\n",
              "      <td>789.0</td>\n",
              "      <td>242.0</td>\n",
              "      <td>40657.0</td>\n",
              "      <td>2020</td>\n",
              "      <td>5</td>\n",
              "      <td>16</td>\n",
              "      <td>5</td>\n",
              "    </tr>\n",
              "    <tr>\n",
              "      <th>138</th>\n",
              "      <td>2020-05-17</td>\n",
              "      <td>875.0</td>\n",
              "      <td>153.0</td>\n",
              "      <td>33505.0</td>\n",
              "      <td>2020</td>\n",
              "      <td>5</td>\n",
              "      <td>17</td>\n",
              "      <td>6</td>\n",
              "    </tr>\n",
              "    <tr>\n",
              "      <th>139</th>\n",
              "      <td>2020-05-18</td>\n",
              "      <td>675.0</td>\n",
              "      <td>145.0</td>\n",
              "      <td>26101.0</td>\n",
              "      <td>2020</td>\n",
              "      <td>5</td>\n",
              "      <td>18</td>\n",
              "      <td>0</td>\n",
              "    </tr>\n",
              "    <tr>\n",
              "      <th>140</th>\n",
              "      <td>2020-05-19</td>\n",
              "      <td>451.0</td>\n",
              "      <td>99.0</td>\n",
              "      <td>40226.0</td>\n",
              "      <td>2020</td>\n",
              "      <td>5</td>\n",
              "      <td>19</td>\n",
              "      <td>1</td>\n",
              "    </tr>\n",
              "    <tr>\n",
              "      <th>141</th>\n",
              "      <td>2020-05-20</td>\n",
              "      <td>813.0</td>\n",
              "      <td>162.0</td>\n",
              "      <td>38617.0</td>\n",
              "      <td>2020</td>\n",
              "      <td>5</td>\n",
              "      <td>20</td>\n",
              "      <td>2</td>\n",
              "    </tr>\n",
              "    <tr>\n",
              "      <th>142</th>\n",
              "      <td>2020-05-21</td>\n",
              "      <td>665.0</td>\n",
              "      <td>161.0</td>\n",
              "      <td>40644.0</td>\n",
              "      <td>2020</td>\n",
              "      <td>5</td>\n",
              "      <td>21</td>\n",
              "      <td>3</td>\n",
              "    </tr>\n",
              "    <tr>\n",
              "      <th>143</th>\n",
              "      <td>2020-05-22</td>\n",
              "      <td>642.0</td>\n",
              "      <td>156.0</td>\n",
              "      <td>42987.0</td>\n",
              "      <td>2020</td>\n",
              "      <td>5</td>\n",
              "      <td>22</td>\n",
              "      <td>4</td>\n",
              "    </tr>\n",
              "    <tr>\n",
              "      <th>144</th>\n",
              "      <td>2020-05-23</td>\n",
              "      <td>652.0</td>\n",
              "      <td>130.0</td>\n",
              "      <td>42579.0</td>\n",
              "      <td>2020</td>\n",
              "      <td>5</td>\n",
              "      <td>23</td>\n",
              "      <td>5</td>\n",
              "    </tr>\n",
              "    <tr>\n",
              "      <th>145</th>\n",
              "      <td>2020-05-24</td>\n",
              "      <td>669.0</td>\n",
              "      <td>119.0</td>\n",
              "      <td>34206.0</td>\n",
              "      <td>2020</td>\n",
              "      <td>5</td>\n",
              "      <td>24</td>\n",
              "      <td>6</td>\n",
              "    </tr>\n",
              "    <tr>\n",
              "      <th>146</th>\n",
              "      <td>2020-05-25</td>\n",
              "      <td>531.0</td>\n",
              "      <td>50.0</td>\n",
              "      <td>20676.0</td>\n",
              "      <td>2020</td>\n",
              "      <td>5</td>\n",
              "      <td>25</td>\n",
              "      <td>0</td>\n",
              "    </tr>\n",
              "    <tr>\n",
              "      <th>147</th>\n",
              "      <td>2020-05-26</td>\n",
              "      <td>300.0</td>\n",
              "      <td>92.0</td>\n",
              "      <td>33944.0</td>\n",
              "      <td>2020</td>\n",
              "      <td>5</td>\n",
              "      <td>26</td>\n",
              "      <td>1</td>\n",
              "    </tr>\n",
              "    <tr>\n",
              "      <th>148</th>\n",
              "      <td>2020-05-27</td>\n",
              "      <td>397.0</td>\n",
              "      <td>78.0</td>\n",
              "      <td>37299.0</td>\n",
              "      <td>2020</td>\n",
              "      <td>5</td>\n",
              "      <td>27</td>\n",
              "      <td>2</td>\n",
              "    </tr>\n",
              "    <tr>\n",
              "      <th>149</th>\n",
              "      <td>2020-05-28</td>\n",
              "      <td>584.0</td>\n",
              "      <td>117.0</td>\n",
              "      <td>39838.0</td>\n",
              "      <td>2020</td>\n",
              "      <td>5</td>\n",
              "      <td>28</td>\n",
              "      <td>3</td>\n",
              "    </tr>\n",
              "    <tr>\n",
              "      <th>150</th>\n",
              "      <td>2020-05-29</td>\n",
              "      <td>593.0</td>\n",
              "      <td>70.0</td>\n",
              "      <td>38233.0</td>\n",
              "      <td>2020</td>\n",
              "      <td>5</td>\n",
              "      <td>29</td>\n",
              "      <td>4</td>\n",
              "    </tr>\n",
              "    <tr>\n",
              "      <th>151</th>\n",
              "      <td>2020-05-30</td>\n",
              "      <td>516.0</td>\n",
              "      <td>87.0</td>\n",
              "      <td>36051.0</td>\n",
              "      <td>2020</td>\n",
              "      <td>5</td>\n",
              "      <td>30</td>\n",
              "      <td>5</td>\n",
              "    </tr>\n",
              "    <tr>\n",
              "      <th>152</th>\n",
              "      <td>2020-05-31</td>\n",
              "      <td>416.0</td>\n",
              "      <td>111.0</td>\n",
              "      <td>28948.0</td>\n",
              "      <td>2020</td>\n",
              "      <td>5</td>\n",
              "      <td>31</td>\n",
              "      <td>6</td>\n",
              "    </tr>\n",
              "  </tbody>\n",
              "</table>\n",
              "</div>\n",
              "      <button class=\"colab-df-convert\" onclick=\"convertToInteractive('df-a3224808-91a1-40d8-b4dd-d048e317690d')\"\n",
              "              title=\"Convert this dataframe to an interactive table.\"\n",
              "              style=\"display:none;\">\n",
              "        \n",
              "  <svg xmlns=\"http://www.w3.org/2000/svg\" height=\"24px\"viewBox=\"0 0 24 24\"\n",
              "       width=\"24px\">\n",
              "    <path d=\"M0 0h24v24H0V0z\" fill=\"none\"/>\n",
              "    <path d=\"M18.56 5.44l.94 2.06.94-2.06 2.06-.94-2.06-.94-.94-2.06-.94 2.06-2.06.94zm-11 1L8.5 8.5l.94-2.06 2.06-.94-2.06-.94L8.5 2.5l-.94 2.06-2.06.94zm10 10l.94 2.06.94-2.06 2.06-.94-2.06-.94-.94-2.06-.94 2.06-2.06.94z\"/><path d=\"M17.41 7.96l-1.37-1.37c-.4-.4-.92-.59-1.43-.59-.52 0-1.04.2-1.43.59L10.3 9.45l-7.72 7.72c-.78.78-.78 2.05 0 2.83L4 21.41c.39.39.9.59 1.41.59.51 0 1.02-.2 1.41-.59l7.78-7.78 2.81-2.81c.8-.78.8-2.07 0-2.86zM5.41 20L4 18.59l7.72-7.72 1.47 1.35L5.41 20z\"/>\n",
              "  </svg>\n",
              "      </button>\n",
              "      \n",
              "  <style>\n",
              "    .colab-df-container {\n",
              "      display:flex;\n",
              "      flex-wrap:wrap;\n",
              "      gap: 12px;\n",
              "    }\n",
              "\n",
              "    .colab-df-convert {\n",
              "      background-color: #E8F0FE;\n",
              "      border: none;\n",
              "      border-radius: 50%;\n",
              "      cursor: pointer;\n",
              "      display: none;\n",
              "      fill: #1967D2;\n",
              "      height: 32px;\n",
              "      padding: 0 0 0 0;\n",
              "      width: 32px;\n",
              "    }\n",
              "\n",
              "    .colab-df-convert:hover {\n",
              "      background-color: #E2EBFA;\n",
              "      box-shadow: 0px 1px 2px rgba(60, 64, 67, 0.3), 0px 1px 3px 1px rgba(60, 64, 67, 0.15);\n",
              "      fill: #174EA6;\n",
              "    }\n",
              "\n",
              "    [theme=dark] .colab-df-convert {\n",
              "      background-color: #3B4455;\n",
              "      fill: #D2E3FC;\n",
              "    }\n",
              "\n",
              "    [theme=dark] .colab-df-convert:hover {\n",
              "      background-color: #434B5C;\n",
              "      box-shadow: 0px 1px 3px 1px rgba(0, 0, 0, 0.15);\n",
              "      filter: drop-shadow(0px 1px 2px rgba(0, 0, 0, 0.3));\n",
              "      fill: #FFFFFF;\n",
              "    }\n",
              "  </style>\n",
              "\n",
              "      <script>\n",
              "        const buttonEl =\n",
              "          document.querySelector('#df-a3224808-91a1-40d8-b4dd-d048e317690d button.colab-df-convert');\n",
              "        buttonEl.style.display =\n",
              "          google.colab.kernel.accessAllowed ? 'block' : 'none';\n",
              "\n",
              "        async function convertToInteractive(key) {\n",
              "          const element = document.querySelector('#df-a3224808-91a1-40d8-b4dd-d048e317690d');\n",
              "          const dataTable =\n",
              "            await google.colab.kernel.invokeFunction('convertToInteractive',\n",
              "                                                     [key], {});\n",
              "          if (!dataTable) return;\n",
              "\n",
              "          const docLinkHtml = 'Like what you see? Visit the ' +\n",
              "            '<a target=\"_blank\" href=https://colab.research.google.com/notebooks/data_table.ipynb>data table notebook</a>'\n",
              "            + ' to learn more about interactive tables.';\n",
              "          element.innerHTML = '';\n",
              "          dataTable['output_type'] = 'display_data';\n",
              "          await google.colab.output.renderOutput(dataTable, element);\n",
              "          const docLink = document.createElement('div');\n",
              "          docLink.innerHTML = docLinkHtml;\n",
              "          element.appendChild(docLink);\n",
              "        }\n",
              "      </script>\n",
              "    </div>\n",
              "  </div>\n",
              "  "
            ]
          },
          "metadata": {},
          "execution_count": 163
        }
      ]
    },
    {
      "cell_type": "code",
      "source": [
        "covid_df_may_metrics = covid_df_may[['new_cases', 'new_deaths', 'new_tests']]"
      ],
      "metadata": {
        "id": "3vrvSpDwkan0"
      },
      "execution_count": null,
      "outputs": []
    },
    {
      "cell_type": "code",
      "source": [
        "covid_df_may_metrics"
      ],
      "metadata": {
        "colab": {
          "base_uri": "https://localhost:8080/",
          "height": 1000
        },
        "id": "p0pU7O-Xkaq4",
        "outputId": "6334c1cb-fa9c-4ca7-d1ee-08ab3d334eed"
      },
      "execution_count": null,
      "outputs": [
        {
          "output_type": "execute_result",
          "data": {
            "text/plain": [
              "     new_cases  new_deaths  new_tests\n",
              "122     1872.0       285.0    43732.0\n",
              "123     1965.0       269.0    31231.0\n",
              "124     1900.0       474.0    27047.0\n",
              "125     1389.0       174.0    22999.0\n",
              "126     1221.0       195.0    32211.0\n",
              "127     1075.0       236.0    37771.0\n",
              "128     1444.0       369.0    13665.0\n",
              "129     1401.0       274.0    45428.0\n",
              "130     1327.0       243.0    36091.0\n",
              "131     1083.0       194.0    31384.0\n",
              "132      802.0       165.0    25823.0\n",
              "133      744.0       179.0    39620.0\n",
              "134     1402.0       172.0    37049.0\n",
              "135      888.0       195.0    41131.0\n",
              "136      992.0       262.0    39027.0\n",
              "137      789.0       242.0    40657.0\n",
              "138      875.0       153.0    33505.0\n",
              "139      675.0       145.0    26101.0\n",
              "140      451.0        99.0    40226.0\n",
              "141      813.0       162.0    38617.0\n",
              "142      665.0       161.0    40644.0\n",
              "143      642.0       156.0    42987.0\n",
              "144      652.0       130.0    42579.0\n",
              "145      669.0       119.0    34206.0\n",
              "146      531.0        50.0    20676.0\n",
              "147      300.0        92.0    33944.0\n",
              "148      397.0        78.0    37299.0\n",
              "149      584.0       117.0    39838.0\n",
              "150      593.0        70.0    38233.0\n",
              "151      516.0        87.0    36051.0\n",
              "152      416.0       111.0    28948.0"
            ],
            "text/html": [
              "\n",
              "  <div id=\"df-444f91f9-4327-4f1a-9b35-ee1fe662d7a3\">\n",
              "    <div class=\"colab-df-container\">\n",
              "      <div>\n",
              "<style scoped>\n",
              "    .dataframe tbody tr th:only-of-type {\n",
              "        vertical-align: middle;\n",
              "    }\n",
              "\n",
              "    .dataframe tbody tr th {\n",
              "        vertical-align: top;\n",
              "    }\n",
              "\n",
              "    .dataframe thead th {\n",
              "        text-align: right;\n",
              "    }\n",
              "</style>\n",
              "<table border=\"1\" class=\"dataframe\">\n",
              "  <thead>\n",
              "    <tr style=\"text-align: right;\">\n",
              "      <th></th>\n",
              "      <th>new_cases</th>\n",
              "      <th>new_deaths</th>\n",
              "      <th>new_tests</th>\n",
              "    </tr>\n",
              "  </thead>\n",
              "  <tbody>\n",
              "    <tr>\n",
              "      <th>122</th>\n",
              "      <td>1872.0</td>\n",
              "      <td>285.0</td>\n",
              "      <td>43732.0</td>\n",
              "    </tr>\n",
              "    <tr>\n",
              "      <th>123</th>\n",
              "      <td>1965.0</td>\n",
              "      <td>269.0</td>\n",
              "      <td>31231.0</td>\n",
              "    </tr>\n",
              "    <tr>\n",
              "      <th>124</th>\n",
              "      <td>1900.0</td>\n",
              "      <td>474.0</td>\n",
              "      <td>27047.0</td>\n",
              "    </tr>\n",
              "    <tr>\n",
              "      <th>125</th>\n",
              "      <td>1389.0</td>\n",
              "      <td>174.0</td>\n",
              "      <td>22999.0</td>\n",
              "    </tr>\n",
              "    <tr>\n",
              "      <th>126</th>\n",
              "      <td>1221.0</td>\n",
              "      <td>195.0</td>\n",
              "      <td>32211.0</td>\n",
              "    </tr>\n",
              "    <tr>\n",
              "      <th>127</th>\n",
              "      <td>1075.0</td>\n",
              "      <td>236.0</td>\n",
              "      <td>37771.0</td>\n",
              "    </tr>\n",
              "    <tr>\n",
              "      <th>128</th>\n",
              "      <td>1444.0</td>\n",
              "      <td>369.0</td>\n",
              "      <td>13665.0</td>\n",
              "    </tr>\n",
              "    <tr>\n",
              "      <th>129</th>\n",
              "      <td>1401.0</td>\n",
              "      <td>274.0</td>\n",
              "      <td>45428.0</td>\n",
              "    </tr>\n",
              "    <tr>\n",
              "      <th>130</th>\n",
              "      <td>1327.0</td>\n",
              "      <td>243.0</td>\n",
              "      <td>36091.0</td>\n",
              "    </tr>\n",
              "    <tr>\n",
              "      <th>131</th>\n",
              "      <td>1083.0</td>\n",
              "      <td>194.0</td>\n",
              "      <td>31384.0</td>\n",
              "    </tr>\n",
              "    <tr>\n",
              "      <th>132</th>\n",
              "      <td>802.0</td>\n",
              "      <td>165.0</td>\n",
              "      <td>25823.0</td>\n",
              "    </tr>\n",
              "    <tr>\n",
              "      <th>133</th>\n",
              "      <td>744.0</td>\n",
              "      <td>179.0</td>\n",
              "      <td>39620.0</td>\n",
              "    </tr>\n",
              "    <tr>\n",
              "      <th>134</th>\n",
              "      <td>1402.0</td>\n",
              "      <td>172.0</td>\n",
              "      <td>37049.0</td>\n",
              "    </tr>\n",
              "    <tr>\n",
              "      <th>135</th>\n",
              "      <td>888.0</td>\n",
              "      <td>195.0</td>\n",
              "      <td>41131.0</td>\n",
              "    </tr>\n",
              "    <tr>\n",
              "      <th>136</th>\n",
              "      <td>992.0</td>\n",
              "      <td>262.0</td>\n",
              "      <td>39027.0</td>\n",
              "    </tr>\n",
              "    <tr>\n",
              "      <th>137</th>\n",
              "      <td>789.0</td>\n",
              "      <td>242.0</td>\n",
              "      <td>40657.0</td>\n",
              "    </tr>\n",
              "    <tr>\n",
              "      <th>138</th>\n",
              "      <td>875.0</td>\n",
              "      <td>153.0</td>\n",
              "      <td>33505.0</td>\n",
              "    </tr>\n",
              "    <tr>\n",
              "      <th>139</th>\n",
              "      <td>675.0</td>\n",
              "      <td>145.0</td>\n",
              "      <td>26101.0</td>\n",
              "    </tr>\n",
              "    <tr>\n",
              "      <th>140</th>\n",
              "      <td>451.0</td>\n",
              "      <td>99.0</td>\n",
              "      <td>40226.0</td>\n",
              "    </tr>\n",
              "    <tr>\n",
              "      <th>141</th>\n",
              "      <td>813.0</td>\n",
              "      <td>162.0</td>\n",
              "      <td>38617.0</td>\n",
              "    </tr>\n",
              "    <tr>\n",
              "      <th>142</th>\n",
              "      <td>665.0</td>\n",
              "      <td>161.0</td>\n",
              "      <td>40644.0</td>\n",
              "    </tr>\n",
              "    <tr>\n",
              "      <th>143</th>\n",
              "      <td>642.0</td>\n",
              "      <td>156.0</td>\n",
              "      <td>42987.0</td>\n",
              "    </tr>\n",
              "    <tr>\n",
              "      <th>144</th>\n",
              "      <td>652.0</td>\n",
              "      <td>130.0</td>\n",
              "      <td>42579.0</td>\n",
              "    </tr>\n",
              "    <tr>\n",
              "      <th>145</th>\n",
              "      <td>669.0</td>\n",
              "      <td>119.0</td>\n",
              "      <td>34206.0</td>\n",
              "    </tr>\n",
              "    <tr>\n",
              "      <th>146</th>\n",
              "      <td>531.0</td>\n",
              "      <td>50.0</td>\n",
              "      <td>20676.0</td>\n",
              "    </tr>\n",
              "    <tr>\n",
              "      <th>147</th>\n",
              "      <td>300.0</td>\n",
              "      <td>92.0</td>\n",
              "      <td>33944.0</td>\n",
              "    </tr>\n",
              "    <tr>\n",
              "      <th>148</th>\n",
              "      <td>397.0</td>\n",
              "      <td>78.0</td>\n",
              "      <td>37299.0</td>\n",
              "    </tr>\n",
              "    <tr>\n",
              "      <th>149</th>\n",
              "      <td>584.0</td>\n",
              "      <td>117.0</td>\n",
              "      <td>39838.0</td>\n",
              "    </tr>\n",
              "    <tr>\n",
              "      <th>150</th>\n",
              "      <td>593.0</td>\n",
              "      <td>70.0</td>\n",
              "      <td>38233.0</td>\n",
              "    </tr>\n",
              "    <tr>\n",
              "      <th>151</th>\n",
              "      <td>516.0</td>\n",
              "      <td>87.0</td>\n",
              "      <td>36051.0</td>\n",
              "    </tr>\n",
              "    <tr>\n",
              "      <th>152</th>\n",
              "      <td>416.0</td>\n",
              "      <td>111.0</td>\n",
              "      <td>28948.0</td>\n",
              "    </tr>\n",
              "  </tbody>\n",
              "</table>\n",
              "</div>\n",
              "      <button class=\"colab-df-convert\" onclick=\"convertToInteractive('df-444f91f9-4327-4f1a-9b35-ee1fe662d7a3')\"\n",
              "              title=\"Convert this dataframe to an interactive table.\"\n",
              "              style=\"display:none;\">\n",
              "        \n",
              "  <svg xmlns=\"http://www.w3.org/2000/svg\" height=\"24px\"viewBox=\"0 0 24 24\"\n",
              "       width=\"24px\">\n",
              "    <path d=\"M0 0h24v24H0V0z\" fill=\"none\"/>\n",
              "    <path d=\"M18.56 5.44l.94 2.06.94-2.06 2.06-.94-2.06-.94-.94-2.06-.94 2.06-2.06.94zm-11 1L8.5 8.5l.94-2.06 2.06-.94-2.06-.94L8.5 2.5l-.94 2.06-2.06.94zm10 10l.94 2.06.94-2.06 2.06-.94-2.06-.94-.94-2.06-.94 2.06-2.06.94z\"/><path d=\"M17.41 7.96l-1.37-1.37c-.4-.4-.92-.59-1.43-.59-.52 0-1.04.2-1.43.59L10.3 9.45l-7.72 7.72c-.78.78-.78 2.05 0 2.83L4 21.41c.39.39.9.59 1.41.59.51 0 1.02-.2 1.41-.59l7.78-7.78 2.81-2.81c.8-.78.8-2.07 0-2.86zM5.41 20L4 18.59l7.72-7.72 1.47 1.35L5.41 20z\"/>\n",
              "  </svg>\n",
              "      </button>\n",
              "      \n",
              "  <style>\n",
              "    .colab-df-container {\n",
              "      display:flex;\n",
              "      flex-wrap:wrap;\n",
              "      gap: 12px;\n",
              "    }\n",
              "\n",
              "    .colab-df-convert {\n",
              "      background-color: #E8F0FE;\n",
              "      border: none;\n",
              "      border-radius: 50%;\n",
              "      cursor: pointer;\n",
              "      display: none;\n",
              "      fill: #1967D2;\n",
              "      height: 32px;\n",
              "      padding: 0 0 0 0;\n",
              "      width: 32px;\n",
              "    }\n",
              "\n",
              "    .colab-df-convert:hover {\n",
              "      background-color: #E2EBFA;\n",
              "      box-shadow: 0px 1px 2px rgba(60, 64, 67, 0.3), 0px 1px 3px 1px rgba(60, 64, 67, 0.15);\n",
              "      fill: #174EA6;\n",
              "    }\n",
              "\n",
              "    [theme=dark] .colab-df-convert {\n",
              "      background-color: #3B4455;\n",
              "      fill: #D2E3FC;\n",
              "    }\n",
              "\n",
              "    [theme=dark] .colab-df-convert:hover {\n",
              "      background-color: #434B5C;\n",
              "      box-shadow: 0px 1px 3px 1px rgba(0, 0, 0, 0.15);\n",
              "      filter: drop-shadow(0px 1px 2px rgba(0, 0, 0, 0.3));\n",
              "      fill: #FFFFFF;\n",
              "    }\n",
              "  </style>\n",
              "\n",
              "      <script>\n",
              "        const buttonEl =\n",
              "          document.querySelector('#df-444f91f9-4327-4f1a-9b35-ee1fe662d7a3 button.colab-df-convert');\n",
              "        buttonEl.style.display =\n",
              "          google.colab.kernel.accessAllowed ? 'block' : 'none';\n",
              "\n",
              "        async function convertToInteractive(key) {\n",
              "          const element = document.querySelector('#df-444f91f9-4327-4f1a-9b35-ee1fe662d7a3');\n",
              "          const dataTable =\n",
              "            await google.colab.kernel.invokeFunction('convertToInteractive',\n",
              "                                                     [key], {});\n",
              "          if (!dataTable) return;\n",
              "\n",
              "          const docLinkHtml = 'Like what you see? Visit the ' +\n",
              "            '<a target=\"_blank\" href=https://colab.research.google.com/notebooks/data_table.ipynb>data table notebook</a>'\n",
              "            + ' to learn more about interactive tables.';\n",
              "          element.innerHTML = '';\n",
              "          dataTable['output_type'] = 'display_data';\n",
              "          await google.colab.output.renderOutput(dataTable, element);\n",
              "          const docLink = document.createElement('div');\n",
              "          docLink.innerHTML = docLinkHtml;\n",
              "          element.appendChild(docLink);\n",
              "        }\n",
              "      </script>\n",
              "    </div>\n",
              "  </div>\n",
              "  "
            ]
          },
          "metadata": {},
          "execution_count": 165
        }
      ]
    },
    {
      "cell_type": "code",
      "source": [
        "covid_may_totals = covid_df_may_metrics.sum()"
      ],
      "metadata": {
        "id": "cxekTJdzkatg"
      },
      "execution_count": null,
      "outputs": []
    },
    {
      "cell_type": "code",
      "source": [
        "covid_may_totals"
      ],
      "metadata": {
        "colab": {
          "base_uri": "https://localhost:8080/"
        },
        "id": "V9raLnEYkawu",
        "outputId": "4805c2ef-8183-4b44-abd5-76471b9895f2"
      },
      "execution_count": null,
      "outputs": [
        {
          "output_type": "execute_result",
          "data": {
            "text/plain": [
              "new_cases       29073.0\n",
              "new_deaths       5658.0\n",
              "new_tests     1078720.0\n",
              "dtype: float64"
            ]
          },
          "metadata": {},
          "execution_count": 167
        }
      ]
    },
    {
      "cell_type": "code",
      "source": [
        "type(covid_may_totals)"
      ],
      "metadata": {
        "colab": {
          "base_uri": "https://localhost:8080/"
        },
        "id": "9JK1L-vvyOOZ",
        "outputId": "aff81836-db57-4dc3-df80-ceef90e1e016"
      },
      "execution_count": null,
      "outputs": [
        {
          "output_type": "execute_result",
          "data": {
            "text/plain": [
              "pandas.core.series.Series"
            ]
          },
          "metadata": {},
          "execution_count": 168
        }
      ]
    },
    {
      "cell_type": "code",
      "source": [
        "covid_df[covid_df.month == 5][['new_cases', 'new_deaths', 'new_tests']].sum()"
      ],
      "metadata": {
        "colab": {
          "base_uri": "https://localhost:8080/"
        },
        "id": "IOzl-ok8yORp",
        "outputId": "e6bfb808-aacb-4b0b-9dbe-1935e45cc0dd"
      },
      "execution_count": null,
      "outputs": [
        {
          "output_type": "execute_result",
          "data": {
            "text/plain": [
              "new_cases       29073.0\n",
              "new_deaths       5658.0\n",
              "new_tests     1078720.0\n",
              "dtype: float64"
            ]
          },
          "metadata": {},
          "execution_count": 169
        }
      ]
    },
    {
      "cell_type": "code",
      "source": [
        "covid_df.new_cases.mean()"
      ],
      "metadata": {
        "colab": {
          "base_uri": "https://localhost:8080/"
        },
        "id": "14LMcnsXyOXQ",
        "outputId": "e0a7c4fe-7974-460c-c81d-2cc5feb571c3"
      },
      "execution_count": null,
      "outputs": [
        {
          "output_type": "execute_result",
          "data": {
            "text/plain": [
              "1095.7842741935483"
            ]
          },
          "metadata": {},
          "execution_count": 170
        }
      ]
    },
    {
      "cell_type": "code",
      "source": [
        "covid_df[covid_df.weekday == 6].new_cases.mean()"
      ],
      "metadata": {
        "colab": {
          "base_uri": "https://localhost:8080/"
        },
        "id": "q72n4TpzyOZo",
        "outputId": "73b0036c-346d-4cd3-da75-528a5cc7b5c6"
      },
      "execution_count": null,
      "outputs": [
        {
          "output_type": "execute_result",
          "data": {
            "text/plain": [
              "1247.2571428571428"
            ]
          },
          "metadata": {},
          "execution_count": 171
        }
      ]
    },
    {
      "cell_type": "markdown",
      "source": [
        "Grouping and Aggregation"
      ],
      "metadata": {
        "id": "-ml3HeaNzw7I"
      }
    },
    {
      "cell_type": "code",
      "source": [
        "monthly_groups = covid_df.groupby('month')[['new_cases', 'new_deaths', 'new_tests']]"
      ],
      "metadata": {
        "id": "03sWJFeK0Fhn"
      },
      "execution_count": null,
      "outputs": []
    },
    {
      "cell_type": "code",
      "source": [
        "monthly_groups"
      ],
      "metadata": {
        "colab": {
          "base_uri": "https://localhost:8080/"
        },
        "id": "oyrY6OjACSFp",
        "outputId": "0bc283bd-0c76-4023-86f1-da51be23eea7"
      },
      "execution_count": null,
      "outputs": [
        {
          "output_type": "execute_result",
          "data": {
            "text/plain": [
              "<pandas.core.groupby.generic.DataFrameGroupBy object at 0x7f907fc38340>"
            ]
          },
          "metadata": {},
          "execution_count": 226
        }
      ]
    },
    {
      "cell_type": "code",
      "source": [
        "monthly_groups.sum()"
      ],
      "metadata": {
        "colab": {
          "base_uri": "https://localhost:8080/",
          "height": 394
        },
        "id": "WhymAdE80mJc",
        "outputId": "4ceb7e10-d98e-4f9e-e645-27e5fec8062e"
      },
      "execution_count": null,
      "outputs": [
        {
          "output_type": "execute_result",
          "data": {
            "text/plain": [
              "       new_cases  new_deaths  new_tests\n",
              "month                                  \n",
              "1            3.0         0.0        0.0\n",
              "2          885.0        21.0        0.0\n",
              "3       100851.0     11570.0        0.0\n",
              "4       101852.0     16091.0   419591.0\n",
              "5        29073.0      5658.0  1078720.0\n",
              "6         8011.5      1404.0   830354.0\n",
              "7         6722.0       388.0   797692.0\n",
              "8        21060.0       345.0  1098704.0\n",
              "9         3297.0        20.0    54395.0\n",
              "12           0.0         0.0        0.0"
            ],
            "text/html": [
              "\n",
              "  <div id=\"df-c5020b20-abaf-40b9-9e05-be7cfc04d30a\">\n",
              "    <div class=\"colab-df-container\">\n",
              "      <div>\n",
              "<style scoped>\n",
              "    .dataframe tbody tr th:only-of-type {\n",
              "        vertical-align: middle;\n",
              "    }\n",
              "\n",
              "    .dataframe tbody tr th {\n",
              "        vertical-align: top;\n",
              "    }\n",
              "\n",
              "    .dataframe thead th {\n",
              "        text-align: right;\n",
              "    }\n",
              "</style>\n",
              "<table border=\"1\" class=\"dataframe\">\n",
              "  <thead>\n",
              "    <tr style=\"text-align: right;\">\n",
              "      <th></th>\n",
              "      <th>new_cases</th>\n",
              "      <th>new_deaths</th>\n",
              "      <th>new_tests</th>\n",
              "    </tr>\n",
              "    <tr>\n",
              "      <th>month</th>\n",
              "      <th></th>\n",
              "      <th></th>\n",
              "      <th></th>\n",
              "    </tr>\n",
              "  </thead>\n",
              "  <tbody>\n",
              "    <tr>\n",
              "      <th>1</th>\n",
              "      <td>3.0</td>\n",
              "      <td>0.0</td>\n",
              "      <td>0.0</td>\n",
              "    </tr>\n",
              "    <tr>\n",
              "      <th>2</th>\n",
              "      <td>885.0</td>\n",
              "      <td>21.0</td>\n",
              "      <td>0.0</td>\n",
              "    </tr>\n",
              "    <tr>\n",
              "      <th>3</th>\n",
              "      <td>100851.0</td>\n",
              "      <td>11570.0</td>\n",
              "      <td>0.0</td>\n",
              "    </tr>\n",
              "    <tr>\n",
              "      <th>4</th>\n",
              "      <td>101852.0</td>\n",
              "      <td>16091.0</td>\n",
              "      <td>419591.0</td>\n",
              "    </tr>\n",
              "    <tr>\n",
              "      <th>5</th>\n",
              "      <td>29073.0</td>\n",
              "      <td>5658.0</td>\n",
              "      <td>1078720.0</td>\n",
              "    </tr>\n",
              "    <tr>\n",
              "      <th>6</th>\n",
              "      <td>8011.5</td>\n",
              "      <td>1404.0</td>\n",
              "      <td>830354.0</td>\n",
              "    </tr>\n",
              "    <tr>\n",
              "      <th>7</th>\n",
              "      <td>6722.0</td>\n",
              "      <td>388.0</td>\n",
              "      <td>797692.0</td>\n",
              "    </tr>\n",
              "    <tr>\n",
              "      <th>8</th>\n",
              "      <td>21060.0</td>\n",
              "      <td>345.0</td>\n",
              "      <td>1098704.0</td>\n",
              "    </tr>\n",
              "    <tr>\n",
              "      <th>9</th>\n",
              "      <td>3297.0</td>\n",
              "      <td>20.0</td>\n",
              "      <td>54395.0</td>\n",
              "    </tr>\n",
              "    <tr>\n",
              "      <th>12</th>\n",
              "      <td>0.0</td>\n",
              "      <td>0.0</td>\n",
              "      <td>0.0</td>\n",
              "    </tr>\n",
              "  </tbody>\n",
              "</table>\n",
              "</div>\n",
              "      <button class=\"colab-df-convert\" onclick=\"convertToInteractive('df-c5020b20-abaf-40b9-9e05-be7cfc04d30a')\"\n",
              "              title=\"Convert this dataframe to an interactive table.\"\n",
              "              style=\"display:none;\">\n",
              "        \n",
              "  <svg xmlns=\"http://www.w3.org/2000/svg\" height=\"24px\"viewBox=\"0 0 24 24\"\n",
              "       width=\"24px\">\n",
              "    <path d=\"M0 0h24v24H0V0z\" fill=\"none\"/>\n",
              "    <path d=\"M18.56 5.44l.94 2.06.94-2.06 2.06-.94-2.06-.94-.94-2.06-.94 2.06-2.06.94zm-11 1L8.5 8.5l.94-2.06 2.06-.94-2.06-.94L8.5 2.5l-.94 2.06-2.06.94zm10 10l.94 2.06.94-2.06 2.06-.94-2.06-.94-.94-2.06-.94 2.06-2.06.94z\"/><path d=\"M17.41 7.96l-1.37-1.37c-.4-.4-.92-.59-1.43-.59-.52 0-1.04.2-1.43.59L10.3 9.45l-7.72 7.72c-.78.78-.78 2.05 0 2.83L4 21.41c.39.39.9.59 1.41.59.51 0 1.02-.2 1.41-.59l7.78-7.78 2.81-2.81c.8-.78.8-2.07 0-2.86zM5.41 20L4 18.59l7.72-7.72 1.47 1.35L5.41 20z\"/>\n",
              "  </svg>\n",
              "      </button>\n",
              "      \n",
              "  <style>\n",
              "    .colab-df-container {\n",
              "      display:flex;\n",
              "      flex-wrap:wrap;\n",
              "      gap: 12px;\n",
              "    }\n",
              "\n",
              "    .colab-df-convert {\n",
              "      background-color: #E8F0FE;\n",
              "      border: none;\n",
              "      border-radius: 50%;\n",
              "      cursor: pointer;\n",
              "      display: none;\n",
              "      fill: #1967D2;\n",
              "      height: 32px;\n",
              "      padding: 0 0 0 0;\n",
              "      width: 32px;\n",
              "    }\n",
              "\n",
              "    .colab-df-convert:hover {\n",
              "      background-color: #E2EBFA;\n",
              "      box-shadow: 0px 1px 2px rgba(60, 64, 67, 0.3), 0px 1px 3px 1px rgba(60, 64, 67, 0.15);\n",
              "      fill: #174EA6;\n",
              "    }\n",
              "\n",
              "    [theme=dark] .colab-df-convert {\n",
              "      background-color: #3B4455;\n",
              "      fill: #D2E3FC;\n",
              "    }\n",
              "\n",
              "    [theme=dark] .colab-df-convert:hover {\n",
              "      background-color: #434B5C;\n",
              "      box-shadow: 0px 1px 3px 1px rgba(0, 0, 0, 0.15);\n",
              "      filter: drop-shadow(0px 1px 2px rgba(0, 0, 0, 0.3));\n",
              "      fill: #FFFFFF;\n",
              "    }\n",
              "  </style>\n",
              "\n",
              "      <script>\n",
              "        const buttonEl =\n",
              "          document.querySelector('#df-c5020b20-abaf-40b9-9e05-be7cfc04d30a button.colab-df-convert');\n",
              "        buttonEl.style.display =\n",
              "          google.colab.kernel.accessAllowed ? 'block' : 'none';\n",
              "\n",
              "        async function convertToInteractive(key) {\n",
              "          const element = document.querySelector('#df-c5020b20-abaf-40b9-9e05-be7cfc04d30a');\n",
              "          const dataTable =\n",
              "            await google.colab.kernel.invokeFunction('convertToInteractive',\n",
              "                                                     [key], {});\n",
              "          if (!dataTable) return;\n",
              "\n",
              "          const docLinkHtml = 'Like what you see? Visit the ' +\n",
              "            '<a target=\"_blank\" href=https://colab.research.google.com/notebooks/data_table.ipynb>data table notebook</a>'\n",
              "            + ' to learn more about interactive tables.';\n",
              "          element.innerHTML = '';\n",
              "          dataTable['output_type'] = 'display_data';\n",
              "          await google.colab.output.renderOutput(dataTable, element);\n",
              "          const docLink = document.createElement('div');\n",
              "          docLink.innerHTML = docLinkHtml;\n",
              "          element.appendChild(docLink);\n",
              "        }\n",
              "      </script>\n",
              "    </div>\n",
              "  </div>\n",
              "  "
            ]
          },
          "metadata": {},
          "execution_count": 228
        }
      ]
    },
    {
      "cell_type": "code",
      "source": [
        "covid_month_mean_df = covid_df.groupby('weekday')[['new_cases', 'new_deaths', 'new_tests']].mean()"
      ],
      "metadata": {
        "id": "0xAd_rs-yOcw",
        "colab": {
          "base_uri": "https://localhost:8080/",
          "height": 165
        },
        "outputId": "a621d350-ebe0-4b8a-999a-b4c29e8592ef"
      },
      "execution_count": null,
      "outputs": [
        {
          "output_type": "error",
          "ename": "NameError",
          "evalue": "ignored",
          "traceback": [
            "\u001b[0;31m---------------------------------------------------------------------------\u001b[0m",
            "\u001b[0;31mNameError\u001b[0m                                 Traceback (most recent call last)",
            "\u001b[0;32m<ipython-input-13-0a31c73e2857>\u001b[0m in \u001b[0;36m<cell line: 1>\u001b[0;34m()\u001b[0m\n\u001b[0;32m----> 1\u001b[0;31m \u001b[0mcovid_month_mean_df\u001b[0m \u001b[0;34m=\u001b[0m \u001b[0mcovid_df\u001b[0m\u001b[0;34m.\u001b[0m\u001b[0mgroupby\u001b[0m\u001b[0;34m(\u001b[0m\u001b[0;34m'weekday'\u001b[0m\u001b[0;34m)\u001b[0m\u001b[0;34m[\u001b[0m\u001b[0;34m[\u001b[0m\u001b[0;34m'new_cases'\u001b[0m\u001b[0;34m,\u001b[0m \u001b[0;34m'new_deaths'\u001b[0m\u001b[0;34m,\u001b[0m \u001b[0;34m'new_tests'\u001b[0m\u001b[0;34m]\u001b[0m\u001b[0;34m]\u001b[0m\u001b[0;34m.\u001b[0m\u001b[0mmean\u001b[0m\u001b[0;34m(\u001b[0m\u001b[0;34m)\u001b[0m\u001b[0;34m\u001b[0m\u001b[0;34m\u001b[0m\u001b[0m\n\u001b[0m",
            "\u001b[0;31mNameError\u001b[0m: name 'covid_df' is not defined"
          ]
        }
      ]
    },
    {
      "cell_type": "code",
      "source": [
        "covid_month_mean_df"
      ],
      "metadata": {
        "colab": {
          "base_uri": "https://localhost:8080/",
          "height": 300
        },
        "id": "BREQZEyLyOfu",
        "outputId": "952c1088-8bbd-4c93-b745-2eb4ae525094"
      },
      "execution_count": null,
      "outputs": [
        {
          "output_type": "execute_result",
          "data": {
            "text/plain": [
              "           new_cases  new_deaths     new_tests\n",
              "weekday                                       \n",
              "0        1109.142857  124.800000  19826.700000\n",
              "1         918.638889  129.944444  31166.900000\n",
              "2         927.305556  144.750000  34665.210526\n",
              "3        1095.666667  141.472222  34488.578947\n",
              "4        1189.714286  144.885714  39225.684211\n",
              "5        1192.642857  157.000000  34589.473684\n",
              "6        1247.257143  159.457143  28588.105263"
            ],
            "text/html": [
              "\n",
              "  <div id=\"df-8fcde965-e461-4946-afa4-46d220c04120\">\n",
              "    <div class=\"colab-df-container\">\n",
              "      <div>\n",
              "<style scoped>\n",
              "    .dataframe tbody tr th:only-of-type {\n",
              "        vertical-align: middle;\n",
              "    }\n",
              "\n",
              "    .dataframe tbody tr th {\n",
              "        vertical-align: top;\n",
              "    }\n",
              "\n",
              "    .dataframe thead th {\n",
              "        text-align: right;\n",
              "    }\n",
              "</style>\n",
              "<table border=\"1\" class=\"dataframe\">\n",
              "  <thead>\n",
              "    <tr style=\"text-align: right;\">\n",
              "      <th></th>\n",
              "      <th>new_cases</th>\n",
              "      <th>new_deaths</th>\n",
              "      <th>new_tests</th>\n",
              "    </tr>\n",
              "    <tr>\n",
              "      <th>weekday</th>\n",
              "      <th></th>\n",
              "      <th></th>\n",
              "      <th></th>\n",
              "    </tr>\n",
              "  </thead>\n",
              "  <tbody>\n",
              "    <tr>\n",
              "      <th>0</th>\n",
              "      <td>1109.142857</td>\n",
              "      <td>124.800000</td>\n",
              "      <td>19826.700000</td>\n",
              "    </tr>\n",
              "    <tr>\n",
              "      <th>1</th>\n",
              "      <td>918.638889</td>\n",
              "      <td>129.944444</td>\n",
              "      <td>31166.900000</td>\n",
              "    </tr>\n",
              "    <tr>\n",
              "      <th>2</th>\n",
              "      <td>927.305556</td>\n",
              "      <td>144.750000</td>\n",
              "      <td>34665.210526</td>\n",
              "    </tr>\n",
              "    <tr>\n",
              "      <th>3</th>\n",
              "      <td>1095.666667</td>\n",
              "      <td>141.472222</td>\n",
              "      <td>34488.578947</td>\n",
              "    </tr>\n",
              "    <tr>\n",
              "      <th>4</th>\n",
              "      <td>1189.714286</td>\n",
              "      <td>144.885714</td>\n",
              "      <td>39225.684211</td>\n",
              "    </tr>\n",
              "    <tr>\n",
              "      <th>5</th>\n",
              "      <td>1192.642857</td>\n",
              "      <td>157.000000</td>\n",
              "      <td>34589.473684</td>\n",
              "    </tr>\n",
              "    <tr>\n",
              "      <th>6</th>\n",
              "      <td>1247.257143</td>\n",
              "      <td>159.457143</td>\n",
              "      <td>28588.105263</td>\n",
              "    </tr>\n",
              "  </tbody>\n",
              "</table>\n",
              "</div>\n",
              "      <button class=\"colab-df-convert\" onclick=\"convertToInteractive('df-8fcde965-e461-4946-afa4-46d220c04120')\"\n",
              "              title=\"Convert this dataframe to an interactive table.\"\n",
              "              style=\"display:none;\">\n",
              "        \n",
              "  <svg xmlns=\"http://www.w3.org/2000/svg\" height=\"24px\"viewBox=\"0 0 24 24\"\n",
              "       width=\"24px\">\n",
              "    <path d=\"M0 0h24v24H0V0z\" fill=\"none\"/>\n",
              "    <path d=\"M18.56 5.44l.94 2.06.94-2.06 2.06-.94-2.06-.94-.94-2.06-.94 2.06-2.06.94zm-11 1L8.5 8.5l.94-2.06 2.06-.94-2.06-.94L8.5 2.5l-.94 2.06-2.06.94zm10 10l.94 2.06.94-2.06 2.06-.94-2.06-.94-.94-2.06-.94 2.06-2.06.94z\"/><path d=\"M17.41 7.96l-1.37-1.37c-.4-.4-.92-.59-1.43-.59-.52 0-1.04.2-1.43.59L10.3 9.45l-7.72 7.72c-.78.78-.78 2.05 0 2.83L4 21.41c.39.39.9.59 1.41.59.51 0 1.02-.2 1.41-.59l7.78-7.78 2.81-2.81c.8-.78.8-2.07 0-2.86zM5.41 20L4 18.59l7.72-7.72 1.47 1.35L5.41 20z\"/>\n",
              "  </svg>\n",
              "      </button>\n",
              "      \n",
              "  <style>\n",
              "    .colab-df-container {\n",
              "      display:flex;\n",
              "      flex-wrap:wrap;\n",
              "      gap: 12px;\n",
              "    }\n",
              "\n",
              "    .colab-df-convert {\n",
              "      background-color: #E8F0FE;\n",
              "      border: none;\n",
              "      border-radius: 50%;\n",
              "      cursor: pointer;\n",
              "      display: none;\n",
              "      fill: #1967D2;\n",
              "      height: 32px;\n",
              "      padding: 0 0 0 0;\n",
              "      width: 32px;\n",
              "    }\n",
              "\n",
              "    .colab-df-convert:hover {\n",
              "      background-color: #E2EBFA;\n",
              "      box-shadow: 0px 1px 2px rgba(60, 64, 67, 0.3), 0px 1px 3px 1px rgba(60, 64, 67, 0.15);\n",
              "      fill: #174EA6;\n",
              "    }\n",
              "\n",
              "    [theme=dark] .colab-df-convert {\n",
              "      background-color: #3B4455;\n",
              "      fill: #D2E3FC;\n",
              "    }\n",
              "\n",
              "    [theme=dark] .colab-df-convert:hover {\n",
              "      background-color: #434B5C;\n",
              "      box-shadow: 0px 1px 3px 1px rgba(0, 0, 0, 0.15);\n",
              "      filter: drop-shadow(0px 1px 2px rgba(0, 0, 0, 0.3));\n",
              "      fill: #FFFFFF;\n",
              "    }\n",
              "  </style>\n",
              "\n",
              "      <script>\n",
              "        const buttonEl =\n",
              "          document.querySelector('#df-8fcde965-e461-4946-afa4-46d220c04120 button.colab-df-convert');\n",
              "        buttonEl.style.display =\n",
              "          google.colab.kernel.accessAllowed ? 'block' : 'none';\n",
              "\n",
              "        async function convertToInteractive(key) {\n",
              "          const element = document.querySelector('#df-8fcde965-e461-4946-afa4-46d220c04120');\n",
              "          const dataTable =\n",
              "            await google.colab.kernel.invokeFunction('convertToInteractive',\n",
              "                                                     [key], {});\n",
              "          if (!dataTable) return;\n",
              "\n",
              "          const docLinkHtml = 'Like what you see? Visit the ' +\n",
              "            '<a target=\"_blank\" href=https://colab.research.google.com/notebooks/data_table.ipynb>data table notebook</a>'\n",
              "            + ' to learn more about interactive tables.';\n",
              "          element.innerHTML = '';\n",
              "          dataTable['output_type'] = 'display_data';\n",
              "          await google.colab.output.renderOutput(dataTable, element);\n",
              "          const docLink = document.createElement('div');\n",
              "          docLink.innerHTML = docLinkHtml;\n",
              "          element.appendChild(docLink);\n",
              "        }\n",
              "      </script>\n",
              "    </div>\n",
              "  </div>\n",
              "  "
            ]
          },
          "metadata": {},
          "execution_count": 222
        }
      ]
    },
    {
      "cell_type": "code",
      "source": [
        "#usinf cumulative method to see totals for each row up tothe curret date\n",
        "covid_df['total_cases'] = covid_df.new_cases.cumsum()\n",
        "covid_df['total_deaths'] = covid_df.new_deaths.cumsum()\n",
        "covid_df['total_tests'] = covid_df.new_tests.cumsum() + initial_tests"
      ],
      "metadata": {
        "id": "v-8EDaZKyOk8"
      },
      "execution_count": null,
      "outputs": []
    },
    {
      "cell_type": "code",
      "source": [
        "covid_df"
      ],
      "metadata": {
        "colab": {
          "base_uri": "https://localhost:8080/",
          "height": 424
        },
        "id": "mk9oy86RyOn8",
        "outputId": "c4c25bcb-87f8-464f-d43e-c9c90fe4d253"
      },
      "execution_count": null,
      "outputs": [
        {
          "output_type": "execute_result",
          "data": {
            "text/plain": [
              "          date  new_cases  new_deaths  new_tests  year  month  day  weekday  \\\n",
              "0   2019-12-31        0.0         0.0        NaN  2019     12   31        1   \n",
              "1   2020-01-01        0.0         0.0        NaN  2020      1    1        2   \n",
              "2   2020-01-02        0.0         0.0        NaN  2020      1    2        3   \n",
              "3   2020-01-03        0.0         0.0        NaN  2020      1    3        4   \n",
              "4   2020-01-04        0.0         0.0        NaN  2020      1    4        5   \n",
              "..         ...        ...         ...        ...   ...    ...  ...      ...   \n",
              "243 2020-08-30     1444.0         1.0    53541.0  2020      8   30        6   \n",
              "244 2020-08-31     1365.0         4.0    42583.0  2020      8   31        0   \n",
              "245 2020-09-01      996.0         6.0    54395.0  2020      9    1        1   \n",
              "246 2020-09-02      975.0         8.0        NaN  2020      9    2        2   \n",
              "247 2020-09-03     1326.0         6.0        NaN  2020      9    3        3   \n",
              "\n",
              "     total_cases  total_deaths  total_tests  \n",
              "0            0.0           0.0          NaN  \n",
              "1            0.0           0.0          NaN  \n",
              "2            0.0           0.0          NaN  \n",
              "3            0.0           0.0          NaN  \n",
              "4            0.0           0.0          NaN  \n",
              "..           ...           ...          ...  \n",
              "243     267092.5       35473.0    5117788.0  \n",
              "244     268457.5       35477.0    5160371.0  \n",
              "245     269453.5       35483.0    5214766.0  \n",
              "246     270428.5       35491.0          NaN  \n",
              "247     271754.5       35497.0          NaN  \n",
              "\n",
              "[248 rows x 11 columns]"
            ],
            "text/html": [
              "\n",
              "  <div id=\"df-e64f7c71-1a53-4ccd-a60c-ade33ea39255\">\n",
              "    <div class=\"colab-df-container\">\n",
              "      <div>\n",
              "<style scoped>\n",
              "    .dataframe tbody tr th:only-of-type {\n",
              "        vertical-align: middle;\n",
              "    }\n",
              "\n",
              "    .dataframe tbody tr th {\n",
              "        vertical-align: top;\n",
              "    }\n",
              "\n",
              "    .dataframe thead th {\n",
              "        text-align: right;\n",
              "    }\n",
              "</style>\n",
              "<table border=\"1\" class=\"dataframe\">\n",
              "  <thead>\n",
              "    <tr style=\"text-align: right;\">\n",
              "      <th></th>\n",
              "      <th>date</th>\n",
              "      <th>new_cases</th>\n",
              "      <th>new_deaths</th>\n",
              "      <th>new_tests</th>\n",
              "      <th>year</th>\n",
              "      <th>month</th>\n",
              "      <th>day</th>\n",
              "      <th>weekday</th>\n",
              "      <th>total_cases</th>\n",
              "      <th>total_deaths</th>\n",
              "      <th>total_tests</th>\n",
              "    </tr>\n",
              "  </thead>\n",
              "  <tbody>\n",
              "    <tr>\n",
              "      <th>0</th>\n",
              "      <td>2019-12-31</td>\n",
              "      <td>0.0</td>\n",
              "      <td>0.0</td>\n",
              "      <td>NaN</td>\n",
              "      <td>2019</td>\n",
              "      <td>12</td>\n",
              "      <td>31</td>\n",
              "      <td>1</td>\n",
              "      <td>0.0</td>\n",
              "      <td>0.0</td>\n",
              "      <td>NaN</td>\n",
              "    </tr>\n",
              "    <tr>\n",
              "      <th>1</th>\n",
              "      <td>2020-01-01</td>\n",
              "      <td>0.0</td>\n",
              "      <td>0.0</td>\n",
              "      <td>NaN</td>\n",
              "      <td>2020</td>\n",
              "      <td>1</td>\n",
              "      <td>1</td>\n",
              "      <td>2</td>\n",
              "      <td>0.0</td>\n",
              "      <td>0.0</td>\n",
              "      <td>NaN</td>\n",
              "    </tr>\n",
              "    <tr>\n",
              "      <th>2</th>\n",
              "      <td>2020-01-02</td>\n",
              "      <td>0.0</td>\n",
              "      <td>0.0</td>\n",
              "      <td>NaN</td>\n",
              "      <td>2020</td>\n",
              "      <td>1</td>\n",
              "      <td>2</td>\n",
              "      <td>3</td>\n",
              "      <td>0.0</td>\n",
              "      <td>0.0</td>\n",
              "      <td>NaN</td>\n",
              "    </tr>\n",
              "    <tr>\n",
              "      <th>3</th>\n",
              "      <td>2020-01-03</td>\n",
              "      <td>0.0</td>\n",
              "      <td>0.0</td>\n",
              "      <td>NaN</td>\n",
              "      <td>2020</td>\n",
              "      <td>1</td>\n",
              "      <td>3</td>\n",
              "      <td>4</td>\n",
              "      <td>0.0</td>\n",
              "      <td>0.0</td>\n",
              "      <td>NaN</td>\n",
              "    </tr>\n",
              "    <tr>\n",
              "      <th>4</th>\n",
              "      <td>2020-01-04</td>\n",
              "      <td>0.0</td>\n",
              "      <td>0.0</td>\n",
              "      <td>NaN</td>\n",
              "      <td>2020</td>\n",
              "      <td>1</td>\n",
              "      <td>4</td>\n",
              "      <td>5</td>\n",
              "      <td>0.0</td>\n",
              "      <td>0.0</td>\n",
              "      <td>NaN</td>\n",
              "    </tr>\n",
              "    <tr>\n",
              "      <th>...</th>\n",
              "      <td>...</td>\n",
              "      <td>...</td>\n",
              "      <td>...</td>\n",
              "      <td>...</td>\n",
              "      <td>...</td>\n",
              "      <td>...</td>\n",
              "      <td>...</td>\n",
              "      <td>...</td>\n",
              "      <td>...</td>\n",
              "      <td>...</td>\n",
              "      <td>...</td>\n",
              "    </tr>\n",
              "    <tr>\n",
              "      <th>243</th>\n",
              "      <td>2020-08-30</td>\n",
              "      <td>1444.0</td>\n",
              "      <td>1.0</td>\n",
              "      <td>53541.0</td>\n",
              "      <td>2020</td>\n",
              "      <td>8</td>\n",
              "      <td>30</td>\n",
              "      <td>6</td>\n",
              "      <td>267092.5</td>\n",
              "      <td>35473.0</td>\n",
              "      <td>5117788.0</td>\n",
              "    </tr>\n",
              "    <tr>\n",
              "      <th>244</th>\n",
              "      <td>2020-08-31</td>\n",
              "      <td>1365.0</td>\n",
              "      <td>4.0</td>\n",
              "      <td>42583.0</td>\n",
              "      <td>2020</td>\n",
              "      <td>8</td>\n",
              "      <td>31</td>\n",
              "      <td>0</td>\n",
              "      <td>268457.5</td>\n",
              "      <td>35477.0</td>\n",
              "      <td>5160371.0</td>\n",
              "    </tr>\n",
              "    <tr>\n",
              "      <th>245</th>\n",
              "      <td>2020-09-01</td>\n",
              "      <td>996.0</td>\n",
              "      <td>6.0</td>\n",
              "      <td>54395.0</td>\n",
              "      <td>2020</td>\n",
              "      <td>9</td>\n",
              "      <td>1</td>\n",
              "      <td>1</td>\n",
              "      <td>269453.5</td>\n",
              "      <td>35483.0</td>\n",
              "      <td>5214766.0</td>\n",
              "    </tr>\n",
              "    <tr>\n",
              "      <th>246</th>\n",
              "      <td>2020-09-02</td>\n",
              "      <td>975.0</td>\n",
              "      <td>8.0</td>\n",
              "      <td>NaN</td>\n",
              "      <td>2020</td>\n",
              "      <td>9</td>\n",
              "      <td>2</td>\n",
              "      <td>2</td>\n",
              "      <td>270428.5</td>\n",
              "      <td>35491.0</td>\n",
              "      <td>NaN</td>\n",
              "    </tr>\n",
              "    <tr>\n",
              "      <th>247</th>\n",
              "      <td>2020-09-03</td>\n",
              "      <td>1326.0</td>\n",
              "      <td>6.0</td>\n",
              "      <td>NaN</td>\n",
              "      <td>2020</td>\n",
              "      <td>9</td>\n",
              "      <td>3</td>\n",
              "      <td>3</td>\n",
              "      <td>271754.5</td>\n",
              "      <td>35497.0</td>\n",
              "      <td>NaN</td>\n",
              "    </tr>\n",
              "  </tbody>\n",
              "</table>\n",
              "<p>248 rows × 11 columns</p>\n",
              "</div>\n",
              "      <button class=\"colab-df-convert\" onclick=\"convertToInteractive('df-e64f7c71-1a53-4ccd-a60c-ade33ea39255')\"\n",
              "              title=\"Convert this dataframe to an interactive table.\"\n",
              "              style=\"display:none;\">\n",
              "        \n",
              "  <svg xmlns=\"http://www.w3.org/2000/svg\" height=\"24px\"viewBox=\"0 0 24 24\"\n",
              "       width=\"24px\">\n",
              "    <path d=\"M0 0h24v24H0V0z\" fill=\"none\"/>\n",
              "    <path d=\"M18.56 5.44l.94 2.06.94-2.06 2.06-.94-2.06-.94-.94-2.06-.94 2.06-2.06.94zm-11 1L8.5 8.5l.94-2.06 2.06-.94-2.06-.94L8.5 2.5l-.94 2.06-2.06.94zm10 10l.94 2.06.94-2.06 2.06-.94-2.06-.94-.94-2.06-.94 2.06-2.06.94z\"/><path d=\"M17.41 7.96l-1.37-1.37c-.4-.4-.92-.59-1.43-.59-.52 0-1.04.2-1.43.59L10.3 9.45l-7.72 7.72c-.78.78-.78 2.05 0 2.83L4 21.41c.39.39.9.59 1.41.59.51 0 1.02-.2 1.41-.59l7.78-7.78 2.81-2.81c.8-.78.8-2.07 0-2.86zM5.41 20L4 18.59l7.72-7.72 1.47 1.35L5.41 20z\"/>\n",
              "  </svg>\n",
              "      </button>\n",
              "      \n",
              "  <style>\n",
              "    .colab-df-container {\n",
              "      display:flex;\n",
              "      flex-wrap:wrap;\n",
              "      gap: 12px;\n",
              "    }\n",
              "\n",
              "    .colab-df-convert {\n",
              "      background-color: #E8F0FE;\n",
              "      border: none;\n",
              "      border-radius: 50%;\n",
              "      cursor: pointer;\n",
              "      display: none;\n",
              "      fill: #1967D2;\n",
              "      height: 32px;\n",
              "      padding: 0 0 0 0;\n",
              "      width: 32px;\n",
              "    }\n",
              "\n",
              "    .colab-df-convert:hover {\n",
              "      background-color: #E2EBFA;\n",
              "      box-shadow: 0px 1px 2px rgba(60, 64, 67, 0.3), 0px 1px 3px 1px rgba(60, 64, 67, 0.15);\n",
              "      fill: #174EA6;\n",
              "    }\n",
              "\n",
              "    [theme=dark] .colab-df-convert {\n",
              "      background-color: #3B4455;\n",
              "      fill: #D2E3FC;\n",
              "    }\n",
              "\n",
              "    [theme=dark] .colab-df-convert:hover {\n",
              "      background-color: #434B5C;\n",
              "      box-shadow: 0px 1px 3px 1px rgba(0, 0, 0, 0.15);\n",
              "      filter: drop-shadow(0px 1px 2px rgba(0, 0, 0, 0.3));\n",
              "      fill: #FFFFFF;\n",
              "    }\n",
              "  </style>\n",
              "\n",
              "      <script>\n",
              "        const buttonEl =\n",
              "          document.querySelector('#df-e64f7c71-1a53-4ccd-a60c-ade33ea39255 button.colab-df-convert');\n",
              "        buttonEl.style.display =\n",
              "          google.colab.kernel.accessAllowed ? 'block' : 'none';\n",
              "\n",
              "        async function convertToInteractive(key) {\n",
              "          const element = document.querySelector('#df-e64f7c71-1a53-4ccd-a60c-ade33ea39255');\n",
              "          const dataTable =\n",
              "            await google.colab.kernel.invokeFunction('convertToInteractive',\n",
              "                                                     [key], {});\n",
              "          if (!dataTable) return;\n",
              "\n",
              "          const docLinkHtml = 'Like what you see? Visit the ' +\n",
              "            '<a target=\"_blank\" href=https://colab.research.google.com/notebooks/data_table.ipynb>data table notebook</a>'\n",
              "            + ' to learn more about interactive tables.';\n",
              "          element.innerHTML = '';\n",
              "          dataTable['output_type'] = 'display_data';\n",
              "          await google.colab.output.renderOutput(dataTable, element);\n",
              "          const docLink = document.createElement('div');\n",
              "          docLink.innerHTML = docLinkHtml;\n",
              "          element.appendChild(docLink);\n",
              "        }\n",
              "      </script>\n",
              "    </div>\n",
              "  </div>\n",
              "  "
            ]
          },
          "metadata": {},
          "execution_count": 177
        }
      ]
    },
    {
      "cell_type": "markdown",
      "source": [
        "Merging Data from Multiple Sources"
      ],
      "metadata": {
        "id": "v7s-tNOr3YtF"
      }
    },
    {
      "cell_type": "code",
      "source": [
        "urlretrieve('https://gist.githubusercontent.com/aakashns/8684589ef4f266116cdce023377fc9c8/raw/99ce3826b2a9d1e6d0bde7e9e559fc8b6e9ac88b/locations.csv', 'locations.csv')\n",
        "locations_df = pd.read_csv('locations.csv')\n",
        "locations_df"
      ],
      "metadata": {
        "colab": {
          "base_uri": "https://localhost:8080/",
          "height": 424
        },
        "id": "c0jj-eLCyOqo",
        "outputId": "0a69d240-679e-47c5-86da-9f3b10b77e18"
      },
      "execution_count": null,
      "outputs": [
        {
          "output_type": "execute_result",
          "data": {
            "text/plain": [
              "          location continent    population  life_expectancy  \\\n",
              "0      Afghanistan      Asia  3.892834e+07            64.83   \n",
              "1          Albania    Europe  2.877800e+06            78.57   \n",
              "2          Algeria    Africa  4.385104e+07            76.88   \n",
              "3          Andorra    Europe  7.726500e+04            83.73   \n",
              "4           Angola    Africa  3.286627e+07            61.15   \n",
              "..             ...       ...           ...              ...   \n",
              "207          Yemen      Asia  2.982597e+07            66.12   \n",
              "208         Zambia    Africa  1.838396e+07            63.89   \n",
              "209       Zimbabwe    Africa  1.486293e+07            61.49   \n",
              "210          World       NaN  7.794799e+09            72.58   \n",
              "211  International       NaN           NaN              NaN   \n",
              "\n",
              "     hospital_beds_per_thousand  gdp_per_capita  \n",
              "0                         0.500        1803.987  \n",
              "1                         2.890       11803.431  \n",
              "2                         1.900       13913.839  \n",
              "3                           NaN             NaN  \n",
              "4                           NaN        5819.495  \n",
              "..                          ...             ...  \n",
              "207                       0.700        1479.147  \n",
              "208                       2.000        3689.251  \n",
              "209                       1.700        1899.775  \n",
              "210                       2.705       15469.207  \n",
              "211                         NaN             NaN  \n",
              "\n",
              "[212 rows x 6 columns]"
            ],
            "text/html": [
              "\n",
              "  <div id=\"df-c74bbc4a-4095-432f-b264-fa329f3a1f9f\">\n",
              "    <div class=\"colab-df-container\">\n",
              "      <div>\n",
              "<style scoped>\n",
              "    .dataframe tbody tr th:only-of-type {\n",
              "        vertical-align: middle;\n",
              "    }\n",
              "\n",
              "    .dataframe tbody tr th {\n",
              "        vertical-align: top;\n",
              "    }\n",
              "\n",
              "    .dataframe thead th {\n",
              "        text-align: right;\n",
              "    }\n",
              "</style>\n",
              "<table border=\"1\" class=\"dataframe\">\n",
              "  <thead>\n",
              "    <tr style=\"text-align: right;\">\n",
              "      <th></th>\n",
              "      <th>location</th>\n",
              "      <th>continent</th>\n",
              "      <th>population</th>\n",
              "      <th>life_expectancy</th>\n",
              "      <th>hospital_beds_per_thousand</th>\n",
              "      <th>gdp_per_capita</th>\n",
              "    </tr>\n",
              "  </thead>\n",
              "  <tbody>\n",
              "    <tr>\n",
              "      <th>0</th>\n",
              "      <td>Afghanistan</td>\n",
              "      <td>Asia</td>\n",
              "      <td>3.892834e+07</td>\n",
              "      <td>64.83</td>\n",
              "      <td>0.500</td>\n",
              "      <td>1803.987</td>\n",
              "    </tr>\n",
              "    <tr>\n",
              "      <th>1</th>\n",
              "      <td>Albania</td>\n",
              "      <td>Europe</td>\n",
              "      <td>2.877800e+06</td>\n",
              "      <td>78.57</td>\n",
              "      <td>2.890</td>\n",
              "      <td>11803.431</td>\n",
              "    </tr>\n",
              "    <tr>\n",
              "      <th>2</th>\n",
              "      <td>Algeria</td>\n",
              "      <td>Africa</td>\n",
              "      <td>4.385104e+07</td>\n",
              "      <td>76.88</td>\n",
              "      <td>1.900</td>\n",
              "      <td>13913.839</td>\n",
              "    </tr>\n",
              "    <tr>\n",
              "      <th>3</th>\n",
              "      <td>Andorra</td>\n",
              "      <td>Europe</td>\n",
              "      <td>7.726500e+04</td>\n",
              "      <td>83.73</td>\n",
              "      <td>NaN</td>\n",
              "      <td>NaN</td>\n",
              "    </tr>\n",
              "    <tr>\n",
              "      <th>4</th>\n",
              "      <td>Angola</td>\n",
              "      <td>Africa</td>\n",
              "      <td>3.286627e+07</td>\n",
              "      <td>61.15</td>\n",
              "      <td>NaN</td>\n",
              "      <td>5819.495</td>\n",
              "    </tr>\n",
              "    <tr>\n",
              "      <th>...</th>\n",
              "      <td>...</td>\n",
              "      <td>...</td>\n",
              "      <td>...</td>\n",
              "      <td>...</td>\n",
              "      <td>...</td>\n",
              "      <td>...</td>\n",
              "    </tr>\n",
              "    <tr>\n",
              "      <th>207</th>\n",
              "      <td>Yemen</td>\n",
              "      <td>Asia</td>\n",
              "      <td>2.982597e+07</td>\n",
              "      <td>66.12</td>\n",
              "      <td>0.700</td>\n",
              "      <td>1479.147</td>\n",
              "    </tr>\n",
              "    <tr>\n",
              "      <th>208</th>\n",
              "      <td>Zambia</td>\n",
              "      <td>Africa</td>\n",
              "      <td>1.838396e+07</td>\n",
              "      <td>63.89</td>\n",
              "      <td>2.000</td>\n",
              "      <td>3689.251</td>\n",
              "    </tr>\n",
              "    <tr>\n",
              "      <th>209</th>\n",
              "      <td>Zimbabwe</td>\n",
              "      <td>Africa</td>\n",
              "      <td>1.486293e+07</td>\n",
              "      <td>61.49</td>\n",
              "      <td>1.700</td>\n",
              "      <td>1899.775</td>\n",
              "    </tr>\n",
              "    <tr>\n",
              "      <th>210</th>\n",
              "      <td>World</td>\n",
              "      <td>NaN</td>\n",
              "      <td>7.794799e+09</td>\n",
              "      <td>72.58</td>\n",
              "      <td>2.705</td>\n",
              "      <td>15469.207</td>\n",
              "    </tr>\n",
              "    <tr>\n",
              "      <th>211</th>\n",
              "      <td>International</td>\n",
              "      <td>NaN</td>\n",
              "      <td>NaN</td>\n",
              "      <td>NaN</td>\n",
              "      <td>NaN</td>\n",
              "      <td>NaN</td>\n",
              "    </tr>\n",
              "  </tbody>\n",
              "</table>\n",
              "<p>212 rows × 6 columns</p>\n",
              "</div>\n",
              "      <button class=\"colab-df-convert\" onclick=\"convertToInteractive('df-c74bbc4a-4095-432f-b264-fa329f3a1f9f')\"\n",
              "              title=\"Convert this dataframe to an interactive table.\"\n",
              "              style=\"display:none;\">\n",
              "        \n",
              "  <svg xmlns=\"http://www.w3.org/2000/svg\" height=\"24px\"viewBox=\"0 0 24 24\"\n",
              "       width=\"24px\">\n",
              "    <path d=\"M0 0h24v24H0V0z\" fill=\"none\"/>\n",
              "    <path d=\"M18.56 5.44l.94 2.06.94-2.06 2.06-.94-2.06-.94-.94-2.06-.94 2.06-2.06.94zm-11 1L8.5 8.5l.94-2.06 2.06-.94-2.06-.94L8.5 2.5l-.94 2.06-2.06.94zm10 10l.94 2.06.94-2.06 2.06-.94-2.06-.94-.94-2.06-.94 2.06-2.06.94z\"/><path d=\"M17.41 7.96l-1.37-1.37c-.4-.4-.92-.59-1.43-.59-.52 0-1.04.2-1.43.59L10.3 9.45l-7.72 7.72c-.78.78-.78 2.05 0 2.83L4 21.41c.39.39.9.59 1.41.59.51 0 1.02-.2 1.41-.59l7.78-7.78 2.81-2.81c.8-.78.8-2.07 0-2.86zM5.41 20L4 18.59l7.72-7.72 1.47 1.35L5.41 20z\"/>\n",
              "  </svg>\n",
              "      </button>\n",
              "      \n",
              "  <style>\n",
              "    .colab-df-container {\n",
              "      display:flex;\n",
              "      flex-wrap:wrap;\n",
              "      gap: 12px;\n",
              "    }\n",
              "\n",
              "    .colab-df-convert {\n",
              "      background-color: #E8F0FE;\n",
              "      border: none;\n",
              "      border-radius: 50%;\n",
              "      cursor: pointer;\n",
              "      display: none;\n",
              "      fill: #1967D2;\n",
              "      height: 32px;\n",
              "      padding: 0 0 0 0;\n",
              "      width: 32px;\n",
              "    }\n",
              "\n",
              "    .colab-df-convert:hover {\n",
              "      background-color: #E2EBFA;\n",
              "      box-shadow: 0px 1px 2px rgba(60, 64, 67, 0.3), 0px 1px 3px 1px rgba(60, 64, 67, 0.15);\n",
              "      fill: #174EA6;\n",
              "    }\n",
              "\n",
              "    [theme=dark] .colab-df-convert {\n",
              "      background-color: #3B4455;\n",
              "      fill: #D2E3FC;\n",
              "    }\n",
              "\n",
              "    [theme=dark] .colab-df-convert:hover {\n",
              "      background-color: #434B5C;\n",
              "      box-shadow: 0px 1px 3px 1px rgba(0, 0, 0, 0.15);\n",
              "      filter: drop-shadow(0px 1px 2px rgba(0, 0, 0, 0.3));\n",
              "      fill: #FFFFFF;\n",
              "    }\n",
              "  </style>\n",
              "\n",
              "      <script>\n",
              "        const buttonEl =\n",
              "          document.querySelector('#df-c74bbc4a-4095-432f-b264-fa329f3a1f9f button.colab-df-convert');\n",
              "        buttonEl.style.display =\n",
              "          google.colab.kernel.accessAllowed ? 'block' : 'none';\n",
              "\n",
              "        async function convertToInteractive(key) {\n",
              "          const element = document.querySelector('#df-c74bbc4a-4095-432f-b264-fa329f3a1f9f');\n",
              "          const dataTable =\n",
              "            await google.colab.kernel.invokeFunction('convertToInteractive',\n",
              "                                                     [key], {});\n",
              "          if (!dataTable) return;\n",
              "\n",
              "          const docLinkHtml = 'Like what you see? Visit the ' +\n",
              "            '<a target=\"_blank\" href=https://colab.research.google.com/notebooks/data_table.ipynb>data table notebook</a>'\n",
              "            + ' to learn more about interactive tables.';\n",
              "          element.innerHTML = '';\n",
              "          dataTable['output_type'] = 'display_data';\n",
              "          await google.colab.output.renderOutput(dataTable, element);\n",
              "          const docLink = document.createElement('div');\n",
              "          docLink.innerHTML = docLinkHtml;\n",
              "          element.appendChild(docLink);\n",
              "        }\n",
              "      </script>\n",
              "    </div>\n",
              "  </div>\n",
              "  "
            ]
          },
          "metadata": {},
          "execution_count": 178
        }
      ]
    },
    {
      "cell_type": "code",
      "source": [
        "locations_df[locations_df.location == 'Italy']"
      ],
      "metadata": {
        "colab": {
          "base_uri": "https://localhost:8080/",
          "height": 81
        },
        "id": "5Mlclq1MyOta",
        "outputId": "f514f5b6-20b8-4b05-b07b-2af69cbf5230"
      },
      "execution_count": null,
      "outputs": [
        {
          "output_type": "execute_result",
          "data": {
            "text/plain": [
              "   location continent  population  life_expectancy  \\\n",
              "97    Italy    Europe  60461828.0            83.51   \n",
              "\n",
              "    hospital_beds_per_thousand  gdp_per_capita  \n",
              "97                        3.18       35220.084  "
            ],
            "text/html": [
              "\n",
              "  <div id=\"df-7365f2d0-c095-4c98-b9a5-62505f2db016\">\n",
              "    <div class=\"colab-df-container\">\n",
              "      <div>\n",
              "<style scoped>\n",
              "    .dataframe tbody tr th:only-of-type {\n",
              "        vertical-align: middle;\n",
              "    }\n",
              "\n",
              "    .dataframe tbody tr th {\n",
              "        vertical-align: top;\n",
              "    }\n",
              "\n",
              "    .dataframe thead th {\n",
              "        text-align: right;\n",
              "    }\n",
              "</style>\n",
              "<table border=\"1\" class=\"dataframe\">\n",
              "  <thead>\n",
              "    <tr style=\"text-align: right;\">\n",
              "      <th></th>\n",
              "      <th>location</th>\n",
              "      <th>continent</th>\n",
              "      <th>population</th>\n",
              "      <th>life_expectancy</th>\n",
              "      <th>hospital_beds_per_thousand</th>\n",
              "      <th>gdp_per_capita</th>\n",
              "    </tr>\n",
              "  </thead>\n",
              "  <tbody>\n",
              "    <tr>\n",
              "      <th>97</th>\n",
              "      <td>Italy</td>\n",
              "      <td>Europe</td>\n",
              "      <td>60461828.0</td>\n",
              "      <td>83.51</td>\n",
              "      <td>3.18</td>\n",
              "      <td>35220.084</td>\n",
              "    </tr>\n",
              "  </tbody>\n",
              "</table>\n",
              "</div>\n",
              "      <button class=\"colab-df-convert\" onclick=\"convertToInteractive('df-7365f2d0-c095-4c98-b9a5-62505f2db016')\"\n",
              "              title=\"Convert this dataframe to an interactive table.\"\n",
              "              style=\"display:none;\">\n",
              "        \n",
              "  <svg xmlns=\"http://www.w3.org/2000/svg\" height=\"24px\"viewBox=\"0 0 24 24\"\n",
              "       width=\"24px\">\n",
              "    <path d=\"M0 0h24v24H0V0z\" fill=\"none\"/>\n",
              "    <path d=\"M18.56 5.44l.94 2.06.94-2.06 2.06-.94-2.06-.94-.94-2.06-.94 2.06-2.06.94zm-11 1L8.5 8.5l.94-2.06 2.06-.94-2.06-.94L8.5 2.5l-.94 2.06-2.06.94zm10 10l.94 2.06.94-2.06 2.06-.94-2.06-.94-.94-2.06-.94 2.06-2.06.94z\"/><path d=\"M17.41 7.96l-1.37-1.37c-.4-.4-.92-.59-1.43-.59-.52 0-1.04.2-1.43.59L10.3 9.45l-7.72 7.72c-.78.78-.78 2.05 0 2.83L4 21.41c.39.39.9.59 1.41.59.51 0 1.02-.2 1.41-.59l7.78-7.78 2.81-2.81c.8-.78.8-2.07 0-2.86zM5.41 20L4 18.59l7.72-7.72 1.47 1.35L5.41 20z\"/>\n",
              "  </svg>\n",
              "      </button>\n",
              "      \n",
              "  <style>\n",
              "    .colab-df-container {\n",
              "      display:flex;\n",
              "      flex-wrap:wrap;\n",
              "      gap: 12px;\n",
              "    }\n",
              "\n",
              "    .colab-df-convert {\n",
              "      background-color: #E8F0FE;\n",
              "      border: none;\n",
              "      border-radius: 50%;\n",
              "      cursor: pointer;\n",
              "      display: none;\n",
              "      fill: #1967D2;\n",
              "      height: 32px;\n",
              "      padding: 0 0 0 0;\n",
              "      width: 32px;\n",
              "    }\n",
              "\n",
              "    .colab-df-convert:hover {\n",
              "      background-color: #E2EBFA;\n",
              "      box-shadow: 0px 1px 2px rgba(60, 64, 67, 0.3), 0px 1px 3px 1px rgba(60, 64, 67, 0.15);\n",
              "      fill: #174EA6;\n",
              "    }\n",
              "\n",
              "    [theme=dark] .colab-df-convert {\n",
              "      background-color: #3B4455;\n",
              "      fill: #D2E3FC;\n",
              "    }\n",
              "\n",
              "    [theme=dark] .colab-df-convert:hover {\n",
              "      background-color: #434B5C;\n",
              "      box-shadow: 0px 1px 3px 1px rgba(0, 0, 0, 0.15);\n",
              "      filter: drop-shadow(0px 1px 2px rgba(0, 0, 0, 0.3));\n",
              "      fill: #FFFFFF;\n",
              "    }\n",
              "  </style>\n",
              "\n",
              "      <script>\n",
              "        const buttonEl =\n",
              "          document.querySelector('#df-7365f2d0-c095-4c98-b9a5-62505f2db016 button.colab-df-convert');\n",
              "        buttonEl.style.display =\n",
              "          google.colab.kernel.accessAllowed ? 'block' : 'none';\n",
              "\n",
              "        async function convertToInteractive(key) {\n",
              "          const element = document.querySelector('#df-7365f2d0-c095-4c98-b9a5-62505f2db016');\n",
              "          const dataTable =\n",
              "            await google.colab.kernel.invokeFunction('convertToInteractive',\n",
              "                                                     [key], {});\n",
              "          if (!dataTable) return;\n",
              "\n",
              "          const docLinkHtml = 'Like what you see? Visit the ' +\n",
              "            '<a target=\"_blank\" href=https://colab.research.google.com/notebooks/data_table.ipynb>data table notebook</a>'\n",
              "            + ' to learn more about interactive tables.';\n",
              "          element.innerHTML = '';\n",
              "          dataTable['output_type'] = 'display_data';\n",
              "          await google.colab.output.renderOutput(dataTable, element);\n",
              "          const docLink = document.createElement('div');\n",
              "          docLink.innerHTML = docLinkHtml;\n",
              "          element.appendChild(docLink);\n",
              "        }\n",
              "      </script>\n",
              "    </div>\n",
              "  </div>\n",
              "  "
            ]
          },
          "metadata": {},
          "execution_count": 179
        }
      ]
    },
    {
      "cell_type": "code",
      "source": [
        "covid_df['location'] = 'Italy'"
      ],
      "metadata": {
        "id": "OgSu-mpsyOzO"
      },
      "execution_count": null,
      "outputs": []
    },
    {
      "cell_type": "code",
      "source": [
        "merged_df = covid_df.merge(locations_df, on = 'location')"
      ],
      "metadata": {
        "id": "U2OnJPrDyO15"
      },
      "execution_count": null,
      "outputs": []
    },
    {
      "cell_type": "code",
      "source": [
        "merged_df['cases_per_million'] = merged_df.total_cases * 1e6 / merged_df.population"
      ],
      "metadata": {
        "id": "rq5VNkAcyO49"
      },
      "execution_count": null,
      "outputs": []
    },
    {
      "cell_type": "code",
      "source": [
        "merged_df"
      ],
      "metadata": {
        "colab": {
          "base_uri": "https://localhost:8080/",
          "height": 424
        },
        "id": "c1nnhXgeyO8O",
        "outputId": "7905d1ba-187b-4b8b-e010-ae94852b21ae"
      },
      "execution_count": null,
      "outputs": [
        {
          "output_type": "execute_result",
          "data": {
            "text/plain": [
              "          date  new_cases  new_deaths  new_tests  year  month  day  weekday  \\\n",
              "0   2019-12-31        0.0         0.0        NaN  2019     12   31        1   \n",
              "1   2020-01-01        0.0         0.0        NaN  2020      1    1        2   \n",
              "2   2020-01-02        0.0         0.0        NaN  2020      1    2        3   \n",
              "3   2020-01-03        0.0         0.0        NaN  2020      1    3        4   \n",
              "4   2020-01-04        0.0         0.0        NaN  2020      1    4        5   \n",
              "..         ...        ...         ...        ...   ...    ...  ...      ...   \n",
              "243 2020-08-30     1444.0         1.0    53541.0  2020      8   30        6   \n",
              "244 2020-08-31     1365.0         4.0    42583.0  2020      8   31        0   \n",
              "245 2020-09-01      996.0         6.0    54395.0  2020      9    1        1   \n",
              "246 2020-09-02      975.0         8.0        NaN  2020      9    2        2   \n",
              "247 2020-09-03     1326.0         6.0        NaN  2020      9    3        3   \n",
              "\n",
              "     total_cases  total_deaths  total_tests location continent  population  \\\n",
              "0            0.0           0.0          NaN    Italy    Europe  60461828.0   \n",
              "1            0.0           0.0          NaN    Italy    Europe  60461828.0   \n",
              "2            0.0           0.0          NaN    Italy    Europe  60461828.0   \n",
              "3            0.0           0.0          NaN    Italy    Europe  60461828.0   \n",
              "4            0.0           0.0          NaN    Italy    Europe  60461828.0   \n",
              "..           ...           ...          ...      ...       ...         ...   \n",
              "243     267092.5       35473.0    5117788.0    Italy    Europe  60461828.0   \n",
              "244     268457.5       35477.0    5160371.0    Italy    Europe  60461828.0   \n",
              "245     269453.5       35483.0    5214766.0    Italy    Europe  60461828.0   \n",
              "246     270428.5       35491.0          NaN    Italy    Europe  60461828.0   \n",
              "247     271754.5       35497.0          NaN    Italy    Europe  60461828.0   \n",
              "\n",
              "     life_expectancy  hospital_beds_per_thousand  gdp_per_capita  \\\n",
              "0              83.51                        3.18       35220.084   \n",
              "1              83.51                        3.18       35220.084   \n",
              "2              83.51                        3.18       35220.084   \n",
              "3              83.51                        3.18       35220.084   \n",
              "4              83.51                        3.18       35220.084   \n",
              "..               ...                         ...             ...   \n",
              "243            83.51                        3.18       35220.084   \n",
              "244            83.51                        3.18       35220.084   \n",
              "245            83.51                        3.18       35220.084   \n",
              "246            83.51                        3.18       35220.084   \n",
              "247            83.51                        3.18       35220.084   \n",
              "\n",
              "     cases_per_million  \n",
              "0             0.000000  \n",
              "1             0.000000  \n",
              "2             0.000000  \n",
              "3             0.000000  \n",
              "4             0.000000  \n",
              "..                 ...  \n",
              "243        4417.539278  \n",
              "244        4440.115506  \n",
              "245        4456.588709  \n",
              "246        4472.714586  \n",
              "247        4494.645779  \n",
              "\n",
              "[248 rows x 18 columns]"
            ],
            "text/html": [
              "\n",
              "  <div id=\"df-450a8e01-14fd-4303-9869-229613da1722\">\n",
              "    <div class=\"colab-df-container\">\n",
              "      <div>\n",
              "<style scoped>\n",
              "    .dataframe tbody tr th:only-of-type {\n",
              "        vertical-align: middle;\n",
              "    }\n",
              "\n",
              "    .dataframe tbody tr th {\n",
              "        vertical-align: top;\n",
              "    }\n",
              "\n",
              "    .dataframe thead th {\n",
              "        text-align: right;\n",
              "    }\n",
              "</style>\n",
              "<table border=\"1\" class=\"dataframe\">\n",
              "  <thead>\n",
              "    <tr style=\"text-align: right;\">\n",
              "      <th></th>\n",
              "      <th>date</th>\n",
              "      <th>new_cases</th>\n",
              "      <th>new_deaths</th>\n",
              "      <th>new_tests</th>\n",
              "      <th>year</th>\n",
              "      <th>month</th>\n",
              "      <th>day</th>\n",
              "      <th>weekday</th>\n",
              "      <th>total_cases</th>\n",
              "      <th>total_deaths</th>\n",
              "      <th>total_tests</th>\n",
              "      <th>location</th>\n",
              "      <th>continent</th>\n",
              "      <th>population</th>\n",
              "      <th>life_expectancy</th>\n",
              "      <th>hospital_beds_per_thousand</th>\n",
              "      <th>gdp_per_capita</th>\n",
              "      <th>cases_per_million</th>\n",
              "    </tr>\n",
              "  </thead>\n",
              "  <tbody>\n",
              "    <tr>\n",
              "      <th>0</th>\n",
              "      <td>2019-12-31</td>\n",
              "      <td>0.0</td>\n",
              "      <td>0.0</td>\n",
              "      <td>NaN</td>\n",
              "      <td>2019</td>\n",
              "      <td>12</td>\n",
              "      <td>31</td>\n",
              "      <td>1</td>\n",
              "      <td>0.0</td>\n",
              "      <td>0.0</td>\n",
              "      <td>NaN</td>\n",
              "      <td>Italy</td>\n",
              "      <td>Europe</td>\n",
              "      <td>60461828.0</td>\n",
              "      <td>83.51</td>\n",
              "      <td>3.18</td>\n",
              "      <td>35220.084</td>\n",
              "      <td>0.000000</td>\n",
              "    </tr>\n",
              "    <tr>\n",
              "      <th>1</th>\n",
              "      <td>2020-01-01</td>\n",
              "      <td>0.0</td>\n",
              "      <td>0.0</td>\n",
              "      <td>NaN</td>\n",
              "      <td>2020</td>\n",
              "      <td>1</td>\n",
              "      <td>1</td>\n",
              "      <td>2</td>\n",
              "      <td>0.0</td>\n",
              "      <td>0.0</td>\n",
              "      <td>NaN</td>\n",
              "      <td>Italy</td>\n",
              "      <td>Europe</td>\n",
              "      <td>60461828.0</td>\n",
              "      <td>83.51</td>\n",
              "      <td>3.18</td>\n",
              "      <td>35220.084</td>\n",
              "      <td>0.000000</td>\n",
              "    </tr>\n",
              "    <tr>\n",
              "      <th>2</th>\n",
              "      <td>2020-01-02</td>\n",
              "      <td>0.0</td>\n",
              "      <td>0.0</td>\n",
              "      <td>NaN</td>\n",
              "      <td>2020</td>\n",
              "      <td>1</td>\n",
              "      <td>2</td>\n",
              "      <td>3</td>\n",
              "      <td>0.0</td>\n",
              "      <td>0.0</td>\n",
              "      <td>NaN</td>\n",
              "      <td>Italy</td>\n",
              "      <td>Europe</td>\n",
              "      <td>60461828.0</td>\n",
              "      <td>83.51</td>\n",
              "      <td>3.18</td>\n",
              "      <td>35220.084</td>\n",
              "      <td>0.000000</td>\n",
              "    </tr>\n",
              "    <tr>\n",
              "      <th>3</th>\n",
              "      <td>2020-01-03</td>\n",
              "      <td>0.0</td>\n",
              "      <td>0.0</td>\n",
              "      <td>NaN</td>\n",
              "      <td>2020</td>\n",
              "      <td>1</td>\n",
              "      <td>3</td>\n",
              "      <td>4</td>\n",
              "      <td>0.0</td>\n",
              "      <td>0.0</td>\n",
              "      <td>NaN</td>\n",
              "      <td>Italy</td>\n",
              "      <td>Europe</td>\n",
              "      <td>60461828.0</td>\n",
              "      <td>83.51</td>\n",
              "      <td>3.18</td>\n",
              "      <td>35220.084</td>\n",
              "      <td>0.000000</td>\n",
              "    </tr>\n",
              "    <tr>\n",
              "      <th>4</th>\n",
              "      <td>2020-01-04</td>\n",
              "      <td>0.0</td>\n",
              "      <td>0.0</td>\n",
              "      <td>NaN</td>\n",
              "      <td>2020</td>\n",
              "      <td>1</td>\n",
              "      <td>4</td>\n",
              "      <td>5</td>\n",
              "      <td>0.0</td>\n",
              "      <td>0.0</td>\n",
              "      <td>NaN</td>\n",
              "      <td>Italy</td>\n",
              "      <td>Europe</td>\n",
              "      <td>60461828.0</td>\n",
              "      <td>83.51</td>\n",
              "      <td>3.18</td>\n",
              "      <td>35220.084</td>\n",
              "      <td>0.000000</td>\n",
              "    </tr>\n",
              "    <tr>\n",
              "      <th>...</th>\n",
              "      <td>...</td>\n",
              "      <td>...</td>\n",
              "      <td>...</td>\n",
              "      <td>...</td>\n",
              "      <td>...</td>\n",
              "      <td>...</td>\n",
              "      <td>...</td>\n",
              "      <td>...</td>\n",
              "      <td>...</td>\n",
              "      <td>...</td>\n",
              "      <td>...</td>\n",
              "      <td>...</td>\n",
              "      <td>...</td>\n",
              "      <td>...</td>\n",
              "      <td>...</td>\n",
              "      <td>...</td>\n",
              "      <td>...</td>\n",
              "      <td>...</td>\n",
              "    </tr>\n",
              "    <tr>\n",
              "      <th>243</th>\n",
              "      <td>2020-08-30</td>\n",
              "      <td>1444.0</td>\n",
              "      <td>1.0</td>\n",
              "      <td>53541.0</td>\n",
              "      <td>2020</td>\n",
              "      <td>8</td>\n",
              "      <td>30</td>\n",
              "      <td>6</td>\n",
              "      <td>267092.5</td>\n",
              "      <td>35473.0</td>\n",
              "      <td>5117788.0</td>\n",
              "      <td>Italy</td>\n",
              "      <td>Europe</td>\n",
              "      <td>60461828.0</td>\n",
              "      <td>83.51</td>\n",
              "      <td>3.18</td>\n",
              "      <td>35220.084</td>\n",
              "      <td>4417.539278</td>\n",
              "    </tr>\n",
              "    <tr>\n",
              "      <th>244</th>\n",
              "      <td>2020-08-31</td>\n",
              "      <td>1365.0</td>\n",
              "      <td>4.0</td>\n",
              "      <td>42583.0</td>\n",
              "      <td>2020</td>\n",
              "      <td>8</td>\n",
              "      <td>31</td>\n",
              "      <td>0</td>\n",
              "      <td>268457.5</td>\n",
              "      <td>35477.0</td>\n",
              "      <td>5160371.0</td>\n",
              "      <td>Italy</td>\n",
              "      <td>Europe</td>\n",
              "      <td>60461828.0</td>\n",
              "      <td>83.51</td>\n",
              "      <td>3.18</td>\n",
              "      <td>35220.084</td>\n",
              "      <td>4440.115506</td>\n",
              "    </tr>\n",
              "    <tr>\n",
              "      <th>245</th>\n",
              "      <td>2020-09-01</td>\n",
              "      <td>996.0</td>\n",
              "      <td>6.0</td>\n",
              "      <td>54395.0</td>\n",
              "      <td>2020</td>\n",
              "      <td>9</td>\n",
              "      <td>1</td>\n",
              "      <td>1</td>\n",
              "      <td>269453.5</td>\n",
              "      <td>35483.0</td>\n",
              "      <td>5214766.0</td>\n",
              "      <td>Italy</td>\n",
              "      <td>Europe</td>\n",
              "      <td>60461828.0</td>\n",
              "      <td>83.51</td>\n",
              "      <td>3.18</td>\n",
              "      <td>35220.084</td>\n",
              "      <td>4456.588709</td>\n",
              "    </tr>\n",
              "    <tr>\n",
              "      <th>246</th>\n",
              "      <td>2020-09-02</td>\n",
              "      <td>975.0</td>\n",
              "      <td>8.0</td>\n",
              "      <td>NaN</td>\n",
              "      <td>2020</td>\n",
              "      <td>9</td>\n",
              "      <td>2</td>\n",
              "      <td>2</td>\n",
              "      <td>270428.5</td>\n",
              "      <td>35491.0</td>\n",
              "      <td>NaN</td>\n",
              "      <td>Italy</td>\n",
              "      <td>Europe</td>\n",
              "      <td>60461828.0</td>\n",
              "      <td>83.51</td>\n",
              "      <td>3.18</td>\n",
              "      <td>35220.084</td>\n",
              "      <td>4472.714586</td>\n",
              "    </tr>\n",
              "    <tr>\n",
              "      <th>247</th>\n",
              "      <td>2020-09-03</td>\n",
              "      <td>1326.0</td>\n",
              "      <td>6.0</td>\n",
              "      <td>NaN</td>\n",
              "      <td>2020</td>\n",
              "      <td>9</td>\n",
              "      <td>3</td>\n",
              "      <td>3</td>\n",
              "      <td>271754.5</td>\n",
              "      <td>35497.0</td>\n",
              "      <td>NaN</td>\n",
              "      <td>Italy</td>\n",
              "      <td>Europe</td>\n",
              "      <td>60461828.0</td>\n",
              "      <td>83.51</td>\n",
              "      <td>3.18</td>\n",
              "      <td>35220.084</td>\n",
              "      <td>4494.645779</td>\n",
              "    </tr>\n",
              "  </tbody>\n",
              "</table>\n",
              "<p>248 rows × 18 columns</p>\n",
              "</div>\n",
              "      <button class=\"colab-df-convert\" onclick=\"convertToInteractive('df-450a8e01-14fd-4303-9869-229613da1722')\"\n",
              "              title=\"Convert this dataframe to an interactive table.\"\n",
              "              style=\"display:none;\">\n",
              "        \n",
              "  <svg xmlns=\"http://www.w3.org/2000/svg\" height=\"24px\"viewBox=\"0 0 24 24\"\n",
              "       width=\"24px\">\n",
              "    <path d=\"M0 0h24v24H0V0z\" fill=\"none\"/>\n",
              "    <path d=\"M18.56 5.44l.94 2.06.94-2.06 2.06-.94-2.06-.94-.94-2.06-.94 2.06-2.06.94zm-11 1L8.5 8.5l.94-2.06 2.06-.94-2.06-.94L8.5 2.5l-.94 2.06-2.06.94zm10 10l.94 2.06.94-2.06 2.06-.94-2.06-.94-.94-2.06-.94 2.06-2.06.94z\"/><path d=\"M17.41 7.96l-1.37-1.37c-.4-.4-.92-.59-1.43-.59-.52 0-1.04.2-1.43.59L10.3 9.45l-7.72 7.72c-.78.78-.78 2.05 0 2.83L4 21.41c.39.39.9.59 1.41.59.51 0 1.02-.2 1.41-.59l7.78-7.78 2.81-2.81c.8-.78.8-2.07 0-2.86zM5.41 20L4 18.59l7.72-7.72 1.47 1.35L5.41 20z\"/>\n",
              "  </svg>\n",
              "      </button>\n",
              "      \n",
              "  <style>\n",
              "    .colab-df-container {\n",
              "      display:flex;\n",
              "      flex-wrap:wrap;\n",
              "      gap: 12px;\n",
              "    }\n",
              "\n",
              "    .colab-df-convert {\n",
              "      background-color: #E8F0FE;\n",
              "      border: none;\n",
              "      border-radius: 50%;\n",
              "      cursor: pointer;\n",
              "      display: none;\n",
              "      fill: #1967D2;\n",
              "      height: 32px;\n",
              "      padding: 0 0 0 0;\n",
              "      width: 32px;\n",
              "    }\n",
              "\n",
              "    .colab-df-convert:hover {\n",
              "      background-color: #E2EBFA;\n",
              "      box-shadow: 0px 1px 2px rgba(60, 64, 67, 0.3), 0px 1px 3px 1px rgba(60, 64, 67, 0.15);\n",
              "      fill: #174EA6;\n",
              "    }\n",
              "\n",
              "    [theme=dark] .colab-df-convert {\n",
              "      background-color: #3B4455;\n",
              "      fill: #D2E3FC;\n",
              "    }\n",
              "\n",
              "    [theme=dark] .colab-df-convert:hover {\n",
              "      background-color: #434B5C;\n",
              "      box-shadow: 0px 1px 3px 1px rgba(0, 0, 0, 0.15);\n",
              "      filter: drop-shadow(0px 1px 2px rgba(0, 0, 0, 0.3));\n",
              "      fill: #FFFFFF;\n",
              "    }\n",
              "  </style>\n",
              "\n",
              "      <script>\n",
              "        const buttonEl =\n",
              "          document.querySelector('#df-450a8e01-14fd-4303-9869-229613da1722 button.colab-df-convert');\n",
              "        buttonEl.style.display =\n",
              "          google.colab.kernel.accessAllowed ? 'block' : 'none';\n",
              "\n",
              "        async function convertToInteractive(key) {\n",
              "          const element = document.querySelector('#df-450a8e01-14fd-4303-9869-229613da1722');\n",
              "          const dataTable =\n",
              "            await google.colab.kernel.invokeFunction('convertToInteractive',\n",
              "                                                     [key], {});\n",
              "          if (!dataTable) return;\n",
              "\n",
              "          const docLinkHtml = 'Like what you see? Visit the ' +\n",
              "            '<a target=\"_blank\" href=https://colab.research.google.com/notebooks/data_table.ipynb>data table notebook</a>'\n",
              "            + ' to learn more about interactive tables.';\n",
              "          element.innerHTML = '';\n",
              "          dataTable['output_type'] = 'display_data';\n",
              "          await google.colab.output.renderOutput(dataTable, element);\n",
              "          const docLink = document.createElement('div');\n",
              "          docLink.innerHTML = docLinkHtml;\n",
              "          element.appendChild(docLink);\n",
              "        }\n",
              "      </script>\n",
              "    </div>\n",
              "  </div>\n",
              "  "
            ]
          },
          "metadata": {},
          "execution_count": 184
        }
      ]
    },
    {
      "cell_type": "markdown",
      "source": [
        "Writing Data Back to Files"
      ],
      "metadata": {
        "id": "Jnw8m7BE5bBb"
      }
    },
    {
      "cell_type": "code",
      "source": [
        "results_df = merged_df[['date',\n",
        "                       'new_cases',\n",
        "                       'total_cases',\n",
        "                       'new_deaths',\n",
        "                       'total_deaths',\n",
        "                       'new_tests',\n",
        "                       'total_tests',\n",
        "                       'cases_per_million']]"
      ],
      "metadata": {
        "id": "Fk9tzIaGyO-_"
      },
      "execution_count": null,
      "outputs": []
    },
    {
      "cell_type": "code",
      "source": [
        "results_df"
      ],
      "metadata": {
        "colab": {
          "base_uri": "https://localhost:8080/",
          "height": 424
        },
        "id": "Cd3rH4UdyPBx",
        "outputId": "7b269ccf-11ff-443d-f562-b55bc8906f1f"
      },
      "execution_count": null,
      "outputs": [
        {
          "output_type": "execute_result",
          "data": {
            "text/plain": [
              "          date  new_cases  total_cases  new_deaths  total_deaths  new_tests  \\\n",
              "0   2019-12-31        0.0          0.0         0.0           0.0        NaN   \n",
              "1   2020-01-01        0.0          0.0         0.0           0.0        NaN   \n",
              "2   2020-01-02        0.0          0.0         0.0           0.0        NaN   \n",
              "3   2020-01-03        0.0          0.0         0.0           0.0        NaN   \n",
              "4   2020-01-04        0.0          0.0         0.0           0.0        NaN   \n",
              "..         ...        ...          ...         ...           ...        ...   \n",
              "243 2020-08-30     1444.0     267092.5         1.0       35473.0    53541.0   \n",
              "244 2020-08-31     1365.0     268457.5         4.0       35477.0    42583.0   \n",
              "245 2020-09-01      996.0     269453.5         6.0       35483.0    54395.0   \n",
              "246 2020-09-02      975.0     270428.5         8.0       35491.0        NaN   \n",
              "247 2020-09-03     1326.0     271754.5         6.0       35497.0        NaN   \n",
              "\n",
              "     total_tests  cases_per_million  \n",
              "0            NaN           0.000000  \n",
              "1            NaN           0.000000  \n",
              "2            NaN           0.000000  \n",
              "3            NaN           0.000000  \n",
              "4            NaN           0.000000  \n",
              "..           ...                ...  \n",
              "243    5117788.0        4417.539278  \n",
              "244    5160371.0        4440.115506  \n",
              "245    5214766.0        4456.588709  \n",
              "246          NaN        4472.714586  \n",
              "247          NaN        4494.645779  \n",
              "\n",
              "[248 rows x 8 columns]"
            ],
            "text/html": [
              "\n",
              "  <div id=\"df-9920b98c-2a66-4117-a57a-40149f8d280a\">\n",
              "    <div class=\"colab-df-container\">\n",
              "      <div>\n",
              "<style scoped>\n",
              "    .dataframe tbody tr th:only-of-type {\n",
              "        vertical-align: middle;\n",
              "    }\n",
              "\n",
              "    .dataframe tbody tr th {\n",
              "        vertical-align: top;\n",
              "    }\n",
              "\n",
              "    .dataframe thead th {\n",
              "        text-align: right;\n",
              "    }\n",
              "</style>\n",
              "<table border=\"1\" class=\"dataframe\">\n",
              "  <thead>\n",
              "    <tr style=\"text-align: right;\">\n",
              "      <th></th>\n",
              "      <th>date</th>\n",
              "      <th>new_cases</th>\n",
              "      <th>total_cases</th>\n",
              "      <th>new_deaths</th>\n",
              "      <th>total_deaths</th>\n",
              "      <th>new_tests</th>\n",
              "      <th>total_tests</th>\n",
              "      <th>cases_per_million</th>\n",
              "    </tr>\n",
              "  </thead>\n",
              "  <tbody>\n",
              "    <tr>\n",
              "      <th>0</th>\n",
              "      <td>2019-12-31</td>\n",
              "      <td>0.0</td>\n",
              "      <td>0.0</td>\n",
              "      <td>0.0</td>\n",
              "      <td>0.0</td>\n",
              "      <td>NaN</td>\n",
              "      <td>NaN</td>\n",
              "      <td>0.000000</td>\n",
              "    </tr>\n",
              "    <tr>\n",
              "      <th>1</th>\n",
              "      <td>2020-01-01</td>\n",
              "      <td>0.0</td>\n",
              "      <td>0.0</td>\n",
              "      <td>0.0</td>\n",
              "      <td>0.0</td>\n",
              "      <td>NaN</td>\n",
              "      <td>NaN</td>\n",
              "      <td>0.000000</td>\n",
              "    </tr>\n",
              "    <tr>\n",
              "      <th>2</th>\n",
              "      <td>2020-01-02</td>\n",
              "      <td>0.0</td>\n",
              "      <td>0.0</td>\n",
              "      <td>0.0</td>\n",
              "      <td>0.0</td>\n",
              "      <td>NaN</td>\n",
              "      <td>NaN</td>\n",
              "      <td>0.000000</td>\n",
              "    </tr>\n",
              "    <tr>\n",
              "      <th>3</th>\n",
              "      <td>2020-01-03</td>\n",
              "      <td>0.0</td>\n",
              "      <td>0.0</td>\n",
              "      <td>0.0</td>\n",
              "      <td>0.0</td>\n",
              "      <td>NaN</td>\n",
              "      <td>NaN</td>\n",
              "      <td>0.000000</td>\n",
              "    </tr>\n",
              "    <tr>\n",
              "      <th>4</th>\n",
              "      <td>2020-01-04</td>\n",
              "      <td>0.0</td>\n",
              "      <td>0.0</td>\n",
              "      <td>0.0</td>\n",
              "      <td>0.0</td>\n",
              "      <td>NaN</td>\n",
              "      <td>NaN</td>\n",
              "      <td>0.000000</td>\n",
              "    </tr>\n",
              "    <tr>\n",
              "      <th>...</th>\n",
              "      <td>...</td>\n",
              "      <td>...</td>\n",
              "      <td>...</td>\n",
              "      <td>...</td>\n",
              "      <td>...</td>\n",
              "      <td>...</td>\n",
              "      <td>...</td>\n",
              "      <td>...</td>\n",
              "    </tr>\n",
              "    <tr>\n",
              "      <th>243</th>\n",
              "      <td>2020-08-30</td>\n",
              "      <td>1444.0</td>\n",
              "      <td>267092.5</td>\n",
              "      <td>1.0</td>\n",
              "      <td>35473.0</td>\n",
              "      <td>53541.0</td>\n",
              "      <td>5117788.0</td>\n",
              "      <td>4417.539278</td>\n",
              "    </tr>\n",
              "    <tr>\n",
              "      <th>244</th>\n",
              "      <td>2020-08-31</td>\n",
              "      <td>1365.0</td>\n",
              "      <td>268457.5</td>\n",
              "      <td>4.0</td>\n",
              "      <td>35477.0</td>\n",
              "      <td>42583.0</td>\n",
              "      <td>5160371.0</td>\n",
              "      <td>4440.115506</td>\n",
              "    </tr>\n",
              "    <tr>\n",
              "      <th>245</th>\n",
              "      <td>2020-09-01</td>\n",
              "      <td>996.0</td>\n",
              "      <td>269453.5</td>\n",
              "      <td>6.0</td>\n",
              "      <td>35483.0</td>\n",
              "      <td>54395.0</td>\n",
              "      <td>5214766.0</td>\n",
              "      <td>4456.588709</td>\n",
              "    </tr>\n",
              "    <tr>\n",
              "      <th>246</th>\n",
              "      <td>2020-09-02</td>\n",
              "      <td>975.0</td>\n",
              "      <td>270428.5</td>\n",
              "      <td>8.0</td>\n",
              "      <td>35491.0</td>\n",
              "      <td>NaN</td>\n",
              "      <td>NaN</td>\n",
              "      <td>4472.714586</td>\n",
              "    </tr>\n",
              "    <tr>\n",
              "      <th>247</th>\n",
              "      <td>2020-09-03</td>\n",
              "      <td>1326.0</td>\n",
              "      <td>271754.5</td>\n",
              "      <td>6.0</td>\n",
              "      <td>35497.0</td>\n",
              "      <td>NaN</td>\n",
              "      <td>NaN</td>\n",
              "      <td>4494.645779</td>\n",
              "    </tr>\n",
              "  </tbody>\n",
              "</table>\n",
              "<p>248 rows × 8 columns</p>\n",
              "</div>\n",
              "      <button class=\"colab-df-convert\" onclick=\"convertToInteractive('df-9920b98c-2a66-4117-a57a-40149f8d280a')\"\n",
              "              title=\"Convert this dataframe to an interactive table.\"\n",
              "              style=\"display:none;\">\n",
              "        \n",
              "  <svg xmlns=\"http://www.w3.org/2000/svg\" height=\"24px\"viewBox=\"0 0 24 24\"\n",
              "       width=\"24px\">\n",
              "    <path d=\"M0 0h24v24H0V0z\" fill=\"none\"/>\n",
              "    <path d=\"M18.56 5.44l.94 2.06.94-2.06 2.06-.94-2.06-.94-.94-2.06-.94 2.06-2.06.94zm-11 1L8.5 8.5l.94-2.06 2.06-.94-2.06-.94L8.5 2.5l-.94 2.06-2.06.94zm10 10l.94 2.06.94-2.06 2.06-.94-2.06-.94-.94-2.06-.94 2.06-2.06.94z\"/><path d=\"M17.41 7.96l-1.37-1.37c-.4-.4-.92-.59-1.43-.59-.52 0-1.04.2-1.43.59L10.3 9.45l-7.72 7.72c-.78.78-.78 2.05 0 2.83L4 21.41c.39.39.9.59 1.41.59.51 0 1.02-.2 1.41-.59l7.78-7.78 2.81-2.81c.8-.78.8-2.07 0-2.86zM5.41 20L4 18.59l7.72-7.72 1.47 1.35L5.41 20z\"/>\n",
              "  </svg>\n",
              "      </button>\n",
              "      \n",
              "  <style>\n",
              "    .colab-df-container {\n",
              "      display:flex;\n",
              "      flex-wrap:wrap;\n",
              "      gap: 12px;\n",
              "    }\n",
              "\n",
              "    .colab-df-convert {\n",
              "      background-color: #E8F0FE;\n",
              "      border: none;\n",
              "      border-radius: 50%;\n",
              "      cursor: pointer;\n",
              "      display: none;\n",
              "      fill: #1967D2;\n",
              "      height: 32px;\n",
              "      padding: 0 0 0 0;\n",
              "      width: 32px;\n",
              "    }\n",
              "\n",
              "    .colab-df-convert:hover {\n",
              "      background-color: #E2EBFA;\n",
              "      box-shadow: 0px 1px 2px rgba(60, 64, 67, 0.3), 0px 1px 3px 1px rgba(60, 64, 67, 0.15);\n",
              "      fill: #174EA6;\n",
              "    }\n",
              "\n",
              "    [theme=dark] .colab-df-convert {\n",
              "      background-color: #3B4455;\n",
              "      fill: #D2E3FC;\n",
              "    }\n",
              "\n",
              "    [theme=dark] .colab-df-convert:hover {\n",
              "      background-color: #434B5C;\n",
              "      box-shadow: 0px 1px 3px 1px rgba(0, 0, 0, 0.15);\n",
              "      filter: drop-shadow(0px 1px 2px rgba(0, 0, 0, 0.3));\n",
              "      fill: #FFFFFF;\n",
              "    }\n",
              "  </style>\n",
              "\n",
              "      <script>\n",
              "        const buttonEl =\n",
              "          document.querySelector('#df-9920b98c-2a66-4117-a57a-40149f8d280a button.colab-df-convert');\n",
              "        buttonEl.style.display =\n",
              "          google.colab.kernel.accessAllowed ? 'block' : 'none';\n",
              "\n",
              "        async function convertToInteractive(key) {\n",
              "          const element = document.querySelector('#df-9920b98c-2a66-4117-a57a-40149f8d280a');\n",
              "          const dataTable =\n",
              "            await google.colab.kernel.invokeFunction('convertToInteractive',\n",
              "                                                     [key], {});\n",
              "          if (!dataTable) return;\n",
              "\n",
              "          const docLinkHtml = 'Like what you see? Visit the ' +\n",
              "            '<a target=\"_blank\" href=https://colab.research.google.com/notebooks/data_table.ipynb>data table notebook</a>'\n",
              "            + ' to learn more about interactive tables.';\n",
              "          element.innerHTML = '';\n",
              "          dataTable['output_type'] = 'display_data';\n",
              "          await google.colab.output.renderOutput(dataTable, element);\n",
              "          const docLink = document.createElement('div');\n",
              "          docLink.innerHTML = docLinkHtml;\n",
              "          element.appendChild(docLink);\n",
              "        }\n",
              "      </script>\n",
              "    </div>\n",
              "  </div>\n",
              "  "
            ]
          },
          "metadata": {},
          "execution_count": 188
        }
      ]
    },
    {
      "cell_type": "code",
      "source": [
        "results_df.to_csv('results.csv', index=None)"
      ],
      "metadata": {
        "id": "MudaY76myPE6"
      },
      "execution_count": null,
      "outputs": []
    },
    {
      "cell_type": "markdown",
      "source": [
        "Basic Plotting with Pandas"
      ],
      "metadata": {
        "id": "McK8jkcZ8DXF"
      }
    },
    {
      "cell_type": "code",
      "source": [
        "results_df.new_cases.plot()"
      ],
      "metadata": {
        "colab": {
          "base_uri": "https://localhost:8080/",
          "height": 447
        },
        "id": "V7IqyDMEyPHU",
        "outputId": "915ce230-b724-4b41-b8b3-775c74fdc1e6"
      },
      "execution_count": null,
      "outputs": [
        {
          "output_type": "execute_result",
          "data": {
            "text/plain": [
              "<Axes: >"
            ]
          },
          "metadata": {},
          "execution_count": 191
        },
        {
          "output_type": "display_data",
          "data": {
            "text/plain": [
              "<Figure size 640x480 with 1 Axes>"
            ],
            "image/png": "[encoded data removed]"
          },
          "metadata": {}
        }
      ]
    },
    {
      "cell_type": "code",
      "source": [
        "#removed index to convert to datetime index so dates will appear on graph\n",
        "results_df.set_index('date', inplace=True)"
      ],
      "metadata": {
        "id": "4_N5VJBFyPKM"
      },
      "execution_count": null,
      "outputs": []
    },
    {
      "cell_type": "code",
      "source": [
        "results_df.loc['2020-09-01']"
      ],
      "metadata": {
        "colab": {
          "base_uri": "https://localhost:8080/"
        },
        "id": "ikemuRsgyPNh",
        "outputId": "d92b4917-6b02-4beb-df02-8aee5d68e04c"
      },
      "execution_count": null,
      "outputs": [
        {
          "output_type": "execute_result",
          "data": {
            "text/plain": [
              "new_cases            9.960000e+02\n",
              "total_cases          2.694535e+05\n",
              "new_deaths           6.000000e+00\n",
              "total_deaths         3.548300e+04\n",
              "new_tests            5.439500e+04\n",
              "total_tests          5.214766e+06\n",
              "cases_per_million    4.456589e+03\n",
              "Name: 2020-09-01 00:00:00, dtype: float64"
            ]
          },
          "metadata": {},
          "execution_count": 193
        }
      ]
    },
    {
      "cell_type": "code",
      "source": [
        "results_df.new_cases.plot()\n",
        "results_df.new_deaths.plot()"
      ],
      "metadata": {
        "colab": {
          "base_uri": "https://localhost:8080/",
          "height": 483
        },
        "id": "jRuqL8f9yPP_",
        "outputId": "db1df94e-5895-4b18-d801-3da5a3082a18"
      },
      "execution_count": null,
      "outputs": [
        {
          "output_type": "execute_result",
          "data": {
            "text/plain": [
              "<Axes: xlabel='date'>"
            ]
          },
          "metadata": {},
          "execution_count": 194
        },
        {
          "output_type": "display_data",
          "data": {
            "text/plain": [
              "<Figure size 640x480 with 1 Axes>"
            ],
            "image/png": "[encoded data removed]"
          },
          "metadata": {}
        }
      ]
    },
    {
      "cell_type": "code",
      "source": [
        "results_df.total_cases.plot()\n",
        "results_df.total_deaths.plot()"
      ],
      "metadata": {
        "colab": {
          "base_uri": "https://localhost:8080/",
          "height": 483
        },
        "id": "SCwsxn6WyPTK",
        "outputId": "8a449677-6688-43f3-dabf-b70b0e50b8c3"
      },
      "execution_count": null,
      "outputs": [
        {
          "output_type": "execute_result",
          "data": {
            "text/plain": [
              "<Axes: xlabel='date'>"
            ]
          },
          "metadata": {},
          "execution_count": 195
        },
        {
          "output_type": "display_data",
          "data": {
            "text/plain": [
              "<Figure size 640x480 with 1 Axes>"
            ],
            "image/png": "[encoded data removed]"
          },
          "metadata": {}
        }
      ]
    },
    {
      "cell_type": "code",
      "source": [
        "death_rate = results_df.total_deaths/results_df.total_cases"
      ],
      "metadata": {
        "id": "FAKMaqHbyPVv"
      },
      "execution_count": null,
      "outputs": []
    },
    {
      "cell_type": "code",
      "source": [
        "death_rate.plot(title = 'Death Rate')"
      ],
      "metadata": {
        "colab": {
          "base_uri": "https://localhost:8080/",
          "height": 505
        },
        "id": "V0okZJ7DyPbo",
        "outputId": "f4ad6484-7f68-4570-dd91-bc091ae987d8"
      },
      "execution_count": null,
      "outputs": [
        {
          "output_type": "execute_result",
          "data": {
            "text/plain": [
              "<Axes: title={'center': 'Death Rate'}, xlabel='date'>"
            ]
          },
          "metadata": {},
          "execution_count": 198
        },
        {
          "output_type": "display_data",
          "data": {
            "text/plain": [
              "<Figure size 640x480 with 1 Axes>"
            ],
            "image/png": "[encoded data removed]"
          },
          "metadata": {}
        }
      ]
    },
    {
      "cell_type": "code",
      "source": [
        "positive_rate = results_df.total_cases / results_df.total_tests\n",
        "positive_rate.plot(title = 'Positive Rate')"
      ],
      "metadata": {
        "colab": {
          "base_uri": "https://localhost:8080/",
          "height": 505
        },
        "id": "1R3qrd6pka0O",
        "outputId": "d35508f9-afc5-4c0b-870a-77576e35ed38"
      },
      "execution_count": null,
      "outputs": [
        {
          "output_type": "execute_result",
          "data": {
            "text/plain": [
              "<Axes: title={'center': 'Positive Rate'}, xlabel='date'>"
            ]
          },
          "metadata": {},
          "execution_count": 200
        },
        {
          "output_type": "display_data",
          "data": {
            "text/plain": [
              "<Figure size 640x480 with 1 Axes>"
            ],
            "image/png": "[encoded data removed]"
          },
          "metadata": {}
        }
      ]
    },
    {
      "cell_type": "markdown",
      "source": [
        "Data Visualization with Mathplotlib and Seaborn"
      ],
      "metadata": {
        "id": "83uM_0VfFITF"
      }
    },
    {
      "cell_type": "code",
      "source": [
        "import matplotlib.pyplot as plt\n",
        "import seaborn as sns\n",
        "%matplotlib inline"
      ],
      "metadata": {
        "id": "ek2_124cka3J"
      },
      "execution_count": null,
      "outputs": []
    },
    {
      "cell_type": "code",
      "source": [
        "yield_apples = [0.895, 0.91, 0.919, 0.926, 0.929, 0.931]"
      ],
      "metadata": {
        "id": "3i9lrbru85mZ"
      },
      "execution_count": null,
      "outputs": []
    },
    {
      "cell_type": "code",
      "source": [
        "plt.plot(yield_apples);"
      ],
      "metadata": {
        "colab": {
          "base_uri": "https://localhost:8080/",
          "height": 430
        },
        "id": "He3lHpt685jN",
        "outputId": "92feb795-af0e-4e3a-9c5a-f7ff93545f27"
      },
      "execution_count": null,
      "outputs": [
        {
          "output_type": "display_data",
          "data": {
            "text/plain": [
              "<Figure size 640x480 with 1 Axes>"
            ],
            "image/png": "[encoded data removed]"
          },
          "metadata": {}
        }
      ]
    },
    {
      "cell_type": "code",
      "source": [
        "years = [2010, 2011, 2012, 2013, 2014, 2015]\n",
        "yield_apples = [0.895, 0.91, 0.919, 0.926, 0.929, 0.931]"
      ],
      "metadata": {
        "id": "VRuY-QDM85d7"
      },
      "execution_count": null,
      "outputs": []
    },
    {
      "cell_type": "code",
      "source": [
        "plt.plot(years, yield_apples);"
      ],
      "metadata": {
        "colab": {
          "base_uri": "https://localhost:8080/",
          "height": 430
        },
        "id": "xsvfaqmT85aj",
        "outputId": "2c319902-4979-4d14-d84c-8d30dc85603b"
      },
      "execution_count": null,
      "outputs": [
        {
          "output_type": "display_data",
          "data": {
            "text/plain": [
              "<Figure size 640x480 with 1 Axes>"
            ],
            "image/png": "[encoded data removed]"
          },
          "metadata": {}
        }
      ]
    },
    {
      "cell_type": "code",
      "source": [
        "plt.plot(years, yield_apples)\n",
        "plt.xlabel('Year')\n",
        "plt.ylabel('Yield (tons per hectare)');"
      ],
      "metadata": {
        "colab": {
          "base_uri": "https://localhost:8080/",
          "height": 449
        },
        "id": "3umVh3dH85Xf",
        "outputId": "02a352a5-58a5-4281-d6c6-3b948428f3a8"
      },
      "execution_count": null,
      "outputs": [
        {
          "output_type": "display_data",
          "data": {
            "text/plain": [
              "<Figure size 640x480 with 1 Axes>"
            ],
            "image/png": "[encoded data removed]"
          },
          "metadata": {}
        }
      ]
    },
    {
      "cell_type": "code",
      "source": [
        "years = range(2000, 2006)\n",
        "apples = [0.895, 0.91, 0.919, 0.926, 0.929, 0.931]\n",
        "oranges = [0.962, 0.942, 0.930, 0.923, 0.918, 0.908]\n",
        "print(years)"
      ],
      "metadata": {
        "id": "3do4412a85U6",
        "colab": {
          "base_uri": "https://localhost:8080/"
        },
        "outputId": "6a97605e-7f67-4494-af9d-f79949ce96d7"
      },
      "execution_count": null,
      "outputs": [
        {
          "output_type": "stream",
          "name": "stdout",
          "text": [
            "range(2000, 2006)\n"
          ]
        }
      ]
    },
    {
      "cell_type": "code",
      "source": [
        "plt.plot(years, apples)\n",
        "plt.plot(years, oranges)\n",
        "plt.xlabel('Year')\n",
        "plt.ylabel('Yield (tons per hectare)');"
      ],
      "metadata": {
        "colab": {
          "base_uri": "https://localhost:8080/",
          "height": 449
        },
        "id": "wRY0Wo2M85R2",
        "outputId": "c2a1fdf3-126d-4aa4-d933-822917a80843"
      },
      "execution_count": null,
      "outputs": [
        {
          "output_type": "display_data",
          "data": {
            "text/plain": [
              "<Figure size 640x480 with 1 Axes>"
            ],
            "image/png": "[encoded data removed]"
          },
          "metadata": {}
        }
      ]
    },
    {
      "cell_type": "code",
      "source": [
        "plt.plot(years, apples)\n",
        "plt.plot(years, oranges)\n",
        "plt.xlabel('Year')\n",
        "plt.ylabel('Yield (tons per hectare)')\n",
        "\n",
        "plt.title(\"Crop Yields in Kanto\")\n",
        "plt.legend(['Apples', 'Oranges']);"
      ],
      "metadata": {
        "colab": {
          "base_uri": "https://localhost:8080/",
          "height": 472
        },
        "id": "DTEYqO8A85LD",
        "outputId": "59133d94-9d9b-4712-d9cb-fdacd188aafd"
      },
      "execution_count": null,
      "outputs": [
        {
          "output_type": "display_data",
          "data": {
            "text/plain": [
              "<Figure size 640x480 with 1 Axes>"
            ],
            "image/png": "[encoded data removed]"
          },
          "metadata": {}
        }
      ]
    },
    {
      "cell_type": "code",
      "source": [
        "plt.plot(years, apples, marker = 'o')\n",
        "plt.plot(years, oranges, marker = 'x')\n",
        "plt.xlabel('Year')\n",
        "plt.ylabel('Yield (tons per hectare)')\n",
        "\n",
        "plt.title(\"Crop Yields in Kanto\")\n",
        "plt.legend(['Apples', 'Oranges']);"
      ],
      "metadata": {
        "colab": {
          "base_uri": "https://localhost:8080/",
          "height": 472
        },
        "id": "jU1cOpiO85H_",
        "outputId": "f48313f3-dca4-4ab8-89ad-70da68556da4"
      },
      "execution_count": null,
      "outputs": [
        {
          "output_type": "display_data",
          "data": {
            "text/plain": [
              "<Figure size 640x480 with 1 Axes>"
            ],
            "image/png": "[encoded data removed]"
          },
          "metadata": {}
        }
      ]
    },
    {
      "cell_type": "code",
      "source": [
        "plt.plot(years, apples, marker = 's', c='b', ls='-', lw=2, ms=8, mew=2, mec='navy')\n",
        "plt.plot(years, oranges, marker = 'o', c='r', ls='--', lw=3, ms=10, alpha=.5)\n",
        "plt.xlabel('Year')\n",
        "plt.ylabel('Yield (tons per hectare)')\n",
        "\n",
        "plt.title(\"Crop Yields in Kanto\")\n",
        "plt.legend(['Apples', 'Oranges']);"
      ],
      "metadata": {
        "colab": {
          "base_uri": "https://localhost:8080/",
          "height": 472
        },
        "id": "mhMWV96885FW",
        "outputId": "dc70ee99-c3f8-40d9-ae61-af583762afc2"
      },
      "execution_count": null,
      "outputs": [
        {
          "output_type": "display_data",
          "data": {
            "text/plain": [
              "<Figure size 640x480 with 1 Axes>"
            ],
            "image/png": "[encoded data removed]"
          },
          "metadata": {}
        }
      ]
    },
    {
      "cell_type": "markdown",
      "source": [
        "Improving Default Styles Using Seaborn"
      ],
      "metadata": {
        "id": "biEz4TP6IWsr"
      }
    },
    {
      "cell_type": "code",
      "source": [
        "sns.set_style(\"whitegrid\")"
      ],
      "metadata": {
        "id": "dSrC3Ae685Bd"
      },
      "execution_count": null,
      "outputs": []
    },
    {
      "cell_type": "code",
      "source": [
        "plt.plot(years, apples,'og')\n",
        "plt.plot(years, oranges, 's--b')\n",
        "\n",
        "plt.xlabel('Year')\n",
        "plt.ylabel('Yield (tons per hectare)')\n",
        "\n",
        "plt.title(\"Crop Yields in Kanto\")\n",
        "plt.legend(['Apples', 'Oranges']);"
      ],
      "metadata": {
        "id": "hrDCttrBka5w",
        "colab": {
          "base_uri": "https://localhost:8080/",
          "height": 472
        },
        "outputId": "41ce5b78-b081-41e1-d8ca-ae419a7c53fb"
      },
      "execution_count": null,
      "outputs": [
        {
          "output_type": "display_data",
          "data": {
            "text/plain": [
              "<Figure size 640x480 with 1 Axes>"
            ],
            "image/png": "[encoded data removed]"
          },
          "metadata": {}
        }
      ]
    },
    {
      "cell_type": "code",
      "source": [
        "sns.set_style(\"darkgrid\")"
      ],
      "metadata": {
        "id": "_eU5d913DUfR"
      },
      "execution_count": null,
      "outputs": []
    },
    {
      "cell_type": "code",
      "source": [
        "plt.plot(years, apples,'og')\n",
        "plt.plot(years, oranges, 's--b')\n",
        "\n",
        "plt.xlabel('Year')\n",
        "plt.ylabel('Yield (tons per hectare)')\n",
        "\n",
        "plt.title(\"Crop Yields in Kanto\")\n",
        "plt.legend(['Apples', 'Oranges']);"
      ],
      "metadata": {
        "colab": {
          "base_uri": "https://localhost:8080/",
          "height": 472
        },
        "id": "ZVAqdhK6DUh6",
        "outputId": "8af7bd59-9e18-4c8b-bcbe-481b67cac529"
      },
      "execution_count": null,
      "outputs": [
        {
          "output_type": "display_data",
          "data": {
            "text/plain": [
              "<Figure size 640x480 with 1 Axes>"
            ],
            "image/png": "[encoded data removed]"
          },
          "metadata": {}
        }
      ]
    },
    {
      "cell_type": "code",
      "source": [],
      "metadata": {
        "id": "ymlbtF6aDUkz"
      },
      "execution_count": null,
      "outputs": []
    },
    {
      "cell_type": "code",
      "source": [],
      "metadata": {
        "id": "VgwQ_1LMDUoJ"
      },
      "execution_count": null,
      "outputs": []
    },
    {
      "cell_type": "code",
      "source": [],
      "metadata": {
        "id": "8H6Cj1VIDUq9"
      },
      "execution_count": null,
      "outputs": []
    },
    {
      "cell_type": "code",
      "source": [],
      "metadata": {
        "id": "e13UX-8cDUtx"
      },
      "execution_count": null,
      "outputs": []
    },
    {
      "cell_type": "code",
      "source": [],
      "metadata": {
        "id": "bq0EkR7qDUw6"
      },
      "execution_count": null,
      "outputs": []
    },
    {
      "cell_type": "code",
      "source": [],
      "metadata": {
        "id": "whW1PMZ3DU0D"
      },
      "execution_count": null,
      "outputs": []
    },
    {
      "cell_type": "code",
      "source": [],
      "metadata": {
        "id": "Kb0pm9nIDU3S"
      },
      "execution_count": null,
      "outputs": []
    },
    {
      "cell_type": "code",
      "source": [],
      "metadata": {
        "id": "TsbITVXPDU6x"
      },
      "execution_count": null,
      "outputs": []
    },
    {
      "cell_type": "code",
      "source": [],
      "metadata": {
        "id": "yL8bSRVlDU95"
      },
      "execution_count": null,
      "outputs": []
    },
    {
      "cell_type": "code",
      "source": [],
      "metadata": {
        "id": "R9MUvMFtDVBJ"
      },
      "execution_count": null,
      "outputs": []
    },
    {
      "cell_type": "code",
      "source": [],
      "metadata": {
        "id": "YOhmTcJiDVEc"
      },
      "execution_count": null,
      "outputs": []
    },
    {
      "cell_type": "code",
      "source": [],
      "metadata": {
        "id": "AFZ8sCrxDVHt"
      },
      "execution_count": null,
      "outputs": []
    },
    {
      "cell_type": "code",
      "source": [],
      "metadata": {
        "id": "Z3RYE316DVKy"
      },
      "execution_count": null,
      "outputs": []
    },
    {
      "cell_type": "code",
      "source": [],
      "metadata": {
        "id": "C3Y3jqMoDVOi"
      },
      "execution_count": null,
      "outputs": []
    },
    {
      "cell_type": "code",
      "source": [],
      "metadata": {
        "id": "AMWMwc-JDXtz"
      },
      "execution_count": null,
      "outputs": []
    },
    {
      "cell_type": "code",
      "source": [],
      "metadata": {
        "id": "rbTi4NaeDXwc"
      },
      "execution_count": null,
      "outputs": []
    },
    {
      "cell_type": "code",
      "source": [],
      "metadata": {
        "id": "XLhdo9ugDXzz"
      },
      "execution_count": null,
      "outputs": []
    },
    {
      "cell_type": "code",
      "source": [],
      "metadata": {
        "id": "BlBXKCHEDX21"
      },
      "execution_count": null,
      "outputs": []
    },
    {
      "cell_type": "code",
      "source": [],
      "metadata": {
        "id": "5KibmjHtDX54"
      },
      "execution_count": null,
      "outputs": []
    },
    {
      "cell_type": "code",
      "source": [],
      "metadata": {
        "id": "TGVKruvBDX9E"
      },
      "execution_count": null,
      "outputs": []
    },
    {
      "cell_type": "code",
      "source": [],
      "metadata": {
        "id": "W2JquJJCDYAU"
      },
      "execution_count": null,
      "outputs": []
    },
    {
      "cell_type": "code",
      "source": [],
      "metadata": {
        "id": "k1wL8tU3DYDc"
      },
      "execution_count": null,
      "outputs": []
    },
    {
      "cell_type": "code",
      "source": [],
      "metadata": {
        "id": "ffRM_GLLDYHC"
      },
      "execution_count": null,
      "outputs": []
    },
    {
      "cell_type": "code",
      "source": [],
      "metadata": {
        "id": "OTCq5BoGDYKR"
      },
      "execution_count": null,
      "outputs": []
    },
    {
      "cell_type": "code",
      "source": [],
      "metadata": {
        "id": "WLL8CRVPDYNZ"
      },
      "execution_count": null,
      "outputs": []
    }
  ]
}